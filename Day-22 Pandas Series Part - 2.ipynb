{
 "cells": [
  {
   "cell_type": "markdown",
   "id": "310e484e-9922-466a-8143-e54fd47463b6",
   "metadata": {},
   "source": [
    "## Some Important Series Methods"
   ]
  },
  {
   "cell_type": "code",
   "execution_count": 1,
   "id": "e41cb5c5-ba43-423b-95da-397e90cf4496",
   "metadata": {},
   "outputs": [],
   "source": [
    "import numpy as np\n",
    "import pandas as pd"
   ]
  },
  {
   "cell_type": "code",
   "execution_count": 2,
   "id": "6761d328-1959-48ca-8e71-26f10fbe4d8c",
   "metadata": {},
   "outputs": [
    {
     "data": {
      "text/plain": [
       "0       48\n",
       "1       57\n",
       "2       40\n",
       "3       43\n",
       "4       44\n",
       "      ... \n",
       "360    231\n",
       "361    226\n",
       "362    155\n",
       "363    144\n",
       "364    172\n",
       "Name: Subscribers gained, Length: 365, dtype: int64"
      ]
     },
     "execution_count": 2,
     "metadata": {},
     "output_type": "execute_result"
    }
   ],
   "source": [
    "df1 = pd.read_csv('subs.csv')\n",
    "df1 = df1.squeeze()\n",
    "df1"
   ]
  },
  {
   "cell_type": "code",
   "execution_count": 3,
   "id": "cd0759d0-4f53-46ad-8730-5844f7481cb7",
   "metadata": {},
   "outputs": [
    {
     "data": {
      "text/plain": [
       "match_no\n",
       "1       1\n",
       "2      23\n",
       "3      13\n",
       "4      12\n",
       "5       1\n",
       "       ..\n",
       "211     0\n",
       "212    20\n",
       "213    73\n",
       "214    25\n",
       "215     7\n",
       "Name: runs, Length: 215, dtype: int64"
      ]
     },
     "execution_count": 3,
     "metadata": {},
     "output_type": "execute_result"
    }
   ],
   "source": [
    "df2 = pd.read_csv('kohli_ipl.csv',index_col='match_no')\n",
    "df2 = df2.squeeze()\n",
    "df2"
   ]
  },
  {
   "cell_type": "code",
   "execution_count": 4,
   "id": "af9e206a-f66c-41ad-a818-c8acdb4cb256",
   "metadata": {},
   "outputs": [
    {
     "data": {
      "text/plain": [
       "movie\n",
       "Uri: The Surgical Strike                   Vicky Kaushal\n",
       "Battalion 609                                Vicky Ahuja\n",
       "The Accidental Prime Minister (film)         Anupam Kher\n",
       "Why Cheat India                            Emraan Hashmi\n",
       "Evening Shadows                         Mona Ambegaonkar\n",
       "                                              ...       \n",
       "Hum Tumhare Hain Sanam                    Shah Rukh Khan\n",
       "Aankhen (2002 film)                     Amitabh Bachchan\n",
       "Saathiya (film)                             Vivek Oberoi\n",
       "Company (film)                                Ajay Devgn\n",
       "Awara Paagal Deewana                        Akshay Kumar\n",
       "Name: lead, Length: 1500, dtype: object"
      ]
     },
     "execution_count": 4,
     "metadata": {},
     "output_type": "execute_result"
    }
   ],
   "source": [
    "df3 = pd.read_csv('bollywood.csv',index_col='movie')\n",
    "df3 = df3.squeeze()\n",
    "df3"
   ]
  },
  {
   "cell_type": "markdown",
   "id": "613a194e-3f39-4cca-a5dc-92b34c67b10d",
   "metadata": {},
   "source": [
    "### 1. astype\n",
    "This method is used to cast a pandas object to a specified data type. It can convert an entire DataFrame to a single type or convert specific columns to different types."
   ]
  },
  {
   "cell_type": "code",
   "execution_count": 5,
   "id": "bf686cd9-bfc0-4867-a4d8-cfa367b80441",
   "metadata": {},
   "outputs": [
    {
     "data": {
      "text/plain": [
       "3472"
      ]
     },
     "execution_count": 5,
     "metadata": {},
     "output_type": "execute_result"
    }
   ],
   "source": [
    "import sys\n",
    "sys.getsizeof(df2)"
   ]
  },
  {
   "cell_type": "code",
   "execution_count": 6,
   "id": "958487f8-30b3-4e7e-967c-3a120f33acb2",
   "metadata": {},
   "outputs": [
    {
     "data": {
      "text/plain": [
       "2182"
      ]
     },
     "execution_count": 6,
     "metadata": {},
     "output_type": "execute_result"
    }
   ],
   "source": [
    "sys.getsizeof(df2.astype('int16'))"
   ]
  },
  {
   "cell_type": "markdown",
   "id": "1c589222-0f5a-4ecc-b1b2-ef87d8096a00",
   "metadata": {},
   "source": [
    "### 2. between\n",
    "This method is used to filter DataFrame rows or Series elements that fall within a specified range."
   ]
  },
  {
   "cell_type": "code",
   "execution_count": 7,
   "id": "2e11667e-7c69-4831-b82b-7a4b019ad3db",
   "metadata": {},
   "outputs": [
    {
     "data": {
      "text/plain": [
       "43"
      ]
     },
     "execution_count": 7,
     "metadata": {},
     "output_type": "execute_result"
    }
   ],
   "source": [
    "df2[df2.between(51,99)].size"
   ]
  },
  {
   "cell_type": "markdown",
   "id": "5f1bd21d-173f-4ab1-a201-6c1d744baaa7",
   "metadata": {},
   "source": [
    "### 3. clip\n",
    "This method trims values at specified input thresholds. Values below the lower threshold are set to the threshold, and values above the upper threshold are set to that threshold.​"
   ]
  },
  {
   "cell_type": "code",
   "execution_count": 8,
   "id": "59eacd5f-0e2d-412e-9e60-884c46099d8d",
   "metadata": {},
   "outputs": [
    {
     "data": {
      "text/plain": [
       "0      100\n",
       "1      100\n",
       "2      100\n",
       "3      100\n",
       "4      100\n",
       "      ... \n",
       "360    200\n",
       "361    200\n",
       "362    155\n",
       "363    144\n",
       "364    172\n",
       "Name: Subscribers gained, Length: 365, dtype: int64"
      ]
     },
     "execution_count": 8,
     "metadata": {},
     "output_type": "execute_result"
    }
   ],
   "source": [
    "df1.clip(100,200)"
   ]
  },
  {
   "cell_type": "markdown",
   "id": "26d9a9d6-667a-480a-82bf-38497daf2540",
   "metadata": {},
   "source": [
    "### 4. Drop_duplicates\n",
    " This method removes duplicate rows from a DataFrame. By default, it considers all columns, but you can specify particular columns to check for duplicates."
   ]
  },
  {
   "cell_type": "code",
   "execution_count": 9,
   "id": "3fadaa33-031c-449b-ae1c-7f3676556b01",
   "metadata": {},
   "outputs": [
    {
     "data": {
      "text/plain": [
       "0    1\n",
       "1    1\n",
       "2    2\n",
       "3    3\n",
       "4    3\n",
       "5    3\n",
       "6    4\n",
       "7    5\n",
       "dtype: int64"
      ]
     },
     "execution_count": 9,
     "metadata": {},
     "output_type": "execute_result"
    }
   ],
   "source": [
    "temp = pd.Series([1,1,2,3,3,3,4,5])\n",
    "temp"
   ]
  },
  {
   "cell_type": "code",
   "execution_count": 10,
   "id": "c39ceccb-293a-418c-a810-8aae705e123e",
   "metadata": {},
   "outputs": [
    {
     "data": {
      "text/plain": [
       "0    1\n",
       "2    2\n",
       "3    3\n",
       "6    4\n",
       "7    5\n",
       "dtype: int64"
      ]
     },
     "execution_count": 10,
     "metadata": {},
     "output_type": "execute_result"
    }
   ],
   "source": [
    "temp.drop_duplicates()"
   ]
  },
  {
   "cell_type": "code",
   "execution_count": 11,
   "id": "73279cb9-87f9-4f6a-b66f-9388fc5c08d1",
   "metadata": {},
   "outputs": [
    {
     "data": {
      "text/plain": [
       "1    1\n",
       "2    2\n",
       "5    3\n",
       "6    4\n",
       "7    5\n",
       "dtype: int64"
      ]
     },
     "execution_count": 11,
     "metadata": {},
     "output_type": "execute_result"
    }
   ],
   "source": [
    "temp.drop_duplicates(keep='last')"
   ]
  },
  {
   "cell_type": "code",
   "execution_count": 12,
   "id": "995d7321-9b0e-47c5-a876-3747681acdee",
   "metadata": {},
   "outputs": [
    {
     "data": {
      "text/plain": [
       "movie\n",
       "Uri: The Surgical Strike                   Vicky Kaushal\n",
       "Battalion 609                                Vicky Ahuja\n",
       "The Accidental Prime Minister (film)         Anupam Kher\n",
       "Why Cheat India                            Emraan Hashmi\n",
       "Evening Shadows                         Mona Ambegaonkar\n",
       "                                              ...       \n",
       "Sssshhh...                              Tanishaa Mukerji\n",
       "Rules: Pyaar Ka Superhit Formula                  Tanuja\n",
       "Right Here Right Now (film)                        Ankit\n",
       "Talaash: The Hunt Begins...                Rakhee Gulzar\n",
       "The Pink Mirror                          Edwin Fernandes\n",
       "Name: lead, Length: 566, dtype: object"
      ]
     },
     "execution_count": 12,
     "metadata": {},
     "output_type": "execute_result"
    }
   ],
   "source": [
    "df3.drop_duplicates()"
   ]
  },
  {
   "cell_type": "code",
   "execution_count": 13,
   "id": "4ed43f3d-18d3-4210-bb52-08d6d9b5a310",
   "metadata": {},
   "outputs": [
    {
     "data": {
      "text/plain": [
       "3"
      ]
     },
     "execution_count": 13,
     "metadata": {},
     "output_type": "execute_result"
    }
   ],
   "source": [
    "temp.duplicated().sum()"
   ]
  },
  {
   "cell_type": "markdown",
   "id": "ee5ec520-9e90-4f2f-980d-6a7bef99d577",
   "metadata": {},
   "source": [
    "### 5. isnull\n",
    " This function detects missing values in a DataFrame or Series. It returns a DataFrame or Series of the same shape, indicating the presence of missing values."
   ]
  },
  {
   "cell_type": "code",
   "execution_count": 14,
   "id": "96d4ea76-5dbc-4898-882a-dd279ca7ad90",
   "metadata": {},
   "outputs": [
    {
     "data": {
      "text/plain": [
       "0     1.0\n",
       "1     2.0\n",
       "2     3.0\n",
       "3     NaN\n",
       "4     5.0\n",
       "5     6.0\n",
       "6     NaN\n",
       "7     8.0\n",
       "8     NaN\n",
       "9    10.0\n",
       "dtype: float64"
      ]
     },
     "execution_count": 14,
     "metadata": {},
     "output_type": "execute_result"
    }
   ],
   "source": [
    "temp = pd.Series([1,2,3,np.nan,5,6,np.nan,8,np.nan,10])\n",
    "temp"
   ]
  },
  {
   "cell_type": "code",
   "execution_count": 15,
   "id": "ac134ec0-3b7e-49b6-9538-0524b1ca499e",
   "metadata": {},
   "outputs": [
    {
     "data": {
      "text/plain": [
       "10"
      ]
     },
     "execution_count": 15,
     "metadata": {},
     "output_type": "execute_result"
    }
   ],
   "source": [
    "temp.size"
   ]
  },
  {
   "cell_type": "code",
   "execution_count": 16,
   "id": "fca9623b-2efa-4290-9b1a-6ac5ba99d6b5",
   "metadata": {},
   "outputs": [
    {
     "data": {
      "text/plain": [
       "7"
      ]
     },
     "execution_count": 16,
     "metadata": {},
     "output_type": "execute_result"
    }
   ],
   "source": [
    "temp.count()"
   ]
  },
  {
   "cell_type": "code",
   "execution_count": 17,
   "id": "10ad744c-5201-4b5d-928f-e6c1de34f438",
   "metadata": {},
   "outputs": [
    {
     "data": {
      "text/plain": [
       "3"
      ]
     },
     "execution_count": 17,
     "metadata": {},
     "output_type": "execute_result"
    }
   ],
   "source": [
    "temp.isnull().sum()"
   ]
  },
  {
   "cell_type": "markdown",
   "id": "f9ed6b13-10b5-4aa9-9b7f-dfe5b189ef46",
   "metadata": {},
   "source": [
    "### 6. dropna\n",
    "This method removes missing values. You can specify to drop rows or columns containing missing values.​"
   ]
  },
  {
   "cell_type": "code",
   "execution_count": 18,
   "id": "9f9f96ce-e389-4563-9ada-a2222701a558",
   "metadata": {},
   "outputs": [
    {
     "data": {
      "text/plain": [
       "0     1.0\n",
       "1     2.0\n",
       "2     3.0\n",
       "4     5.0\n",
       "5     6.0\n",
       "7     8.0\n",
       "9    10.0\n",
       "dtype: float64"
      ]
     },
     "execution_count": 18,
     "metadata": {},
     "output_type": "execute_result"
    }
   ],
   "source": [
    "temp.dropna()"
   ]
  },
  {
   "cell_type": "markdown",
   "id": "130c5189-e7bd-4d54-b7ce-9c305ad9ae2a",
   "metadata": {},
   "source": [
    "### 7. fillna\n",
    "This method fills missing values with a specified value or method (such as forward or backward fill)."
   ]
  },
  {
   "cell_type": "code",
   "execution_count": 19,
   "id": "698a1fc4-8d38-484d-8c6e-5ad6e2f6a5b9",
   "metadata": {},
   "outputs": [
    {
     "data": {
      "text/plain": [
       "0     1.0\n",
       "1     2.0\n",
       "2     3.0\n",
       "3     5.0\n",
       "4     5.0\n",
       "5     6.0\n",
       "6     5.0\n",
       "7     8.0\n",
       "8     5.0\n",
       "9    10.0\n",
       "dtype: float64"
      ]
     },
     "execution_count": 19,
     "metadata": {},
     "output_type": "execute_result"
    }
   ],
   "source": [
    "temp.fillna(temp.mean())"
   ]
  },
  {
   "cell_type": "markdown",
   "id": "abef19b8-99eb-445f-ba83-8fd4e6f2dd5c",
   "metadata": {},
   "source": [
    "### 8. isin\n",
    "This method checks whether each element in the DataFrame is contained in a specified list-like object, returning a DataFrame of booleans."
   ]
  },
  {
   "cell_type": "code",
   "execution_count": 20,
   "id": "65c74df1-2039-45d8-843d-a810cfd3c096",
   "metadata": {},
   "outputs": [
    {
     "data": {
      "text/plain": [
       "match_no\n",
       "82    99\n",
       "86    49\n",
       "Name: runs, dtype: int64"
      ]
     },
     "execution_count": 20,
     "metadata": {},
     "output_type": "execute_result"
    }
   ],
   "source": [
    "df2[(df2 == 49) | (df2 == 99)]"
   ]
  },
  {
   "cell_type": "code",
   "execution_count": 21,
   "id": "c02fecbe-e705-4b8d-b36e-ca42e9e88ebc",
   "metadata": {},
   "outputs": [
    {
     "data": {
      "text/plain": [
       "match_no\n",
       "82    99\n",
       "86    49\n",
       "Name: runs, dtype: int64"
      ]
     },
     "execution_count": 21,
     "metadata": {},
     "output_type": "execute_result"
    }
   ],
   "source": [
    "df2[df2.isin([49,99])]"
   ]
  },
  {
   "cell_type": "markdown",
   "id": "dff81c71-61f7-4a9f-913a-1b44f6e2c18a",
   "metadata": {},
   "source": [
    "### 9. apply\n",
    "This method applies a function along an axis of the DataFrame (either rows or columns)."
   ]
  },
  {
   "cell_type": "code",
   "execution_count": 22,
   "id": "fb808d60-a027-4636-97d3-9a56bb9282cc",
   "metadata": {},
   "outputs": [
    {
     "data": {
      "text/plain": [
       "movie\n",
       "Uri: The Surgical Strike                  VICKY\n",
       "Battalion 609                             VICKY\n",
       "The Accidental Prime Minister (film)     ANUPAM\n",
       "Why Cheat India                          EMRAAN\n",
       "Evening Shadows                            MONA\n",
       "                                         ...   \n",
       "Hum Tumhare Hain Sanam                     SHAH\n",
       "Aankhen (2002 film)                     AMITABH\n",
       "Saathiya (film)                           VIVEK\n",
       "Company (film)                             AJAY\n",
       "Awara Paagal Deewana                     AKSHAY\n",
       "Name: lead, Length: 1500, dtype: object"
      ]
     },
     "execution_count": 22,
     "metadata": {},
     "output_type": "execute_result"
    }
   ],
   "source": [
    "df3.apply(lambda x: x.split()[0].upper())"
   ]
  },
  {
   "cell_type": "code",
   "execution_count": 23,
   "id": "f8a9a381-c8d0-4d29-8f05-71f4f4c9e01c",
   "metadata": {},
   "outputs": [
    {
     "data": {
      "text/plain": [
       "0       bad day\n",
       "1       bad day\n",
       "2       bad day\n",
       "3       bad day\n",
       "4       bad day\n",
       "         ...   \n",
       "360    good day\n",
       "361    good day\n",
       "362    good day\n",
       "363    good day\n",
       "364    good day\n",
       "Name: Subscribers gained, Length: 365, dtype: object"
      ]
     },
     "execution_count": 23,
     "metadata": {},
     "output_type": "execute_result"
    }
   ],
   "source": [
    "df1.apply(lambda x: 'good day' if x > df1.mean() else 'bad day')"
   ]
  },
  {
   "cell_type": "markdown",
   "id": "1e899662-06d4-4e8c-96be-9ecd5704694f",
   "metadata": {},
   "source": [
    "### 10. copy\n",
    "This method creates a copy of the DataFrame or Series. It's useful to avoid modifying the original data when making changes."
   ]
  },
  {
   "cell_type": "code",
   "execution_count": 24,
   "id": "ab62eb3b-86f5-42b3-8650-8c1544c9396e",
   "metadata": {},
   "outputs": [
    {
     "data": {
      "text/plain": [
       "match_no\n",
       "1    100\n",
       "2     23\n",
       "3     13\n",
       "4     12\n",
       "5      1\n",
       "Name: runs, dtype: int64"
      ]
     },
     "execution_count": 24,
     "metadata": {},
     "output_type": "execute_result"
    }
   ],
   "source": [
    "new = df2.head().copy()\n",
    "new[1]= 100\n",
    "new"
   ]
  },
  {
   "cell_type": "code",
   "execution_count": null,
   "id": "12382f20-f342-4372-b3fa-c10c3ff0df5f",
   "metadata": {},
   "outputs": [],
   "source": []
  }
 ],
 "metadata": {
  "kernelspec": {
   "display_name": "Python 3 (ipykernel)",
   "language": "python",
   "name": "python3"
  },
  "language_info": {
   "codemirror_mode": {
    "name": "ipython",
    "version": 3
   },
   "file_extension": ".py",
   "mimetype": "text/x-python",
   "name": "python",
   "nbconvert_exporter": "python",
   "pygments_lexer": "ipython3",
   "version": "3.12.4"
  }
 },
 "nbformat": 4,
 "nbformat_minor": 5
}
