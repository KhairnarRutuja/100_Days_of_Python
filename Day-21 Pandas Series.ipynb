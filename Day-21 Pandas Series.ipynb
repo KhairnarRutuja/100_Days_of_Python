{
 "cells": [
  {
   "cell_type": "markdown",
   "id": "4221b89e-59b5-402f-b1b7-be789cba8cbb",
   "metadata": {},
   "source": [
    "# Pandas Package"
   ]
  },
  {
   "cell_type": "markdown",
   "id": "f7d6e159-7129-4615-8719-8466aecd0dfc",
   "metadata": {},
   "source": [
    "Pandas is a powerful and open-source Python library. The Pandas library is used for data manipulation and analysis. Pandas consist of data structures and functions to perform efficient operations on data.\n",
    "\n",
    "Pandas is well-suited for working with tabular data, such as spreadsheets or SQL tables.\n",
    "Python library used for data manipulation, analysis, and preprocessing. It provides powerful data structures, mainly Series (1D) and DataFrame (2D), to work with structured data efficiently.\n",
    "\n",
    "**Here is a list of things that we can do using Pandas.**\n",
    "\n",
    "Data set cleaning, merging, and joining.\n",
    "Easy handling of missing data (represented as NaN) in floating point as well as non-floating point data.\n",
    "Columns can be inserted and deleted from DataFrame and higher-dimensional objects.\n",
    "Powerful group by functionality for performing split-apply-combine operations on data sets.\n",
    "Data Visualization.\n",
    "\n",
    "### Data Structures in Pandas Library\n",
    "\n",
    "Pandas generally provide two data structures for manipulating data. They are:\n",
    "\n",
    "- Series\n",
    "- DataFrame"
   ]
  },
  {
   "cell_type": "markdown",
   "id": "134dc3a0-c040-430d-b983-0cf61f773fac",
   "metadata": {},
   "source": [
    "## 1. Series"
   ]
  },
  {
   "cell_type": "markdown",
   "id": "5a26dee8-fd91-4a25-b105-c0c4b4f32c94",
   "metadata": {},
   "source": [
    "A Series in Pandas is a one-dimensional labeled array that can hold any data type (integers, floats, strings, or objects). It is similar to a column in a DataFrame or a NumPy 1D array but with labels (index)."
   ]
  },
  {
   "cell_type": "markdown",
   "id": "c8d1599c-8428-4850-9c47-ce5029c6f88a",
   "metadata": {},
   "source": [
    "### Importing pandas"
   ]
  },
  {
   "cell_type": "code",
   "execution_count": 1,
   "id": "5dc48914-be05-44d9-a309-f6883fad509e",
   "metadata": {},
   "outputs": [],
   "source": [
    "import pandas as pd"
   ]
  },
  {
   "cell_type": "code",
   "execution_count": 2,
   "id": "06962972-4bdb-43c5-add9-a6effd52dcc9",
   "metadata": {},
   "outputs": [
    {
     "name": "stdout",
     "output_type": "stream",
     "text": [
      "Series([], dtype: object)\n",
      "<class 'pandas.core.series.Series'>\n"
     ]
    }
   ],
   "source": [
    "# Create empty series\n",
    "s = pd.Series()\n",
    "print(s)\n",
    "print(type(s))"
   ]
  },
  {
   "cell_type": "code",
   "execution_count": 3,
   "id": "22580dbd-d526-4fe6-9166-83022a1f904d",
   "metadata": {},
   "outputs": [
    {
     "name": "stdout",
     "output_type": "stream",
     "text": [
      "0    20\n",
      "dtype: int64\n"
     ]
    }
   ],
   "source": [
    "# Create series with scaler\n",
    "s1 = pd.Series(20)\n",
    "print(s1)"
   ]
  },
  {
   "cell_type": "code",
   "execution_count": 4,
   "id": "c97b798c-9e57-4144-8ee5-e5ea9470b1e6",
   "metadata": {},
   "outputs": [
    {
     "data": {
      "text/plain": [
       "0       India\n",
       "1    Pakistan\n",
       "2         USA\n",
       "3       Nepal\n",
       "4    Srilanka\n",
       "dtype: object"
      ]
     },
     "execution_count": 4,
     "metadata": {},
     "output_type": "execute_result"
    }
   ],
   "source": [
    "# create series with list\n",
    "country = ['India','Pakistan','USA','Nepal','Srilanka']\n",
    "pd.Series(country)"
   ]
  },
  {
   "cell_type": "code",
   "execution_count": 5,
   "id": "d3023a2e-ad05-4d48-918b-5787da1c6967",
   "metadata": {},
   "outputs": [
    {
     "data": {
      "text/plain": [
       "0     13\n",
       "1     24\n",
       "2     56\n",
       "3     78\n",
       "4    100\n",
       "dtype: int64"
      ]
     },
     "execution_count": 5,
     "metadata": {},
     "output_type": "execute_result"
    }
   ],
   "source": [
    "runs = [13,24,56,78,100]\n",
    "pd.Series(runs)"
   ]
  },
  {
   "cell_type": "code",
   "execution_count": 6,
   "id": "5d03dc4f-aa4b-464e-831e-a9369d578745",
   "metadata": {},
   "outputs": [
    {
     "data": {
      "text/plain": [
       "0    0\n",
       "1    2\n",
       "2    4\n",
       "3    6\n",
       "4    8\n",
       "dtype: int64"
      ]
     },
     "execution_count": 6,
     "metadata": {},
     "output_type": "execute_result"
    }
   ],
   "source": [
    "pd.Series(list(range(0,10,2)))"
   ]
  },
  {
   "cell_type": "code",
   "execution_count": 7,
   "id": "48136a17-152f-4e5e-a4a3-3311d6e0cb66",
   "metadata": {},
   "outputs": [
    {
     "data": {
      "text/plain": [
       "0    1\n",
       "1    2\n",
       "2    3\n",
       "3    4\n",
       "4    5\n",
       "dtype: int64"
      ]
     },
     "execution_count": 7,
     "metadata": {},
     "output_type": "execute_result"
    }
   ],
   "source": [
    "pd.Series([1,2,3,4,5])"
   ]
  },
  {
   "cell_type": "code",
   "execution_count": 8,
   "id": "e1e358c8-30a7-4902-ada3-673166a621d0",
   "metadata": {},
   "outputs": [
    {
     "data": {
      "text/plain": [
       "0       Red\n",
       "1     Black\n",
       "2     White\n",
       "3      Pink\n",
       "4     Green\n",
       "5    Yellow\n",
       "dtype: object"
      ]
     },
     "execution_count": 8,
     "metadata": {},
     "output_type": "execute_result"
    }
   ],
   "source": [
    "# create series with tuple\n",
    "colors = ('Red','Black','White','Pink','Green','Yellow')\n",
    "pd.Series(colors)"
   ]
  },
  {
   "cell_type": "code",
   "execution_count": 9,
   "id": "f79ce34e-985b-4adf-9985-37052862e19d",
   "metadata": {},
   "outputs": [
    {
     "data": {
      "text/plain": [
       "0       Banana\n",
       "1        Apple\n",
       "2       Graphs\n",
       "3    Stawberry\n",
       "4    Pineapple\n",
       "dtype: object"
      ]
     },
     "execution_count": 9,
     "metadata": {},
     "output_type": "execute_result"
    }
   ],
   "source": [
    "pd.Series(('Banana','Apple','Graphs','Stawberry','Pineapple'))"
   ]
  },
  {
   "cell_type": "code",
   "execution_count": 10,
   "id": "052117c6-7494-4c4a-979f-209bd40a2ede",
   "metadata": {},
   "outputs": [
    {
     "data": {
      "text/plain": [
       "0    0\n",
       "1    2\n",
       "2    4\n",
       "3    6\n",
       "4    8\n",
       "dtype: int64"
      ]
     },
     "execution_count": 10,
     "metadata": {},
     "output_type": "execute_result"
    }
   ],
   "source": [
    "pd.Series(tuple(range(0,10,2)))"
   ]
  },
  {
   "cell_type": "code",
   "execution_count": 11,
   "id": "1753a702-4e3a-43ad-b4c8-48ac3c6f98e8",
   "metadata": {},
   "outputs": [
    {
     "data": {
      "text/plain": [
       "A    1\n",
       "B    2\n",
       "C    3\n",
       "D    4\n",
       "E    5\n",
       "dtype: int64"
      ]
     },
     "execution_count": 11,
     "metadata": {},
     "output_type": "execute_result"
    }
   ],
   "source": [
    "# Creating series with dictionary\n",
    "dict1 = {'A':1,'B':2,'C':3,'D':4,'E':5}\n",
    "pd.Series(dict1)"
   ]
  },
  {
   "cell_type": "code",
   "execution_count": 12,
   "id": "7bf8009f-5e8e-4432-8bac-deb830465e94",
   "metadata": {},
   "outputs": [
    {
     "data": {
      "text/plain": [
       "Maths       67\n",
       "English     57\n",
       "Science     89\n",
       "Hindi      100\n",
       "dtype: int64"
      ]
     },
     "execution_count": 12,
     "metadata": {},
     "output_type": "execute_result"
    }
   ],
   "source": [
    "Marks = {\n",
    "    'Maths': 67,\n",
    "    'English':57,\n",
    "    'Science':89,\n",
    "    'Hindi':100\n",
    "}\n",
    "pd.Series(Marks)"
   ]
  },
  {
   "cell_type": "code",
   "execution_count": 13,
   "id": "9e85df2a-19d4-41a5-bebb-85bfacf48229",
   "metadata": {},
   "outputs": [
    {
     "data": {
      "text/plain": [
       "0    1\n",
       "1    2\n",
       "2    3\n",
       "3    4\n",
       "4    5\n",
       "dtype: int32"
      ]
     },
     "execution_count": 13,
     "metadata": {},
     "output_type": "execute_result"
    }
   ],
   "source": [
    "# Creating series with array\n",
    "import numpy as np\n",
    "arr1 = np.array([1,2,3,4,5])\n",
    "pd.Series(arr1)"
   ]
  },
  {
   "cell_type": "code",
   "execution_count": 14,
   "id": "d60f923a-0a04-4f89-8e7b-38201d240b0f",
   "metadata": {},
   "outputs": [
    {
     "data": {
      "text/plain": [
       "0    0\n",
       "1    1\n",
       "2    2\n",
       "3    3\n",
       "4    4\n",
       "dtype: int32"
      ]
     },
     "execution_count": 14,
     "metadata": {},
     "output_type": "execute_result"
    }
   ],
   "source": [
    "arr2 = np.arange(5)\n",
    "pd.Series(arr2)"
   ]
  },
  {
   "cell_type": "code",
   "execution_count": 15,
   "id": "6a1ef4fc-fec7-450a-b15b-ec087b4e5eff",
   "metadata": {},
   "outputs": [
    {
     "data": {
      "text/plain": [
       "Math        67\n",
       "English     57\n",
       "Science     89\n",
       "Hindi      100\n",
       "dtype: int64"
      ]
     },
     "execution_count": 15,
     "metadata": {},
     "output_type": "execute_result"
    }
   ],
   "source": [
    "# Custom index\n",
    "marks = [67,57,89,100]\n",
    "subjects = ['Math','English','Science','Hindi']\n",
    "\n",
    "pd.Series(marks,index=subjects)"
   ]
  },
  {
   "cell_type": "code",
   "execution_count": 16,
   "id": "0d995c87-9dfb-4a52-90cd-8fc86ba764e1",
   "metadata": {},
   "outputs": [
    {
     "data": {
      "text/plain": [
       "Math        67\n",
       "English     57\n",
       "Science     89\n",
       "Hindi      100\n",
       "Name: A student Marks, dtype: int64"
      ]
     },
     "execution_count": 16,
     "metadata": {},
     "output_type": "execute_result"
    }
   ],
   "source": [
    "# setting a name\n",
    "pd.Series(marks,index=subjects,name = \"A student Marks\")"
   ]
  },
  {
   "cell_type": "markdown",
   "id": "1f7afaa8-c23f-45c0-a69d-1c234ec8ec30",
   "metadata": {},
   "source": [
    "### Series Attributes"
   ]
  },
  {
   "cell_type": "markdown",
   "id": "643138cd-e8cd-4db3-ac7e-1c16f5557773",
   "metadata": {},
   "source": [
    "#### 1. size --> Returns the Total Number of Elements"
   ]
  },
  {
   "cell_type": "code",
   "execution_count": 17,
   "id": "7a50c053-bc42-4180-b6b7-1a18c9d08382",
   "metadata": {},
   "outputs": [],
   "source": [
    "Marks = {\n",
    "    'Maths': 67,\n",
    "    'English':57,\n",
    "    'Science':89,\n",
    "    'Hindi':100\n",
    "}\n",
    "Marks_series = pd.Series(Marks,name = \"A Student marks\")"
   ]
  },
  {
   "cell_type": "code",
   "execution_count": 18,
   "id": "0d57f210-4409-495f-8c32-3b06310aefc3",
   "metadata": {},
   "outputs": [
    {
     "data": {
      "text/plain": [
       "4"
      ]
     },
     "execution_count": 18,
     "metadata": {},
     "output_type": "execute_result"
    }
   ],
   "source": [
    "Marks_series.size"
   ]
  },
  {
   "cell_type": "code",
   "execution_count": 19,
   "id": "1927e901-cc96-49f8-94c2-d72dff9b0ce9",
   "metadata": {},
   "outputs": [
    {
     "data": {
      "text/plain": [
       "4"
      ]
     },
     "execution_count": 19,
     "metadata": {},
     "output_type": "execute_result"
    }
   ],
   "source": [
    "pd.Series(Marks).size"
   ]
  },
  {
   "cell_type": "markdown",
   "id": "b975af52-5406-46a1-8320-100394d0fe55",
   "metadata": {},
   "source": [
    "#### 2. dtype --> Returns the Data Type"
   ]
  },
  {
   "cell_type": "code",
   "execution_count": 20,
   "id": "1baf48ac-d13d-4017-8af5-c005d1e5a456",
   "metadata": {},
   "outputs": [
    {
     "data": {
      "text/plain": [
       "dtype('int64')"
      ]
     },
     "execution_count": 20,
     "metadata": {},
     "output_type": "execute_result"
    }
   ],
   "source": [
    "Marks_series.dtype"
   ]
  },
  {
   "cell_type": "markdown",
   "id": "0f6dd0cf-5e6e-490a-a2f5-0dd53c842141",
   "metadata": {},
   "source": [
    "#### 3. Name --> Assigns/Retrieves a Name for the Series"
   ]
  },
  {
   "cell_type": "code",
   "execution_count": 21,
   "id": "40990934-9adc-45e1-bec4-664dc67f2c7b",
   "metadata": {},
   "outputs": [
    {
     "data": {
      "text/plain": [
       "'A Student marks'"
      ]
     },
     "execution_count": 21,
     "metadata": {},
     "output_type": "execute_result"
    }
   ],
   "source": [
    "Marks_series.name"
   ]
  },
  {
   "cell_type": "markdown",
   "id": "bc546fae-13a3-4f4a-8e42-3bb0659b9cae",
   "metadata": {},
   "source": [
    "#### 4. is_unique --> Checks if All Values Are Unique"
   ]
  },
  {
   "cell_type": "code",
   "execution_count": 22,
   "id": "04f834a5-2e5e-455c-8a65-7805f679ccc4",
   "metadata": {},
   "outputs": [
    {
     "data": {
      "text/plain": [
       "True"
      ]
     },
     "execution_count": 22,
     "metadata": {},
     "output_type": "execute_result"
    }
   ],
   "source": [
    "Marks_series.is_unique"
   ]
  },
  {
   "cell_type": "markdown",
   "id": "cd9c29e6-4db9-430b-9ebe-56d7c0681c8d",
   "metadata": {},
   "source": [
    "#### 5. index --> Returns the Index Labels"
   ]
  },
  {
   "cell_type": "code",
   "execution_count": 23,
   "id": "db9ed589-571e-4d8f-bb77-0a7e12468b78",
   "metadata": {},
   "outputs": [
    {
     "data": {
      "text/plain": [
       "Index(['Maths', 'English', 'Science', 'Hindi'], dtype='object')"
      ]
     },
     "execution_count": 23,
     "metadata": {},
     "output_type": "execute_result"
    }
   ],
   "source": [
    "Marks_series.index"
   ]
  },
  {
   "cell_type": "markdown",
   "id": "d3fc1d3f-7de7-48cb-862e-3d09ee422c9f",
   "metadata": {},
   "source": [
    "#### 6. values --> Returns the Data as a NumPy Array"
   ]
  },
  {
   "cell_type": "code",
   "execution_count": 24,
   "id": "0b53a36d-03e3-4450-8a58-3b52addd0122",
   "metadata": {},
   "outputs": [
    {
     "data": {
      "text/plain": [
       "array([ 67,  57,  89, 100], dtype=int64)"
      ]
     },
     "execution_count": 24,
     "metadata": {},
     "output_type": "execute_result"
    }
   ],
   "source": [
    "Marks_series.values"
   ]
  },
  {
   "cell_type": "markdown",
   "id": "0397e05a-5d04-45a0-a60b-58c9f4666dbf",
   "metadata": {},
   "source": [
    "#### 7. shape --> Returns the shape (size of the array)"
   ]
  },
  {
   "cell_type": "code",
   "execution_count": 25,
   "id": "3317360c-a414-4015-9ccf-3d07d12408d8",
   "metadata": {},
   "outputs": [
    {
     "data": {
      "text/plain": [
       "(4,)"
      ]
     },
     "execution_count": 25,
     "metadata": {},
     "output_type": "execute_result"
    }
   ],
   "source": [
    "Marks_series.shape"
   ]
  },
  {
   "cell_type": "markdown",
   "id": "2c51b5ed-fc1a-447c-82f7-62713ff3d43c",
   "metadata": {},
   "source": [
    "#### 8. head --> Returns the first n elements"
   ]
  },
  {
   "cell_type": "code",
   "execution_count": 26,
   "id": "493ef12d-7029-465a-855a-210c8f508676",
   "metadata": {},
   "outputs": [
    {
     "data": {
      "text/plain": [
       "Maths      67\n",
       "English    57\n",
       "Name: A Student marks, dtype: int64"
      ]
     },
     "execution_count": 26,
     "metadata": {},
     "output_type": "execute_result"
    }
   ],
   "source": [
    "Marks_series.head(2)"
   ]
  },
  {
   "cell_type": "markdown",
   "id": "f8e94207-29fb-4182-9c79-20076c31b45a",
   "metadata": {},
   "source": [
    "#### 9. tail --> Returns the last n elements"
   ]
  },
  {
   "cell_type": "code",
   "execution_count": 27,
   "id": "a8be436c-1da0-43f1-86bf-d3171469ecea",
   "metadata": {},
   "outputs": [
    {
     "data": {
      "text/plain": [
       "English     57\n",
       "Science     89\n",
       "Hindi      100\n",
       "Name: A Student marks, dtype: int64"
      ]
     },
     "execution_count": 27,
     "metadata": {},
     "output_type": "execute_result"
    }
   ],
   "source": [
    "Marks_series.tail(3)"
   ]
  },
  {
   "cell_type": "markdown",
   "id": "15051b37-a8d1-44ef-bb96-1d1d21d86876",
   "metadata": {},
   "source": [
    "### Series Using read_csv"
   ]
  },
  {
   "cell_type": "code",
   "execution_count": 28,
   "id": "001a4dea-5f1a-4e99-af18-e34b852f8a31",
   "metadata": {},
   "outputs": [
    {
     "name": "stdout",
     "output_type": "stream",
     "text": [
      "0    48\n",
      "1    57\n",
      "2    40\n",
      "3    43\n",
      "4    44\n",
      "Name: Subscribers gained, dtype: int64\n",
      "<class 'pandas.core.series.Series'>\n"
     ]
    }
   ],
   "source": [
    "# with one column\n",
    "df = pd.read_csv('subs.csv')\n",
    "df = df.squeeze() # to convert dataframe into series\n",
    "print(df.head(5))\n",
    "print(type(df))"
   ]
  },
  {
   "cell_type": "code",
   "execution_count": 29,
   "id": "afc6d85c-b462-46ac-b050-12fcbd26183c",
   "metadata": {},
   "outputs": [
    {
     "data": {
      "text/plain": [
       "match_no\n",
       "1       1\n",
       "2      23\n",
       "3      13\n",
       "4      12\n",
       "5       1\n",
       "       ..\n",
       "211     0\n",
       "212    20\n",
       "213    73\n",
       "214    25\n",
       "215     7\n",
       "Name: runs, Length: 215, dtype: int64"
      ]
     },
     "execution_count": 29,
     "metadata": {},
     "output_type": "execute_result"
    }
   ],
   "source": [
    "# with 2 column\n",
    "df2 = pd.read_csv('kohli_ipl.csv',index_col = 'match_no')\n",
    "df2 = df2.squeeze()\n",
    "df2"
   ]
  },
  {
   "cell_type": "code",
   "execution_count": 30,
   "id": "04e6d912-c6eb-4a0d-9f0a-be588d6c00ab",
   "metadata": {},
   "outputs": [
    {
     "data": {
      "text/plain": [
       "movie\n",
       "Uri: The Surgical Strike                   Vicky Kaushal\n",
       "Battalion 609                                Vicky Ahuja\n",
       "The Accidental Prime Minister (film)         Anupam Kher\n",
       "Why Cheat India                            Emraan Hashmi\n",
       "Evening Shadows                         Mona Ambegaonkar\n",
       "                                              ...       \n",
       "Hum Tumhare Hain Sanam                    Shah Rukh Khan\n",
       "Aankhen (2002 film)                     Amitabh Bachchan\n",
       "Saathiya (film)                             Vivek Oberoi\n",
       "Company (film)                                Ajay Devgn\n",
       "Awara Paagal Deewana                        Akshay Kumar\n",
       "Name: lead, Length: 1500, dtype: object"
      ]
     },
     "execution_count": 30,
     "metadata": {},
     "output_type": "execute_result"
    }
   ],
   "source": [
    "df3 = pd.read_csv('bollywood.csv',index_col = 'movie')\n",
    "df3 = df3.squeeze()\n",
    "df3"
   ]
  },
  {
   "cell_type": "markdown",
   "id": "2ab7a610-bac7-42ea-a94b-b76352213e4f",
   "metadata": {},
   "source": [
    "### Series Method"
   ]
  },
  {
   "cell_type": "markdown",
   "id": "df3484c2-6c63-4c15-9c97-e228501470d4",
   "metadata": {},
   "source": [
    "#### 1. sample --> The sample() method in Pandas is used to randomly select elements from a Series."
   ]
  },
  {
   "cell_type": "code",
   "execution_count": 31,
   "id": "30c1e2aa-bad5-4043-bcb3-451bcf8d48bf",
   "metadata": {},
   "outputs": [
    {
     "data": {
      "text/plain": [
       "movie\n",
       "Jhoom Barabar Jhoom     Abhishek Bachchan\n",
       "Xcuse Me                    Sharman Joshi\n",
       "Anthony Kaun Hai?             Sanjay Dutt\n",
       "Article 15 (film)      Ayushmann Khurrana\n",
       "Anjaana Anjaani           Priyanka Chopra\n",
       "Name: lead, dtype: object"
      ]
     },
     "execution_count": 31,
     "metadata": {},
     "output_type": "execute_result"
    }
   ],
   "source": [
    "df3.sample(5)"
   ]
  },
  {
   "cell_type": "markdown",
   "id": "68e22e07-c328-4f30-b47e-ed8f9f540b8b",
   "metadata": {},
   "source": [
    "#### 2. value_counts --> The value_counts() function in Pandas counts the occurrences of unique values in a Series and returns a new Series sorted in descending order."
   ]
  },
  {
   "cell_type": "code",
   "execution_count": 32,
   "id": "91cc0865-cec8-4c98-9e27-2902fb87c48f",
   "metadata": {},
   "outputs": [
    {
     "data": {
      "text/plain": [
       "lead\n",
       "Akshay Kumar        0.032000\n",
       "Amitabh Bachchan    0.030000\n",
       "Ajay Devgn          0.025333\n",
       "Salman Khan         0.020667\n",
       "Sanjay Dutt         0.017333\n",
       "                      ...   \n",
       "Diganth             0.000667\n",
       "Parveen Kaur        0.000667\n",
       "Seema Azmi          0.000667\n",
       "Akanksha Puri       0.000667\n",
       "Edwin Fernandes     0.000667\n",
       "Name: proportion, Length: 566, dtype: float64"
      ]
     },
     "execution_count": 32,
     "metadata": {},
     "output_type": "execute_result"
    }
   ],
   "source": [
    "df3.value_counts('lead')"
   ]
  },
  {
   "cell_type": "markdown",
   "id": "3b2b5cec-7f6f-426f-badb-ae7e7fd50b9a",
   "metadata": {},
   "source": [
    "#### 3.sort_values() --> The sort_values() function is used to sort the values in a Pandas Series in either ascending or descending order."
   ]
  },
  {
   "cell_type": "code",
   "execution_count": 33,
   "id": "cd3eb862-744a-4eaa-8198-fa153c1accf2",
   "metadata": {},
   "outputs": [
    {
     "data": {
      "text/plain": [
       "match_no\n",
       "87       0\n",
       "211      0\n",
       "207      0\n",
       "206      0\n",
       "91       0\n",
       "      ... \n",
       "164    100\n",
       "120    100\n",
       "123    108\n",
       "126    109\n",
       "128    113\n",
       "Name: runs, Length: 215, dtype: int64"
      ]
     },
     "execution_count": 33,
     "metadata": {},
     "output_type": "execute_result"
    }
   ],
   "source": [
    "# ascending order\n",
    "df2.sort_values()"
   ]
  },
  {
   "cell_type": "code",
   "execution_count": 34,
   "id": "4695519e-fbf7-409c-8db0-93d76abf12b3",
   "metadata": {},
   "outputs": [
    {
     "data": {
      "text/plain": [
       "match_no\n",
       "128    113\n",
       "126    109\n",
       "123    108\n",
       "164    100\n",
       "120    100\n",
       "Name: runs, dtype: int64"
      ]
     },
     "execution_count": 34,
     "metadata": {},
     "output_type": "execute_result"
    }
   ],
   "source": [
    "# descending order\n",
    "df2.sort_values(ascending = False).head(5)"
   ]
  },
  {
   "cell_type": "code",
   "execution_count": 35,
   "id": "b947d456-fa56-4eeb-9af7-29c55a9ccfef",
   "metadata": {},
   "outputs": [
    {
     "data": {
      "text/plain": [
       "113"
      ]
     },
     "execution_count": 35,
     "metadata": {},
     "output_type": "execute_result"
    }
   ],
   "source": [
    "df2.sort_values(ascending = False).head(5).values[0]"
   ]
  },
  {
   "cell_type": "code",
   "execution_count": 36,
   "id": "0120f4e6-4190-4215-8f88-fb369963835c",
   "metadata": {},
   "outputs": [
    {
     "data": {
      "text/plain": [
       "match_no\n",
       "87       0\n",
       "211      0\n",
       "207      0\n",
       "206      0\n",
       "91       0\n",
       "      ... \n",
       "164    100\n",
       "120    100\n",
       "123    108\n",
       "126    109\n",
       "128    113\n",
       "Name: runs, Length: 215, dtype: int64"
      ]
     },
     "execution_count": 36,
     "metadata": {},
     "output_type": "execute_result"
    }
   ],
   "source": [
    "df4 = df2.copy()\n",
    "df4.sort_values(inplace=True)\n",
    "df4"
   ]
  },
  {
   "cell_type": "markdown",
   "id": "cacf1c6e-e201-492a-aded-ace57e254c48",
   "metadata": {},
   "source": [
    "#### 4. sort_index() --> The sort_index() function in Pandas is used to sort a Series by its index labels instead of its values."
   ]
  },
  {
   "cell_type": "code",
   "execution_count": 37,
   "id": "e89e3406-4c67-4d85-83c3-518eb3a2cdd5",
   "metadata": {},
   "outputs": [
    {
     "data": {
      "text/plain": [
       "movie\n",
       "1920 (film)                   Rajniesh Duggall\n",
       "1920: London                     Sharman Joshi\n",
       "1920: The Evil Returns             Vicky Ahuja\n",
       "1971 (2007 film)                Manoj Bajpayee\n",
       "2 States (2014 film)              Arjun Kapoor\n",
       "                                   ...        \n",
       "Zindagi 50-50                      Veena Malik\n",
       "Zindagi Na Milegi Dobara        Hrithik Roshan\n",
       "Zindagi Tere Naam           Mithun Chakraborty\n",
       "Zokkomon                       Darsheel Safary\n",
       "Zor Lagaa Ke...Haiya!            Meghan Jadhav\n",
       "Name: lead, Length: 1500, dtype: object"
      ]
     },
     "execution_count": 37,
     "metadata": {},
     "output_type": "execute_result"
    }
   ],
   "source": [
    "df3.sort_index()"
   ]
  },
  {
   "cell_type": "markdown",
   "id": "ffa52a7a-2689-4dee-89ee-93e99480de69",
   "metadata": {},
   "source": [
    "### Series Maths Methods"
   ]
  },
  {
   "cell_type": "markdown",
   "id": "85d4fdf8-0c88-4737-869b-ddacf2bb798a",
   "metadata": {},
   "source": [
    "#### 1. count "
   ]
  },
  {
   "cell_type": "code",
   "execution_count": 38,
   "id": "798e3f42-4980-45b6-8904-93b0d25c6150",
   "metadata": {},
   "outputs": [
    {
     "data": {
      "text/plain": [
       "215"
      ]
     },
     "execution_count": 38,
     "metadata": {},
     "output_type": "execute_result"
    }
   ],
   "source": [
    "df2.count()"
   ]
  },
  {
   "cell_type": "markdown",
   "id": "1e1821e8-faff-4764-bb9b-caead58ee0a1",
   "metadata": {},
   "source": [
    "#### 2. sum"
   ]
  },
  {
   "cell_type": "code",
   "execution_count": 39,
   "id": "c880cf7e-5676-462f-919d-750037dad2d9",
   "metadata": {},
   "outputs": [
    {
     "data": {
      "text/plain": [
       "49510"
      ]
     },
     "execution_count": 39,
     "metadata": {},
     "output_type": "execute_result"
    }
   ],
   "source": [
    "df.sum()"
   ]
  },
  {
   "cell_type": "markdown",
   "id": "55cb4ff9-31b2-4d4b-8121-3ff63cb27141",
   "metadata": {},
   "source": [
    "#### 3. Product"
   ]
  },
  {
   "cell_type": "code",
   "execution_count": 40,
   "id": "726f8b73-97bb-4fa3-9aa6-d1e51e91d956",
   "metadata": {},
   "outputs": [
    {
     "data": {
      "text/plain": [
       "0"
      ]
     },
     "execution_count": 40,
     "metadata": {},
     "output_type": "execute_result"
    }
   ],
   "source": [
    "df.product()"
   ]
  },
  {
   "cell_type": "markdown",
   "id": "929dcb3b-932d-4c1f-83bf-c145a0f0c078",
   "metadata": {},
   "source": [
    "#### 4. mean"
   ]
  },
  {
   "cell_type": "code",
   "execution_count": 41,
   "id": "d83bbb89-f8fb-4d7a-9881-502703ce6a97",
   "metadata": {},
   "outputs": [
    {
     "data": {
      "text/plain": [
       "135.64383561643837"
      ]
     },
     "execution_count": 41,
     "metadata": {},
     "output_type": "execute_result"
    }
   ],
   "source": [
    "df.mean()"
   ]
  },
  {
   "cell_type": "markdown",
   "id": "5fbe89f5-86c8-4c23-a6e3-6dd5c920b354",
   "metadata": {},
   "source": [
    "#### 5. median"
   ]
  },
  {
   "cell_type": "code",
   "execution_count": 42,
   "id": "94c0c7f6-0e89-45e9-9dd0-d8664b75d63f",
   "metadata": {},
   "outputs": [
    {
     "data": {
      "text/plain": [
       "24.0"
      ]
     },
     "execution_count": 42,
     "metadata": {},
     "output_type": "execute_result"
    }
   ],
   "source": [
    "df2.median()"
   ]
  },
  {
   "cell_type": "markdown",
   "id": "a9b4d516-01ad-4887-b74f-933994d47ea0",
   "metadata": {},
   "source": [
    "#### 6. mode"
   ]
  },
  {
   "cell_type": "code",
   "execution_count": 43,
   "id": "d36b82e8-4664-4b04-91b2-03fce12649ad",
   "metadata": {},
   "outputs": [
    {
     "data": {
      "text/plain": [
       "0    Akshay Kumar\n",
       "Name: lead, dtype: object"
      ]
     },
     "execution_count": 43,
     "metadata": {},
     "output_type": "execute_result"
    }
   ],
   "source": [
    "df3.mode()"
   ]
  },
  {
   "cell_type": "markdown",
   "id": "47dfe6b1-ad80-488c-80d6-6d7c749fab03",
   "metadata": {},
   "source": [
    "#### 7. std"
   ]
  },
  {
   "cell_type": "code",
   "execution_count": 44,
   "id": "91969a1d-1939-4788-ba1c-7bafd25f3b5a",
   "metadata": {},
   "outputs": [
    {
     "data": {
      "text/plain": [
       "62.67502303725269"
      ]
     },
     "execution_count": 44,
     "metadata": {},
     "output_type": "execute_result"
    }
   ],
   "source": [
    "df.std()"
   ]
  },
  {
   "cell_type": "markdown",
   "id": "63651f35-eb66-4d0d-8f74-bc19a11a4166",
   "metadata": {},
   "source": [
    "#### 8. var"
   ]
  },
  {
   "cell_type": "code",
   "execution_count": 45,
   "id": "c8e1a1c3-7d97-4006-8a43-6230ff6b4106",
   "metadata": {},
   "outputs": [
    {
     "data": {
      "text/plain": [
       "688.0024777222344"
      ]
     },
     "execution_count": 45,
     "metadata": {},
     "output_type": "execute_result"
    }
   ],
   "source": [
    "df2.var()"
   ]
  },
  {
   "cell_type": "markdown",
   "id": "68f99ea6-670d-4429-a365-bce6fad2b8a1",
   "metadata": {},
   "source": [
    "#### 9. max"
   ]
  },
  {
   "cell_type": "code",
   "execution_count": 46,
   "id": "bd7726c1-cd82-4efc-82eb-61df989b5f3a",
   "metadata": {},
   "outputs": [
    {
     "data": {
      "text/plain": [
       "396"
      ]
     },
     "execution_count": 46,
     "metadata": {},
     "output_type": "execute_result"
    }
   ],
   "source": [
    "df.max()"
   ]
  },
  {
   "cell_type": "markdown",
   "id": "d395fcfd-ba00-4b06-bc2c-9a7d02a04481",
   "metadata": {},
   "source": [
    "#### 10. min"
   ]
  },
  {
   "cell_type": "code",
   "execution_count": 47,
   "id": "879f3bd3-d639-4d45-973f-4aecaf2d1be5",
   "metadata": {},
   "outputs": [
    {
     "data": {
      "text/plain": [
       "33"
      ]
     },
     "execution_count": 47,
     "metadata": {},
     "output_type": "execute_result"
    }
   ],
   "source": [
    "df.min()"
   ]
  },
  {
   "cell_type": "markdown",
   "id": "175824a9-5fe9-47d8-adc7-22d5dbae5745",
   "metadata": {},
   "source": [
    "#### 11. describe"
   ]
  },
  {
   "cell_type": "code",
   "execution_count": 48,
   "id": "6df65140-27db-4f86-b46a-f339932a2f71",
   "metadata": {},
   "outputs": [
    {
     "data": {
      "text/plain": [
       "count    215.000000\n",
       "mean      30.855814\n",
       "std       26.229801\n",
       "min        0.000000\n",
       "25%        9.000000\n",
       "50%       24.000000\n",
       "75%       48.000000\n",
       "max      113.000000\n",
       "Name: runs, dtype: float64"
      ]
     },
     "execution_count": 48,
     "metadata": {},
     "output_type": "execute_result"
    }
   ],
   "source": [
    "df2.describe()"
   ]
  },
  {
   "cell_type": "markdown",
   "id": "33950911-83d3-46b3-a982-5bba681bcfc3",
   "metadata": {},
   "source": [
    "### Series Indexing"
   ]
  },
  {
   "cell_type": "code",
   "execution_count": 49,
   "id": "7b12160e-cbc6-45c8-a442-fba6a5a3175a",
   "metadata": {},
   "outputs": [
    {
     "data": {
      "text/plain": [
       "13"
      ]
     },
     "execution_count": 49,
     "metadata": {},
     "output_type": "execute_result"
    }
   ],
   "source": [
    "x = pd.Series([12,13,14,35,46,57,58,79,9])\n",
    "x[1]"
   ]
  },
  {
   "cell_type": "code",
   "execution_count": 50,
   "id": "f492b67e-813d-4791-849a-aaff22aa62b4",
   "metadata": {},
   "outputs": [
    {
     "data": {
      "text/plain": [
       "14"
      ]
     },
     "execution_count": 50,
     "metadata": {},
     "output_type": "execute_result"
    }
   ],
   "source": [
    "x[2]"
   ]
  },
  {
   "cell_type": "code",
   "execution_count": 51,
   "id": "957e7fe6-927c-49c0-bf17-f92112aad5be",
   "metadata": {},
   "outputs": [
    {
     "ename": "KeyError",
     "evalue": "-1",
     "output_type": "error",
     "traceback": [
      "\u001b[1;31m---------------------------------------------------------------------------\u001b[0m",
      "\u001b[1;31mValueError\u001b[0m                                Traceback (most recent call last)",
      "File \u001b[1;32mC:\\ProgramData\\anaconda3\\Lib\\site-packages\\pandas\\core\\indexes\\range.py:413\u001b[0m, in \u001b[0;36mRangeIndex.get_loc\u001b[1;34m(self, key)\u001b[0m\n\u001b[0;32m    412\u001b[0m \u001b[38;5;28;01mtry\u001b[39;00m:\n\u001b[1;32m--> 413\u001b[0m     \u001b[38;5;28;01mreturn\u001b[39;00m \u001b[38;5;28mself\u001b[39m\u001b[38;5;241m.\u001b[39m_range\u001b[38;5;241m.\u001b[39mindex(new_key)\n\u001b[0;32m    414\u001b[0m \u001b[38;5;28;01mexcept\u001b[39;00m \u001b[38;5;167;01mValueError\u001b[39;00m \u001b[38;5;28;01mas\u001b[39;00m err:\n",
      "\u001b[1;31mValueError\u001b[0m: -1 is not in range",
      "\nThe above exception was the direct cause of the following exception:\n",
      "\u001b[1;31mKeyError\u001b[0m                                  Traceback (most recent call last)",
      "Cell \u001b[1;32mIn[51], line 1\u001b[0m\n\u001b[1;32m----> 1\u001b[0m x[\u001b[38;5;241m-\u001b[39m\u001b[38;5;241m1\u001b[39m]\n",
      "File \u001b[1;32mC:\\ProgramData\\anaconda3\\Lib\\site-packages\\pandas\\core\\series.py:1121\u001b[0m, in \u001b[0;36mSeries.__getitem__\u001b[1;34m(self, key)\u001b[0m\n\u001b[0;32m   1118\u001b[0m     \u001b[38;5;28;01mreturn\u001b[39;00m \u001b[38;5;28mself\u001b[39m\u001b[38;5;241m.\u001b[39m_values[key]\n\u001b[0;32m   1120\u001b[0m \u001b[38;5;28;01melif\u001b[39;00m key_is_scalar:\n\u001b[1;32m-> 1121\u001b[0m     \u001b[38;5;28;01mreturn\u001b[39;00m \u001b[38;5;28mself\u001b[39m\u001b[38;5;241m.\u001b[39m_get_value(key)\n\u001b[0;32m   1123\u001b[0m \u001b[38;5;66;03m# Convert generator to list before going through hashable part\u001b[39;00m\n\u001b[0;32m   1124\u001b[0m \u001b[38;5;66;03m# (We will iterate through the generator there to check for slices)\u001b[39;00m\n\u001b[0;32m   1125\u001b[0m \u001b[38;5;28;01mif\u001b[39;00m is_iterator(key):\n",
      "File \u001b[1;32mC:\\ProgramData\\anaconda3\\Lib\\site-packages\\pandas\\core\\series.py:1237\u001b[0m, in \u001b[0;36mSeries._get_value\u001b[1;34m(self, label, takeable)\u001b[0m\n\u001b[0;32m   1234\u001b[0m     \u001b[38;5;28;01mreturn\u001b[39;00m \u001b[38;5;28mself\u001b[39m\u001b[38;5;241m.\u001b[39m_values[label]\n\u001b[0;32m   1236\u001b[0m \u001b[38;5;66;03m# Similar to Index.get_value, but we do not fall back to positional\u001b[39;00m\n\u001b[1;32m-> 1237\u001b[0m loc \u001b[38;5;241m=\u001b[39m \u001b[38;5;28mself\u001b[39m\u001b[38;5;241m.\u001b[39mindex\u001b[38;5;241m.\u001b[39mget_loc(label)\n\u001b[0;32m   1239\u001b[0m \u001b[38;5;28;01mif\u001b[39;00m is_integer(loc):\n\u001b[0;32m   1240\u001b[0m     \u001b[38;5;28;01mreturn\u001b[39;00m \u001b[38;5;28mself\u001b[39m\u001b[38;5;241m.\u001b[39m_values[loc]\n",
      "File \u001b[1;32mC:\\ProgramData\\anaconda3\\Lib\\site-packages\\pandas\\core\\indexes\\range.py:415\u001b[0m, in \u001b[0;36mRangeIndex.get_loc\u001b[1;34m(self, key)\u001b[0m\n\u001b[0;32m    413\u001b[0m         \u001b[38;5;28;01mreturn\u001b[39;00m \u001b[38;5;28mself\u001b[39m\u001b[38;5;241m.\u001b[39m_range\u001b[38;5;241m.\u001b[39mindex(new_key)\n\u001b[0;32m    414\u001b[0m     \u001b[38;5;28;01mexcept\u001b[39;00m \u001b[38;5;167;01mValueError\u001b[39;00m \u001b[38;5;28;01mas\u001b[39;00m err:\n\u001b[1;32m--> 415\u001b[0m         \u001b[38;5;28;01mraise\u001b[39;00m \u001b[38;5;167;01mKeyError\u001b[39;00m(key) \u001b[38;5;28;01mfrom\u001b[39;00m \u001b[38;5;21;01merr\u001b[39;00m\n\u001b[0;32m    416\u001b[0m \u001b[38;5;28;01mif\u001b[39;00m \u001b[38;5;28misinstance\u001b[39m(key, Hashable):\n\u001b[0;32m    417\u001b[0m     \u001b[38;5;28;01mraise\u001b[39;00m \u001b[38;5;167;01mKeyError\u001b[39;00m(key)\n",
      "\u001b[1;31mKeyError\u001b[0m: -1"
     ]
    }
   ],
   "source": [
    "x[-1]"
   ]
  },
  {
   "cell_type": "markdown",
   "id": "ad789f5e-1474-48fe-a39e-126ed0d17e21",
   "metadata": {},
   "source": [
    "**Note : In Pandas, negative indexing does NOT work the same way as it does in lists or NumPy arrays. Unlike Python lists, Pandas Series uses explicit index labels, so negative indexing is not directly supported.**"
   ]
  },
  {
   "cell_type": "markdown",
   "id": "c92bb100-233c-46fc-bf20-af09d5011dbf",
   "metadata": {},
   "source": [
    "### Series Slicing"
   ]
  },
  {
   "cell_type": "code",
   "execution_count": 52,
   "id": "87df64f1-12c5-4e40-b4a1-72e3aba0c20a",
   "metadata": {},
   "outputs": [
    {
     "data": {
      "text/plain": [
       "match_no\n",
       "6      9\n",
       "7     34\n",
       "8      0\n",
       "9     21\n",
       "10     3\n",
       "11    10\n",
       "12    38\n",
       "13     3\n",
       "14    11\n",
       "15    50\n",
       "16     2\n",
       "Name: runs, dtype: int64"
      ]
     },
     "execution_count": 52,
     "metadata": {},
     "output_type": "execute_result"
    }
   ],
   "source": [
    "# positive slicing\n",
    "df2[5:16]"
   ]
  },
  {
   "cell_type": "code",
   "execution_count": 53,
   "id": "2ddc4d8d-a53d-474e-8afd-7c3c0a4022e1",
   "metadata": {},
   "outputs": [
    {
     "data": {
      "text/plain": [
       "match_no\n",
       "211     0\n",
       "212    20\n",
       "213    73\n",
       "214    25\n",
       "215     7\n",
       "Name: runs, dtype: int64"
      ]
     },
     "execution_count": 53,
     "metadata": {},
     "output_type": "execute_result"
    }
   ],
   "source": [
    "# negative slicing\n",
    "df2[-5:]"
   ]
  },
  {
   "cell_type": "code",
   "execution_count": 54,
   "id": "b7414523-fcd6-4ffe-b194-af598a29847c",
   "metadata": {},
   "outputs": [
    {
     "data": {
      "text/plain": [
       "match_no\n",
       "1       1\n",
       "3      13\n",
       "5       1\n",
       "7      34\n",
       "9      21\n",
       "       ..\n",
       "207     0\n",
       "209    58\n",
       "211     0\n",
       "213    73\n",
       "215     7\n",
       "Name: runs, Length: 108, dtype: int64"
      ]
     },
     "execution_count": 54,
     "metadata": {},
     "output_type": "execute_result"
    }
   ],
   "source": [
    "df2[::2]"
   ]
  },
  {
   "cell_type": "code",
   "execution_count": 55,
   "id": "eb897c0f-cf06-447f-bb06-23d9b3c112b4",
   "metadata": {},
   "outputs": [
    {
     "data": {
      "text/plain": [
       "match_no\n",
       "1     1\n",
       "3    13\n",
       "4    12\n",
       "5     1\n",
       "Name: runs, dtype: int64"
      ]
     },
     "execution_count": 55,
     "metadata": {},
     "output_type": "execute_result"
    }
   ],
   "source": [
    "# Fancy Indexing\n",
    "df2[[1,3,4,5]]"
   ]
  },
  {
   "cell_type": "code",
   "execution_count": 56,
   "id": "36fa1ab7-2d8e-48cc-96b3-6b4f5488c82d",
   "metadata": {},
   "outputs": [
    {
     "data": {
      "text/plain": [
       "'Vicky Kaushal'"
      ]
     },
     "execution_count": 56,
     "metadata": {},
     "output_type": "execute_result"
    }
   ],
   "source": [
    "# indexing with labels --> fancy indexing\n",
    "df3['Uri: The Surgical Strike']"
   ]
  },
  {
   "cell_type": "markdown",
   "id": "cb66bd67-3017-4325-8d36-a7935d7aec23",
   "metadata": {},
   "source": [
    "### Editing Series"
   ]
  },
  {
   "cell_type": "code",
   "execution_count": 57,
   "id": "a35f05ca-ef27-4f83-a227-8937afd99ccb",
   "metadata": {},
   "outputs": [
    {
     "data": {
      "text/plain": [
       "Maths       67\n",
       "English     57\n",
       "Science     89\n",
       "Hindi      100\n",
       "Name: A Student marks, dtype: int64"
      ]
     },
     "execution_count": 57,
     "metadata": {},
     "output_type": "execute_result"
    }
   ],
   "source": [
    "# using indexing\n",
    "Marks_series"
   ]
  },
  {
   "cell_type": "code",
   "execution_count": 58,
   "id": "ae9639c2-e34b-44c6-be5c-4a62fd6a5ffa",
   "metadata": {},
   "outputs": [
    {
     "name": "stdout",
     "output_type": "stream",
     "text": [
      "Maths       67\n",
      "English    100\n",
      "Science     89\n",
      "Hindi      100\n",
      "Name: A Student marks, dtype: int64\n"
     ]
    }
   ],
   "source": [
    "import warnings\n",
    "warnings.simplefilter(\"ignore\") \n",
    "Marks_series[1] = 100\n",
    "print(Marks_series)"
   ]
  },
  {
   "cell_type": "code",
   "execution_count": 59,
   "id": "737b5771-87d6-4bcc-954e-15f5c5bb0aee",
   "metadata": {},
   "outputs": [
    {
     "data": {
      "text/plain": [
       "Maths       67\n",
       "English    100\n",
       "Science     89\n",
       "Hindi      100\n",
       "sst         90\n",
       "Name: A Student marks, dtype: int64"
      ]
     },
     "execution_count": 59,
     "metadata": {},
     "output_type": "execute_result"
    }
   ],
   "source": [
    "# what if an index does not exist\n",
    "Marks_series['sst'] = 90\n",
    "Marks_series"
   ]
  },
  {
   "cell_type": "code",
   "execution_count": 60,
   "id": "66d6e962-d91b-4710-bc50-9ee3971c82fe",
   "metadata": {},
   "outputs": [
    {
     "data": {
      "text/plain": [
       "0     13\n",
       "1     24\n",
       "2     56\n",
       "3     78\n",
       "4    100\n",
       "dtype: int64"
      ]
     },
     "execution_count": 60,
     "metadata": {},
     "output_type": "execute_result"
    }
   ],
   "source": [
    "# slicing\n",
    "runs\n",
    "runs_series = pd.Series(runs)\n",
    "runs_series"
   ]
  },
  {
   "cell_type": "code",
   "execution_count": 61,
   "id": "51da48f5-552a-4c88-9a9f-c2ac9b110836",
   "metadata": {},
   "outputs": [
    {
     "data": {
      "text/plain": [
       "0     13\n",
       "1     24\n",
       "2    100\n",
       "3    100\n",
       "4    100\n",
       "dtype: int64"
      ]
     },
     "execution_count": 61,
     "metadata": {},
     "output_type": "execute_result"
    }
   ],
   "source": [
    "runs_series[2:4] = [100,100]\n",
    "runs_series"
   ]
  },
  {
   "cell_type": "code",
   "execution_count": 62,
   "id": "eef39491-254f-4155-b49e-674d918f6dcd",
   "metadata": {},
   "outputs": [
    {
     "data": {
      "text/plain": [
       "0      0\n",
       "1     24\n",
       "2    100\n",
       "3      0\n",
       "4      0\n",
       "dtype: int64"
      ]
     },
     "execution_count": 62,
     "metadata": {},
     "output_type": "execute_result"
    }
   ],
   "source": [
    "# fancy indexing\n",
    "runs_series[[0,3,4]] = [0,0,0]\n",
    "runs_series"
   ]
  },
  {
   "cell_type": "code",
   "execution_count": 63,
   "id": "1b9fcbf7-8fac-43c6-aed2-732850d79dbd",
   "metadata": {},
   "outputs": [],
   "source": [
    "# using index label\n",
    "fruits = ['apple','banana','cherry','stawberry','mango']\n",
    "price_per_kg = [10,20,30,40,50]\n",
    "\n",
    "fruits_price_series = pd.Series(fruits,index = price_per_kg)\n",
    "fruits_price_series['stawberry'] = 100"
   ]
  },
  {
   "cell_type": "code",
   "execution_count": 64,
   "id": "52dd945d-079b-4ee6-b081-4e4bb7c6a76b",
   "metadata": {},
   "outputs": [
    {
     "data": {
      "text/plain": [
       "10               apple\n",
       "20              banana\n",
       "30              cherry\n",
       "40           stawberry\n",
       "50               mango\n",
       "stawberry          100\n",
       "dtype: object"
      ]
     },
     "execution_count": 64,
     "metadata": {},
     "output_type": "execute_result"
    }
   ],
   "source": [
    "fruits_price_series"
   ]
  },
  {
   "cell_type": "markdown",
   "id": "9367bd22-9667-4ac3-b90e-ce2b8a80430c",
   "metadata": {},
   "source": [
    "### Series with python Functionalities"
   ]
  },
  {
   "cell_type": "code",
   "execution_count": 65,
   "id": "5c2f30bb-ed52-4d56-a3af-cd7ff15f7fd3",
   "metadata": {},
   "outputs": [
    {
     "name": "stdout",
     "output_type": "stream",
     "text": [
      "365\n"
     ]
    }
   ],
   "source": [
    "print(len(df))"
   ]
  },
  {
   "cell_type": "code",
   "execution_count": 66,
   "id": "1871651a-c92a-4f23-8354-033e81d0cbfa",
   "metadata": {},
   "outputs": [
    {
     "name": "stdout",
     "output_type": "stream",
     "text": [
      "<class 'pandas.core.series.Series'>\n"
     ]
    }
   ],
   "source": [
    "print(type(df))"
   ]
  },
  {
   "cell_type": "code",
   "execution_count": 67,
   "id": "7ef53ada-3bf1-413d-b765-e66df0849c2d",
   "metadata": {},
   "outputs": [
    {
     "name": "stdout",
     "output_type": "stream",
     "text": [
      "['T', '_AXIS_LEN', '_AXIS_ORDERS', '_AXIS_TO_AXIS_NUMBER', '_HANDLED_TYPES', '__abs__', '__add__', '__and__', '__annotations__', '__array__', '__array_priority__', '__array_ufunc__', '__bool__', '__class__', '__column_consortium_standard__', '__contains__', '__copy__', '__deepcopy__', '__delattr__', '__delitem__', '__dict__', '__dir__', '__divmod__', '__doc__', '__eq__', '__finalize__', '__float__', '__floordiv__', '__format__', '__ge__', '__getattr__', '__getattribute__', '__getitem__', '__getstate__', '__gt__', '__hash__', '__iadd__', '__iand__', '__ifloordiv__', '__imod__', '__imul__', '__init__', '__init_subclass__', '__int__', '__invert__', '__ior__', '__ipow__', '__isub__', '__iter__', '__itruediv__', '__ixor__', '__le__', '__len__', '__lt__', '__matmul__', '__mod__', '__module__', '__mul__', '__ne__', '__neg__', '__new__', '__nonzero__', '__or__', '__pandas_priority__', '__pos__', '__pow__', '__radd__', '__rand__', '__rdivmod__', '__reduce__', '__reduce_ex__', '__repr__', '__rfloordiv__', '__rmatmul__', '__rmod__', '__rmul__', '__ror__', '__round__', '__rpow__', '__rsub__', '__rtruediv__', '__rxor__', '__setattr__', '__setitem__', '__setstate__', '__sizeof__', '__str__', '__sub__', '__subclasshook__', '__truediv__', '__weakref__', '__xor__', '_accessors', '_accum_func', '_agg_examples_doc', '_agg_see_also_doc', '_align_for_op', '_align_frame', '_align_series', '_append', '_arith_method', '_as_manager', '_attrs', '_binop', '_cacher', '_can_hold_na', '_check_inplace_and_allows_duplicate_labels', '_check_is_chained_assignment_possible', '_check_label_or_level_ambiguity', '_check_setitem_copy', '_clear_item_cache', '_clip_with_one_bound', '_clip_with_scalar', '_cmp_method', '_consolidate', '_consolidate_inplace', '_construct_axes_dict', '_construct_result', '_constructor', '_constructor_expanddim', '_constructor_expanddim_from_mgr', '_constructor_from_mgr', '_data', '_deprecate_downcast', '_dir_additions', '_dir_deletions', '_drop_axis', '_drop_labels_or_levels', '_duplicated', '_find_valid_index', '_flags', '_flex_method', '_from_mgr', '_get_axis', '_get_axis_name', '_get_axis_number', '_get_axis_resolvers', '_get_block_manager_axis', '_get_bool_data', '_get_cacher', '_get_cleaned_column_resolvers', '_get_index_resolvers', '_get_label_or_level_values', '_get_numeric_data', '_get_rows_with_mask', '_get_value', '_get_values_tuple', '_get_with', '_getitem_slice', '_gotitem', '_hidden_attrs', '_indexed_same', '_info_axis', '_info_axis_name', '_info_axis_number', '_init_dict', '_init_mgr', '_inplace_method', '_internal_names', '_internal_names_set', '_is_cached', '_is_copy', '_is_label_or_level_reference', '_is_label_reference', '_is_level_reference', '_is_mixed_type', '_is_view', '_is_view_after_cow_rules', '_item_cache', '_ixs', '_logical_func', '_logical_method', '_map_values', '_maybe_update_cacher', '_memory_usage', '_metadata', '_mgr', '_min_count_stat_function', '_name', '_needs_reindex_multi', '_pad_or_backfill', '_protect_consolidate', '_reduce', '_references', '_reindex_axes', '_reindex_indexer', '_reindex_multi', '_reindex_with_indexers', '_rename', '_replace_single', '_repr_data_resource_', '_repr_latex_', '_reset_cache', '_reset_cacher', '_set_as_cached', '_set_axis', '_set_axis_name', '_set_axis_nocheck', '_set_is_copy', '_set_labels', '_set_name', '_set_value', '_set_values', '_set_with', '_set_with_engine', '_shift_with_freq', '_slice', '_stat_function', '_stat_function_ddof', '_take_with_is_copy', '_to_latex_via_styler', '_typ', '_update_inplace', '_validate_dtype', '_values', '_where', 'abs', 'add', 'add_prefix', 'add_suffix', 'agg', 'aggregate', 'align', 'all', 'any', 'apply', 'argmax', 'argmin', 'argsort', 'array', 'asfreq', 'asof', 'astype', 'at', 'at_time', 'attrs', 'autocorr', 'axes', 'backfill', 'between', 'between_time', 'bfill', 'bool', 'case_when', 'clip', 'combine', 'combine_first', 'compare', 'convert_dtypes', 'copy', 'corr', 'count', 'cov', 'cummax', 'cummin', 'cumprod', 'cumsum', 'describe', 'diff', 'div', 'divide', 'divmod', 'dot', 'drop', 'drop_duplicates', 'droplevel', 'dropna', 'dtype', 'dtypes', 'duplicated', 'empty', 'eq', 'equals', 'ewm', 'expanding', 'explode', 'factorize', 'ffill', 'fillna', 'filter', 'first', 'first_valid_index', 'flags', 'floordiv', 'ge', 'get', 'groupby', 'gt', 'hasnans', 'head', 'hist', 'iat', 'idxmax', 'idxmin', 'iloc', 'index', 'infer_objects', 'info', 'interpolate', 'is_monotonic_decreasing', 'is_monotonic_increasing', 'is_unique', 'isin', 'isna', 'isnull', 'item', 'items', 'keys', 'kurt', 'kurtosis', 'last', 'last_valid_index', 'le', 'list', 'loc', 'lt', 'map', 'mask', 'max', 'mean', 'median', 'memory_usage', 'min', 'mod', 'mode', 'mul', 'multiply', 'name', 'nbytes', 'ndim', 'ne', 'nlargest', 'notna', 'notnull', 'nsmallest', 'nunique', 'pad', 'pct_change', 'pipe', 'plot', 'pop', 'pow', 'prod', 'product', 'quantile', 'radd', 'rank', 'ravel', 'rdiv', 'rdivmod', 'reindex', 'reindex_like', 'rename', 'rename_axis', 'reorder_levels', 'repeat', 'replace', 'resample', 'reset_index', 'rfloordiv', 'rmod', 'rmul', 'rolling', 'round', 'rpow', 'rsub', 'rtruediv', 'sample', 'searchsorted', 'sem', 'set_axis', 'set_flags', 'shape', 'shift', 'size', 'skew', 'sort_index', 'sort_values', 'squeeze', 'std', 'struct', 'sub', 'subtract', 'sum', 'swapaxes', 'swaplevel', 'tail', 'take', 'to_clipboard', 'to_csv', 'to_dict', 'to_excel', 'to_frame', 'to_hdf', 'to_json', 'to_latex', 'to_list', 'to_markdown', 'to_numpy', 'to_period', 'to_pickle', 'to_sql', 'to_string', 'to_timestamp', 'to_xarray', 'transform', 'transpose', 'truediv', 'truncate', 'tz_convert', 'tz_localize', 'unique', 'unstack', 'update', 'value_counts', 'values', 'var', 'view', 'where', 'xs']\n"
     ]
    }
   ],
   "source": [
    "print(dir(df))"
   ]
  },
  {
   "cell_type": "code",
   "execution_count": 68,
   "id": "41aa348d-7a0d-4241-9e9d-431df4dff635",
   "metadata": {},
   "outputs": [
    {
     "name": "stdout",
     "output_type": "stream",
     "text": [
      "[33, 33, 35, 37, 39, 40, 40, 40, 40, 42, 42, 43, 44, 44, 44, 45, 46, 46, 48, 49, 49, 49, 49, 50, 50, 50, 51, 54, 56, 56, 56, 56, 57, 61, 62, 64, 65, 65, 66, 66, 66, 66, 67, 68, 70, 70, 70, 71, 71, 72, 72, 72, 72, 72, 73, 74, 74, 75, 76, 76, 76, 76, 77, 77, 78, 78, 78, 79, 79, 80, 80, 80, 81, 81, 82, 82, 83, 83, 83, 84, 84, 84, 85, 86, 86, 86, 87, 87, 87, 87, 88, 88, 88, 88, 88, 89, 89, 89, 90, 90, 90, 90, 91, 92, 92, 92, 93, 93, 93, 93, 95, 95, 96, 96, 96, 96, 97, 97, 98, 98, 99, 99, 100, 100, 100, 101, 101, 101, 102, 102, 103, 103, 104, 104, 104, 105, 105, 105, 105, 105, 105, 105, 105, 105, 108, 108, 108, 108, 108, 108, 109, 109, 110, 110, 110, 111, 111, 112, 113, 113, 113, 114, 114, 114, 114, 115, 115, 115, 115, 117, 117, 117, 118, 118, 119, 119, 119, 119, 120, 122, 123, 123, 123, 123, 123, 124, 125, 126, 127, 128, 128, 129, 130, 131, 131, 132, 132, 134, 134, 134, 135, 135, 136, 136, 136, 137, 138, 138, 138, 139, 140, 144, 145, 146, 146, 146, 146, 147, 149, 150, 150, 150, 150, 151, 152, 152, 152, 153, 153, 153, 154, 154, 154, 155, 155, 156, 156, 156, 156, 157, 157, 157, 157, 158, 158, 159, 159, 160, 160, 160, 160, 162, 164, 166, 167, 167, 168, 170, 170, 170, 170, 171, 172, 172, 173, 173, 173, 174, 174, 175, 175, 176, 176, 177, 178, 179, 179, 180, 180, 180, 182, 183, 183, 183, 184, 184, 184, 185, 185, 185, 185, 186, 186, 186, 188, 189, 190, 190, 192, 192, 192, 196, 196, 196, 197, 197, 202, 202, 202, 203, 204, 206, 207, 209, 210, 210, 211, 212, 213, 214, 216, 219, 220, 221, 221, 222, 222, 224, 225, 225, 226, 227, 228, 229, 230, 231, 233, 236, 236, 237, 241, 243, 244, 245, 247, 249, 254, 254, 258, 259, 259, 261, 261, 265, 267, 268, 269, 276, 276, 290, 295, 301, 306, 312, 396]\n"
     ]
    }
   ],
   "source": [
    "print(sorted(df))"
   ]
  },
  {
   "cell_type": "code",
   "execution_count": 69,
   "id": "3c321734-0b94-49f3-a979-c2b9bd1df03e",
   "metadata": {},
   "outputs": [
    {
     "name": "stdout",
     "output_type": "stream",
     "text": [
      "33\n"
     ]
    }
   ],
   "source": [
    "print(min(df))"
   ]
  },
  {
   "cell_type": "code",
   "execution_count": 70,
   "id": "25cdccee-8d28-44da-a231-60e37e4a3a08",
   "metadata": {},
   "outputs": [
    {
     "name": "stdout",
     "output_type": "stream",
     "text": [
      "396\n"
     ]
    }
   ],
   "source": [
    "print(max(df))"
   ]
  },
  {
   "cell_type": "code",
   "execution_count": 71,
   "id": "20252f48-509a-4a94-b44b-47566797fb2f",
   "metadata": {},
   "outputs": [
    {
     "data": {
      "text/plain": [
       "[67, 100, 89, 100, 90]"
      ]
     },
     "execution_count": 71,
     "metadata": {},
     "output_type": "execute_result"
    }
   ],
   "source": [
    "# type conversion\n",
    "list(Marks_series)"
   ]
  },
  {
   "cell_type": "code",
   "execution_count": 72,
   "id": "04f18b96-94b8-46b8-a8a4-465d8df36e16",
   "metadata": {},
   "outputs": [
    {
     "data": {
      "text/plain": [
       "{'Maths': 67, 'English': 100, 'Science': 89, 'Hindi': 100, 'sst': 90}"
      ]
     },
     "execution_count": 72,
     "metadata": {},
     "output_type": "execute_result"
    }
   ],
   "source": [
    "dict(Marks_series)"
   ]
  },
  {
   "cell_type": "code",
   "execution_count": 73,
   "id": "77c487f9-74aa-4b7c-a15c-ec5e1c43286d",
   "metadata": {},
   "outputs": [
    {
     "data": {
      "text/plain": [
       "True"
      ]
     },
     "execution_count": 73,
     "metadata": {},
     "output_type": "execute_result"
    }
   ],
   "source": [
    "# Membership Operator\n",
    "'Company (film)' in df3"
   ]
  },
  {
   "cell_type": "code",
   "execution_count": 74,
   "id": "d32472b7-552f-4f74-88d2-b939d5d1c9fc",
   "metadata": {},
   "outputs": [
    {
     "data": {
      "text/plain": [
       "True"
      ]
     },
     "execution_count": 74,
     "metadata": {},
     "output_type": "execute_result"
    }
   ],
   "source": [
    "'Akshay Kumar' in df3.values"
   ]
  },
  {
   "cell_type": "code",
   "execution_count": 75,
   "id": "12f87477-58d0-4422-b027-4cbcb5b08a81",
   "metadata": {},
   "outputs": [
    {
     "name": "stdout",
     "output_type": "stream",
     "text": [
      "67\n",
      "100\n",
      "89\n",
      "100\n",
      "90\n"
     ]
    }
   ],
   "source": [
    "# looping\n",
    "for i in Marks_series:\n",
    "    print(i)"
   ]
  },
  {
   "cell_type": "code",
   "execution_count": 76,
   "id": "a9b33f80-3c47-4794-97a4-54b42f0eb069",
   "metadata": {},
   "outputs": [
    {
     "name": "stdout",
     "output_type": "stream",
     "text": [
      "Maths 67\n",
      "English 100\n",
      "Science 89\n",
      "Hindi 100\n",
      "sst 90\n",
      "<class 'pandas.core.series.Series'>\n"
     ]
    }
   ],
   "source": [
    "for index,value in Marks_series.items():\n",
    "    print(index,value)\n",
    "print(type(Marks_series))"
   ]
  },
  {
   "cell_type": "code",
   "execution_count": 77,
   "id": "ffa0c5bb-6890-44c5-a97d-a59933fd12f8",
   "metadata": {},
   "outputs": [
    {
     "data": {
      "text/plain": [
       "Maths      33\n",
       "English     0\n",
       "Science    11\n",
       "Hindi       0\n",
       "sst        10\n",
       "Name: A Student marks, dtype: int64"
      ]
     },
     "execution_count": 77,
     "metadata": {},
     "output_type": "execute_result"
    }
   ],
   "source": [
    "# Arithmetic Operators\n",
    "100 - Marks_series "
   ]
  },
  {
   "cell_type": "code",
   "execution_count": 78,
   "id": "f2ce2493-5545-4130-bc95-633f39cd2571",
   "metadata": {},
   "outputs": [
    {
     "data": {
      "text/plain": [
       "Maths      167\n",
       "English    200\n",
       "Science    189\n",
       "Hindi      200\n",
       "sst        190\n",
       "Name: A Student marks, dtype: int64"
      ]
     },
     "execution_count": 78,
     "metadata": {},
     "output_type": "execute_result"
    }
   ],
   "source": [
    "100 + Marks_series "
   ]
  },
  {
   "cell_type": "code",
   "execution_count": 79,
   "id": "51cb8f5a-f8df-428b-b984-9e8384ffacbf",
   "metadata": {},
   "outputs": [
    {
     "data": {
      "text/plain": [
       "Maths       6700\n",
       "English    10000\n",
       "Science     8900\n",
       "Hindi      10000\n",
       "sst         9000\n",
       "Name: A Student marks, dtype: int64"
      ]
     },
     "execution_count": 79,
     "metadata": {},
     "output_type": "execute_result"
    }
   ],
   "source": [
    "100 * Marks_series "
   ]
  },
  {
   "cell_type": "code",
   "execution_count": 80,
   "id": "6340ab09-40cb-411a-9efc-9623e9252d90",
   "metadata": {},
   "outputs": [
    {
     "data": {
      "text/plain": [
       "Maths      1.492537\n",
       "English    1.000000\n",
       "Science    1.123596\n",
       "Hindi      1.000000\n",
       "sst        1.111111\n",
       "Name: A Student marks, dtype: float64"
      ]
     },
     "execution_count": 80,
     "metadata": {},
     "output_type": "execute_result"
    }
   ],
   "source": [
    "100 / Marks_series "
   ]
  },
  {
   "cell_type": "code",
   "execution_count": 81,
   "id": "9316f9f8-338c-4639-b340-43ab3a4eff34",
   "metadata": {},
   "outputs": [
    {
     "data": {
      "text/plain": [
       "Maths      1\n",
       "English    1\n",
       "Science    1\n",
       "Hindi      1\n",
       "sst        1\n",
       "Name: A Student marks, dtype: int64"
      ]
     },
     "execution_count": 81,
     "metadata": {},
     "output_type": "execute_result"
    }
   ],
   "source": [
    "100 // Marks_series "
   ]
  },
  {
   "cell_type": "code",
   "execution_count": 82,
   "id": "9c16d41b-929d-42cc-99ef-71411ed1fb47",
   "metadata": {},
   "outputs": [
    {
     "data": {
      "text/plain": [
       "Maths      33\n",
       "English     0\n",
       "Science    11\n",
       "Hindi       0\n",
       "sst        10\n",
       "Name: A Student marks, dtype: int64"
      ]
     },
     "execution_count": 82,
     "metadata": {},
     "output_type": "execute_result"
    }
   ],
   "source": [
    "100 % Marks_series "
   ]
  },
  {
   "cell_type": "code",
   "execution_count": 83,
   "id": "125bdc59-590b-4b93-9fa8-c69b04ffcbb6",
   "metadata": {},
   "outputs": [
    {
     "name": "stdout",
     "output_type": "stream",
     "text": [
      "match_no\n",
      "15      50\n",
      "34      58\n",
      "41      71\n",
      "44      56\n",
      "45      67\n",
      "52      70\n",
      "57      57\n",
      "68      73\n",
      "71      51\n",
      "73      58\n",
      "74      65\n",
      "80      57\n",
      "81      93\n",
      "82      99\n",
      "85      56\n",
      "97      67\n",
      "99      73\n",
      "103     51\n",
      "104     62\n",
      "110     82\n",
      "116     75\n",
      "117     79\n",
      "119     80\n",
      "120    100\n",
      "122     52\n",
      "123    108\n",
      "126    109\n",
      "127     75\n",
      "128    113\n",
      "129     54\n",
      "131     54\n",
      "132     62\n",
      "134     64\n",
      "137     55\n",
      "141     58\n",
      "144     57\n",
      "145     92\n",
      "148     68\n",
      "152     70\n",
      "160     84\n",
      "162     67\n",
      "164    100\n",
      "175     72\n",
      "178     90\n",
      "182     50\n",
      "188     72\n",
      "197     51\n",
      "198     53\n",
      "209     58\n",
      "213     73\n",
      "Name: runs, dtype: int64\n"
     ]
    }
   ],
   "source": [
    "# Relational Operators\n",
    "print(df2[df2 >= 50])"
   ]
  },
  {
   "cell_type": "code",
   "execution_count": 84,
   "id": "cffc357a-df3a-482a-b4e5-3f74562f3e13",
   "metadata": {},
   "outputs": [
    {
     "data": {
      "text/plain": [
       "match_no\n",
       "1       True\n",
       "2      False\n",
       "3       True\n",
       "4       True\n",
       "5       True\n",
       "       ...  \n",
       "211     True\n",
       "212    False\n",
       "213    False\n",
       "214    False\n",
       "215     True\n",
       "Name: runs, Length: 215, dtype: bool"
      ]
     },
     "execution_count": 84,
     "metadata": {},
     "output_type": "execute_result"
    }
   ],
   "source": [
    "df2 <= 15"
   ]
  },
  {
   "cell_type": "code",
   "execution_count": 85,
   "id": "f9567765-6663-4e12-83d8-f088de195641",
   "metadata": {},
   "outputs": [
    {
     "data": {
      "text/plain": [
       "match_no\n",
       "1      False\n",
       "2      False\n",
       "3      False\n",
       "4      False\n",
       "5      False\n",
       "       ...  \n",
       "211    False\n",
       "212    False\n",
       "213    False\n",
       "214    False\n",
       "215    False\n",
       "Name: runs, Length: 215, dtype: bool"
      ]
     },
     "execution_count": 85,
     "metadata": {},
     "output_type": "execute_result"
    }
   ],
   "source": [
    "df2 == 30"
   ]
  },
  {
   "cell_type": "markdown",
   "id": "f28a8f02-940a-44ad-b4fe-6d9955a75b8e",
   "metadata": {},
   "source": [
    "### Boolean Indexing on Series"
   ]
  },
  {
   "cell_type": "code",
   "execution_count": 86,
   "id": "2cf094ac-b754-4cc3-a56a-eb05ca362594",
   "metadata": {},
   "outputs": [
    {
     "data": {
      "text/plain": [
       "50"
      ]
     },
     "execution_count": 86,
     "metadata": {},
     "output_type": "execute_result"
    }
   ],
   "source": [
    "# find no of 50's and 100's scored by kohli\n",
    "df2[df2 >= 50].size"
   ]
  },
  {
   "cell_type": "code",
   "execution_count": 87,
   "id": "3099102e-3ec3-43d3-830c-a8847f2f16e2",
   "metadata": {},
   "outputs": [
    {
     "data": {
      "text/plain": [
       "9"
      ]
     },
     "execution_count": 87,
     "metadata": {},
     "output_type": "execute_result"
    }
   ],
   "source": [
    "# find number of ducks\n",
    "df2[df2 == 0].size"
   ]
  },
  {
   "cell_type": "code",
   "execution_count": 88,
   "id": "b18352b2-9b92-488e-afa8-2d59765d0126",
   "metadata": {},
   "outputs": [
    {
     "data": {
      "text/plain": [
       "59"
      ]
     },
     "execution_count": 88,
     "metadata": {},
     "output_type": "execute_result"
    }
   ],
   "source": [
    "# count numbers of day when more than 200 subscibeers a day\n",
    "df[df > 200].size"
   ]
  },
  {
   "cell_type": "code",
   "execution_count": 89,
   "id": "58fb012e-49b7-400f-ab90-a6e573afb35f",
   "metadata": {},
   "outputs": [
    {
     "data": {
      "text/plain": [
       "lead\n",
       "Akshay Kumar        48\n",
       "Amitabh Bachchan    45\n",
       "Ajay Devgn          38\n",
       "Salman Khan         31\n",
       "Sanjay Dutt         26\n",
       "Shah Rukh Khan      22\n",
       "Emraan Hashmi       21\n",
       "Name: count, dtype: int64"
      ]
     },
     "execution_count": 89,
     "metadata": {},
     "output_type": "execute_result"
    }
   ],
   "source": [
    "# find actors who have done more than 20 movies\n",
    "num_movies = df3.value_counts()\n",
    "num_movies[num_movies > 20]"
   ]
  },
  {
   "cell_type": "markdown",
   "id": "475ce413-8b22-45d8-a319-9a11feecd588",
   "metadata": {},
   "source": [
    "### Plotting Graphs on Series"
   ]
  },
  {
   "cell_type": "code",
   "execution_count": 90,
   "id": "950092d5-571d-49a8-84a8-22e4b7592f63",
   "metadata": {},
   "outputs": [
    {
     "data": {
      "text/plain": [
       "<Axes: >"
      ]
     },
     "execution_count": 90,
     "metadata": {},
     "output_type": "execute_result"
    },
    {
     "data": {
      "image/png": "[encoded data removed]",
      "text/plain": [
       "<Figure size 640x480 with 1 Axes>"
      ]
     },
     "metadata": {},
     "output_type": "display_data"
    }
   ],
   "source": [
    "import matplotlib.pyplot as plt\n",
    "df\n",
    "df.plot()"
   ]
  },
  {
   "cell_type": "code",
   "execution_count": 91,
   "id": "33b86fb2-b6cb-4293-b200-bfeb37e31502",
   "metadata": {},
   "outputs": [
    {
     "data": {
      "text/plain": [
       "<Axes: xlabel='lead'>"
      ]
     },
     "execution_count": 91,
     "metadata": {},
     "output_type": "execute_result"
    },
    {
     "data": {
      "image/png": "[encoded data removed]",
      "text/plain": [
       "<Figure size 640x480 with 1 Axes>"
      ]
     },
     "metadata": {},
     "output_type": "display_data"
    }
   ],
   "source": [
    "df5 = df3.value_counts().head(20)\n",
    "df5.plot(kind= 'bar')"
   ]
  },
  {
   "cell_type": "code",
   "execution_count": 92,
   "id": "35c6e4bd-43e2-4a89-a946-1af274704303",
   "metadata": {},
   "outputs": [
    {
     "data": {
      "text/plain": [
       "<Axes: ylabel='count'>"
      ]
     },
     "execution_count": 92,
     "metadata": {},
     "output_type": "execute_result"
    },
    {
     "data": {
      "image/png": "[encoded data removed]",
      "text/plain": [
       "<Figure size 640x480 with 1 Axes>"
      ]
     },
     "metadata": {},
     "output_type": "display_data"
    }
   ],
   "source": [
    "df5.plot(kind = 'pie')"
   ]
  },
  {
   "cell_type": "code",
   "execution_count": null,
   "id": "3b8032a5-3fd8-4c1f-b1cb-ed1fa805d934",
   "metadata": {},
   "outputs": [],
   "source": []
  },
  {
   "cell_type": "code",
   "execution_count": null,
   "id": "49da06d0-cbf0-4f75-840b-bc559d8ce0be",
   "metadata": {},
   "outputs": [],
   "source": []
  },
  {
   "cell_type": "code",
   "execution_count": null,
   "id": "5d9a7205-39c5-4908-aefd-6ef64bc4b829",
   "metadata": {},
   "outputs": [],
   "source": []
  }
 ],
 "metadata": {
  "kernelspec": {
   "display_name": "Python 3 (ipykernel)",
   "language": "python",
   "name": "python3"
  },
  "language_info": {
   "codemirror_mode": {
    "name": "ipython",
    "version": 3
   },
   "file_extension": ".py",
   "mimetype": "text/x-python",
   "name": "python",
   "nbconvert_exporter": "python",
   "pygments_lexer": "ipython3",
   "version": "3.12.4"
  }
 },
 "nbformat": 4,
 "nbformat_minor": 5
}
