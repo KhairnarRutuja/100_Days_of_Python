{
 "cells": [
  {
   "cell_type": "markdown",
   "id": "e2acbb57",
   "metadata": {},
   "source": [
    "# INTRODUCTION OF PYTHON"
   ]
  },
  {
   "cell_type": "markdown",
   "id": "29291643",
   "metadata": {},
   "source": [
    "### What is pyhton?\n",
    "* Python is a popular Programming language.\n",
    "\n",
    "**1.Dynamically Typed:-** \n",
    "- Python is dynamically typed, meaning you don't need to declare the type of a variable when you create one. The type is inferred at runtime. \n",
    "\n",
    "**2. General Purpose:-**\n",
    "- Python is a general-purpose programming language, which means it can be used for a wide range of applications. Whether you're developing web applications, data analysis tools, artificial intelligence algorithms, scientific computing software, or anything else, Python can handle it.\n",
    "\n",
    "**3. Object-Oriented Programming (OOP):-**\n",
    "- Python supports object-oriented programming paradigms. You can define classes and create objects with properties and methods. \n",
    "\n",
    "**4. Interpreted and High-Level:-**\n",
    "- Python is an interpreted language, which means the code is executed line by line without the need for a separate compilation step. This makes the development process quicker and more interactive. Python is also high-level, which means it abstracts away many low-level details like memory management, making it easier to write and understand code.\n",
    "\n",
    "**5. Created by Guido van Rossum:-**\n",
    "- Python was created by Guido van Rossum in the late 1980s.\n",
    "\n",
    "**6. CWI (Centrum Wiskunde & Informatica):-**\n",
    "- Python's development started at CWI (Centrum Wiskunde & Informatica) in the Netherlands, where Guido van Rossum worked at the time."
   ]
  },
  {
   "cell_type": "markdown",
   "id": "d2cb83e4",
   "metadata": {},
   "source": [
    "### Features of Python\n",
    "\n",
    "**1. Simplicity and Ease of Understanding:-**\n",
    "- Python is designed to prioritize simplicity and readability.\n",
    "- Python is simple and easy to understand.\n",
    "\n",
    "**2. Interpreted and Platform-Independent:-**\n",
    "- Python is an interpreted language, which means that each line of code is executed one at a time, making debugging easier compared to compiled languages. Moreover, Python's interpreter is available on various platforms (such as Windows, macOS, Linux, etc.), allowing Python code to run seamlessly across different operating systems without modifications.\n",
    "\n",
    "**3. Open-Source:-**\n",
    "- Python is an open-source programming language, meaning its source code is freely available to the public.\n",
    "\n",
    "**4. Rich Library Support:-**\n",
    "- Python boasts an extensive standard library as well as a vast ecosystem of third-party libraries and frameworks. These libraries cover a wide range of functionalities, from scientific computing (e.g., NumPy, SciPy) and machine learning (e.g., TensorFlow, PyTorch) to web development (e.g., Django, Flask) and automation (e.g., Selenium, OpenCV). \n",
    "\n",
    "**5. Integration Capabilities:-** \n",
    "- Python's versatility extends to its ability to seamlessly integrate with other programming languages. \n",
    "-  Python can interact with libraries and components written in languages like C, C++, Java, and more. "
   ]
  },
  {
   "cell_type": "markdown",
   "id": "b10a12a5",
   "metadata": {},
   "source": [
    "### What is Python used for\n",
    "- Python is used in Data Visualization to create plots and graphical representations.\n",
    "- Python helps in Data Analytics to analyze and understand raw data for insights and trends.\n",
    "- It is used in AI and Machine Learning to simulate human behavior and to learn from past data without hard coding.\n",
    "- It is used to create web applications.\n",
    "- It can be used to handle databases.\n",
    "- It is used in business and accounting to perform complex mathematical operations along with quantitative and qualitative analysis."
   ]
  },
  {
   "cell_type": "markdown",
   "id": "7fed2e8e",
   "metadata": {},
   "source": [
    "## Modules and pip in python"
   ]
  },
  {
   "cell_type": "markdown",
   "id": "31adabc8",
   "metadata": {},
   "source": [
    "### Modules in Python:\n",
    "\n",
    "* Think of a module as a toolbox. Each toolbox (module) contains different tools (functions, variables, and classes) that you can use in your projects. There are two types of Modules:\n",
    "\n",
    "**1. Built-in Modules:**\n",
    "- These modules come pre-installed with Python. You can use them directly without needing to install anything extra.\n",
    "\n",
    "**2. External Modules:**\n",
    "- These are modules created by other developers and are not included with Python. You can easily bring them into your programs using a tool called pip.\n",
    "\n",
    "### pip:\n",
    "- \"Pip\" is a command-line tool that helps you manage external modules (packages) for your Python projects. "
   ]
  },
  {
   "cell_type": "markdown",
   "id": "26c193f6",
   "metadata": {},
   "source": [
    "# Basics of Python"
   ]
  },
  {
   "cell_type": "markdown",
   "id": "0b425ea4",
   "metadata": {},
   "source": [
    "### Print Statement\n",
    "* Any object and as many as you like will be converted to string before printed.\n",
    "- 'separator' specify how to seperate the objects if there is more than one.\n",
    "- 'end' specify what to print at the end."
   ]
  },
  {
   "cell_type": "code",
   "execution_count": 1,
   "id": "9b691b7b",
   "metadata": {},
   "outputs": [
    {
     "name": "stdout",
     "output_type": "stream",
     "text": [
      "Hello World\n"
     ]
    }
   ],
   "source": [
    "# Print \"Hello World\"\n",
    "print(\"Hello World\")"
   ]
  },
  {
   "cell_type": "code",
   "execution_count": 2,
   "id": "5d88cee3",
   "metadata": {},
   "outputs": [
    {
     "name": "stdout",
     "output_type": "stream",
     "text": [
      "5\n"
     ]
    }
   ],
   "source": [
    "print(5)"
   ]
  },
  {
   "cell_type": "code",
   "execution_count": 3,
   "id": "0008b2f0",
   "metadata": {},
   "outputs": [
    {
     "name": "stdout",
     "output_type": "stream",
     "text": [
      "Hello World 1 2\n"
     ]
    }
   ],
   "source": [
    "print(\"Hello World\", 1,2)"
   ]
  },
  {
   "cell_type": "code",
   "execution_count": 4,
   "id": "c1cba391",
   "metadata": {},
   "outputs": [
    {
     "name": "stdout",
     "output_type": "stream",
     "text": [
      "True\n"
     ]
    }
   ],
   "source": [
    "print(\"True\")"
   ]
  },
  {
   "cell_type": "code",
   "execution_count": 5,
   "id": "921163dc",
   "metadata": {},
   "outputs": [
    {
     "name": "stdout",
     "output_type": "stream",
     "text": [
      "221\n"
     ]
    }
   ],
   "source": [
    "print(17*13)"
   ]
  },
  {
   "cell_type": "code",
   "execution_count": 17,
   "id": "342bbfe8",
   "metadata": {},
   "outputs": [
    {
     "name": "stdout",
     "output_type": "stream",
     "text": [
      "Hey~6~7\n"
     ]
    }
   ],
   "source": [
    "print(\"Hey\",6,7, sep=\"~\")"
   ]
  },
  {
   "cell_type": "code",
   "execution_count": 27,
   "id": "a6aac716",
   "metadata": {},
   "outputs": [
    {
     "name": "stdout",
     "output_type": "stream",
     "text": [
      "Hello 2 3 Good morning"
     ]
    }
   ],
   "source": [
    "print(\"Hello\",2, 3, end=\" Good morning\")"
   ]
  },
  {
   "cell_type": "markdown",
   "id": "6b5b4e32",
   "metadata": {},
   "source": [
    "### Python Comments"
   ]
  },
  {
   "cell_type": "markdown",
   "id": "a8775eac",
   "metadata": {},
   "source": [
    "* A comment is a part of the coding file that the programmer does not want to execute rather the programmer uses it to either explain a block of code or to avoid the execution of a specific part of code while testing\n",
    "\n",
    "#### Single-Line Comments:\n",
    "* To write a comment just add a '#' at the start of the line"
   ]
  },
  {
   "cell_type": "code",
   "execution_count": 20,
   "id": "79938693",
   "metadata": {},
   "outputs": [
    {
     "name": "stdout",
     "output_type": "stream",
     "text": [
      "Hello World\n"
     ]
    }
   ],
   "source": [
    "# This is a 'single-line comment'\n",
    "print(\"Hello World\")"
   ]
  },
  {
   "cell_type": "markdown",
   "id": "32d2f5c1",
   "metadata": {},
   "source": [
    "#### Multi-Line Comments:\n",
    "* To write multi-Line comments you can use '#' at each line or you can use the multiline string"
   ]
  },
  {
   "cell_type": "code",
   "execution_count": 21,
   "id": "2afcf129",
   "metadata": {},
   "outputs": [],
   "source": [
    "# print(\"Hello good morning\")\n",
    "# print(\"Welcome to 100 days of python\")\n",
    "# print(\"Happy Learning\")"
   ]
  },
  {
   "cell_type": "markdown",
   "id": "579201b6",
   "metadata": {},
   "source": [
    "### Escape Sequence Character\n",
    "* To insert character that cannot be directly used in a string we use an escape sequence character.\n",
    "* An escape sequence character is a backslash \\ followed by the character you want to inset."
   ]
  },
  {
   "cell_type": "code",
   "execution_count": 22,
   "id": "4c13a0df",
   "metadata": {},
   "outputs": [
    {
     "ename": "SyntaxError",
     "evalue": "EOL while scanning string literal (2290529217.py, line 1)",
     "output_type": "error",
     "traceback": [
      "\u001b[1;36m  File \u001b[1;32m\"C:\\Users\\Hemant\\AppData\\Local\\Temp\\ipykernel_24128\\2290529217.py\"\u001b[1;36m, line \u001b[1;32m1\u001b[0m\n\u001b[1;33m    print(\"Hello Good Morning\u001b[0m\n\u001b[1;37m                             ^\u001b[0m\n\u001b[1;31mSyntaxError\u001b[0m\u001b[1;31m:\u001b[0m EOL while scanning string literal\n"
     ]
    }
   ],
   "source": [
    "print(\"Hello Good Morning\n",
    "      and How are you today?\") \n",
    "# If you're encountering an error when using the \\n escape sequence for a new line,"
   ]
  },
  {
   "cell_type": "code",
   "execution_count": 23,
   "id": "74b89307",
   "metadata": {},
   "outputs": [
    {
     "name": "stdout",
     "output_type": "stream",
     "text": [
      "Hello Good Morning\n",
      "and How are you today?\n"
     ]
    }
   ],
   "source": [
    "print(\"Hello Good Morning\\nand How are you today?\") "
   ]
  },
  {
   "cell_type": "code",
   "execution_count": 24,
   "id": "116475c7",
   "metadata": {},
   "outputs": [
    {
     "name": "stdout",
     "output_type": "stream",
     "text": [
      "Hello, \"Good morning\"\n",
      "welcome to 100 days of python\n"
     ]
    }
   ],
   "source": [
    "print(\"Hello, \\\"Good morning\\\"\\nwelcome to 100 days of python\" )"
   ]
  }
 ],
 "metadata": {
  "kernelspec": {
   "display_name": "Python 3 (ipykernel)",
   "language": "python",
   "name": "python3"
  },
  "language_info": {
   "codemirror_mode": {
    "name": "ipython",
    "version": 3
   },
   "file_extension": ".py",
   "mimetype": "text/x-python",
   "name": "python",
   "nbconvert_exporter": "python",
   "pygments_lexer": "ipython3",
   "version": "3.9.13"
  }
 },
 "nbformat": 4,
 "nbformat_minor": 5
}
