{
 "cells": [
  {
   "cell_type": "markdown",
   "id": "48e02d88",
   "metadata": {},
   "source": [
    "## Function\n",
    "Python Functions is a block of statements that return the specific task. The idea is to put some commonly or repeatedly done tasks together and make a function so that instead of writing the same code again and again for different inputs, we can do the function calls to reuse code contained in it over and over again."
   ]
  },
  {
   "cell_type": "markdown",
   "id": "db7c806f",
   "metadata": {},
   "source": [
    "### Create function"
   ]
  },
  {
   "cell_type": "code",
   "execution_count": 3,
   "id": "c6ae1d09",
   "metadata": {},
   "outputs": [],
   "source": [
    "def is_even(num):\n",
    "    \"\"\"\n",
    "    This Function returns if a given number is odd or even\n",
    "    input - any valid integer\n",
    "    output - odd/even\n",
    "    \"\"\"\n",
    "    if num % 2 == 0:\n",
    "        return \"Even\"\n",
    "    else:\n",
    "        return \"Odd\""
   ]
  },
  {
   "cell_type": "code",
   "execution_count": 8,
   "id": "7a45bc6a-82d6-4777-9089-97f3b76862e8",
   "metadata": {},
   "outputs": [
    {
     "name": "stdout",
     "output_type": "stream",
     "text": [
      "1 = Odd\n",
      "2 = Even\n",
      "3 = Odd\n",
      "4 = Even\n",
      "5 = Odd\n",
      "6 = Even\n",
      "7 = Odd\n",
      "8 = Even\n",
      "9 = Odd\n",
      "10 = Even\n"
     ]
    }
   ],
   "source": [
    "for i in range(1,11):\n",
    "    x = is_even(i)\n",
    "    print(i ,\"=\", x)"
   ]
  },
  {
   "cell_type": "code",
   "execution_count": 23,
   "id": "78f40406-ba0a-41eb-abf7-8cb9b846cacf",
   "metadata": {},
   "outputs": [
    {
     "name": "stdout",
     "output_type": "stream",
     "text": [
      "\n",
      "    This Function returns if a given number is odd or even\n",
      "    input - any valid integer\n",
      "    output - odd/even\n",
      "    \n"
     ]
    }
   ],
   "source": [
    "print(is_even.__doc__)"
   ]
  },
  {
   "cell_type": "markdown",
   "id": "d9e0f9ac-7610-42eb-94b1-73866c0d36fa",
   "metadata": {},
   "source": [
    "### Types of Arguments"
   ]
  },
  {
   "cell_type": "markdown",
   "id": "765ae9a7-9a34-4ace-a797-9bd9869b0251",
   "metadata": {},
   "source": [
    "#### Default Arguments\n",
    "These are arguments that have a default value. If no value is provided when the function is called, the default value is used."
   ]
  },
  {
   "cell_type": "code",
   "execution_count": 11,
   "id": "7d5bf8a6-4619-490d-851b-11926b0b9fbd",
   "metadata": {},
   "outputs": [],
   "source": [
    "def power(a=1,b=1):\n",
    "    return a**b"
   ]
  },
  {
   "cell_type": "code",
   "execution_count": 13,
   "id": "a432affd-1905-47c8-97a4-c376a6ab96da",
   "metadata": {},
   "outputs": [
    {
     "data": {
      "text/plain": [
       "1"
      ]
     },
     "execution_count": 13,
     "metadata": {},
     "output_type": "execute_result"
    }
   ],
   "source": [
    "power()"
   ]
  },
  {
   "cell_type": "code",
   "execution_count": 14,
   "id": "76559831-8d02-4546-92b2-c9bc652adedb",
   "metadata": {},
   "outputs": [
    {
     "data": {
      "text/plain": [
       "2"
      ]
     },
     "execution_count": 14,
     "metadata": {},
     "output_type": "execute_result"
    }
   ],
   "source": [
    "power(2)"
   ]
  },
  {
   "cell_type": "markdown",
   "id": "6e0307e6-d6dd-4a4c-a577-50e1038f8396",
   "metadata": {},
   "source": [
    "#### Positional Arguments\n",
    "These are the most common type. You pass arguments in the same order as the function parameters."
   ]
  },
  {
   "cell_type": "code",
   "execution_count": 15,
   "id": "399a706f-1e06-4a9b-b5ea-df7bec36a64b",
   "metadata": {},
   "outputs": [
    {
     "data": {
      "text/plain": [
       "8"
      ]
     },
     "execution_count": 15,
     "metadata": {},
     "output_type": "execute_result"
    }
   ],
   "source": [
    "power(2,3) # a = 2, b = 3"
   ]
  },
  {
   "cell_type": "markdown",
   "id": "1564947d-b61b-438b-8161-0e7cc54d9135",
   "metadata": {},
   "source": [
    "#### Keyword Arguments\n",
    "These allow you to specify values by the parameter name, making the order of arguments irrelevant."
   ]
  },
  {
   "cell_type": "code",
   "execution_count": 16,
   "id": "39e9e7f6-8268-4b26-a267-cb4fdc45da8b",
   "metadata": {},
   "outputs": [
    {
     "data": {
      "text/plain": [
       "8"
      ]
     },
     "execution_count": 16,
     "metadata": {},
     "output_type": "execute_result"
    }
   ],
   "source": [
    "power(b=3,a=2)"
   ]
  },
  {
   "cell_type": "markdown",
   "id": "66a2a89d-6605-46a0-8348-8ffe13fc99b4",
   "metadata": {},
   "source": [
    "### *args and **kwargs"
   ]
  },
  {
   "cell_type": "markdown",
   "id": "90038c5f-1ad9-49af-8f1a-f05057e9b189",
   "metadata": {},
   "source": [
    "- *args and **kwargs are special Python keywords that are used to pass a variable number of arguments to a function. They allow you to write flexible and reusable code by enabling your function to accept any number of arguments without explicitly defining them in advance."
   ]
  },
  {
   "cell_type": "markdown",
   "id": "ba12e039-4252-43d2-9758-dc99bf7696d6",
   "metadata": {},
   "source": [
    "#### *args\n",
    "- allows us to pass a variable numbers of non-kayword arguments to a function."
   ]
  },
  {
   "cell_type": "code",
   "execution_count": 20,
   "id": "39091c14-f11c-4aa4-a203-0b56de9962e7",
   "metadata": {},
   "outputs": [],
   "source": [
    "def multiply(*args):\n",
    "    product = 1\n",
    "    for i in args:\n",
    "        product = product * i\n",
    "    return product"
   ]
  },
  {
   "cell_type": "code",
   "execution_count": 21,
   "id": "ebf00bdd-f0d7-4f74-a2fa-5db61b67ebda",
   "metadata": {},
   "outputs": [
    {
     "data": {
      "text/plain": [
       "720"
      ]
     },
     "execution_count": 21,
     "metadata": {},
     "output_type": "execute_result"
    }
   ],
   "source": [
    "multiply(1,2,3,4,5,6)"
   ]
  },
  {
   "cell_type": "markdown",
   "id": "7556eda1-a570-4aa0-b329-bde3a7b96ec1",
   "metadata": {},
   "source": [
    "#### **kwargs\n",
    " **kwargs allows us to pass any number of keyword arguments. keyword arguments mean that they contain a key-value pair, like a python dictionary"
   ]
  },
  {
   "cell_type": "code",
   "execution_count": 29,
   "id": "d7678541-6f35-4c4a-b4a8-aaeb7a861287",
   "metadata": {},
   "outputs": [],
   "source": [
    "def display(**kwargs):\n",
    "\n",
    "    for (key,value) in kwargs.items():\n",
    "        print(key,'-->', value)\n",
    "    "
   ]
  },
  {
   "cell_type": "code",
   "execution_count": 30,
   "id": "6f523dd5-9bb8-4e61-99fb-160dfcd03294",
   "metadata": {},
   "outputs": [
    {
     "name": "stdout",
     "output_type": "stream",
     "text": [
      "India --> Delhi\n",
      "Shrilanka --> Colombo\n",
      "Nepal --> Kathmandu\n",
      "Pakistan --> islamabad\n"
     ]
    }
   ],
   "source": [
    "display(India='Delhi',Shrilanka ='Colombo',Nepal='Kathmandu',Pakistan='islamabad')"
   ]
  },
  {
   "cell_type": "markdown",
   "id": "5af52c72-3f92-4c6d-bfa2-f4dd1167b193",
   "metadata": {},
   "source": [
    "### Local and Global Variable"
   ]
  },
  {
   "cell_type": "markdown",
   "id": "fe77036f-5632-4c26-ba36-b4640d8cd094",
   "metadata": {},
   "source": [
    "#### Local Variables\n",
    "A local variable is defined inside a function or a block of code, and it is accessible only within that function or block."
   ]
  },
  {
   "cell_type": "markdown",
   "id": "83136041-e635-4bce-a299-f7ff296364d5",
   "metadata": {},
   "source": [
    "#### Global Variables\n",
    "A global variable is defined outside of all functions and is accessible from anywhere in the program, both inside and outside of functions."
   ]
  },
  {
   "cell_type": "code",
   "execution_count": 31,
   "id": "6eb8ae8a-fe2c-41e9-a221-e394d6bd4ab3",
   "metadata": {},
   "outputs": [
    {
     "name": "stdout",
     "output_type": "stream",
     "text": [
      "5\n",
      "6\n",
      "5\n"
     ]
    }
   ],
   "source": [
    "def g(y):\n",
    "    print(x)\n",
    "    print(x+1)\n",
    "x = 5\n",
    "g(x)\n",
    "print(x)"
   ]
  },
  {
   "cell_type": "code",
   "execution_count": 32,
   "id": "cf0ddda9-3731-4fa9-9dda-3ad9d1bbccfe",
   "metadata": {},
   "outputs": [
    {
     "name": "stdout",
     "output_type": "stream",
     "text": [
      "2\n",
      "5\n"
     ]
    }
   ],
   "source": [
    "def f(y):\n",
    "    x = 1\n",
    "    x += 1\n",
    "    print(x)\n",
    "x = 5\n",
    "f(x)\n",
    "print(x)"
   ]
  },
  {
   "cell_type": "code",
   "execution_count": 34,
   "id": "dd0ee16c-f9f3-41eb-86c7-ae38de90478a",
   "metadata": {},
   "outputs": [
    {
     "name": "stdout",
     "output_type": "stream",
     "text": [
      "6\n"
     ]
    }
   ],
   "source": [
    "def h(y):\n",
    "    global x\n",
    "    x += 1\n",
    "x = 5\n",
    "h(x)\n",
    "print(x)"
   ]
  },
  {
   "cell_type": "code",
   "execution_count": 36,
   "id": "7836fecb-5ede-4ea6-995c-bb3217576d9c",
   "metadata": {},
   "outputs": [
    {
     "name": "stdout",
     "output_type": "stream",
     "text": [
      "in f(x): x= 4\n",
      "4\n",
      "3\n"
     ]
    }
   ],
   "source": [
    "def f(x):\n",
    "    x = x + 1\n",
    "    print('in f(x): x=',x)\n",
    "    return x\n",
    "x = 3\n",
    "z = f(x)\n",
    "print(z)\n",
    "print(x)"
   ]
  },
  {
   "cell_type": "markdown",
   "id": "632de1e1-cc85-46ce-a08a-51dfdf2fab1a",
   "metadata": {},
   "source": [
    "### Nested Function"
   ]
  },
  {
   "cell_type": "code",
   "execution_count": 47,
   "id": "3dcf825d-073e-4907-a8aa-1a4937e050dd",
   "metadata": {},
   "outputs": [],
   "source": [
    "def f():\n",
    "    def g():\n",
    "        print(\"Inside function g\")\n",
    "    g()\n",
    "    print(\"Inside function f\")"
   ]
  },
  {
   "cell_type": "code",
   "execution_count": 48,
   "id": "100cc071-368d-4d2c-86ff-df6dc9722078",
   "metadata": {},
   "outputs": [
    {
     "name": "stdout",
     "output_type": "stream",
     "text": [
      "Inside function g\n",
      "Inside function f\n"
     ]
    }
   ],
   "source": [
    "f()"
   ]
  },
  {
   "cell_type": "code",
   "execution_count": 49,
   "id": "f0712cdf-952e-488c-bd2b-c19f9dcf297a",
   "metadata": {},
   "outputs": [
    {
     "name": "stdout",
     "output_type": "stream",
     "text": [
      "in g(x): x 4\n"
     ]
    }
   ],
   "source": [
    "def g(x):\n",
    "    def h():\n",
    "        x = 'abc'\n",
    "    x = x + 1\n",
    "    print('in g(x): x',x)\n",
    "    h()\n",
    "    return x\n",
    "x = 3\n",
    "z = g(x)"
   ]
  },
  {
   "cell_type": "code",
   "execution_count": 50,
   "id": "a9f5a805-33ea-440d-8a62-8e51d7569730",
   "metadata": {},
   "outputs": [
    {
     "name": "stdout",
     "output_type": "stream",
     "text": [
      "in g(x): x = 4\n",
      "in h(x): x =  5\n",
      "3\n",
      "4\n"
     ]
    }
   ],
   "source": [
    "def g(x):\n",
    "    def h(x):\n",
    "        x = x + 1\n",
    "        print('in h(x): x = ', x)\n",
    "    x = x + 1\n",
    "    print('in g(x): x =' , x)\n",
    "    h(x)\n",
    "    return x\n",
    "x = 3\n",
    "z = g(x)\n",
    "print(x)\n",
    "print(z)"
   ]
  },
  {
   "cell_type": "markdown",
   "id": "f4620c27-7e9c-48a2-88b1-76b948727bc3",
   "metadata": {},
   "source": [
    "### Function is 1st class citizen"
   ]
  },
  {
   "cell_type": "code",
   "execution_count": 51,
   "id": "83b79203-e43e-4dd4-a2d8-6cd0cdf05476",
   "metadata": {},
   "outputs": [],
   "source": [
    "def square(num):\n",
    "    return num**2"
   ]
  },
  {
   "cell_type": "code",
   "execution_count": 54,
   "id": "14855d41-4356-4bc3-8e64-cf9f253779b5",
   "metadata": {},
   "outputs": [
    {
     "data": {
      "text/plain": [
       "function"
      ]
     },
     "execution_count": 54,
     "metadata": {},
     "output_type": "execute_result"
    }
   ],
   "source": [
    "# type\n",
    "type(square)"
   ]
  },
  {
   "cell_type": "code",
   "execution_count": 55,
   "id": "0e839da1-5653-4938-ab95-04f9efc3b56a",
   "metadata": {},
   "outputs": [
    {
     "data": {
      "text/plain": [
       "2132145908896"
      ]
     },
     "execution_count": 55,
     "metadata": {},
     "output_type": "execute_result"
    }
   ],
   "source": [
    "# id\n",
    "id(square)"
   ]
  },
  {
   "cell_type": "code",
   "execution_count": 57,
   "id": "bbf129f6-5ce5-4764-a7cb-5ae95f00a134",
   "metadata": {},
   "outputs": [
    {
     "data": {
      "text/plain": [
       "<function __main__.square(num)>"
      ]
     },
     "execution_count": 57,
     "metadata": {},
     "output_type": "execute_result"
    }
   ],
   "source": [
    "# reassign\n",
    "x = square\n",
    "x"
   ]
  },
  {
   "cell_type": "code",
   "execution_count": 58,
   "id": "e991f6df-82fb-40e2-849a-b454a555a494",
   "metadata": {},
   "outputs": [],
   "source": [
    "# deleting\n",
    "del square"
   ]
  },
  {
   "cell_type": "code",
   "execution_count": 59,
   "id": "1d45ad07-cea2-4a5b-93c6-8fb699627c67",
   "metadata": {},
   "outputs": [],
   "source": [
    "def square(num):\n",
    "    return num**2"
   ]
  },
  {
   "cell_type": "code",
   "execution_count": 60,
   "id": "b20018b2-9123-48fe-9f72-0fc8155a3f97",
   "metadata": {},
   "outputs": [
    {
     "data": {
      "text/plain": [
       "[1, 2, 3, 4, <function __main__.square(num)>]"
      ]
     },
     "execution_count": 60,
     "metadata": {},
     "output_type": "execute_result"
    }
   ],
   "source": [
    "# storing\n",
    "L = [1,2,3,4,square]\n",
    "L"
   ]
  },
  {
   "cell_type": "code",
   "execution_count": 63,
   "id": "14582a25-6a12-402b-a3bc-f57789c07b48",
   "metadata": {},
   "outputs": [
    {
     "data": {
      "text/plain": [
       "9"
      ]
     },
     "execution_count": 63,
     "metadata": {},
     "output_type": "execute_result"
    }
   ],
   "source": [
    "L[-1](3)"
   ]
  },
  {
   "cell_type": "markdown",
   "id": "d5739442-d61b-4fac-b512-173e87ea0ae5",
   "metadata": {},
   "source": [
    "## Lambda Function"
   ]
  },
  {
   "cell_type": "markdown",
   "id": "198ae8cd-c5a3-4b8f-bbe7-d287b215d43b",
   "metadata": {},
   "source": [
    "A lambda function is a small anonymous function\n",
    "A lambda function can take any number of arguments but can only have one expression"
   ]
  },
  {
   "cell_type": "code",
   "execution_count": 68,
   "id": "f591bdce-c669-4b0a-bb09-79cb80f52282",
   "metadata": {},
   "outputs": [
    {
     "data": {
      "text/plain": [
       "4"
      ]
     },
     "execution_count": 68,
     "metadata": {},
     "output_type": "execute_result"
    }
   ],
   "source": [
    "a = lambda x:x**2\n",
    "a(2)"
   ]
  },
  {
   "cell_type": "code",
   "execution_count": 69,
   "id": "8b9ea703-9be6-4882-ba7c-85a6b17ebb9b",
   "metadata": {},
   "outputs": [
    {
     "data": {
      "text/plain": [
       "9"
      ]
     },
     "execution_count": 69,
     "metadata": {},
     "output_type": "execute_result"
    }
   ],
   "source": [
    "b = lambda a,b: a+b\n",
    "b(4,5)"
   ]
  },
  {
   "cell_type": "code",
   "execution_count": 72,
   "id": "a73b2952-3d7d-4505-aeb9-47a2006b18e2",
   "metadata": {},
   "outputs": [
    {
     "data": {
      "text/plain": [
       "False"
      ]
     },
     "execution_count": 72,
     "metadata": {},
     "output_type": "execute_result"
    }
   ],
   "source": [
    "c = lambda str1: \"a\" in str1\n",
    "c(\"Hello\")"
   ]
  },
  {
   "cell_type": "code",
   "execution_count": 73,
   "id": "3433a01a-677a-467c-9e4c-b2c99d716b65",
   "metadata": {},
   "outputs": [
    {
     "data": {
      "text/plain": [
       "'even'"
      ]
     },
     "execution_count": 73,
     "metadata": {},
     "output_type": "execute_result"
    }
   ],
   "source": [
    "d = lambda x: 'even' if x % 2 == 0 else 'odd'\n",
    "d(2)"
   ]
  },
  {
   "cell_type": "markdown",
   "id": "cba65e8c-c540-466a-bf24-c3683d93140b",
   "metadata": {},
   "source": [
    "### Higher Order Function"
   ]
  },
  {
   "cell_type": "code",
   "execution_count": 77,
   "id": "c55c39fe-79bd-45ce-ace0-a4297ca842ac",
   "metadata": {},
   "outputs": [
    {
     "name": "stdout",
     "output_type": "stream",
     "text": [
      "[1, 4, 9, 16, 25]\n"
     ]
    }
   ],
   "source": [
    "def transform(f,L):\n",
    "    output = []\n",
    "    for i in L:\n",
    "        output.append(f(i))\n",
    "    print(output)\n",
    "L = [1,2,3,4,5]\n",
    "transform(lambda x:x**2,L)"
   ]
  },
  {
   "cell_type": "markdown",
   "id": "42f964b4-3b69-42de-9e73-5033028348e1",
   "metadata": {},
   "source": [
    "### Map"
   ]
  },
  {
   "cell_type": "markdown",
   "id": "146640e0-0df5-4205-88f6-4082fa1d2843",
   "metadata": {},
   "source": [
    "The map() function applies a given function to each item in an iterable (like a list) and returns an iterator with the results."
   ]
  },
  {
   "cell_type": "code",
   "execution_count": 80,
   "id": "5006ca73-1830-4f8a-b137-764e8c553434",
   "metadata": {},
   "outputs": [
    {
     "data": {
      "text/plain": [
       "[1, 4, 9, 16, 25]"
      ]
     },
     "execution_count": 80,
     "metadata": {},
     "output_type": "execute_result"
    }
   ],
   "source": [
    "# square the items of a list\n",
    "list(map(lambda x:x**2,[1,2,3,4,5]))"
   ]
  },
  {
   "cell_type": "code",
   "execution_count": 81,
   "id": "23ddcfed-1424-4322-acf4-147d784bfdff",
   "metadata": {},
   "outputs": [
    {
     "data": {
      "text/plain": [
       "['odd', 'even', 'odd', 'even', 'odd', 'even']"
      ]
     },
     "execution_count": 81,
     "metadata": {},
     "output_type": "execute_result"
    }
   ],
   "source": [
    "# odd/even labelling of list items\n",
    "list(map(lambda x: 'even' if x % 2 == 0 else 'odd',[1,2,3,4,5,6]))"
   ]
  },
  {
   "cell_type": "code",
   "execution_count": 83,
   "id": "e494d558-3c87-4f4b-84b0-ea8ccd21d96a",
   "metadata": {},
   "outputs": [
    {
     "data": {
      "text/plain": [
       "['male', 'male', 'female']"
      ]
     },
     "execution_count": 83,
     "metadata": {},
     "output_type": "execute_result"
    }
   ],
   "source": [
    "# fetch names from a list of dict\n",
    "users = [\n",
    "    {\n",
    "        'name':'A',\n",
    "        'age':45,\n",
    "        'gender':'male'\n",
    "    },\n",
    "    {\n",
    "        'name':'B',\n",
    "        'age' : 33,\n",
    "        'gender':'male'\n",
    "    },\n",
    "    {\n",
    "        'name':'C',\n",
    "        'age':50,\n",
    "        'gender':'female'\n",
    "    }\n",
    "]\n",
    "list(map(lambda users: users['gender'],users))"
   ]
  },
  {
   "cell_type": "markdown",
   "id": "6070b2c5-75c5-459e-9242-7291f0df9693",
   "metadata": {},
   "source": [
    "### Filter"
   ]
  },
  {
   "cell_type": "markdown",
   "id": "5295a8b3-7ab0-46df-89c3-a3566982c0b6",
   "metadata": {},
   "source": [
    "The filter() function filters items in an iterable based on a given condition (a function that returns True or False). It only keeps elements that satisfy the condition."
   ]
  },
  {
   "cell_type": "code",
   "execution_count": 84,
   "id": "ff2da0fe-c767-4570-a914-bb98a0a187ba",
   "metadata": {},
   "outputs": [
    {
     "data": {
      "text/plain": [
       "[6, 7, 8, 9, 10]"
      ]
     },
     "execution_count": 84,
     "metadata": {},
     "output_type": "execute_result"
    }
   ],
   "source": [
    "# numbers greater than 5\n",
    "list(filter(lambda x:x>5,[1,2,3,4,5,6,7,8,9,10]))"
   ]
  },
  {
   "cell_type": "code",
   "execution_count": 85,
   "id": "31cfe2ea-aa1b-4de3-b9f3-e6ff862ae240",
   "metadata": {},
   "outputs": [
    {
     "data": {
      "text/plain": [
       "['apple']"
      ]
     },
     "execution_count": 85,
     "metadata": {},
     "output_type": "execute_result"
    }
   ],
   "source": [
    "# fetch fruits starting with 'a'\n",
    "fruits = ['apple','guava','cherry']\n",
    "list(filter(lambda x:x.startswith('a'),fruits))"
   ]
  },
  {
   "cell_type": "markdown",
   "id": "9c40ca9b-dd44-49de-8d66-9197183d01fa",
   "metadata": {},
   "source": [
    "### Reduce"
   ]
  },
  {
   "cell_type": "markdown",
   "id": "6417ee52-254a-4880-8ce6-d6ff2ee56d83",
   "metadata": {},
   "source": [
    "The reduce() function applies a binary function (a function taking two arguments) cumulatively to the items in an iterable, reducing the iterable to a single value. It is part of the functools module."
   ]
  },
  {
   "cell_type": "code",
   "execution_count": 86,
   "id": "020b33a4-1742-4bc6-b5f8-3aab59c37429",
   "metadata": {},
   "outputs": [
    {
     "data": {
      "text/plain": [
       "15"
      ]
     },
     "execution_count": 86,
     "metadata": {},
     "output_type": "execute_result"
    }
   ],
   "source": [
    "# sum of all items\n",
    "import functools\n",
    "functools.reduce(lambda x,y:x+y,[1,2,3,4,5])"
   ]
  },
  {
   "cell_type": "code",
   "execution_count": 88,
   "id": "75e17751-0108-47e8-8ce2-d0fec9e28e64",
   "metadata": {},
   "outputs": [
    {
     "data": {
      "text/plain": [
       "1"
      ]
     },
     "execution_count": 88,
     "metadata": {},
     "output_type": "execute_result"
    }
   ],
   "source": [
    "# find min\n",
    "functools.reduce(lambda x,y:x if x<y else y,[23,11,45,10,1])"
   ]
  },
  {
   "cell_type": "code",
   "execution_count": null,
   "id": "61f367c1-c00f-4342-828e-e8aa4bd7207e",
   "metadata": {},
   "outputs": [],
   "source": []
  }
 ],
 "metadata": {
  "kernelspec": {
   "display_name": "Python 3 (ipykernel)",
   "language": "python",
   "name": "python3"
  },
  "language_info": {
   "codemirror_mode": {
    "name": "ipython",
    "version": 3
   },
   "file_extension": ".py",
   "mimetype": "text/x-python",
   "name": "python",
   "nbconvert_exporter": "python",
   "pygments_lexer": "ipython3",
   "version": "3.12.4"
  }
 },
 "nbformat": 4,
 "nbformat_minor": 5
}
