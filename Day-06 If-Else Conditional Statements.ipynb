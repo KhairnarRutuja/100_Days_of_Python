{
 "cells": [
  {
   "cell_type": "markdown",
   "id": "73e395b3",
   "metadata": {},
   "source": [
    "# If - Else Condition Statements"
   ]
  },
  {
   "cell_type": "markdown",
   "id": "862bd34d",
   "metadata": {},
   "source": [
    "In programming, conditional statements allow you to execute different blocks of code based on whether a certain condition evaluates to true or false. This enables programs to make decisions and perform different actions depending on the situation.\n",
    "### The if-else Statement:\n",
    "The if-else statement is one of the fundamental conditional statements in Python. It is used to check a condition and execute a block of code only if that condition is true."
   ]
  },
  {
   "cell_type": "markdown",
   "id": "32171878",
   "metadata": {},
   "source": [
    "### Indentation in Python\n",
    "For the ease of programming and to achieve simplicity, python doesn't allow the use of parentheses for the block level code. In Python, indentation is used to declare a block. If two statements are at the same indentation level, then they are the part of the same block."
   ]
  },
  {
   "cell_type": "markdown",
   "id": "9d13dda5",
   "metadata": {},
   "source": [
    "### write a program to check whether a person is eligible for voting or not"
   ]
  },
  {
   "cell_type": "code",
   "execution_count": 1,
   "id": "81873c9c",
   "metadata": {},
   "outputs": [
    {
     "name": "stdout",
     "output_type": "stream",
     "text": [
      "Enter your age: 24\n",
      "You can vote\n"
     ]
    }
   ],
   "source": [
    "voting_age = int(input(\"Enter your age: \"))\n",
    "\n",
    "if voting_age < 18:\n",
    "    print(\"You are not eligible for voting\")\n",
    "elif voting_age == 18:\n",
    "    print(\"You are eligible for voting\")\n",
    "elif voting_age > 18:\n",
    "    print(\"You can vote\")\n",
    "else:\n",
    "    print(\"Invalid age\")"
   ]
  },
  {
   "cell_type": "markdown",
   "id": "ebeb033a",
   "metadata": {},
   "source": [
    "### Write a program to check whether a number entered by user is even or odd"
   ]
  },
  {
   "cell_type": "code",
   "execution_count": 2,
   "id": "f30dfa06",
   "metadata": {},
   "outputs": [
    {
     "name": "stdout",
     "output_type": "stream",
     "text": [
      "Enter the number: 45\n",
      "The given number is odd\n"
     ]
    }
   ],
   "source": [
    "number = int(input(\"Enter the number: \"))\n",
    "\n",
    "if number % 2 == 0:\n",
    "    print(\"The given number is even\")\n",
    "else:\n",
    "    print(\"The given number is odd\")"
   ]
  },
  {
   "cell_type": "markdown",
   "id": "cfd93f3b",
   "metadata": {},
   "source": [
    "### write a program to check whether a number is divisible by 7 or not"
   ]
  },
  {
   "cell_type": "code",
   "execution_count": 3,
   "id": "d8ba8bb9",
   "metadata": {},
   "outputs": [
    {
     "name": "stdout",
     "output_type": "stream",
     "text": [
      "Enter the number: 49\n",
      "The given number is divisible by 7\n"
     ]
    }
   ],
   "source": [
    "num = int(input(\"Enter the number: \"))\n",
    "\n",
    "if num % 7 == 0:\n",
    "    print(\"The given number is divisible by 7\")\n",
    "else:\n",
    "    print(\"Not divisible by 7\")"
   ]
  },
  {
   "cell_type": "markdown",
   "id": "65086db3",
   "metadata": {},
   "source": [
    "### write a program to display \"Hello\" if a number entered by user is a multiple of five"
   ]
  },
  {
   "cell_type": "code",
   "execution_count": 4,
   "id": "f9fc46f5",
   "metadata": {},
   "outputs": [
    {
     "name": "stdout",
     "output_type": "stream",
     "text": [
      "Enter your number: 25\n",
      "Hello\n"
     ]
    }
   ],
   "source": [
    "A = int(input(\"Enter your number: \"))\n",
    "\n",
    "if A * 5 :\n",
    "    print(\"Hello\")\n",
    "else:\n",
    "    print(\"Bye\")"
   ]
  },
  {
   "cell_type": "markdown",
   "id": "42c5c2f3",
   "metadata": {},
   "source": [
    "### write a program to accept percentage from the user and display the grade"
   ]
  },
  {
   "cell_type": "code",
   "execution_count": 5,
   "id": "11932911",
   "metadata": {},
   "outputs": [
    {
     "name": "stdout",
     "output_type": "stream",
     "text": [
      "Enter your marks: 89\n",
      "Your grade is: \"B\"\n",
      "Pass\n",
      "Very Good\n",
      "Thank you\n"
     ]
    }
   ],
   "source": [
    "marks = int(input(\"Enter your marks: \"))\n",
    "\n",
    "if marks >= 90:\n",
    "    print('Your grade is: \"A\"\\nPass\\nExcellent\\nThank you')\n",
    "elif marks > 80 and marks <= 90:\n",
    "    print('Your grade is: \"B\"\\nPass\\nVery Good\\nThank you')\n",
    "elif marks >= 60 and marks <= 80:\n",
    "    print('Your grade is: \"C\"\\nPass\\nGood\\nThank you')\n",
    "elif marks >= 50 and marks < 60:\n",
    "    print('Your grade is: \"D\"\\nPass\\nMarginal\\nThank you')\n",
    "else:\n",
    "    print(\"You are Fail\")"
   ]
  },
  {
   "cell_type": "markdown",
   "id": "43cf6ddd",
   "metadata": {},
   "source": [
    "### write a program to accept the cost price of a bike and display the road tax to be paid"
   ]
  },
  {
   "cell_type": "code",
   "execution_count": 6,
   "id": "5e497f11",
   "metadata": {},
   "outputs": [
    {
     "name": "stdout",
     "output_type": "stream",
     "text": [
      "Enter your cost price in(rs): 150000\n",
      "The Road Tax is : 15% \n"
     ]
    }
   ],
   "source": [
    "bike_cost = int(input(\"Enter your cost price in(rs): \"))\n",
    "\n",
    "if bike_cost > 100000:\n",
    "    print(\"The Road Tax is : 15% \")\n",
    "elif bike_cost > 50000 and bike_cost <= 100000:\n",
    "    print(\"The Road Tax is : 10% \")\n",
    "elif bike_cost<=50000:\n",
    "    print(\"The Road Tax is : 5% \")"
   ]
  },
  {
   "cell_type": "markdown",
   "id": "0f24f9b7",
   "metadata": {},
   "source": [
    "### write a program to check whether an years is leap year or not"
   ]
  },
  {
   "cell_type": "code",
   "execution_count": 7,
   "id": "8440b704",
   "metadata": {},
   "outputs": [
    {
     "name": "stdout",
     "output_type": "stream",
     "text": [
      "Enter the year: 2024\n",
      "This 2024 year is leap year.\n"
     ]
    }
   ],
   "source": [
    "year = int(input(\"Enter the year: \"))\n",
    "\n",
    "if year % 4 == 0:\n",
    "    print(\"This {} year is leap year.\".format(year))\n",
    "else:\n",
    "    print(\"This is not leap year.\")"
   ]
  },
  {
   "cell_type": "markdown",
   "id": "17f30cd3",
   "metadata": {},
   "source": [
    "### write a program to accept a number from 1 to 7 and display the name of the day like 1 for sunday 2 for monday and so on"
   ]
  },
  {
   "cell_type": "code",
   "execution_count": 8,
   "id": "3df39075",
   "metadata": {},
   "outputs": [
    {
     "name": "stdout",
     "output_type": "stream",
     "text": [
      "Enter a day 1 to 7: 5\n",
      "Thursday\n"
     ]
    }
   ],
   "source": [
    "nu = int(input(\"Enter a day 1 to 7: \")) \n",
    "\n",
    "if nu == 1:\n",
    "    print(\"Sunday\")\n",
    "elif nu == 2:\n",
    "    print(\"Monday\")\n",
    "elif nu == 3:\n",
    "    print(\"Tuesday\")\n",
    "elif nu == 4:\n",
    "    print(\"wednesday\")\n",
    "elif nu == 5:\n",
    "    print(\"Thursday\")\n",
    "elif nu == 6:\n",
    "    print(\"Friday\")\n",
    "else:\n",
    "    print(\"Saturday\")\n",
    "        "
   ]
  },
  {
   "cell_type": "markdown",
   "id": "428d928a",
   "metadata": {},
   "source": [
    "### write the logical expression which is maximum number"
   ]
  },
  {
   "cell_type": "code",
   "execution_count": 9,
   "id": "d52ab650",
   "metadata": {},
   "outputs": [
    {
     "name": "stdout",
     "output_type": "stream",
     "text": [
      "Enter first number: 5\n",
      "Enter second number: 6\n",
      "Enter third number: 7\n",
      "Maximum number: 7\n"
     ]
    }
   ],
   "source": [
    "a = int(input(\"Enter first number: \"))\n",
    "b = int(input(\"Enter second number: \"))\n",
    "c = int(input(\"Enter third number: \"))\n",
    "\n",
    "if a > b and a > c:\n",
    "    print(\"Maximum number:\", a)\n",
    "elif b > a and b > c:\n",
    "    print(\"Maximum number:\", b)\n",
    "elif c > a and c > b:\n",
    "    print(\"Maximum number:\", c)\n",
    "else:\n",
    "    print(\"Numbers are equal.\")"
   ]
  },
  {
   "cell_type": "markdown",
   "id": "f77d3547",
   "metadata": {},
   "source": [
    "### write the logical expression which is minumum number"
   ]
  },
  {
   "cell_type": "code",
   "execution_count": 30,
   "id": "a6d8ca89",
   "metadata": {},
   "outputs": [
    {
     "name": "stdout",
     "output_type": "stream",
     "text": [
      "Enter first number: 45\n",
      "Enter second number: 45\n",
      "Enter third number: 45\n",
      "Numbers are equal\n"
     ]
    }
   ],
   "source": [
    "a = int(input(\"Enter first number: \"))\n",
    "b = int(input(\"Enter second number: \"))\n",
    "c = int(input(\"Enter third number: \"))\n",
    "\n",
    "if a < b and a < c:\n",
    "    print(\"Minimum number is:\", a)\n",
    "elif b < c and b < a:  # corrected the condition\n",
    "    print(\"Minimum number is:\", b)\n",
    "elif c < a and c < b:  # corrected the condition\n",
    "    print(\"Minimum number is:\", c)\n",
    "else:\n",
    "    print(\"Numbers are equal\")"
   ]
  },
  {
   "cell_type": "code",
   "execution_count": 10,
   "id": "b80881e2",
   "metadata": {},
   "outputs": [
    {
     "name": "stdout",
     "output_type": "stream",
     "text": [
      "Enter the character: e\n",
      "Enter character is vowels\n"
     ]
    }
   ],
   "source": [
    "p = str(input(\"Enter the character: \"))\n",
    "vowels = \"aeiouAEIOU\"\n",
    "\n",
    "if p in vowels:\n",
    "    print(\"Enter character is vowels\")\n",
    "else:\n",
    "    print(\"Enter character is consonant\")"
   ]
  },
  {
   "cell_type": "markdown",
   "id": "47c47947",
   "metadata": {},
   "source": [
    "### Write a email login program "
   ]
  },
  {
   "cell_type": "code",
   "execution_count": 23,
   "id": "adcd0b9c",
   "metadata": {},
   "outputs": [
    {
     "name": "stdout",
     "output_type": "stream",
     "text": [
      "Enter your Email_Id rutuja.khairnar@gmail.com\n",
      "Enter your Password 1234@Rutuja\n",
      "Welcome to our Website\n"
     ]
    }
   ],
   "source": [
    "Email_Id = input(\"Enter your Email_Id \")\n",
    "Password = input(\"Enter your Password \")\n",
    "\n",
    "if Email_Id == \"rutuja.khairnar@gmail.com\" and Password == '1234@Rutuja':\n",
    "    print(\"Welcome to our Website\")\n",
    "elif Email_Id == \"rutuja.khairnar@gmail.com\" and Password != '1234@Rutuja':\n",
    "    print(\"Incorrect Password\")\n",
    "    Password = input(\"Enter password again\")\n",
    "    if Password == \"1234@Rutuja\":\n",
    "        print(\"Welcome,Finally!\")\n",
    "    else:\n",
    "        print(\"Beta tumse na ho Payega!\")\n",
    "else:\n",
    "    print(\"Invalid Email_ID and Password\")"
   ]
  },
  {
   "cell_type": "markdown",
   "id": "a5fec050",
   "metadata": {},
   "source": [
    "### Making Calculator"
   ]
  },
  {
   "cell_type": "code",
   "execution_count": 4,
   "id": "29ee89d8",
   "metadata": {},
   "outputs": [
    {
     "name": "stdout",
     "output_type": "stream",
     "text": [
      "Enter the first number: 56\n",
      "Enter the second number: 45\n",
      "Enter the operation/\n",
      "division of two numbers:  1.2444444444444445\n"
     ]
    }
   ],
   "source": [
    "first_num = int(input(\"Enter the first number: \"))\n",
    "second_num = int(input(\"Enter the second number: \"))\n",
    "\n",
    "operator = input(\"Enter the operation\")\n",
    "\n",
    "if operator == '+':\n",
    "    print(\"Addition of two numbers: \",first_num + second_num)\n",
    "elif operator == '-':\n",
    "    print(\"substraction of two numbers: \",first_num - second_num)\n",
    "elif operator == '*':\n",
    "    print(\"multiplication of two numbers: \",first_num * second_num)\n",
    "elif operator == '/':\n",
    "    print(\"division of two numbers: \",first_num / second_num)\n",
    "elif operator == \"%\":\n",
    "    print(\"modulous of two numbers: \",first_num % second_num)\n",
    "elif operator == '**':\n",
    "    print(\"exponentiation of two numbers: \",first_num ** second_num)\n",
    "else:\n",
    "    print(\"Invalid number\")"
   ]
  }
 ],
 "metadata": {
  "kernelspec": {
   "display_name": "Python 3 (ipykernel)",
   "language": "python",
   "name": "python3"
  },
  "language_info": {
   "codemirror_mode": {
    "name": "ipython",
    "version": 3
   },
   "file_extension": ".py",
   "mimetype": "text/x-python",
   "name": "python",
   "nbconvert_exporter": "python",
   "pygments_lexer": "ipython3",
   "version": "3.11.7"
  }
 },
 "nbformat": 4,
 "nbformat_minor": 5
}
