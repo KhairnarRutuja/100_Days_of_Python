{
 "cells": [
  {
   "cell_type": "markdown",
   "id": "4b7c2cdd",
   "metadata": {},
   "source": [
    "# Operators In Python"
   ]
  },
  {
   "cell_type": "markdown",
   "id": "8eca9a50",
   "metadata": {},
   "source": [
    "Pyhton has different types of operators for different operations."
   ]
  },
  {
   "cell_type": "markdown",
   "id": "5516a3bf",
   "metadata": {},
   "source": [
    "## 1. Arithmetic Operators"
   ]
  },
  {
   "cell_type": "markdown",
   "id": "f5a148cc",
   "metadata": {},
   "source": [
    "Operator Name      \n",
    "\n",
    "Addition       =     (+)       \n",
    "\n",
    "Subtraction    =     (-)      \n",
    "\n",
    "Multiplication =     (*)       \n",
    "\n",
    "Division       =     (/)       \n",
    "\n",
    "Modulus        =     (%)      \n",
    "\n",
    "Floor Division =    (//)      \n",
    "\n",
    "Exponentiation =    (**)       "
   ]
  },
  {
   "cell_type": "code",
   "execution_count": 11,
   "id": "f875b42d",
   "metadata": {},
   "outputs": [
    {
     "name": "stdout",
     "output_type": "stream",
     "text": [
      "Addtion =  9\n",
      "Substaction =  3\n",
      "Multiplication =  18\n",
      "Division =  2.0\n",
      "Modulus =  0\n",
      "Floor Division =  2\n",
      "Exponentiation =  216\n"
     ]
    }
   ],
   "source": [
    "a = 6\n",
    "b = 3\n",
    "# Addition\n",
    "print(\"Addtion = \",a+b)\n",
    "print(\"Substaction = \",a-b)\n",
    "print(\"Multiplication = \",a*b)\n",
    "print(\"Division = \",a/b)\n",
    "print(\"Modulus = \",a%b)\n",
    "print(\"Floor Division = \",a//b)\n",
    "print(\"Exponentiation = \",a**b)"
   ]
  },
  {
   "cell_type": "markdown",
   "id": "d64bf03c",
   "metadata": {},
   "source": [
    "## 2. Logical Operator"
   ]
  },
  {
   "cell_type": "markdown",
   "id": "d5d8fb96",
   "metadata": {},
   "source": [
    "Logical operators are used to perform operations on boolean values. In Python, the logical operators are and, or, and not. Here's a brief explanation of each:\n",
    "\n",
    "**1. Logical and:**\n",
    "The and logical operator in Python returns **True** if and only if all the operands are **True**. If any of the operands is False, the result will be False."
   ]
  },
  {
   "cell_type": "code",
   "execution_count": 12,
   "id": "f4527736",
   "metadata": {},
   "outputs": [
    {
     "name": "stdout",
     "output_type": "stream",
     "text": [
      "True\n",
      "False\n",
      "False\n",
      "False\n"
     ]
    }
   ],
   "source": [
    "# and operator\n",
    "print(True and True)   # Output: True\n",
    "print(True and False)  # Output: False\n",
    "print(False and True)  # Output: False\n",
    "print(False and False) # Output: False"
   ]
  },
  {
   "cell_type": "markdown",
   "id": "3977d1e5",
   "metadata": {},
   "source": [
    "**2. Logical or:**\n",
    "The or logical operator in Python returns **True** if at least one of the operands is True. It returns False only if all operands are **False**."
   ]
  },
  {
   "cell_type": "code",
   "execution_count": 13,
   "id": "7a5bb719",
   "metadata": {},
   "outputs": [
    {
     "name": "stdout",
     "output_type": "stream",
     "text": [
      "True\n",
      "True\n",
      "True\n",
      "False\n"
     ]
    }
   ],
   "source": [
    "# or operator\n",
    "print(True or True)    # Output: True\n",
    "print(True or False)   # Output: True\n",
    "print(False or True)   # Output: True\n",
    "print(False or False)  # Output: False"
   ]
  },
  {
   "cell_type": "markdown",
   "id": "68d8ce50",
   "metadata": {},
   "source": [
    "**3. Logical not:**\n",
    "The not logical operator in Python returns the opposite boolean value of the operand. If the operand is **True**, not returns **False**, and if the operand is **False**, not returns **True**."
   ]
  },
  {
   "cell_type": "code",
   "execution_count": 14,
   "id": "1abbee03",
   "metadata": {},
   "outputs": [
    {
     "name": "stdout",
     "output_type": "stream",
     "text": [
      "False\n",
      "True\n"
     ]
    }
   ],
   "source": [
    "print(not True)   # Output: False\n",
    "print(not False)  # Output: True"
   ]
  },
  {
   "cell_type": "markdown",
   "id": "70ffe093",
   "metadata": {},
   "source": [
    "## 3. Comparison Operators"
   ]
  },
  {
   "cell_type": "markdown",
   "id": "c2c2023a",
   "metadata": {},
   "source": [
    "Comparison operators are used to compare two values in Python. They return either True or False depending on the comparison result.\n",
    "Here are the common comparison operators in Python:"
   ]
  },
  {
   "cell_type": "markdown",
   "id": "be27a092",
   "metadata": {},
   "source": [
    "**1. ==**: Equal to. Returns True if the operands are equal, otherwise returns False.\n",
    "\n",
    "**2. !=:** Not equal to. Returns True if the operands are not equal, otherwise returns False.\n",
    "\n",
    "**3. >:** Greater than. Returns True if the left operand is greater than the right operand, otherwise returns False.\n",
    "\n",
    "**4. <:** Less than. Returns True if the left operand is less than the right operand, otherwise returns False.\n",
    "\n",
    "**5. >=:** Greater than or equal to. Returns True if the left operand is greater than or equal to the right operand, otherwise returns False.\n",
    "\n",
    "**6. <=:**  Less than or equal to. Returns True if the left operand is less than or equal to the right operand, otherwise returns False."
   ]
  },
  {
   "cell_type": "code",
   "execution_count": 24,
   "id": "421e4a72",
   "metadata": {},
   "outputs": [
    {
     "name": "stdout",
     "output_type": "stream",
     "text": [
      "False\n",
      "True\n",
      "False\n",
      "True\n",
      "False\n",
      "True\n"
     ]
    }
   ],
   "source": [
    "a = 5\n",
    "b = 8\n",
    "\n",
    "print(a == b)\n",
    "print(a!=b)\n",
    "print(a>b)\n",
    "print(a<b)\n",
    "print(a>=b)\n",
    "print(a<=b)"
   ]
  },
  {
   "cell_type": "markdown",
   "id": "e1ed85d7",
   "metadata": {},
   "source": [
    "## 4. Assignment Operators"
   ]
  },
  {
   "cell_type": "markdown",
   "id": "fb9294c0",
   "metadata": {},
   "source": [
    "Assignment operators are used to assign values to variables"
   ]
  },
  {
   "cell_type": "markdown",
   "id": "daa586dc",
   "metadata": {},
   "source": [
    "**1.** =: \n",
    "Assigns the value on the right to the variable on the left.\n",
    "\n",
    "**2.** +=:\n",
    "Adds the value on the right to the variable on the left and assigns the result to the variable.\n",
    "\n",
    "**3.** -=:\n",
    "Subtracts the value on the right from the variable on the left and assigns the result to the variable.\n",
    "\n",
    "**4.** *=:\n",
    "Multiplies the variable on the left by the value on the right and assigns the result to the variable.\n",
    "\n",
    "**5.** /=:\n",
    "Divides the variable on the left by the value on the right and assigns the result to the variable.\n",
    "\n",
    "**6.** //=:\n",
    "Floor divides the variable on the left by the value on the right and assigns the result to the variable.\n",
    "\n",
    "**7.** %=:\n",
    "Computes the modulus of the variable on the left with the value on the right and assigns the result to the variable.\n",
    "\n",
    "**8.** **=: \n",
    "Raises the variable on the left to the power of the value on the right and assigns the result to the variable."
   ]
  },
  {
   "cell_type": "code",
   "execution_count": 28,
   "id": "291c476e",
   "metadata": {},
   "outputs": [
    {
     "name": "stdout",
     "output_type": "stream",
     "text": [
      "a after +=: 15\n",
      "b after -= 1\n",
      "a after *= 30\n",
      "b after /= 0.3333333333333333\n",
      "a after //= 7\n",
      "b after %= 0.3333333333333333\n",
      "a after **= 343\n"
     ]
    }
   ],
   "source": [
    "a = 10\n",
    "b = 3\n",
    "\n",
    "# +=\n",
    "a += 5   # Equivalent to a = a + 5\n",
    "print(\"a after +=:\", a)  # Output: 15\n",
    "\n",
    "# -=\n",
    "b -= 2   # Equivalent to b = b - 2\n",
    "print(\"b after -=\", b)   # Output: 1\n",
    "\n",
    "# *=\n",
    "a *= 2   # Equivalent to a = a * 2\n",
    "print(\"a after *=\", a)   # Output: 30\n",
    "\n",
    "# /=\n",
    "b /= 3   # Equivalent to b = b / 3\n",
    "print(\"b after /=\", b)   # Output: 0.3333333333333333\n",
    "\n",
    "# //=\n",
    "a //= 4  # Equivalent to a = a // 4\n",
    "print(\"a after //=\", a)  # Output: 7\n",
    "\n",
    "# %=\n",
    "b %= 2   # Equivalent to b = b % 2\n",
    "print(\"b after %=\", b)   # Output: 1.0\n",
    "\n",
    "# **=\n",
    "a **= 3  # Equivalent to a = a ** 3\n",
    "print(\"a after **=\", a)  # Output: 343\n"
   ]
  },
  {
   "cell_type": "markdown",
   "id": "86120115",
   "metadata": {},
   "source": [
    "## 5. Bitwise Operator"
   ]
  },
  {
   "cell_type": "markdown",
   "id": "1317c491",
   "metadata": {},
   "source": [
    "Bitwise operators in Python are used to perform bitwise operations on integers at the binary level. There are six bitwise operators available:"
   ]
  },
  {
   "cell_type": "markdown",
   "id": "42706ea2",
   "metadata": {},
   "source": [
    "**1. \"&\" (Bitwise AND):** Performs a bitwise AND operation.\n",
    "\n",
    "**2. \"|\" (Bitwise OR):** Performs a bitwise OR operation.\n",
    "\n",
    "**3. \"^\" (Bitwise XOR):** Performs a bitwise XOR (exclusive OR) operation.\n",
    "\n",
    "**4. \"~' (Bitwise NOT):** Performs a bitwise NOT operation (complement).\n",
    "\n",
    "**5. \"<<\" (Left Shift):** Shifts the bits of a number to the left.\n",
    "\n",
    "**6. \">>\" (Right Shift):** Shifts the bits of a number to the right"
   ]
  },
  {
   "cell_type": "code",
   "execution_count": 25,
   "id": "8146200c",
   "metadata": {},
   "outputs": [
    {
     "name": "stdout",
     "output_type": "stream",
     "text": [
      "1\n",
      "7\n",
      "6\n",
      "-6\n",
      "10\n",
      "2\n"
     ]
    }
   ],
   "source": [
    "a = 5  # Binary representation: 0b101\n",
    "b = 3  # Binary representation: 0b011\n",
    "\n",
    "# Bitwise AND\n",
    "print(a & b)  # Output: 1 (Binary: 0b001)\n",
    "\n",
    "# Bitwise OR\n",
    "print(a | b)  # Output: 7 (Binary: 0b111)\n",
    "\n",
    "# Bitwise XOR\n",
    "print(a ^ b)  # Output: 6 (Binary: 0b110)\n",
    "\n",
    "# Bitwise NOT (Unary operation, works on one operand)\n",
    "print(~a)     # Output: -6 (Binary: 0b11111111111111111111111111111010)\n",
    "\n",
    "# Left Shift\n",
    "print(a << 1) # Output: 10 (Binary: 0b1010)\n",
    "\n",
    "# Right Shift\n",
    "print(a >> 1) # Output: 2 (Binary: 0b10)"
   ]
  }
 ],
 "metadata": {
  "kernelspec": {
   "display_name": "Python 3 (ipykernel)",
   "language": "python",
   "name": "python3"
  },
  "language_info": {
   "codemirror_mode": {
    "name": "ipython",
    "version": 3
   },
   "file_extension": ".py",
   "mimetype": "text/x-python",
   "name": "python",
   "nbconvert_exporter": "python",
   "pygments_lexer": "ipython3",
   "version": "3.9.13"
  }
 },
 "nbformat": 4,
 "nbformat_minor": 5
}
