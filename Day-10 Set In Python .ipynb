{
 "cells": [
  {
   "cell_type": "markdown",
   "id": "d8feb30b-5a59-4a3a-9210-150409acb06f",
   "metadata": {},
   "source": [
    "# Set {}"
   ]
  },
  {
   "cell_type": "markdown",
   "id": "67bce6d1-48a2-4fbb-83d0-0a5f73f1e6ed",
   "metadata": {},
   "source": [
    "In Python, a set is a built-in data type that represents an unordered collection of unique elements and must be immutable(can not changed).However a set itself is mutable. we can add or remove items from it\n",
    "sets can also be used to perform mathematical set operations like Union, intersection, symmentric difference, etc.\n",
    "\n",
    "**Unordered:** The elements in a set do not maintain any specific order.\n",
    "\n",
    "**Unique:** Sets do not allow duplicate elements; if you try to add a duplicate item, it will be ignored.\n",
    "\n",
    "**Immutable:** we can add, delete items. but we cant contain mutable data type.\n"
   ]
  },
  {
   "cell_type": "markdown",
   "id": "be1f2c99-2db2-44c9-be69-d5e3567d5103",
   "metadata": {},
   "source": [
    "### Creating sets"
   ]
  },
  {
   "cell_type": "code",
   "execution_count": 1,
   "id": "78774abb-7ffe-4ed1-ac6f-effcda02fcb1",
   "metadata": {},
   "outputs": [
    {
     "name": "stdout",
     "output_type": "stream",
     "text": [
      "set()\n",
      "<class 'set'>\n"
     ]
    }
   ],
   "source": [
    "# empty set\n",
    "s = set()\n",
    "print(s)\n",
    "print(type(s))"
   ]
  },
  {
   "cell_type": "code",
   "execution_count": 2,
   "id": "dc525871-d622-4748-a841-588934913565",
   "metadata": {},
   "outputs": [
    {
     "name": "stdout",
     "output_type": "stream",
     "text": [
      "{1, 2, 3, 4, 5}\n"
     ]
    }
   ],
   "source": [
    "# homogeneous set\n",
    "s1 = {1,2,3,4,5}\n",
    "print(s1)"
   ]
  },
  {
   "cell_type": "code",
   "execution_count": 3,
   "id": "617efb4d-1103-484a-ad06-3653bb215349",
   "metadata": {},
   "outputs": [
    {
     "name": "stdout",
     "output_type": "stream",
     "text": [
      "{1, 'Hello', 4.5}\n"
     ]
    }
   ],
   "source": [
    "# Hetrogeneous set\n",
    "s2 = {1, \"Hello\", 4.5, True}\n",
    "print(s2)"
   ]
  },
  {
   "cell_type": "markdown",
   "id": "e2383930-2762-46bd-b88b-e4eef1782459",
   "metadata": {},
   "source": [
    "Note:- Set Not allowed Duplicate"
   ]
  },
  {
   "cell_type": "code",
   "execution_count": 4,
   "id": "c4f4b403-78fa-4079-86d0-886075d7d546",
   "metadata": {},
   "outputs": [
    {
     "name": "stdout",
     "output_type": "stream",
     "text": [
      "{1, 2, 3, 4, 5}\n"
     ]
    }
   ],
   "source": [
    "# Using type conversion\n",
    "s3 = set([1,2,3,4,5])\n",
    "print(s3)"
   ]
  },
  {
   "cell_type": "code",
   "execution_count": 5,
   "id": "8674329c-95de-490a-9e47-f8cdc9505f93",
   "metadata": {},
   "outputs": [
    {
     "name": "stdout",
     "output_type": "stream",
     "text": [
      "{1, 2, 3}\n"
     ]
    }
   ],
   "source": [
    "# Duplicates are not allowed\n",
    "s4 = {1,1,2,2,3,3}\n",
    "print(s4)"
   ]
  },
  {
   "cell_type": "code",
   "execution_count": 6,
   "id": "26e633e6-322e-4bb4-915c-efdad185179f",
   "metadata": {},
   "outputs": [
    {
     "ename": "TypeError",
     "evalue": "unhashable type: 'set'",
     "output_type": "error",
     "traceback": [
      "\u001b[1;31m---------------------------------------------------------------------------\u001b[0m",
      "\u001b[1;31mTypeError\u001b[0m                                 Traceback (most recent call last)",
      "Cell \u001b[1;32mIn[6], line 2\u001b[0m\n\u001b[0;32m      1\u001b[0m \u001b[38;5;66;03m# sets can't allow mutable datatype\u001b[39;00m\n\u001b[1;32m----> 2\u001b[0m s5 \u001b[38;5;241m=\u001b[39m {\u001b[38;5;241m1\u001b[39m,\u001b[38;5;241m2\u001b[39m,\u001b[38;5;241m3\u001b[39m,\u001b[38;5;241m4\u001b[39m,{\u001b[38;5;241m5\u001b[39m,\u001b[38;5;241m6\u001b[39m}}\n\u001b[0;32m      3\u001b[0m \u001b[38;5;28mprint\u001b[39m(s5)\n",
      "\u001b[1;31mTypeError\u001b[0m: unhashable type: 'set'"
     ]
    }
   ],
   "source": [
    "# sets can't allow mutable datatype\n",
    "s5 = {1,2,3,4,{5,6}}\n",
    "print(s5)"
   ]
  },
  {
   "cell_type": "code",
   "execution_count": null,
   "id": "8617eba7-2575-4c73-9c84-c2cc8a07e977",
   "metadata": {},
   "outputs": [],
   "source": [
    "# Unordered\n",
    "s6 = {1,2,3}\n",
    "s7 = {3,1,2}\n",
    "\n",
    "print(s6 == s7)"
   ]
  },
  {
   "cell_type": "markdown",
   "id": "75da470f-ef66-49b0-beca-e2e3be8edd6d",
   "metadata": {},
   "source": [
    "### Accessing Items from a set\n",
    "- In Python, sets are unordered collections of unique elements, so you cannot access items in a set by index like you can with lists or tuples. Sets do not support indexing, slicing, or any other methods that would rely on the order of the elements."
   ]
  },
  {
   "cell_type": "code",
   "execution_count": 7,
   "id": "0b04e59b-f197-454b-b0cb-4dff45e4958c",
   "metadata": {},
   "outputs": [
    {
     "ename": "TypeError",
     "evalue": "'set' object is not subscriptable",
     "output_type": "error",
     "traceback": [
      "\u001b[1;31m---------------------------------------------------------------------------\u001b[0m",
      "\u001b[1;31mTypeError\u001b[0m                                 Traceback (most recent call last)",
      "Cell \u001b[1;32mIn[7], line 2\u001b[0m\n\u001b[0;32m      1\u001b[0m s8 \u001b[38;5;241m=\u001b[39m {\u001b[38;5;241m1\u001b[39m,\u001b[38;5;241m2\u001b[39m,\u001b[38;5;241m3\u001b[39m,\u001b[38;5;241m4\u001b[39m}\n\u001b[1;32m----> 2\u001b[0m s1[\u001b[38;5;241m0\u001b[39m]\n",
      "\u001b[1;31mTypeError\u001b[0m: 'set' object is not subscriptable"
     ]
    }
   ],
   "source": [
    "s8 = {1,2,3,4}\n",
    "s1[0]"
   ]
  },
  {
   "cell_type": "markdown",
   "id": "98b68cf5-06f0-43d1-98e5-59ad10edac8b",
   "metadata": {},
   "source": [
    "### Editing item in a Set"
   ]
  },
  {
   "cell_type": "code",
   "execution_count": 8,
   "id": "3fdd1e39-ddbd-4e7d-9736-1aaddddff9ad",
   "metadata": {},
   "outputs": [
    {
     "ename": "TypeError",
     "evalue": "'set' object does not support item assignment",
     "output_type": "error",
     "traceback": [
      "\u001b[1;31m---------------------------------------------------------------------------\u001b[0m",
      "\u001b[1;31mTypeError\u001b[0m                                 Traceback (most recent call last)",
      "Cell \u001b[1;32mIn[8], line 2\u001b[0m\n\u001b[0;32m      1\u001b[0m s9 \u001b[38;5;241m=\u001b[39m {\u001b[38;5;241m1\u001b[39m,\u001b[38;5;241m2\u001b[39m,\u001b[38;5;241m3\u001b[39m,\u001b[38;5;241m4\u001b[39m}\n\u001b[1;32m----> 2\u001b[0m s9[\u001b[38;5;241m0\u001b[39m] \u001b[38;5;241m=\u001b[39m \u001b[38;5;241m100\u001b[39m\n",
      "\u001b[1;31mTypeError\u001b[0m: 'set' object does not support item assignment"
     ]
    }
   ],
   "source": [
    "s9 = {1,2,3,4}\n",
    "s9[0] = 100"
   ]
  },
  {
   "cell_type": "markdown",
   "id": "1e2f4ca5-89ea-4def-930f-3e37fe31389a",
   "metadata": {},
   "source": [
    "Note:- set are unordered collections"
   ]
  },
  {
   "cell_type": "markdown",
   "id": "bafbceb6-92d6-4b8f-ad3f-08ca96cd359d",
   "metadata": {},
   "source": [
    "### Adding Items to a set"
   ]
  },
  {
   "cell_type": "markdown",
   "id": "2f967ce4-d841-4c90-a4e7-9d8a730a8d9a",
   "metadata": {},
   "source": [
    "### Add()\n",
    "- The add() method adds a single element to a set. If the element is already present, it will not be added again, ensuring the set contains only unique elements."
   ]
  },
  {
   "cell_type": "code",
   "execution_count": 9,
   "id": "b3a8aa21-417e-4e15-98a6-1e630a4439ae",
   "metadata": {},
   "outputs": [
    {
     "name": "stdout",
     "output_type": "stream",
     "text": [
      "{1, 2, 3, 5}\n"
     ]
    }
   ],
   "source": [
    "S1 = {1,2,3}\n",
    "S1.add(5)\n",
    "print(S1)"
   ]
  },
  {
   "cell_type": "markdown",
   "id": "abcfd7cb-09d7-48b4-9712-4d4a19eac0de",
   "metadata": {},
   "source": [
    "### Update()\n",
    "The update() method can be used to add multiple elements to a set. You can pass an iterable (like a list, tuple, or another set) to update(),"
   ]
  },
  {
   "cell_type": "code",
   "execution_count": 10,
   "id": "056971a0-659c-42af-978d-67db58445553",
   "metadata": {},
   "outputs": [
    {
     "name": "stdout",
     "output_type": "stream",
     "text": [
      "{1, 2, 3, 5, 6, 7}\n"
     ]
    }
   ],
   "source": [
    "S1.update([5,6,7])\n",
    "print(S1)"
   ]
  },
  {
   "cell_type": "markdown",
   "id": "17683c34-1d69-42bc-954f-2e572170de34",
   "metadata": {},
   "source": [
    "### Deleting items from a Set"
   ]
  },
  {
   "cell_type": "markdown",
   "id": "42f5a7a2-74cd-4aea-a235-c200256ad45d",
   "metadata": {},
   "source": [
    "### Delete()\n",
    "If you want to completely delete a set itself (not just its elements), you can use the del keyword. This will remove the set entirely from memory."
   ]
  },
  {
   "cell_type": "code",
   "execution_count": 11,
   "id": "383725a6-e3de-4d5d-b38a-5c7acaa09b94",
   "metadata": {},
   "outputs": [
    {
     "ename": "NameError",
     "evalue": "name 'S2' is not defined",
     "output_type": "error",
     "traceback": [
      "\u001b[1;31m---------------------------------------------------------------------------\u001b[0m",
      "\u001b[1;31mNameError\u001b[0m                                 Traceback (most recent call last)",
      "Cell \u001b[1;32mIn[11], line 3\u001b[0m\n\u001b[0;32m      1\u001b[0m S2 \u001b[38;5;241m=\u001b[39m {\u001b[38;5;241m1\u001b[39m,\u001b[38;5;241m2\u001b[39m,\u001b[38;5;241m3\u001b[39m,\u001b[38;5;241m4\u001b[39m}\n\u001b[0;32m      2\u001b[0m \u001b[38;5;28;01mdel\u001b[39;00m S2\n\u001b[1;32m----> 3\u001b[0m \u001b[38;5;28mprint\u001b[39m(S2)\n",
      "\u001b[1;31mNameError\u001b[0m: name 'S2' is not defined"
     ]
    }
   ],
   "source": [
    "S2 = {1,2,3,4}\n",
    "del S2\n",
    "print(S2)"
   ]
  },
  {
   "cell_type": "markdown",
   "id": "268deb67-bd93-45c4-b806-ed23d0f49a31",
   "metadata": {},
   "source": [
    "### Discard()\n",
    "The discard() method is similar to remove(), but it does not raise an error if the element is not found. If the item is not in the set, it simply does nothing."
   ]
  },
  {
   "cell_type": "code",
   "execution_count": 12,
   "id": "72883cb0-31e2-46d4-b4d8-d41adbda391f",
   "metadata": {},
   "outputs": [
    {
     "data": {
      "text/plain": [
       "{1, 2, 3, 5, 6, 7}"
      ]
     },
     "execution_count": 12,
     "metadata": {},
     "output_type": "execute_result"
    }
   ],
   "source": [
    "S1"
   ]
  },
  {
   "cell_type": "code",
   "execution_count": 13,
   "id": "905b0b27-84f5-435f-9bd2-8df5e34fc062",
   "metadata": {},
   "outputs": [
    {
     "name": "stdout",
     "output_type": "stream",
     "text": [
      "{1, 2, 3, 6, 7}\n"
     ]
    }
   ],
   "source": [
    "S1.discard(5)\n",
    "print(S1)"
   ]
  },
  {
   "cell_type": "markdown",
   "id": "dd2dd462-70df-4cc8-999f-1cb15af18d53",
   "metadata": {},
   "source": [
    "### Remove()\n",
    "The remove() method removes a specific element from a set. If the element is not found, it raises a KeyError."
   ]
  },
  {
   "cell_type": "code",
   "execution_count": 14,
   "id": "f4893beb-3862-4a7d-8187-6df7e680cc15",
   "metadata": {},
   "outputs": [
    {
     "name": "stdout",
     "output_type": "stream",
     "text": [
      "{1, 2, 6, 7}\n"
     ]
    }
   ],
   "source": [
    "S1.remove(3)\n",
    "print(S1)"
   ]
  },
  {
   "cell_type": "markdown",
   "id": "79309e61-c0d2-444a-bc05-9c69cbab2b82",
   "metadata": {},
   "source": [
    "### Pop()\n",
    "The pop() method removes and returns an arbitrary element from the set. Since sets are unordered, you cannot predict which item will be removed. If the set is empty, it raises a KeyError."
   ]
  },
  {
   "cell_type": "code",
   "execution_count": 15,
   "id": "89596481-1fb0-43f1-b060-d322eb627e3b",
   "metadata": {},
   "outputs": [
    {
     "data": {
      "text/plain": [
       "{1, 2, 6, 7}"
      ]
     },
     "execution_count": 15,
     "metadata": {},
     "output_type": "execute_result"
    }
   ],
   "source": [
    "S1"
   ]
  },
  {
   "cell_type": "code",
   "execution_count": 17,
   "id": "d4225190-690a-46e3-bddd-1d6bcf38aeb3",
   "metadata": {},
   "outputs": [
    {
     "name": "stdout",
     "output_type": "stream",
     "text": [
      "{6, 7}\n"
     ]
    }
   ],
   "source": [
    "S1.pop()\n",
    "print(S1)"
   ]
  },
  {
   "cell_type": "markdown",
   "id": "1e21796e-9d3d-46dd-abb6-944af1344471",
   "metadata": {},
   "source": [
    "### Clear()\n",
    "The clear() method removes all elements from the set, leaving it empty."
   ]
  },
  {
   "cell_type": "code",
   "execution_count": 18,
   "id": "df08f478-3d99-43d2-9309-d0e9af3e7e88",
   "metadata": {},
   "outputs": [
    {
     "name": "stdout",
     "output_type": "stream",
     "text": [
      "set()\n"
     ]
    }
   ],
   "source": [
    "S1.clear()\n",
    "print(S1)"
   ]
  },
  {
   "cell_type": "markdown",
   "id": "e9c9d22e-fd54-43b2-9850-72bef5476cc4",
   "metadata": {},
   "source": [
    "## Set Operations"
   ]
  },
  {
   "cell_type": "markdown",
   "id": "44f66d89-0db5-45b7-83a6-2cf440507693",
   "metadata": {},
   "source": [
    "Python sets support several common mathematical set operations, which allow you to perform various operations like union, intersection, difference, and symmetric difference. These operations can be done using both operators and methods."
   ]
  },
  {
   "attachments": {},
   "cell_type": "markdown",
   "id": "298a7d93-5ce0-46ee-a17e-c20a06581e6d",
   "metadata": {},
   "source": [
    "### Union: \n",
    "Combine elements from two sets.\n",
    "The union of two sets contains all unique elements from both sets.\n",
    "\n",
    "Operator: ( | )\n",
    "\n",
    "Method: union()"
   ]
  },
  {
   "cell_type": "code",
   "execution_count": 20,
   "id": "e4e2bc63-697a-4f20-8da2-6e2e8f8a7a33",
   "metadata": {},
   "outputs": [
    {
     "name": "stdout",
     "output_type": "stream",
     "text": [
      "{1, 2, 3, 4, 5, 6, 7, 8}\n"
     ]
    }
   ],
   "source": [
    "s1 = {1,2,3,4,5}\n",
    "s2 = {4,5,6,7,8}\n",
    "print(s1 | s2)\n"
   ]
  },
  {
   "cell_type": "code",
   "execution_count": 21,
   "id": "ebdb929d-16f4-41f8-828f-649f3ce39945",
   "metadata": {},
   "outputs": [
    {
     "name": "stdout",
     "output_type": "stream",
     "text": [
      "{1, 2, 3, 4, 5, 6, 7, 8}\n"
     ]
    }
   ],
   "source": [
    "print(s1.union(s2))"
   ]
  },
  {
   "attachments": {},
   "cell_type": "markdown",
   "id": "1331b725-ea06-45ad-89b4-d94f42d327ca",
   "metadata": {},
   "source": [
    "### Intersection:\n",
    "Find common elements between two sets.\n",
    "The intersection of two sets contains elements that are present in both sets.\n",
    "\n",
    "Operator: ( & )\n",
    "\n",
    "Method: intersection()"
   ]
  },
  {
   "cell_type": "code",
   "execution_count": 26,
   "id": "34f26295-e85b-4507-81cb-f1c2ab386279",
   "metadata": {},
   "outputs": [
    {
     "name": "stdout",
     "output_type": "stream",
     "text": [
      "{4, 5}\n"
     ]
    }
   ],
   "source": [
    "print(s1 & s2)"
   ]
  },
  {
   "cell_type": "code",
   "execution_count": 23,
   "id": "bae17374-de88-4008-94a9-a2911804bbb9",
   "metadata": {},
   "outputs": [
    {
     "name": "stdout",
     "output_type": "stream",
     "text": [
      "{4, 5}\n"
     ]
    }
   ],
   "source": [
    "print(s1.intersection(s2))"
   ]
  },
  {
   "cell_type": "markdown",
   "id": "e2d2db03-1c23-4760-9563-9122a07b3c49",
   "metadata": {},
   "source": [
    "### Difference: \n",
    "Find elements in one set but not in the other. The difference of two sets contains elements that are in the first set but not in the second.\n",
    "\n",
    "Operator: ( - )\n",
    "\n",
    "Method: difference()"
   ]
  },
  {
   "cell_type": "code",
   "execution_count": 27,
   "id": "31fcaee8-e860-4a69-88c2-8caddbb167e8",
   "metadata": {},
   "outputs": [
    {
     "name": "stdout",
     "output_type": "stream",
     "text": [
      "{1, 2, 3}\n"
     ]
    }
   ],
   "source": [
    "print(s1 - s2)"
   ]
  },
  {
   "cell_type": "code",
   "execution_count": 28,
   "id": "046b12b4-e007-4e92-85de-6df3b809e7fe",
   "metadata": {},
   "outputs": [
    {
     "name": "stdout",
     "output_type": "stream",
     "text": [
      "{8, 6, 7}\n"
     ]
    }
   ],
   "source": [
    "print(s2 - s1)"
   ]
  },
  {
   "cell_type": "code",
   "execution_count": 30,
   "id": "c5bf8ad8-660c-4684-b61a-1e1e2ce9e05d",
   "metadata": {},
   "outputs": [
    {
     "name": "stdout",
     "output_type": "stream",
     "text": [
      "{1, 2, 3}\n"
     ]
    }
   ],
   "source": [
    "print(s1.difference(s2))"
   ]
  },
  {
   "cell_type": "code",
   "execution_count": 31,
   "id": "afc0e041-f7a4-46d8-86d9-c5037672f809",
   "metadata": {},
   "outputs": [
    {
     "name": "stdout",
     "output_type": "stream",
     "text": [
      "{8, 6, 7}\n"
     ]
    }
   ],
   "source": [
    "print(s2.difference(s1))"
   ]
  },
  {
   "cell_type": "markdown",
   "id": "5aee70ee-f0d6-4526-a906-fe920c7e0982",
   "metadata": {},
   "source": [
    "### Symmetric Difference:\n",
    "Find elements that are in either set but not in both.\n",
    "The symmetric difference of two sets contains elements that are in either of the sets, but not in both.\n",
    "\n",
    "Operator: ( ^ )\n",
    "\n",
    "Method: symmetric_difference()"
   ]
  },
  {
   "cell_type": "code",
   "execution_count": 33,
   "id": "4e59649e-be1b-44e3-92bc-254416fc44cb",
   "metadata": {},
   "outputs": [
    {
     "name": "stdout",
     "output_type": "stream",
     "text": [
      "{1, 2, 3, 6, 7, 8}\n"
     ]
    }
   ],
   "source": [
    "print(s1 ^ s2)"
   ]
  },
  {
   "cell_type": "code",
   "execution_count": 34,
   "id": "84d40fbf-ca1d-48a9-9f8f-a269235ea86e",
   "metadata": {},
   "outputs": [
    {
     "name": "stdout",
     "output_type": "stream",
     "text": [
      "{1, 2, 3, 6, 7, 8}\n"
     ]
    }
   ],
   "source": [
    "print(s1.symmetric_difference(s2))"
   ]
  },
  {
   "cell_type": "code",
   "execution_count": 35,
   "id": "b00a0432-8b7e-475d-b4b6-9b5bdbe6983d",
   "metadata": {},
   "outputs": [
    {
     "data": {
      "text/plain": [
       "False"
      ]
     },
     "execution_count": 35,
     "metadata": {},
     "output_type": "execute_result"
    }
   ],
   "source": [
    "# memborship\n",
    "1 not in s1"
   ]
  },
  {
   "cell_type": "code",
   "execution_count": 37,
   "id": "5378b0ee-c739-473a-8273-618670d007a1",
   "metadata": {},
   "outputs": [
    {
     "name": "stdout",
     "output_type": "stream",
     "text": [
      "1\n",
      "2\n",
      "3\n",
      "4\n",
      "5\n"
     ]
    }
   ],
   "source": [
    "# Iteration\n",
    "for i in s1:\n",
    "    print(i)"
   ]
  },
  {
   "cell_type": "markdown",
   "id": "cb3f74f7-6aba-4db9-a9a1-2ca7b9617783",
   "metadata": {},
   "source": [
    "### Len:\n",
    "This function returns the number of elements in a set."
   ]
  },
  {
   "cell_type": "code",
   "execution_count": 38,
   "id": "7f4f588e-36f6-4bcc-935f-af6e71fa2583",
   "metadata": {},
   "outputs": [
    {
     "name": "stdout",
     "output_type": "stream",
     "text": [
      "5\n"
     ]
    }
   ],
   "source": [
    "s3 = {1,2,3,4,5}\n",
    "print(len(s3))"
   ]
  },
  {
   "cell_type": "markdown",
   "id": "fd4b4cbd-c61d-463a-b20a-670fd8c3c45d",
   "metadata": {},
   "source": [
    "### Max()\r\n",
    "This function returns the largest element in asett."
   ]
  },
  {
   "cell_type": "code",
   "execution_count": 39,
   "id": "d6650261-9216-4373-92e3-6001af980473",
   "metadata": {},
   "outputs": [
    {
     "name": "stdout",
     "output_type": "stream",
     "text": [
      "5\n"
     ]
    }
   ],
   "source": [
    "print(max(s3))"
   ]
  },
  {
   "cell_type": "markdown",
   "id": "670b31b1-283e-41d0-9289-a74ec7233a81",
   "metadata": {},
   "source": [
    "### Min()\n",
    "This function returns the smallest element in a set."
   ]
  },
  {
   "cell_type": "code",
   "execution_count": 40,
   "id": "0edf9c14-531a-42eb-b831-69b0f832bd97",
   "metadata": {},
   "outputs": [
    {
     "name": "stdout",
     "output_type": "stream",
     "text": [
      "1\n"
     ]
    }
   ],
   "source": [
    "print(min(s3))"
   ]
  },
  {
   "cell_type": "markdown",
   "id": "745bcdac-3c6d-4500-a7f4-91bc9a47be00",
   "metadata": {},
   "source": [
    "### sum()\n",
    "sum() function to calculate the sum of elements in set.."
   ]
  },
  {
   "cell_type": "code",
   "execution_count": 41,
   "id": "5fcb2d8d-ad2d-4815-857e-4a12cdd25e69",
   "metadata": {},
   "outputs": [
    {
     "name": "stdout",
     "output_type": "stream",
     "text": [
      "15\n"
     ]
    }
   ],
   "source": [
    "print(sum(s3))"
   ]
  },
  {
   "cell_type": "markdown",
   "id": "c4fac95a-4335-421e-8a29-74cb6e99b035",
   "metadata": {},
   "source": [
    "### Sorted()\r",
    "This function returns a new sorted set from the elements of an iterable.."
   ]
  },
  {
   "cell_type": "code",
   "execution_count": 43,
   "id": "11630f18-ad14-427f-a34e-a2daf47352ac",
   "metadata": {},
   "outputs": [
    {
     "name": "stdout",
     "output_type": "stream",
     "text": [
      "{1, 2, 3, 4, 5}\n"
     ]
    }
   ],
   "source": [
    "# Ascending order\n",
    "print(set(sorted(s3)))"
   ]
  },
  {
   "cell_type": "code",
   "execution_count": 48,
   "id": "68d1b7ca-ab1e-4868-88f0-ec0c54d7d69b",
   "metadata": {},
   "outputs": [
    {
     "name": "stdout",
     "output_type": "stream",
     "text": [
      "[5, 4, 3, 2, 1]\n"
     ]
    }
   ],
   "source": [
    "# descending order\n",
    "print(sorted(s3,reverse=True))"
   ]
  },
  {
   "cell_type": "markdown",
   "id": "8e40b16f-784c-4f4d-8783-ccbed5059361",
   "metadata": {},
   "source": [
    "### Union/Update"
   ]
  },
  {
   "cell_type": "code",
   "execution_count": 57,
   "id": "d3d0f1c2-3d99-4e42-b040-0bd7897dc051",
   "metadata": {},
   "outputs": [
    {
     "name": "stdout",
     "output_type": "stream",
     "text": [
      "{1, 2, 3, 4, 5, 6, 7, 8}\n",
      "{1, 2, 3, 4, 5, 6, 7, 8}\n",
      "{4, 5, 6, 7, 8}\n"
     ]
    }
   ],
   "source": [
    "s1 = {1,2,3,4,5}\n",
    "s2 = {4,5,6,7,8}\n",
    "\n",
    "print(s1.union(s2))\n",
    "s1.update(s2) # permant change in s1 but s2 as it is\n",
    "print(s1)\n",
    "print(s2)"
   ]
  },
  {
   "cell_type": "markdown",
   "id": "de9d4be4-ffb5-4503-9d9a-3fe3f89285f5",
   "metadata": {},
   "source": [
    "### Intersection/Intersection_Update"
   ]
  },
  {
   "cell_type": "code",
   "execution_count": 58,
   "id": "a8420130-5aa4-4ecb-af45-2d6e032c3a2b",
   "metadata": {},
   "outputs": [
    {
     "name": "stdout",
     "output_type": "stream",
     "text": [
      "{4, 5}\n",
      "{4, 5}\n",
      "{4, 5, 6, 7, 8}\n"
     ]
    }
   ],
   "source": [
    "s1 = {1,2,3,4,5}\n",
    "s2 = {4,5,6,7,8}\n",
    "print(s1.intersection(s2))\n",
    "s1.intersection_update(s2)\n",
    "print(s1)\n",
    "print(s2)"
   ]
  },
  {
   "cell_type": "markdown",
   "id": "d346fe53-7efe-420d-8833-7f889945e583",
   "metadata": {},
   "source": [
    "### Difference/difference_Update"
   ]
  },
  {
   "cell_type": "code",
   "execution_count": 61,
   "id": "cba465c6-3e3a-4a37-bc4c-69934aa6eb47",
   "metadata": {},
   "outputs": [
    {
     "name": "stdout",
     "output_type": "stream",
     "text": [
      "{1, 2, 3}\n",
      "{1, 2, 3}\n",
      "{4, 5, 6, 7, 8}\n"
     ]
    }
   ],
   "source": [
    "s1 = {1,2,3,4,5}\n",
    "s2 = {4,5,6,7,8}\n",
    "print(s1.difference(s2))\n",
    "s1.difference_update(s2)\n",
    "print(s1)\n",
    "print(s2)"
   ]
  },
  {
   "cell_type": "markdown",
   "id": "181c6770-5676-40df-bb94-d6dad2829077",
   "metadata": {},
   "source": [
    "### Symmetric_difference/Symmetric_difference_update"
   ]
  },
  {
   "cell_type": "code",
   "execution_count": 63,
   "id": "ae9a5762-172f-4ced-8d4a-6cfbe9c112d7",
   "metadata": {},
   "outputs": [
    {
     "name": "stdout",
     "output_type": "stream",
     "text": [
      "{1, 2, 3, 6, 7, 8}\n",
      "{1, 2, 3, 6, 7, 8}\n",
      "{4, 5, 6, 7, 8}\n"
     ]
    }
   ],
   "source": [
    "s1 = {1,2,3,4,5}\n",
    "s2 = {4,5,6,7,8}\n",
    "print(s1.symmetric_difference(s2))\n",
    "s1.symmetric_difference_update(s2)\n",
    "print(s1)\n",
    "print(s2)"
   ]
  },
  {
   "cell_type": "markdown",
   "id": "5d6b7ca2-f6ce-48a5-be84-088be1c8fffe",
   "metadata": {},
   "source": [
    "### Disjoint:\n",
    "Check if two sets have no common elements.\n",
    "Two sets are disjoint if they have no elements in common."
   ]
  },
  {
   "cell_type": "code",
   "execution_count": 67,
   "id": "b3a2c402-4698-4402-b32f-f2aba1322826",
   "metadata": {},
   "outputs": [
    {
     "name": "stdout",
     "output_type": "stream",
     "text": [
      "False\n"
     ]
    }
   ],
   "source": [
    "s1 = {1,2,3,4,5}\n",
    "s2 = {4,5,6,7,8}\n",
    "\n",
    "print(s1.isdisjoint(s2))"
   ]
  },
  {
   "cell_type": "markdown",
   "id": "fc738f84-e856-4c67-a5ee-3330acd042e0",
   "metadata": {},
   "source": [
    "### Subset:\n",
    "Check if one set is a subset of another.\n",
    "A set is a subset of another if all elements of the first set are present in the second set.\n",
    "\n",
    "Operator: <=\n",
    "\n",
    "Method: issubset()\n"
   ]
  },
  {
   "cell_type": "code",
   "execution_count": 73,
   "id": "afbe1d77-1102-41a6-b7fd-3ca2c2f317de",
   "metadata": {},
   "outputs": [
    {
     "name": "stdout",
     "output_type": "stream",
     "text": [
      "True\n"
     ]
    }
   ],
   "source": [
    "s3 = {1,2,3,4,5}\n",
    "s4 = {3,4,5}\n",
    "\n",
    "print(s4.issubset(s3))"
   ]
  },
  {
   "cell_type": "code",
   "execution_count": 75,
   "id": "06060127-1c9b-48e9-8883-295b3ab4f084",
   "metadata": {},
   "outputs": [
    {
     "name": "stdout",
     "output_type": "stream",
     "text": [
      "False\n"
     ]
    }
   ],
   "source": [
    "s3 = {1,2,3,4,5}\n",
    "s4 = {3,4,5}\n",
    "\n",
    "print(s3 <= s4)"
   ]
  },
  {
   "cell_type": "markdown",
   "id": "0bb7dcbe-3a43-4c43-a05a-2093d6f4edcb",
   "metadata": {},
   "source": [
    "### Superset:\n",
    "Check if one set is a superset of another.\n",
    "A set is a superset of another if it contains all elements of the other set.\n",
    "\n",
    "Operator: >= \n",
    "\n",
    "Method: issuperset()"
   ]
  },
  {
   "cell_type": "code",
   "execution_count": 76,
   "id": "c3c0122d-5ae7-4598-821b-451df74b8778",
   "metadata": {},
   "outputs": [
    {
     "name": "stdout",
     "output_type": "stream",
     "text": [
      "True\n"
     ]
    }
   ],
   "source": [
    "print(s3.issuperset(s4))"
   ]
  },
  {
   "cell_type": "code",
   "execution_count": 77,
   "id": "9af0dd20-17aa-408c-a364-2a663577c5b7",
   "metadata": {},
   "outputs": [
    {
     "name": "stdout",
     "output_type": "stream",
     "text": [
      "False\n"
     ]
    }
   ],
   "source": [
    "print(s4 >= s3)"
   ]
  },
  {
   "cell_type": "markdown",
   "id": "7e439544-724e-46da-a9c3-1552b6be0587",
   "metadata": {},
   "source": [
    "### Copy"
   ]
  },
  {
   "cell_type": "code",
   "execution_count": 78,
   "id": "3f6e73a9-9377-448c-a43b-86bf9b8b125f",
   "metadata": {},
   "outputs": [
    {
     "name": "stdout",
     "output_type": "stream",
     "text": [
      "{1, 2, 3}\n"
     ]
    }
   ],
   "source": [
    "s1 = {1,2,3}\n",
    "s2 = s1.copy()\n",
    "print(s2)"
   ]
  },
  {
   "cell_type": "markdown",
   "id": "1514b318-1201-4e6e-b047-f95027e771d2",
   "metadata": {},
   "source": [
    "## Frozenset\n",
    "Frozen set is just an immutable version of a python set object"
   ]
  },
  {
   "cell_type": "markdown",
   "id": "579939b4-0a27-4c79-9d58-a42a03734a07",
   "metadata": {},
   "source": [
    "### Create Frozenset"
   ]
  },
  {
   "cell_type": "code",
   "execution_count": 79,
   "id": "01ef9c08-8391-44a6-9f8e-323212711088",
   "metadata": {},
   "outputs": [
    {
     "name": "stdout",
     "output_type": "stream",
     "text": [
      "frozenset({1, 2, 3})\n"
     ]
    }
   ],
   "source": [
    "fs = frozenset([1,2,3])\n",
    "print(fs)"
   ]
  },
  {
   "cell_type": "code",
   "execution_count": 84,
   "id": "56ff25e9-485b-4e63-b07f-e64a1fa8ba14",
   "metadata": {},
   "outputs": [
    {
     "name": "stdout",
     "output_type": "stream",
     "text": [
      "frozenset({1, 2, 3, 4, 5})\n",
      "frozenset({3})\n",
      "frozenset({1, 2})\n",
      "frozenset({4, 5})\n",
      "frozenset({1, 2, 4, 5})\n",
      "False\n",
      "False\n",
      "False\n"
     ]
    }
   ],
   "source": [
    "fs1 = frozenset([1,2,3])\n",
    "fs2 = frozenset([3,4,5])\n",
    "\n",
    "print(fs1 | fs2)\n",
    "print(fs1 & fs2)\n",
    "print(fs1 - fs2)\n",
    "print(fs2 - fs1)\n",
    "print(fs1 ^ fs2)\n",
    "print(fs1.isdisjoint(fs2))\n",
    "print(fs1 <= fs2)\n",
    "print(fs1 >= fs2)"
   ]
  },
  {
   "cell_type": "code",
   "execution_count": 89,
   "id": "14bd3845-dec5-451f-802d-b843f26ac7fe",
   "metadata": {},
   "outputs": [
    {
     "name": "stdout",
     "output_type": "stream",
     "text": [
      "frozenset({frozenset({3, 4}), 1, 2})\n"
     ]
    }
   ],
   "source": [
    "# 2D sets\n",
    "fs = frozenset([1,2,frozenset([3,4])])\n",
    "print(fs)"
   ]
  },
  {
   "cell_type": "markdown",
   "id": "cdee6cb8-13ce-4f4c-bdf2-dc73d0acb67c",
   "metadata": {},
   "source": [
    "## Set Comprehension"
   ]
  },
  {
   "cell_type": "code",
   "execution_count": 90,
   "id": "d86b2cfd-a978-434c-9b24-5b3b0d11f1b6",
   "metadata": {},
   "outputs": [
    {
     "name": "stdout",
     "output_type": "stream",
     "text": [
      "{1, 2, 3, 4, 5, 6, 7, 8, 9, 10}\n"
     ]
    }
   ],
   "source": [
    "s1 = {i for i in range(1,11)}\n",
    "print(s1)"
   ]
  },
  {
   "cell_type": "code",
   "execution_count": 91,
   "id": "4af9f869-d5a6-4655-aaeb-f15e51b4e5ce",
   "metadata": {},
   "outputs": [
    {
     "name": "stdout",
     "output_type": "stream",
     "text": [
      "{64, 36, 100, 49, 81}\n"
     ]
    }
   ],
   "source": [
    "s2 = {i ** 2 for i in range(1,11) if i>5}\n",
    "print(s2)"
   ]
  },
  {
   "cell_type": "code",
   "execution_count": 94,
   "id": "81a6538d-a233-4cfb-809f-ba3361cecd72",
   "metadata": {},
   "outputs": [
    {
     "name": "stdout",
     "output_type": "stream",
     "text": [
      "{2, 4, 6, 8, 10, 12, 14, 16, 18, 20, 22, 24, 26, 28, 30, 32, 34, 36, 38, 40, 42, 44, 46, 48}\n"
     ]
    }
   ],
   "source": [
    "s3 = {i for i in range(1,50) if i % 2 == 0 }\n",
    "print(s3)"
   ]
  },
  {
   "cell_type": "code",
   "execution_count": 101,
   "id": "b8bba5c1-2e3b-4556-bf6f-5fd4a3439b28",
   "metadata": {},
   "outputs": [
    {
     "name": "stdout",
     "output_type": "stream",
     "text": [
      "{(1, 2), (2, 1), (3, 1), (1, 1), (2, 3), (3, 3), (2, 2), (3, 2), (1, 3)}\n"
     ]
    }
   ],
   "source": [
    "pairs = {(i,j) for i in range(1, 4) for j in range(1, 4)}\n",
    "print(pairs)"
   ]
  },
  {
   "cell_type": "code",
   "execution_count": null,
   "id": "66cf8923-2641-4d5e-aa93-d1a5519f1460",
   "metadata": {},
   "outputs": [],
   "source": []
  }
 ],
 "metadata": {
  "kernelspec": {
   "display_name": "Python 3 (ipykernel)",
   "language": "python",
   "name": "python3"
  },
  "language_info": {
   "codemirror_mode": {
    "name": "ipython",
    "version": 3
   },
   "file_extension": ".py",
   "mimetype": "text/x-python",
   "name": "python",
   "nbconvert_exporter": "python",
   "pygments_lexer": "ipython3",
   "version": "3.12.4"
  }
 },
 "nbformat": 4,
 "nbformat_minor": 5
}
