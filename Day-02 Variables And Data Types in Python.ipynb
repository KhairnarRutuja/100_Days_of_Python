{
 "cells": [
  {
   "cell_type": "markdown",
   "id": "c25f3cd6",
   "metadata": {},
   "source": [
    "## Variable"
   ]
  },
  {
   "cell_type": "markdown",
   "id": "45ed4e5b",
   "metadata": {},
   "source": [
    "* Variables are containers for storing data values\n",
    "* Creating a variable is like creating a placeholder in memory and assigning it some value.\n",
    "* Variables are used to store data values in computer memory. These values can be of different types such as numbers, text, or complex objects.\n",
    "\n",
    "**Example:-**"
   ]
  },
  {
   "cell_type": "code",
   "execution_count": 4,
   "id": "5e4cb508",
   "metadata": {},
   "outputs": [],
   "source": [
    "a = 1\n",
    "b = True\n",
    "c = \"Hello World\"\n",
    "d = 3.45"
   ]
  },
  {
   "cell_type": "markdown",
   "id": "ff869541",
   "metadata": {},
   "source": [
    "## What is a Data Type ?"
   ]
  },
  {
   "cell_type": "markdown",
   "id": "2fe52e24",
   "metadata": {},
   "source": [
    "Data types specify the type of value a variable holds. This is necessary in programming to perform various operations without causing errors.\n",
    "\n",
    "In Python, we can determine the type of a value or variable using the **type()** function. This function returns the data type of the specified variable or value."
   ]
  },
  {
   "cell_type": "code",
   "execution_count": 6,
   "id": "3373cab9",
   "metadata": {},
   "outputs": [
    {
     "name": "stdout",
     "output_type": "stream",
     "text": [
      "<class 'int'>\n"
     ]
    }
   ],
   "source": [
    "a = 1\n",
    "print(type(a))"
   ]
  },
  {
   "cell_type": "code",
   "execution_count": 7,
   "id": "434869ef",
   "metadata": {},
   "outputs": [
    {
     "name": "stdout",
     "output_type": "stream",
     "text": [
      "<class 'str'>\n"
     ]
    }
   ],
   "source": [
    "b = \"1\"\n",
    "print(type(b))"
   ]
  },
  {
   "cell_type": "markdown",
   "id": "317b0525",
   "metadata": {},
   "source": [
    "* The following are the standard or built-in data types in Python:"
   ]
  },
  {
   "cell_type": "markdown",
   "id": "7ffff386",
   "metadata": {},
   "source": [
    "### Numeric Data:\n",
    "* The numeric data type in Python represents the data that has a numeric value. A numeric value can be an integer, a floating number, or even a complex number."
   ]
  },
  {
   "cell_type": "markdown",
   "id": "4fdad1c6",
   "metadata": {},
   "source": [
    "**1. Integers**\n",
    "– This value is represented by int class. It contains positive or negative whole numbers (without fractions or decimals)."
   ]
  },
  {
   "cell_type": "code",
   "execution_count": 8,
   "id": "f56b71ec",
   "metadata": {},
   "outputs": [
    {
     "name": "stdout",
     "output_type": "stream",
     "text": [
      "5\n",
      "The Data_type of a1 is: <class 'int'>\n"
     ]
    }
   ],
   "source": [
    "a1 = 5\n",
    "print(a1)\n",
    "print(\"The Data_type of a1 is:\",type(a1))"
   ]
  },
  {
   "cell_type": "code",
   "execution_count": 9,
   "id": "fd6d008d",
   "metadata": {},
   "outputs": [
    {
     "name": "stdout",
     "output_type": "stream",
     "text": [
      "-8\n",
      "The Data_type of a2 is: <class 'int'>\n"
     ]
    }
   ],
   "source": [
    "a2 = -8\n",
    "print(a2)\n",
    "print(\"The Data_type of a2 is:\",type(a2))"
   ]
  },
  {
   "cell_type": "markdown",
   "id": "37ca573c",
   "metadata": {},
   "source": [
    "**2.Float**\n",
    "– This value is represented by the float class. It is a real number with a floating-point representation. It is specified by a decimal point."
   ]
  },
  {
   "cell_type": "code",
   "execution_count": 10,
   "id": "626ceee3",
   "metadata": {},
   "outputs": [
    {
     "name": "stdout",
     "output_type": "stream",
     "text": [
      "7.349\n",
      "The Data_type of a3 is: <class 'float'>\n"
     ]
    }
   ],
   "source": [
    "a3 = 7.349\n",
    "print(a3)\n",
    "print(\"The Data_type of a3 is:\",type(a3))"
   ]
  },
  {
   "cell_type": "code",
   "execution_count": 11,
   "id": "2306fcd8",
   "metadata": {},
   "outputs": [
    {
     "name": "stdout",
     "output_type": "stream",
     "text": [
      "-0.45\n",
      "The Data_type of a4 is: <class 'float'>\n"
     ]
    }
   ],
   "source": [
    "a4 = -0.45\n",
    "print(a4)\n",
    "print(\"The Data_type of a4 is:\", type(a3))"
   ]
  },
  {
   "cell_type": "markdown",
   "id": "e42ddb8b",
   "metadata": {},
   "source": [
    "**3. Complex Number** - A complex number is represented by a complex class. It is specified as (real part) + (imaginary part)j."
   ]
  },
  {
   "cell_type": "code",
   "execution_count": 16,
   "id": "ccc4079b",
   "metadata": {},
   "outputs": [
    {
     "name": "stdout",
     "output_type": "stream",
     "text": [
      "(6+2j)\n",
      "The Data_type of a5 is: <class 'complex'>\n"
     ]
    }
   ],
   "source": [
    "a5 = 6 + 2j\n",
    "print(a5)\n",
    "print(\"The Data_type of a5 is:\", type(a5))"
   ]
  },
  {
   "cell_type": "markdown",
   "id": "b4476e3d",
   "metadata": {},
   "source": [
    "### String Data Type(str):"
   ]
  },
  {
   "cell_type": "markdown",
   "id": "331bb2d8",
   "metadata": {},
   "source": [
    "**1. String** -  A string is a collection of one or more characters put in a single quote, double-quote, or triple-quote. It is represented by str class.  "
   ]
  },
  {
   "cell_type": "code",
   "execution_count": 21,
   "id": "8d417658",
   "metadata": {},
   "outputs": [
    {
     "name": "stdout",
     "output_type": "stream",
     "text": [
      "Hello World\n",
      "The Data_type of a6 is: <class 'str'>\n"
     ]
    }
   ],
   "source": [
    "a6 = \"\"\"Hello World\"\"\"\n",
    "print(a6)\n",
    "print(\"The Data_type of a6 is:\",type(a6))"
   ]
  },
  {
   "cell_type": "code",
   "execution_count": 18,
   "id": "e3dee60b",
   "metadata": {},
   "outputs": [
    {
     "name": "stdout",
     "output_type": "stream",
     "text": [
      "Python\n",
      "The Data_type of a7 is: <class 'str'>\n"
     ]
    }
   ],
   "source": [
    "a7 = \"Python\"\n",
    "print(a7)\n",
    "print(\"The Data_type of a7 is:\",type(a7))"
   ]
  },
  {
   "cell_type": "markdown",
   "id": "1955f9e9",
   "metadata": {},
   "source": [
    "### Boolean Data"
   ]
  },
  {
   "cell_type": "markdown",
   "id": "eccb6b34",
   "metadata": {},
   "source": [
    "Data type with one of the two built-in values, True or False. Boolean objects that are equal to True are truthy **(true)**, and those equal to False are falsy **(false)**."
   ]
  },
  {
   "cell_type": "markdown",
   "id": "c7391b04",
   "metadata": {},
   "source": [
    "**Note** – True and False with capital ‘T’ and ‘F’ are valid booleans otherwise python will throw an error. "
   ]
  },
  {
   "cell_type": "code",
   "execution_count": 19,
   "id": "8a7119ef",
   "metadata": {},
   "outputs": [
    {
     "name": "stdout",
     "output_type": "stream",
     "text": [
      "True\n",
      "The Data_type of a8 is: <class 'bool'>\n"
     ]
    }
   ],
   "source": [
    "a8 = True\n",
    "print(a8)\n",
    "print(\"The Data_type of a8 is:\",type(a8))"
   ]
  },
  {
   "cell_type": "code",
   "execution_count": 20,
   "id": "8bbe382f",
   "metadata": {},
   "outputs": [
    {
     "name": "stdout",
     "output_type": "stream",
     "text": [
      "False\n",
      "The Data_type of a9 is: <class 'bool'>\n"
     ]
    }
   ],
   "source": [
    "a9 = False\n",
    "print(a9)\n",
    "print(\"The Data_type of a9 is:\",type(a9))"
   ]
  },
  {
   "cell_type": "markdown",
   "id": "4d61fc8d",
   "metadata": {},
   "source": [
    "### Sequence Data Type in Python"
   ]
  },
  {
   "cell_type": "markdown",
   "id": "162a9731",
   "metadata": {},
   "source": [
    "**1. List** - As a datatype, a list represents an ordered collection of items. Each item in a list can be of any data type, including integers, strings, other lists, or even more complex objects separated by a comma and enclosed within **square brackets[ ]**. Lists are mutable, meaning you can modify them after they are created by adding, removing, or changing elements."
   ]
  },
  {
   "cell_type": "code",
   "execution_count": 23,
   "id": "25ab963a",
   "metadata": {},
   "outputs": [
    {
     "name": "stdout",
     "output_type": "stream",
     "text": [
      "[]\n",
      "The Data_type of list1 is: <class 'list'>\n"
     ]
    }
   ],
   "source": [
    "# create empty list\n",
    "list1 = []\n",
    "print(list1)\n",
    "print(\"The Data_type of list1 is:\",type(list1))"
   ]
  },
  {
   "cell_type": "code",
   "execution_count": 24,
   "id": "f210e961",
   "metadata": {},
   "outputs": [
    {
     "name": "stdout",
     "output_type": "stream",
     "text": [
      "[1, 2, 3, 4, 5]\n",
      "The Data_type of list2 is: <class 'list'>\n"
     ]
    }
   ],
   "source": [
    "# create list store int value\n",
    "list2 = [1,2,3,4,5]\n",
    "print(list2)\n",
    "print(\"The Data_type of list2 is:\",type(list2))"
   ]
  },
  {
   "cell_type": "code",
   "execution_count": 25,
   "id": "932f6b35",
   "metadata": {},
   "outputs": [
    {
     "name": "stdout",
     "output_type": "stream",
     "text": [
      "[1, 'Hello_World', 3.14, True]\n",
      "The Data_type of list3 is: <class 'list'>\n"
     ]
    }
   ],
   "source": [
    "# create list store multiple datatype\n",
    "list3 = [1, \"Hello_World\", 3.14, True]\n",
    "print(list3)\n",
    "print(\"The Data_type of list3 is:\",type(list3))"
   ]
  },
  {
   "cell_type": "code",
   "execution_count": 26,
   "id": "5199ea26",
   "metadata": {},
   "outputs": [
    {
     "name": "stdout",
     "output_type": "stream",
     "text": [
      "[[1, 2, 3], [4, 5, 6]]\n",
      "The Data_type of list4 is: <class 'list'>\n"
     ]
    }
   ],
   "source": [
    "# create nested list\n",
    "list4 = [[1,2,3],[4,5,6]]\n",
    "print(list4)\n",
    "print(\"The Data_type of list4 is:\",type(list4))"
   ]
  },
  {
   "cell_type": "markdown",
   "id": "5909410c",
   "metadata": {},
   "source": [
    "**2. Tuple** - A tuple in Python is a built-in data type used to store an ordered collection of elements. Unlike lists, tuples are immutable, meaning once they are created, their elements cannot be changed, added, or removed. However, the elements within a tuple can be of any data type, including integers, strings, floats, other tuples, or even more complex objects.\n",
    "You can create a tuple in Python by enclosing the elements within **parentheses ()** separated by commas. "
   ]
  },
  {
   "cell_type": "code",
   "execution_count": 30,
   "id": "75dbd1c7",
   "metadata": {},
   "outputs": [
    {
     "name": "stdout",
     "output_type": "stream",
     "text": [
      "()\n",
      "The Data_Type of Tup1 is: <class 'tuple'>\n"
     ]
    }
   ],
   "source": [
    "# Create empty tuple\n",
    "Tup1 = ()\n",
    "print(Tup1)\n",
    "print(\"The Data_Type of Tup1 is:\",type(Tup1))"
   ]
  },
  {
   "cell_type": "code",
   "execution_count": 31,
   "id": "f6ded283",
   "metadata": {},
   "outputs": [
    {
     "name": "stdout",
     "output_type": "stream",
     "text": [
      "(1, 2, 3, 4, 5)\n",
      "The Data_type of Tup2 is: <class 'tuple'>\n"
     ]
    }
   ],
   "source": [
    "# Create tuple store int\n",
    "Tup2 = (1,2,3,4,5)\n",
    "print(Tup2)\n",
    "print(\"The Data_type of Tup2 is:\",type(Tup2))"
   ]
  },
  {
   "cell_type": "code",
   "execution_count": 32,
   "id": "06e4317c",
   "metadata": {},
   "outputs": [
    {
     "name": "stdout",
     "output_type": "stream",
     "text": [
      "(2, 'Python', 9.8, False)\n",
      "The Data_type of Tup3 is: <class 'tuple'>\n"
     ]
    }
   ],
   "source": [
    "# create tuple store multiple datatype\n",
    "Tup3 = (2,\"Python\",9.8,False)\n",
    "print(Tup3)\n",
    "print(\"The Data_type of Tup3 is:\",type(Tup3))"
   ]
  },
  {
   "cell_type": "code",
   "execution_count": 33,
   "id": "c5870353",
   "metadata": {},
   "outputs": [
    {
     "name": "stdout",
     "output_type": "stream",
     "text": [
      "((3, 2, 1), (6, 5, 4))\n",
      "The Data_type of Tup4 is: <class 'tuple'>\n"
     ]
    }
   ],
   "source": [
    "# Create nested tuple\n",
    "Tup4 = ((3,2,1),(6,5,4))\n",
    "print(Tup4)\n",
    "print(\"The Data_type of Tup4 is:\",type(Tup4))"
   ]
  },
  {
   "cell_type": "markdown",
   "id": "0180e179",
   "metadata": {},
   "source": [
    "**3. Dictionary** - In Python, a dictionary is a built-in data type used to store collections of key-value pairs. It is an unordered, mutable, and iterable data structure. Each key in a dictionary must be unique and immutable, while the corresponding value can be of any data type and mutable.\n",
    "You can create a dictionary in Python by enclosing the elements within **curly brackets { }** separated by commas."
   ]
  },
  {
   "cell_type": "code",
   "execution_count": 34,
   "id": "5028ceeb",
   "metadata": {},
   "outputs": [
    {
     "name": "stdout",
     "output_type": "stream",
     "text": [
      "{}\n",
      "The Data_type of dict1 is: <class 'dict'>\n"
     ]
    }
   ],
   "source": [
    "# create empty dictionary\n",
    "dict1 = {}\n",
    "print(dict1)\n",
    "print(\"The Data_type of dict1 is:\",type(dict1))"
   ]
  },
  {
   "cell_type": "code",
   "execution_count": 37,
   "id": "851665c3",
   "metadata": {},
   "outputs": [
    {
     "name": "stdout",
     "output_type": "stream",
     "text": [
      "{'number': [1, 2, 3, 4, 5]}\n",
      "The Data_type of dict2 is: <class 'dict'>\n"
     ]
    }
   ],
   "source": [
    "# create dictionary store int\n",
    "dict2 = {\"number\":[1,2,3,4,5]}\n",
    "print(dict2)\n",
    "print(\"The Data_type of dict2 is:\",type(dict2))"
   ]
  },
  {
   "cell_type": "code",
   "execution_count": 39,
   "id": "8dee2e79",
   "metadata": {},
   "outputs": [
    {
     "name": "stdout",
     "output_type": "stream",
     "text": [
      "{'int': 1, 'str': 'dictionary', 'float': 6.5, 'Bool': True}\n",
      "The Data_type of dict3 is: <class 'dict'>\n"
     ]
    }
   ],
   "source": [
    "# create dictionary store multiple datatype\n",
    "dict3 = {\"int\":1,\"str\":\"dictionary\",\"float\":6.5,\"Bool\":True}\n",
    "print(dict3)\n",
    "print(\"The Data_type of dict3 is:\",type(dict3))"
   ]
  },
  {
   "cell_type": "markdown",
   "id": "5b935e26",
   "metadata": {},
   "source": [
    "**4. Set** - In Python, a set is a built-in data type used to store an unordered collection of unique elements. Sets are mutable, meaning you can modify them after they are created by adding or removing elements, but unlike lists or tuples, they do not support indexing.\n",
    "You can create a set in Python using **curly braces {}** or the **set()** constructor."
   ]
  },
  {
   "cell_type": "code",
   "execution_count": 41,
   "id": "fc3e7831",
   "metadata": {},
   "outputs": [
    {
     "name": "stdout",
     "output_type": "stream",
     "text": [
      "{}\n",
      "The Data_type of set1 is: <class 'dict'>\n"
     ]
    }
   ],
   "source": [
    "# create empty set\n",
    "set1 = {}\n",
    "print(set1)\n",
    "print(\"The Data_type of set1 is:\",type(set1))"
   ]
  },
  {
   "cell_type": "markdown",
   "id": "b2e40fcb",
   "metadata": {},
   "source": [
    "**Note-** - To create an empty set, you should use the set() constructor because Python uses curly braces {} for both dictionary literals and set literals, and the interpreter interprets {} as an empty dictionary by default."
   ]
  },
  {
   "cell_type": "code",
   "execution_count": 42,
   "id": "9b74f54a",
   "metadata": {},
   "outputs": [
    {
     "name": "stdout",
     "output_type": "stream",
     "text": [
      "set()\n",
      "The Data_type of set1 is: <class 'set'>\n"
     ]
    }
   ],
   "source": [
    "set1 = set()\n",
    "print(set1)\n",
    "print(\"The Data_type of set1 is:\", type(set1))"
   ]
  },
  {
   "cell_type": "code",
   "execution_count": 45,
   "id": "348d31cb",
   "metadata": {},
   "outputs": [
    {
     "name": "stdout",
     "output_type": "stream",
     "text": [
      "{1, 2, 3}\n",
      "The Data_type of set2 is: <class 'set'>\n"
     ]
    }
   ],
   "source": [
    "set2 = {1, 2, 2, 3, 3, 3}\n",
    "print(set2)\n",
    "print(\"The Data_type of set2 is:\",type(set2))\n",
    "# here Sets automatically eliminate duplicate elements"
   ]
  }
 ],
 "metadata": {
  "kernelspec": {
   "display_name": "Python 3 (ipykernel)",
   "language": "python",
   "name": "python3"
  },
  "language_info": {
   "codemirror_mode": {
    "name": "ipython",
    "version": 3
   },
   "file_extension": ".py",
   "mimetype": "text/x-python",
   "name": "python",
   "nbconvert_exporter": "python",
   "pygments_lexer": "ipython3",
   "version": "3.9.13"
  }
 },
 "nbformat": 4,
 "nbformat_minor": 5
}
