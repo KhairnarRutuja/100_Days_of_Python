{
 "cells": [
  {
   "cell_type": "markdown",
   "id": "0caed99b-52b4-457a-920d-abab7704c999",
   "metadata": {},
   "source": [
    "### 1. Python program to sort Python Dictionaries by Keys"
   ]
  },
  {
   "cell_type": "code",
   "execution_count": 8,
   "id": "71b29ecb-834c-4bf4-b436-eb9dea0b66f1",
   "metadata": {},
   "outputs": [
    {
     "name": "stdout",
     "output_type": "stream",
     "text": [
      "{'banglore': 3000, 'delhi': 1000, 'mumbai': 2000}\n"
     ]
    }
   ],
   "source": [
    "distance = {'delhi':1000,'mumbai':2000,'banglore':3000}\n",
    "print(dict(sorted(distance.items())))"
   ]
  },
  {
   "cell_type": "code",
   "execution_count": 9,
   "id": "db81bd47-4165-471b-8fc2-4aa424147d08",
   "metadata": {},
   "outputs": [
    {
     "name": "stdout",
     "output_type": "stream",
     "text": [
      "{'mumbai': 2000, 'delhi': 1000, 'banglore': 3000}\n"
     ]
    }
   ],
   "source": [
    "distance = {'delhi':1000,'mumbai':2000,'banglore':3000}\n",
    "print(dict(sorted(distance.items(),reverse=True)))"
   ]
  },
  {
   "cell_type": "code",
   "execution_count": 6,
   "id": "fa435046-e0dd-433f-b23c-0c9ece1ec983",
   "metadata": {},
   "outputs": [
    {
     "name": "stdout",
     "output_type": "stream",
     "text": [
      "[['delhi', 1000], ['mumbai', 2000], ['banglore', 3000]]\n"
     ]
    },
    {
     "data": {
      "text/plain": [
       "[['banglore', 3000], ['delhi', 1000], ['mumbai', 2000]]"
      ]
     },
     "execution_count": 6,
     "metadata": {},
     "output_type": "execute_result"
    }
   ],
   "source": [
    "distance = {'delhi':1000,'mumbai':2000,'banglore':3000}\n",
    "list1 = []\n",
    "for key,value in distance.items():\n",
    "    list1.append([key,value])\n",
    "print(list1)\n",
    "sorted(list1)"
   ]
  },
  {
   "cell_type": "markdown",
   "id": "8d3fc74b-d4cb-47bf-8aa6-3a84e26d1d24",
   "metadata": {},
   "source": [
    "### 2. Python program to sort Python Dictionaries by Values"
   ]
  },
  {
   "cell_type": "code",
   "execution_count": 16,
   "id": "956b582c-c8de-476b-a231-327745a0887a",
   "metadata": {},
   "outputs": [
    {
     "data": {
      "text/plain": [
       "{'delhi': 1000, 'mumbai': 2000, 'banglore': 3000}"
      ]
     },
     "execution_count": 16,
     "metadata": {},
     "output_type": "execute_result"
    }
   ],
   "source": [
    "distance = {'delhi':1000,'mumbai':2000,'banglore':3000}\n",
    "\n",
    "sorted_val = dict(sorted(distance.items() ,key = lambda x: x[1]))\n",
    "sorted_val\n"
   ]
  },
  {
   "cell_type": "code",
   "execution_count": 17,
   "id": "2582dfcc-26b3-4bad-9321-3bc207908e95",
   "metadata": {},
   "outputs": [
    {
     "data": {
      "text/plain": [
       "{'banglore': 3000, 'mumbai': 2000, 'delhi': 1000}"
      ]
     },
     "execution_count": 17,
     "metadata": {},
     "output_type": "execute_result"
    }
   ],
   "source": [
    "distance = {'delhi':1000,'mumbai':2000,'banglore':3000}\n",
    "\n",
    "rev_sort = dict(sorted(distance.items() , key = lambda x: x[1],reverse = True))\n",
    "rev_sort"
   ]
  },
  {
   "cell_type": "markdown",
   "id": "4094e38c-3dc1-4792-835e-9012e18e92e2",
   "metadata": {},
   "source": [
    "### 3. Python program to find the sum of all items in a dictionaryn"
   ]
  },
  {
   "cell_type": "code",
   "execution_count": 19,
   "id": "9ce44a94-d1b2-4449-950a-824c78b40d9f",
   "metadata": {},
   "outputs": [
    {
     "name": "stdout",
     "output_type": "stream",
     "text": [
      "293\n"
     ]
    }
   ],
   "source": [
    "my_dict = {'data1': 100, 'data2': -54, 'data3': 247}\n",
    "\n",
    "total_sum = sum(my_dict.values())\n",
    "print(total_sum)"
   ]
  },
  {
   "cell_type": "markdown",
   "id": "f69b897a-8623-4d12-a54f-a27046553e99",
   "metadata": {},
   "source": [
    "### 4. Python program to remove a key from a dictionary"
   ]
  },
  {
   "cell_type": "code",
   "execution_count": 30,
   "id": "eac408f1-bd4c-449c-8fdb-831506b83fa9",
   "metadata": {},
   "outputs": [
    {
     "name": "stdout",
     "output_type": "stream",
     "text": [
      "{'data2': -54, 'data3': 247}\n"
     ]
    }
   ],
   "source": [
    "my_dict = {'data1': 100, 'data2': -54, 'data3': 247}\n",
    "my_dict.pop('data1')\n",
    "print(my_dict)"
   ]
  },
  {
   "cell_type": "markdown",
   "id": "886d8b4f-5edd-404c-9b76-18da0e9cd0d7",
   "metadata": {},
   "source": [
    "### 5. Python program to merge two Dictionaries"
   ]
  },
  {
   "cell_type": "code",
   "execution_count": 32,
   "id": "c893ce1a-2252-4fa1-b644-e557a65b4589",
   "metadata": {},
   "outputs": [
    {
     "name": "stdout",
     "output_type": "stream",
     "text": [
      "{'a': 1, 'b': 2, 'd': 3, 'c': 4}\n"
     ]
    }
   ],
   "source": [
    "dict1 = {'a': 1, 'b': 2}\n",
    "dict2 = {'d': 3, 'c': 4}\n",
    "dict1.update(dict2)\n",
    "print(dict1)"
   ]
  },
  {
   "cell_type": "code",
   "execution_count": 33,
   "id": "d1d31bb0-dd84-47f1-895b-c821e2174927",
   "metadata": {},
   "outputs": [
    {
     "name": "stdout",
     "output_type": "stream",
     "text": [
      "{'a': 1, 'b': 2, 'd': 3, 'c': 4}\n"
     ]
    }
   ],
   "source": [
    "print(dict1 | dict2)"
   ]
  },
  {
   "cell_type": "code",
   "execution_count": 34,
   "id": "6d5e70c6-21df-42d1-8800-e8e23129bffc",
   "metadata": {},
   "outputs": [
    {
     "name": "stdout",
     "output_type": "stream",
     "text": [
      "{'a': 1, 'b': 2, 'd': 3, 'c': 4}\n"
     ]
    }
   ],
   "source": [
    "merge_dict = {**dict1 , **dict2}\n",
    "print(merge_dict)"
   ]
  },
  {
   "cell_type": "markdown",
   "id": "c5600b95-0397-4eb2-a0d0-c48f57c31478",
   "metadata": {},
   "source": [
    "### 6. Python program to convert a list of Tuples into Dictionary"
   ]
  },
  {
   "cell_type": "code",
   "execution_count": 35,
   "id": "fd58371a-281b-4f81-acf5-7c1c120f5da1",
   "metadata": {},
   "outputs": [
    {
     "data": {
      "text/plain": [
       "{'a': 1, 'b': 2, 'c': 3}"
      ]
     },
     "execution_count": 35,
     "metadata": {},
     "output_type": "execute_result"
    }
   ],
   "source": [
    "tuples_list = [('a', 1), ('b', 2), ('c', 3)]\n",
    "\n",
    "d = dict(tuples_list)\n",
    "d"
   ]
  },
  {
   "cell_type": "markdown",
   "id": "4b442b03-729c-435e-abc9-57c94935ba34",
   "metadata": {},
   "source": [
    "### 7. Counting the frequencies in a list using a dictionary in Python"
   ]
  },
  {
   "cell_type": "code",
   "execution_count": 40,
   "id": "88e74fc4-943b-4f3e-8995-083491b93b28",
   "metadata": {},
   "outputs": [
    {
     "name": "stdout",
     "output_type": "stream",
     "text": [
      "{'apple': 2, 'red': 3, 'pear': 1}\n"
     ]
    }
   ],
   "source": [
    "my_list = ['apple', 'red', 'apple', 'red', 'red', 'pear']\n",
    "\n",
    "dict1 = {}\n",
    "\n",
    "for key in my_list:\n",
    "    value = my_list.count(key)\n",
    "    dict1.update({key:value})\n",
    "print(dict1)"
   ]
  },
  {
   "cell_type": "markdown",
   "id": "c40ac400-914b-4303-a6c2-d618dfce4828",
   "metadata": {},
   "source": [
    "### 8. Python program to find the size of a dictionary"
   ]
  },
  {
   "cell_type": "code",
   "execution_count": 41,
   "id": "0eebfbe7-cd9c-448f-ae6b-11ca7d764de9",
   "metadata": {},
   "outputs": [
    {
     "name": "stdout",
     "output_type": "stream",
     "text": [
      "184\n"
     ]
    }
   ],
   "source": [
    "import sys\n",
    "d1 = {'a': 1, 'b': 2, 'c': 3}\n",
    "size = sys.getsizeof(d1)\n",
    "print(size)"
   ]
  },
  {
   "cell_type": "markdown",
   "id": "d1532f49-0072-4f13-af40-5cc2146af360",
   "metadata": {},
   "source": [
    "### 9. Program to create grade calculator in python"
   ]
  },
  {
   "cell_type": "code",
   "execution_count": 50,
   "id": "0934b356-9944-47d2-93ad-454329202df7",
   "metadata": {},
   "outputs": [
    {
     "name": "stdout",
     "output_type": "stream",
     "text": [
      "Enter marks obtained in 5 subjects: \n"
     ]
    },
    {
     "name": "stdin",
     "output_type": "stream",
     "text": [
      "Enter Math marks 89\n"
     ]
    },
    {
     "name": "stdout",
     "output_type": "stream",
     "text": [
      "MAth_sub_marks:  89\n"
     ]
    },
    {
     "name": "stdin",
     "output_type": "stream",
     "text": [
      "Enter Science marks 78\n"
     ]
    },
    {
     "name": "stdout",
     "output_type": "stream",
     "text": [
      "Sciemce_sub_marks:  78\n"
     ]
    },
    {
     "name": "stdin",
     "output_type": "stream",
     "text": [
      "Enter Hindi marks 45\n"
     ]
    },
    {
     "name": "stdout",
     "output_type": "stream",
     "text": [
      "Hindi_sub_marks:  45\n"
     ]
    },
    {
     "name": "stdin",
     "output_type": "stream",
     "text": [
      "Enter History marks 56\n"
     ]
    },
    {
     "name": "stdout",
     "output_type": "stream",
     "text": [
      "History_sub_marks:  56\n"
     ]
    },
    {
     "name": "stdin",
     "output_type": "stream",
     "text": [
      "Enter English marks 92\n"
     ]
    },
    {
     "name": "stdout",
     "output_type": "stream",
     "text": [
      "English_sub_marks:  92\n",
      "Your Grade is C\n"
     ]
    }
   ],
   "source": [
    "print(\"Enter marks obtained in 5 subjects: \")\n",
    "\n",
    "Math_marks = int(input(\"Enter Math marks\"))\n",
    "print(\"MAth_sub_marks: \",Math_marks)\n",
    "\n",
    "Science_marks = int(input(\"Enter Science marks\"))\n",
    "print(\"Sciemce_sub_marks: \",Science_marks)\n",
    "\n",
    "Hindi_marks = int(input(\"Enter Hindi marks\"))\n",
    "print(\"Hindi_sub_marks: \",Hindi_marks)\n",
    "\n",
    "History_marks = int(input(\"Enter History marks\"))\n",
    "print(\"History_sub_marks: \",History_marks)\n",
    "\n",
    "English_marks = int(input(\"Enter English marks\"))\n",
    "print(\"English_sub_marks: \",English_marks)\n",
    "\n",
    "Total_Marks = Math_marks + Science_marks + Hindi_marks + History_marks + English_marks\n",
    "Average = Total_Marks / 5\n",
    "\n",
    "if Average >= 91 and Average <= 100:\n",
    "    print(\"Your Grade is A\")\n",
    "elif Average >= 81 and Average <= 91:\n",
    "    print(\"Your Grade is B\")\n",
    "elif Average >= 71 and Average <= 81:\n",
    "    print(\"Your Grade is C\")\n",
    "elif Average >= 61 and Average <= 71:\n",
    "    print(\"Your Grade is D\")\n",
    "elif Average >= 51 and Average <= 61:\n",
    "    print(\"Your Grade is D\")\n",
    "elif Average >= 41 and Average <= 51:\n",
    "    print(\"Your Grade is E\")\n",
    "else:\n",
    "    print(\"Your Are Fail\")"
   ]
  },
  {
   "cell_type": "markdown",
   "id": "4e545306-6acd-4b60-9821-c35fbe203075",
   "metadata": {},
   "source": [
    "### 10. Write a python program Convert List to list of dictionaries"
   ]
  },
  {
   "cell_type": "code",
   "execution_count": 53,
   "id": "e2c09187-001f-4961-b6e1-b57e4941142f",
   "metadata": {},
   "outputs": [
    {
     "name": "stdout",
     "output_type": "stream",
     "text": [
      "{'name': 'Alice', 'age': 25, 'city': 'New York'}\n",
      "{'name': 'Bob', 'age': 30, 'city': 'Los Angeles'}\n",
      "{'name': 'Charlie', 'age': 22, 'city': 'Chicago'}\n"
     ]
    }
   ],
   "source": [
    "key = [\"name\", \"age\", \"city\"]  \n",
    "values  = [[\"Alice\", 25, \"New York\"], [\"Bob\", 30, \"Los Angeles\"], [\"Charlie\", 22, \"Chicago\"]] \n",
    "\n",
    "for value in values:\n",
    "    print(dict(zip(key , value)))"
   ]
  },
  {
   "cell_type": "markdown",
   "id": "71d11591-aa7e-435c-9881-6011e469cc4d",
   "metadata": {},
   "source": [
    "### 11. Convert list of list to dictionary"
   ]
  },
  {
   "cell_type": "code",
   "execution_count": 59,
   "id": "ad15c11b-28e0-47c3-9868-5e89516e0b4c",
   "metadata": {},
   "outputs": [
    {
     "name": "stdout",
     "output_type": "stream",
     "text": [
      "{'a': 1, 'b': 2, 'c': 3}\n"
     ]
    }
   ],
   "source": [
    "a = [[\"a\", 1], [\"b\", 2], [\"c\", 3]]\n",
    "res = {key:value for key,value in a}\n",
    "print(res)"
   ]
  },
  {
   "cell_type": "markdown",
   "id": "41f4c4e1-f6f8-488e-b331-a5fdce8f0ae3",
   "metadata": {},
   "source": [
    "### 12. Convert list of dictionaries to list of lists"
   ]
  },
  {
   "cell_type": "code",
   "execution_count": 63,
   "id": "eea0e0cd-b3af-4d92-882a-6502cf666931",
   "metadata": {},
   "outputs": [
    {
     "data": {
      "text/plain": [
       "[['Alice', 25], ['Bob', 30]]"
      ]
     },
     "execution_count": 63,
     "metadata": {},
     "output_type": "execute_result"
    }
   ],
   "source": [
    "a = [{'name': 'Alice', 'age': 25}, {'name': 'Bob', 'age': 30}] \n",
    "\n",
    "res = [[j for j in i.values()] for i in a]\n",
    "res"
   ]
  },
  {
   "cell_type": "markdown",
   "id": "9e5423d3-2d69-488d-aab7-2636b893ddf6",
   "metadata": {},
   "source": [
    "### 13. Convert a list of tuple into dictionary"
   ]
  },
  {
   "cell_type": "code",
   "execution_count": 64,
   "id": "a8bb16fd-da55-4357-94c4-15976e63c8a6",
   "metadata": {},
   "outputs": [
    {
     "name": "stdout",
     "output_type": "stream",
     "text": [
      "{'a': 1, 'b': 2, 'c': 3}\n"
     ]
    }
   ],
   "source": [
    "a = [(\"a\", 1), (\"b\", 2), (\"c\", 3)]\n",
    "\n",
    "res = dict(a)\n",
    "print(res)"
   ]
  },
  {
   "cell_type": "markdown",
   "id": "fba825ed-e1ef-4e6e-bc30-39eedf1fa8de",
   "metadata": {},
   "source": [
    "### 14. Python program to convert string to dictionary"
   ]
  },
  {
   "cell_type": "code",
   "execution_count": 68,
   "id": "a1c93828-c1b4-4191-bc81-9be8f93bd764",
   "metadata": {},
   "outputs": [
    {
     "name": "stdout",
     "output_type": "stream",
     "text": [
      "{'a': 1, 'b': 2, 'c': 3}\n",
      "<class 'dict'>\n"
     ]
    }
   ],
   "source": [
    "s = \"{'a': 1, 'b': 2, 'c': 3}\"\n",
    "\n",
    "res = eval(s)\n",
    "print(res)\n",
    "print(type(res))"
   ]
  },
  {
   "cell_type": "markdown",
   "id": "d9c845a2-a643-48f0-9871-4a5c8738e093",
   "metadata": {},
   "source": [
    "### 15. Python to convert matrix to dictionary"
   ]
  },
  {
   "cell_type": "code",
   "execution_count": 71,
   "id": "6c5bb09f-e39c-429e-8c1b-09cff552ce32",
   "metadata": {},
   "outputs": [
    {
     "data": {
      "text/plain": [
       "{1: array([0, 1, 2, 3]), 2: array([4, 5, 6, 7]), 3: array([ 8,  9, 10, 11])}"
      ]
     },
     "execution_count": 71,
     "metadata": {},
     "output_type": "execute_result"
    }
   ],
   "source": [
    "import numpy as np\n",
    "matrix = np.arange(12).reshape(3,4)\n",
    "\n",
    "res = {key+1 : value for key,value in enumerate(matrix)}\n",
    "res"
   ]
  },
  {
   "cell_type": "markdown",
   "id": "7ec540a4-fa09-4640-a74e-7fc8730fcd0d",
   "metadata": {},
   "source": [
    "### 16. Create nested dictionary using given list"
   ]
  },
  {
   "cell_type": "code",
   "execution_count": 74,
   "id": "2d7cddbd-67cd-4840-8d00-e76761ce5fc2",
   "metadata": {},
   "outputs": [
    {
     "name": "stdout",
     "output_type": "stream",
     "text": [
      "{8: {'Gfg': 4}, 3: {'is': 5}, 2: {'best': 9}}\n"
     ]
    }
   ],
   "source": [
    "a = {'Gfg': 4, 'is': 5, 'best': 9}\n",
    "b = [8, 3, 2]\n",
    "\n",
    "res = {key: {k:v} for key,(k,v) in zip(b,a.items())}\n",
    "print(res)"
   ]
  },
  {
   "cell_type": "markdown",
   "id": "f588da36-b190-4c0b-a261-8bb7a66b4f33",
   "metadata": {},
   "source": [
    "### 17. Group similar items to dictionary values list"
   ]
  },
  {
   "cell_type": "code",
   "execution_count": 80,
   "id": "38369f30-c6b7-4158-b2a7-42b463f953f8",
   "metadata": {},
   "outputs": [
    {
     "data": {
      "text/plain": [
       "{'orange': ['orange'],\n",
       " 'banana': ['banana', 'banana'],\n",
       " 'apple': ['apple', 'apple']}"
      ]
     },
     "execution_count": 80,
     "metadata": {},
     "output_type": "execute_result"
    }
   ],
   "source": [
    "a = ['apple', 'banana', 'apple', 'orange', 'banana']\n",
    "\n",
    "d =  {i:[i] * a.count(i) for i in set(a)}\n",
    "d"
   ]
  },
  {
   "cell_type": "markdown",
   "id": "5e63b00f-038d-49aa-a4f6-d1b4f4455e31",
   "metadata": {},
   "source": [
    "### 18. ways to remove a key from dictionary"
   ]
  },
  {
   "cell_type": "code",
   "execution_count": 82,
   "id": "2fd1d957-0b7f-4e3f-85ef-1e40db23a6b8",
   "metadata": {},
   "outputs": [
    {
     "name": "stdout",
     "output_type": "stream",
     "text": [
      "{'name': 'Nikki', 'city': 'New York'}\n"
     ]
    }
   ],
   "source": [
    "a = {\"name\": \"Nikki\", \"age\": 25, \"city\": \"New York\"}\n",
    "\n",
    "remove_key = a.pop('age')\n",
    "print(a)"
   ]
  },
  {
   "cell_type": "code",
   "execution_count": 84,
   "id": "775cff4d-c19b-4c8a-a2ca-07323574c181",
   "metadata": {},
   "outputs": [
    {
     "name": "stdout",
     "output_type": "stream",
     "text": [
      "{'name': 'Nikki', 'age': 25}\n"
     ]
    }
   ],
   "source": [
    "a = {\"name\": \"Nikki\", \"age\": 25, \"city\": \"New York\"}\n",
    "del a['city']\n",
    "print(a)"
   ]
  },
  {
   "cell_type": "code",
   "execution_count": 85,
   "id": "9ed9d533-264a-468c-889e-34590e99658b",
   "metadata": {},
   "outputs": [
    {
     "name": "stdout",
     "output_type": "stream",
     "text": [
      "{'name': 'Nikki', 'age': 25}\n"
     ]
    }
   ],
   "source": [
    "a = {\"name\": \"Nikki\", \"age\": 25, \"city\": \"New York\"}\n",
    "a.popitem()\n",
    "print(a)"
   ]
  },
  {
   "cell_type": "code",
   "execution_count": null,
   "id": "535f9bde-8a87-4477-9ca0-eebcb66caa7d",
   "metadata": {},
   "outputs": [],
   "source": []
  }
 ],
 "metadata": {
  "kernelspec": {
   "display_name": "Python 3 (ipykernel)",
   "language": "python",
   "name": "python3"
  },
  "language_info": {
   "codemirror_mode": {
    "name": "ipython",
    "version": 3
   },
   "file_extension": ".py",
   "mimetype": "text/x-python",
   "name": "python",
   "nbconvert_exporter": "python",
   "pygments_lexer": "ipython3",
   "version": "3.12.4"
  }
 },
 "nbformat": 4,
 "nbformat_minor": 5
}
