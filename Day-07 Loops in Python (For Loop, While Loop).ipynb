{
 "cells": [
  {
   "cell_type": "markdown",
   "id": "79230856",
   "metadata": {},
   "source": [
    "## Loops"
   ]
  },
  {
   "cell_type": "markdown",
   "id": "8974b680",
   "metadata": {},
   "source": [
    "In Python, a loop is a programming construct that allows you to repeatedly execute a block of code.\n",
    "There are two main types of loops in Python:\n",
    "\n",
    "### 1.  For loop:\n",
    "This loop iterates over a sequence (such as a list, tuple, string, or range) and executes the block of code for each item in the sequence.\n",
    "### 2. While loop:\n",
    "This loop repeatedly executes a block of code as long as a specified condition is true."
   ]
  },
  {
   "cell_type": "markdown",
   "id": "ad1635f7",
   "metadata": {},
   "source": [
    "### Write a Python program that takes an integer from the user and prints its multiplication table from 1 to 10."
   ]
  },
  {
   "cell_type": "code",
   "execution_count": 1,
   "id": "2353862c",
   "metadata": {},
   "outputs": [
    {
     "name": "stdout",
     "output_type": "stream",
     "text": [
      "Enter the number6\n",
      "6 X 1 = 6\n",
      "6 X 2 = 12\n",
      "6 X 3 = 18\n",
      "6 X 4 = 24\n",
      "6 X 5 = 30\n",
      "6 X 6 = 36\n",
      "6 X 7 = 42\n",
      "6 X 8 = 48\n",
      "6 X 9 = 54\n",
      "6 X 10 = 60\n"
     ]
    }
   ],
   "source": [
    "Num = int(input(\"Enter the number\"))\n",
    "\n",
    "for i in range(1,11):\n",
    "    print(Num, \"X\" , i , \"=\" ,Num*i)"
   ]
  },
  {
   "cell_type": "code",
   "execution_count": 2,
   "id": "e88f15e8",
   "metadata": {},
   "outputs": [
    {
     "name": "stdout",
     "output_type": "stream",
     "text": [
      "Enter the num: 7\n",
      "7 X 1 = 7\n",
      "7 X 2 = 14\n",
      "7 X 3 = 21\n",
      "7 X 4 = 28\n",
      "7 X 5 = 35\n",
      "7 X 6 = 42\n",
      "7 X 7 = 49\n",
      "7 X 8 = 56\n",
      "7 X 9 = 63\n",
      "7 X 10 = 70\n"
     ]
    }
   ],
   "source": [
    "Num = int(input(\"Enter the num: \"))\n",
    "\n",
    "i = 1\n",
    "while i<11:\n",
    "    print (Num, \"X\" , i , \"=\" ,Num * i)\n",
    "    i +=1"
   ]
  },
  {
   "cell_type": "markdown",
   "id": "f332a0b9",
   "metadata": {},
   "source": [
    "### Guessing Game: Write a Python program that generates a random number between 1 and 100 and asks the user to guess it. Provide feedback to the user if their guess is too high or too low. Continue the game until the user guesses the correct number."
   ]
  },
  {
   "cell_type": "code",
   "execution_count": 3,
   "id": "06e32de7",
   "metadata": {},
   "outputs": [
    {
     "name": "stdout",
     "output_type": "stream",
     "text": [
      "Guess the number56\n",
      "wrong! guess higher number\n",
      "Guess the number89\n",
      "Wrong! guess lower number\n",
      "Guess the number78\n",
      "Wrong! guess lower number\n",
      "Guess the number65\n",
      "wrong! guess higher number\n",
      "Guess the number70\n",
      "Wrong! guess lower number\n",
      "Guess the number69\n",
      "Wrong! guess lower number\n",
      "Guess the number68\n",
      "Correct guess\n",
      "Attempts 7\n"
     ]
    }
   ],
   "source": [
    "import random\n",
    "jackpot = random.randint(1,100)\n",
    "\n",
    "guess = int(input(\"Guess the number\"))\n",
    "counter = 1\n",
    "while guess != jackpot:\n",
    "    if guess < jackpot:\n",
    "        print(\"wrong! guess higher number\")\n",
    "    else:\n",
    "        print(\"Wrong! guess lower number\")\n",
    "    \n",
    "    guess = int(input(\"Guess the number\"))\n",
    "    counter +=1\n",
    "else:\n",
    "    print(\"Correct guess\")\n",
    "    print(\"Attempts\",counter) "
   ]
  },
  {
   "cell_type": "markdown",
   "id": "564b1dd9",
   "metadata": {},
   "source": [
    "### Sum of Even Numbers: Write a Python program to calculate the sum of all even numbers from 1 to 100."
   ]
  },
  {
   "cell_type": "code",
   "execution_count": 4,
   "id": "81bc12ba",
   "metadata": {},
   "outputs": [
    {
     "name": "stdout",
     "output_type": "stream",
     "text": [
      "[2, 4, 6, 8, 10, 12, 14, 16, 18, 20, 22, 24, 26, 28, 30, 32, 34, 36, 38, 40, 42, 44, 46, 48, 50, 52, 54, 56, 58, 60, 62, 64, 66, 68, 70, 72, 74, 76, 78, 80, 82, 84, 86, 88, 90, 92, 94, 96, 98]\n"
     ]
    }
   ],
   "source": [
    "even_numbers = []\n",
    "for i in range(1, 100):\n",
    "    if i % 2 == 0:\n",
    "        even_numbers += [i]\n",
    "\n",
    "print(even_numbers)"
   ]
  },
  {
   "cell_type": "code",
   "execution_count": 9,
   "id": "0d40fbc0",
   "metadata": {},
   "outputs": [
    {
     "name": "stdout",
     "output_type": "stream",
     "text": [
      "[2, 4, 6, 8, 10, 12, 14, 16, 18, 20, 22, 24, 26, 28, 30, 32, 34, 36, 38, 40, 42, 44, 46, 48, 50, 52, 54, 56, 58, 60, 62, 64, 66, 68, 70, 72, 74, 76, 78, 80, 82, 84, 86, 88, 90, 92, 94, 96, 98]\n"
     ]
    }
   ],
   "source": [
    "i = 1\n",
    "even_numbers = []\n",
    "\n",
    "while i < 100:\n",
    "    if i % 2 == 0:\n",
    "        even_numbers += [i]\n",
    "    i += 1\n",
    "\n",
    "print(even_numbers)"
   ]
  },
  {
   "cell_type": "markdown",
   "id": "1836eed7",
   "metadata": {},
   "source": [
    "### Nested Loops"
   ]
  },
  {
   "cell_type": "code",
   "execution_count": 10,
   "id": "422e1e96",
   "metadata": {},
   "outputs": [
    {
     "name": "stdout",
     "output_type": "stream",
     "text": [
      "Enter row num5\n",
      "* \n",
      "* * \n",
      "* * * \n",
      "* * * * \n",
      "* * * * * \n"
     ]
    }
   ],
   "source": [
    "row = int(input(\"Enter row num\"))\n",
    "\n",
    "for i in range(1,row+1):\n",
    "    for j in range(1,i+1):\n",
    "        print(\"*\",end=\" \")\n",
    "    print()"
   ]
  },
  {
   "cell_type": "code",
   "execution_count": 15,
   "id": "3c8cc7c5",
   "metadata": {},
   "outputs": [
    {
     "name": "stdout",
     "output_type": "stream",
     "text": [
      "Enter the number of row4\n",
      "1 \n",
      "1 2 1 \n",
      "1 2 3 2 1 \n",
      "1 2 3 4 3 2 1 \n"
     ]
    }
   ],
   "source": [
    "row = int(input('Enter the number of row'))\n",
    "\n",
    "for i in range(1,row+1):\n",
    "    for j in range(1,i+1):\n",
    "        print(j,end=\" \")\n",
    "    for k in range(i-1,0,-1):\n",
    "        print(k,end=\" \")\n",
    "        \n",
    "    print()  "
   ]
  },
  {
   "cell_type": "code",
   "execution_count": 23,
   "id": "1f65e8bc",
   "metadata": {},
   "outputs": [
    {
     "name": "stdout",
     "output_type": "stream",
     "text": [
      "Enter the number of row5\n",
      "\n",
      "1 \n",
      "2 1 \n",
      "3 2 1 \n",
      "4 3 2 1 \n"
     ]
    }
   ],
   "source": [
    "row = int(input('Enter the number of row'))\n",
    "\n",
    "for i in range(1,row+1):\n",
    "    for j in range(i-1,0,-1):\n",
    "        print(j,end=\" \")\n",
    "    print()\n"
   ]
  },
  {
   "cell_type": "code",
   "execution_count": 27,
   "id": "6fb89b81",
   "metadata": {},
   "outputs": [
    {
     "name": "stdout",
     "output_type": "stream",
     "text": [
      "Enter the number of row5\n",
      "1 \n",
      "1 2 \n",
      "1 2 3 \n",
      "1 2 3 4 \n",
      "1 2 3 4 5 \n"
     ]
    }
   ],
   "source": [
    "row = int(input('Enter the number of row'))\n",
    "\n",
    "for i in range(1,row+1):\n",
    "    for j in range(1,i+1):\n",
    "        print(j,end=\" \")\n",
    "    print()"
   ]
  },
  {
   "cell_type": "code",
   "execution_count": 29,
   "id": "a48efd33",
   "metadata": {},
   "outputs": [
    {
     "name": "stdout",
     "output_type": "stream",
     "text": [
      "Enter the number of row5\n",
      "1 \n",
      "2 2 \n",
      "3 3 3 \n",
      "4 4 4 4 \n",
      "5 5 5 5 5 \n"
     ]
    }
   ],
   "source": [
    "row = int(input('Enter the number of row'))\n",
    "\n",
    "for i in range(1,row+1):\n",
    "    for j in range(1,i+1):\n",
    "        print(i,end=\" \")\n",
    "    print()"
   ]
  },
  {
   "cell_type": "code",
   "execution_count": null,
   "id": "9d6732af",
   "metadata": {},
   "outputs": [],
   "source": []
  }
 ],
 "metadata": {
  "kernelspec": {
   "display_name": "Python 3 (ipykernel)",
   "language": "python",
   "name": "python3"
  },
  "language_info": {
   "codemirror_mode": {
    "name": "ipython",
    "version": 3
   },
   "file_extension": ".py",
   "mimetype": "text/x-python",
   "name": "python",
   "nbconvert_exporter": "python",
   "pygments_lexer": "ipython3",
   "version": "3.11.7"
  }
 },
 "nbformat": 4,
 "nbformat_minor": 5
}
