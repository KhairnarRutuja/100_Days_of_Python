{
 "cells": [
  {
   "cell_type": "markdown",
   "id": "d02c3aa9-a49a-436c-8e12-15214ac5896c",
   "metadata": {},
   "source": [
    "## 1. np.sort\n",
    "\n",
    "Return a sorted copy of an array"
   ]
  },
  {
   "cell_type": "markdown",
   "id": "b94df3b2-4dad-4630-a989-5da396725dd0",
   "metadata": {},
   "source": [
    "numpy.sort(a, axis=-1, kind=None, order=None, *, stable=None)"
   ]
  },
  {
   "cell_type": "code",
   "execution_count": 1,
   "id": "9dcf7eb6-bbf0-4e83-b54d-41740c937b28",
   "metadata": {},
   "outputs": [
    {
     "data": {
      "text/plain": [
       "array([93, 94, 24, 28, 61, 53, 64, 26,  9, 74, 21, 24, 64, 92, 47])"
      ]
     },
     "execution_count": 1,
     "metadata": {},
     "output_type": "execute_result"
    }
   ],
   "source": [
    "import numpy as np\n",
    "a = np.random.randint(1,100,15)\n",
    "a"
   ]
  },
  {
   "cell_type": "code",
   "execution_count": 2,
   "id": "dfc6b84f-d6b4-42ce-a494-8a2f9a8b10af",
   "metadata": {},
   "outputs": [
    {
     "data": {
      "text/plain": [
       "array([ 9, 21, 24, 24, 26, 28, 47, 53, 61, 64, 64, 74, 92, 93, 94])"
      ]
     },
     "execution_count": 2,
     "metadata": {},
     "output_type": "execute_result"
    }
   ],
   "source": [
    "np.sort(a)"
   ]
  },
  {
   "cell_type": "code",
   "execution_count": 6,
   "id": "d58a0136-b4f6-45d5-a717-c62fd55de0ef",
   "metadata": {},
   "outputs": [
    {
     "data": {
      "text/plain": [
       "array([94, 93, 92, 74, 64, 64, 61, 53, 47, 28, 26, 24, 24, 21,  9])"
      ]
     },
     "execution_count": 6,
     "metadata": {},
     "output_type": "execute_result"
    }
   ],
   "source": [
    "np.sort(a)[::-1]"
   ]
  },
  {
   "cell_type": "code",
   "execution_count": 3,
   "id": "c01542ff-7271-4cdc-9e8f-71390f631347",
   "metadata": {},
   "outputs": [
    {
     "data": {
      "text/plain": [
       "array([[89, 28, 46, 67],\n",
       "       [28, 44, 91, 75],\n",
       "       [82, 48, 94, 16],\n",
       "       [61, 91, 68, 65],\n",
       "       [53, 87, 60,  6],\n",
       "       [89, 93, 48, 36]])"
      ]
     },
     "execution_count": 3,
     "metadata": {},
     "output_type": "execute_result"
    }
   ],
   "source": [
    "b = np.random.randint(1,100,24).reshape(6,4)\n",
    "b"
   ]
  },
  {
   "cell_type": "code",
   "execution_count": 4,
   "id": "2953794e-2319-4952-9c06-e1c647ca3cd2",
   "metadata": {},
   "outputs": [
    {
     "data": {
      "text/plain": [
       "array([[28, 46, 67, 89],\n",
       "       [28, 44, 75, 91],\n",
       "       [16, 48, 82, 94],\n",
       "       [61, 65, 68, 91],\n",
       "       [ 6, 53, 60, 87],\n",
       "       [36, 48, 89, 93]])"
      ]
     },
     "execution_count": 4,
     "metadata": {},
     "output_type": "execute_result"
    }
   ],
   "source": [
    "np.sort(b)"
   ]
  },
  {
   "cell_type": "code",
   "execution_count": 5,
   "id": "d0ef6cac-fb2a-4476-a38a-3ce6d53dc4f1",
   "metadata": {},
   "outputs": [
    {
     "data": {
      "text/plain": [
       "array([[28, 28, 46,  6],\n",
       "       [53, 44, 48, 16],\n",
       "       [61, 48, 60, 36],\n",
       "       [82, 87, 68, 65],\n",
       "       [89, 91, 91, 67],\n",
       "       [89, 93, 94, 75]])"
      ]
     },
     "execution_count": 5,
     "metadata": {},
     "output_type": "execute_result"
    }
   ],
   "source": [
    "np.sort(b,axis = 0)"
   ]
  },
  {
   "cell_type": "markdown",
   "id": "380dbac9-d8fb-4a23-9f87-b8f1b1a17188",
   "metadata": {},
   "source": [
    "## 2. np.append\n",
    "\n",
    "The numpy.append() appends values along the mentioned axis at the end of the array."
   ]
  },
  {
   "cell_type": "code",
   "execution_count": 7,
   "id": "8db233f2-ec9b-443e-88bf-4ab008835f9e",
   "metadata": {},
   "outputs": [
    {
     "data": {
      "text/plain": [
       "array([93, 94, 24, 28, 61, 53, 64, 26,  9, 74, 21, 24, 64, 92, 47])"
      ]
     },
     "execution_count": 7,
     "metadata": {},
     "output_type": "execute_result"
    }
   ],
   "source": [
    "a"
   ]
  },
  {
   "cell_type": "code",
   "execution_count": 8,
   "id": "25774cc7-668d-4227-84ef-9e33f6bcb424",
   "metadata": {},
   "outputs": [
    {
     "data": {
      "text/plain": [
       "array([ 93,  94,  24,  28,  61,  53,  64,  26,   9,  74,  21,  24,  64,\n",
       "        92,  47, 200])"
      ]
     },
     "execution_count": 8,
     "metadata": {},
     "output_type": "execute_result"
    }
   ],
   "source": [
    "np.append(a,200)"
   ]
  },
  {
   "cell_type": "code",
   "execution_count": 17,
   "id": "060d4c03-56a0-435f-b78d-35b07d0678d7",
   "metadata": {},
   "outputs": [
    {
     "data": {
      "text/plain": [
       "array([[89., 28., 46., 67.,  1.],\n",
       "       [28., 44., 91., 75.,  1.],\n",
       "       [82., 48., 94., 16.,  1.],\n",
       "       [61., 91., 68., 65.,  1.],\n",
       "       [53., 87., 60.,  6.,  1.],\n",
       "       [89., 93., 48., 36.,  1.]])"
      ]
     },
     "execution_count": 17,
     "metadata": {},
     "output_type": "execute_result"
    }
   ],
   "source": [
    "np.append(b,np.ones((b.shape[0],1)),axis = 1)"
   ]
  },
  {
   "cell_type": "markdown",
   "id": "14ebab8b-2c98-4c69-9653-011aabe88c66",
   "metadata": {},
   "source": [
    "## 3. np.concatenate\n",
    "numpy.concatenate() function concentanate a sequence of arrays along an existing axis."
   ]
  },
  {
   "cell_type": "code",
   "execution_count": 19,
   "id": "e76a023e-521c-43b1-82f7-24dbfe3ae8cb",
   "metadata": {},
   "outputs": [
    {
     "name": "stdout",
     "output_type": "stream",
     "text": [
      "[[0 1 2]\n",
      " [3 4 5]]\n",
      "[[ 6  7  8]\n",
      " [ 9 10 11]]\n"
     ]
    },
    {
     "data": {
      "text/plain": [
       "array([[ 0,  1,  2],\n",
       "       [ 3,  4,  5],\n",
       "       [ 6,  7,  8],\n",
       "       [ 9, 10, 11]])"
      ]
     },
     "execution_count": 19,
     "metadata": {},
     "output_type": "execute_result"
    }
   ],
   "source": [
    "c = np.arange(6).reshape(2,3)\n",
    "d = np.arange(6,12).reshape(2,3)\n",
    "\n",
    "print(c)\n",
    "print(d)\n",
    "\n",
    "np.concatenate((c,d))"
   ]
  },
  {
   "cell_type": "code",
   "execution_count": 21,
   "id": "a39523ff-d37a-4325-9307-ed9960664e4b",
   "metadata": {},
   "outputs": [
    {
     "data": {
      "text/plain": [
       "array([[ 0,  1,  2,  6,  7,  8],\n",
       "       [ 3,  4,  5,  9, 10, 11]])"
      ]
     },
     "execution_count": 21,
     "metadata": {},
     "output_type": "execute_result"
    }
   ],
   "source": [
    "np.concatenate((c,d),axis=1)"
   ]
  },
  {
   "cell_type": "markdown",
   "id": "a291fb81-4a52-41a0-b301-1c96c11a67a3",
   "metadata": {},
   "source": [
    "## 4. np.unique\n",
    "with the help og np.unique() method,we can get the unique values from an array given as parameter in np.unique() method."
   ]
  },
  {
   "cell_type": "code",
   "execution_count": 23,
   "id": "575f460c-334b-4a05-b4aa-e7d99006abf7",
   "metadata": {},
   "outputs": [
    {
     "name": "stdout",
     "output_type": "stream",
     "text": [
      "[1 1 2 2 3 3 4 4 5 5 6 6]\n",
      "[[1 2 3 1]\n",
      " [1 2 3 2]]\n",
      "[1 2 3]\n"
     ]
    }
   ],
   "source": [
    "e = np.array([1,1,2,2,3,3,4,4,5,5,6,6])\n",
    "f = np.array([[1,2,3,1],[1,2,3,2]])\n",
    "print(e)\n",
    "print(f)\n",
    "\n",
    "np.unique(e)\n",
    "print(np.unique(f))"
   ]
  },
  {
   "cell_type": "markdown",
   "id": "0e28fed5-7ee9-4551-ad73-a940fd266978",
   "metadata": {},
   "source": [
    "## 5. np.expand_dims\n",
    "with the help of Numpy.expand_dims() method. we can get the expanded dimensions of an array."
   ]
  },
  {
   "cell_type": "code",
   "execution_count": 24,
   "id": "6e0ee029-71a5-4dfb-9a4e-441e388ebf79",
   "metadata": {},
   "outputs": [
    {
     "data": {
      "text/plain": [
       "array([93, 94, 24, 28, 61, 53, 64, 26,  9, 74, 21, 24, 64, 92, 47])"
      ]
     },
     "execution_count": 24,
     "metadata": {},
     "output_type": "execute_result"
    }
   ],
   "source": [
    "a"
   ]
  },
  {
   "cell_type": "code",
   "execution_count": 25,
   "id": "e7b8f80a-32ac-4968-a10a-f4f6822a2712",
   "metadata": {},
   "outputs": [
    {
     "data": {
      "text/plain": [
       "array([[93, 94, 24, 28, 61, 53, 64, 26,  9, 74, 21, 24, 64, 92, 47]])"
      ]
     },
     "execution_count": 25,
     "metadata": {},
     "output_type": "execute_result"
    }
   ],
   "source": [
    "np.expand_dims(a,axis = 0)"
   ]
  },
  {
   "cell_type": "code",
   "execution_count": 26,
   "id": "2cb4e528-1bbb-4a11-a01c-a38465d88b5a",
   "metadata": {},
   "outputs": [
    {
     "data": {
      "text/plain": [
       "array([[93],\n",
       "       [94],\n",
       "       [24],\n",
       "       [28],\n",
       "       [61],\n",
       "       [53],\n",
       "       [64],\n",
       "       [26],\n",
       "       [ 9],\n",
       "       [74],\n",
       "       [21],\n",
       "       [24],\n",
       "       [64],\n",
       "       [92],\n",
       "       [47]])"
      ]
     },
     "execution_count": 26,
     "metadata": {},
     "output_type": "execute_result"
    }
   ],
   "source": [
    "np.expand_dims(a,axis = 1)"
   ]
  },
  {
   "cell_type": "markdown",
   "id": "3761065a-d45e-423a-875a-c339e28a16d2",
   "metadata": {},
   "source": [
    "## 6. np.where\n",
    "The numpy.where() function returns the indices of elements in an input array where the given condition is satisfied."
   ]
  },
  {
   "cell_type": "code",
   "execution_count": 27,
   "id": "5228c5f5-b955-4277-a189-35101292b054",
   "metadata": {},
   "outputs": [
    {
     "data": {
      "text/plain": [
       "array([93, 94, 24, 28, 61, 53, 64, 26,  9, 74, 21, 24, 64, 92, 47])"
      ]
     },
     "execution_count": 27,
     "metadata": {},
     "output_type": "execute_result"
    }
   ],
   "source": [
    "a"
   ]
  },
  {
   "cell_type": "code",
   "execution_count": 28,
   "id": "21be89a4-2f64-4364-a37c-835514601a88",
   "metadata": {},
   "outputs": [
    {
     "data": {
      "text/plain": [
       "(array([ 0,  1,  4,  5,  6,  9, 12, 13], dtype=int64),)"
      ]
     },
     "execution_count": 28,
     "metadata": {},
     "output_type": "execute_result"
    }
   ],
   "source": [
    "# find all indices with value greater than 50\n",
    "np.where(a > 50)"
   ]
  },
  {
   "cell_type": "code",
   "execution_count": 29,
   "id": "b15e31d0-a266-4056-94a7-3a170e459c9b",
   "metadata": {},
   "outputs": [
    {
     "data": {
      "text/plain": [
       "array([ 0,  0, 24, 28,  0,  0,  0, 26,  9,  0, 21, 24,  0,  0, 47])"
      ]
     },
     "execution_count": 29,
     "metadata": {},
     "output_type": "execute_result"
    }
   ],
   "source": [
    "# replace all values > 50 with 0\n",
    "np.where(a > 50,0,a)"
   ]
  },
  {
   "cell_type": "code",
   "execution_count": 30,
   "id": "16feafd6-25cb-4306-a5c7-d39c43283b2f",
   "metadata": {},
   "outputs": [
    {
     "data": {
      "text/plain": [
       "array([93,  0,  0,  0, 61, 53,  0,  0,  9,  0, 21,  0,  0,  0, 47])"
      ]
     },
     "execution_count": 30,
     "metadata": {},
     "output_type": "execute_result"
    }
   ],
   "source": [
    "# replace all even numbers with 0\n",
    "np.where(a % 2 == 0 , 0, a)"
   ]
  },
  {
   "cell_type": "markdown",
   "id": "3521bef2-e0a0-4826-979b-ebe7a564ebd8",
   "metadata": {},
   "source": [
    "## 7. np.argmax\n",
    "The numpy.argmax() function return indices of the max element of the array in a particular axis"
   ]
  },
  {
   "cell_type": "code",
   "execution_count": 31,
   "id": "165b5552-e4d6-4cbe-aa53-058df1b49d1b",
   "metadata": {},
   "outputs": [
    {
     "data": {
      "text/plain": [
       "array([93, 94, 24, 28, 61, 53, 64, 26,  9, 74, 21, 24, 64, 92, 47])"
      ]
     },
     "execution_count": 31,
     "metadata": {},
     "output_type": "execute_result"
    }
   ],
   "source": [
    "a"
   ]
  },
  {
   "cell_type": "code",
   "execution_count": 32,
   "id": "b8d5d9bb-86e1-4848-9242-9ef8e19508cb",
   "metadata": {},
   "outputs": [
    {
     "data": {
      "text/plain": [
       "1"
      ]
     },
     "execution_count": 32,
     "metadata": {},
     "output_type": "execute_result"
    }
   ],
   "source": [
    "np.argmax(a)"
   ]
  },
  {
   "cell_type": "code",
   "execution_count": 33,
   "id": "edca68b0-49e9-4137-b44a-54dabe151dff",
   "metadata": {},
   "outputs": [
    {
     "data": {
      "text/plain": [
       "array([[89, 28, 46, 67],\n",
       "       [28, 44, 91, 75],\n",
       "       [82, 48, 94, 16],\n",
       "       [61, 91, 68, 65],\n",
       "       [53, 87, 60,  6],\n",
       "       [89, 93, 48, 36]])"
      ]
     },
     "execution_count": 33,
     "metadata": {},
     "output_type": "execute_result"
    }
   ],
   "source": [
    "b"
   ]
  },
  {
   "cell_type": "code",
   "execution_count": 34,
   "id": "18230c0d-ee66-4669-8135-1b4dbd023cfc",
   "metadata": {},
   "outputs": [
    {
     "data": {
      "text/plain": [
       "10"
      ]
     },
     "execution_count": 34,
     "metadata": {},
     "output_type": "execute_result"
    }
   ],
   "source": [
    "np.argmax(b)"
   ]
  },
  {
   "cell_type": "code",
   "execution_count": 35,
   "id": "d8484f36-1c1a-4561-9a9a-0a961dda5661",
   "metadata": {},
   "outputs": [
    {
     "data": {
      "text/plain": [
       "array([0, 5, 2, 1], dtype=int64)"
      ]
     },
     "execution_count": 35,
     "metadata": {},
     "output_type": "execute_result"
    }
   ],
   "source": [
    "np.argmax(b,axis=0)"
   ]
  },
  {
   "cell_type": "code",
   "execution_count": 36,
   "id": "e4125d30-a704-47f6-a2c2-081d6259f189",
   "metadata": {},
   "outputs": [
    {
     "data": {
      "text/plain": [
       "array([0, 2, 2, 1, 1, 1], dtype=int64)"
      ]
     },
     "execution_count": 36,
     "metadata": {},
     "output_type": "execute_result"
    }
   ],
   "source": [
    "np.argmax(b,axis=1)"
   ]
  },
  {
   "cell_type": "markdown",
   "id": "6c4f636b-e54e-4e0d-80a7-b9c076b32b20",
   "metadata": {},
   "source": [
    "## 8. np.argmin\n",
    "The numpy.argmin() function return indices of the min element of the array in a particular axis"
   ]
  },
  {
   "cell_type": "code",
   "execution_count": 37,
   "id": "3e186b97-4b4a-4ab3-bda4-fa6cbb97a41e",
   "metadata": {},
   "outputs": [
    {
     "data": {
      "text/plain": [
       "array([93, 94, 24, 28, 61, 53, 64, 26,  9, 74, 21, 24, 64, 92, 47])"
      ]
     },
     "execution_count": 37,
     "metadata": {},
     "output_type": "execute_result"
    }
   ],
   "source": [
    "a"
   ]
  },
  {
   "cell_type": "code",
   "execution_count": 38,
   "id": "9fb487f8-0a21-4a4c-8cee-64772b41b0ed",
   "metadata": {},
   "outputs": [
    {
     "data": {
      "text/plain": [
       "8"
      ]
     },
     "execution_count": 38,
     "metadata": {},
     "output_type": "execute_result"
    }
   ],
   "source": [
    "np.argmin(a)"
   ]
  },
  {
   "cell_type": "code",
   "execution_count": 39,
   "id": "ac82460d-fe62-4dea-aa2c-d39f0ab91471",
   "metadata": {},
   "outputs": [
    {
     "data": {
      "text/plain": [
       "array([[89, 28, 46, 67],\n",
       "       [28, 44, 91, 75],\n",
       "       [82, 48, 94, 16],\n",
       "       [61, 91, 68, 65],\n",
       "       [53, 87, 60,  6],\n",
       "       [89, 93, 48, 36]])"
      ]
     },
     "execution_count": 39,
     "metadata": {},
     "output_type": "execute_result"
    }
   ],
   "source": [
    "b"
   ]
  },
  {
   "cell_type": "code",
   "execution_count": 40,
   "id": "df1bee2b-1a8b-4a88-8c9f-278668d14c05",
   "metadata": {},
   "outputs": [
    {
     "data": {
      "text/plain": [
       "array([1, 0, 3, 0, 3, 3], dtype=int64)"
      ]
     },
     "execution_count": 40,
     "metadata": {},
     "output_type": "execute_result"
    }
   ],
   "source": [
    "np.argmin(b,axis=1)"
   ]
  },
  {
   "cell_type": "markdown",
   "id": "fb955c1e-b79d-4077-821b-97be41ba1fdb",
   "metadata": {},
   "source": [
    "## 9. np.cumsum\n",
    "numpy.cumsum() function is used when we want to compute the cumulative sum of array elements over a given axis."
   ]
  },
  {
   "cell_type": "code",
   "execution_count": 41,
   "id": "489b6475-3bd2-426d-a214-5da2dea56652",
   "metadata": {},
   "outputs": [
    {
     "data": {
      "text/plain": [
       "array([93, 94, 24, 28, 61, 53, 64, 26,  9, 74, 21, 24, 64, 92, 47])"
      ]
     },
     "execution_count": 41,
     "metadata": {},
     "output_type": "execute_result"
    }
   ],
   "source": [
    "a"
   ]
  },
  {
   "cell_type": "code",
   "execution_count": 42,
   "id": "ffd66d79-83d9-42c6-ae15-6510617055e0",
   "metadata": {},
   "outputs": [
    {
     "data": {
      "text/plain": [
       "array([ 93, 187, 211, 239, 300, 353, 417, 443, 452, 526, 547, 571, 635,\n",
       "       727, 774])"
      ]
     },
     "execution_count": 42,
     "metadata": {},
     "output_type": "execute_result"
    }
   ],
   "source": [
    "np.cumsum(a)"
   ]
  },
  {
   "cell_type": "code",
   "execution_count": 43,
   "id": "3096f06a-5b1c-4c46-95ea-9922cd65c245",
   "metadata": {},
   "outputs": [
    {
     "data": {
      "text/plain": [
       "array([[89, 28, 46, 67],\n",
       "       [28, 44, 91, 75],\n",
       "       [82, 48, 94, 16],\n",
       "       [61, 91, 68, 65],\n",
       "       [53, 87, 60,  6],\n",
       "       [89, 93, 48, 36]])"
      ]
     },
     "execution_count": 43,
     "metadata": {},
     "output_type": "execute_result"
    }
   ],
   "source": [
    "b"
   ]
  },
  {
   "cell_type": "code",
   "execution_count": 49,
   "id": "5df1fc21-6364-4c8e-88ca-8b50e3874596",
   "metadata": {},
   "outputs": [
    {
     "data": {
      "text/plain": [
       "array([[ 89,  28,  46,  67],\n",
       "       [117,  72, 137, 142],\n",
       "       [199, 120, 231, 158],\n",
       "       [260, 211, 299, 223],\n",
       "       [313, 298, 359, 229],\n",
       "       [402, 391, 407, 265]])"
      ]
     },
     "execution_count": 49,
     "metadata": {},
     "output_type": "execute_result"
    }
   ],
   "source": [
    "# column wise\n",
    "np.cumsum(b,axis=0)"
   ]
  },
  {
   "cell_type": "code",
   "execution_count": 48,
   "id": "264ab206-bf08-4a11-9d52-2a62ac87e728",
   "metadata": {},
   "outputs": [
    {
     "data": {
      "text/plain": [
       "array([[ 89, 117, 163, 230],\n",
       "       [ 28,  72, 163, 238],\n",
       "       [ 82, 130, 224, 240],\n",
       "       [ 61, 152, 220, 285],\n",
       "       [ 53, 140, 200, 206],\n",
       "       [ 89, 182, 230, 266]])"
      ]
     },
     "execution_count": 48,
     "metadata": {},
     "output_type": "execute_result"
    }
   ],
   "source": [
    "# row wise\n",
    "np.cumsum(b,axis=1)"
   ]
  },
  {
   "cell_type": "markdown",
   "id": "f2ff0864-2c6a-4905-af66-38710c59cf46",
   "metadata": {},
   "source": [
    "## 10. np.cumprod\r\n",
    "numpy.cuprodm() function is used when we want toproductm of array elements over a given axis."
   ]
  },
  {
   "cell_type": "code",
   "execution_count": 45,
   "id": "9a1cff15-1363-49f1-b4a8-75ce1ec16666",
   "metadata": {},
   "outputs": [
    {
     "data": {
      "text/plain": [
       "array([         93,        8742,      209808,     5874624,   358352064,\n",
       "        1812790208,    54456320,  1415864320,  -142123008, -1927168000,\n",
       "       -1815822336,  -630063104, -1669332992,  1040187392,  1644167168])"
      ]
     },
     "execution_count": 45,
     "metadata": {},
     "output_type": "execute_result"
    }
   ],
   "source": [
    "np.cumprod(a)"
   ]
  },
  {
   "cell_type": "code",
   "execution_count": 50,
   "id": "25b3e688-cb9a-4b74-8b54-8183981deee3",
   "metadata": {},
   "outputs": [
    {
     "data": {
      "text/plain": [
       "array([[         89,          28,          46,          67],\n",
       "       [       2492,        1232,        4186,        5025],\n",
       "       [     204344,       59136,      393484,       80400],\n",
       "       [   12464984,     5381376,    26756912,     5226000],\n",
       "       [  660644152,   468179712,  1605414720,    31356000],\n",
       "       [-1332212616,   591040256,  -249504768,  1128816000]])"
      ]
     },
     "execution_count": 50,
     "metadata": {},
     "output_type": "execute_result"
    }
   ],
   "source": [
    "np.cumprod(b,axis=0)"
   ]
  },
  {
   "cell_type": "code",
   "execution_count": 51,
   "id": "a0eed4a0-c2c7-4255-8a70-b3e07b004c15",
   "metadata": {},
   "outputs": [
    {
     "data": {
      "text/plain": [
       "array([[      89,     2492,   114632,  7680344],\n",
       "       [      28,     1232,   112112,  8408400],\n",
       "       [      82,     3936,   369984,  5919744],\n",
       "       [      61,     5551,   377468, 24535420],\n",
       "       [      53,     4611,   276660,  1659960],\n",
       "       [      89,     8277,   397296, 14302656]])"
      ]
     },
     "execution_count": 51,
     "metadata": {},
     "output_type": "execute_result"
    }
   ],
   "source": [
    "np.cumprod(b,axis=1)"
   ]
  },
  {
   "cell_type": "markdown",
   "id": "860deea1-9030-453e-be88-b35ab05b43ba",
   "metadata": {},
   "source": [
    "## 11. np.percentile\n",
    "numpy.percentile() function used to compute the nth percentile of the given data (array elements) along the specified axis."
   ]
  },
  {
   "cell_type": "code",
   "execution_count": 52,
   "id": "a2b2f7d8-8974-449b-ab7b-3171d3b6ff52",
   "metadata": {},
   "outputs": [
    {
     "data": {
      "text/plain": [
       "array([93, 94, 24, 28, 61, 53, 64, 26,  9, 74, 21, 24, 64, 92, 47])"
      ]
     },
     "execution_count": 52,
     "metadata": {},
     "output_type": "execute_result"
    }
   ],
   "source": [
    "a"
   ]
  },
  {
   "cell_type": "code",
   "execution_count": 53,
   "id": "a3b4cdf7-727b-4a8c-b798-d92477c0c92c",
   "metadata": {},
   "outputs": [
    {
     "data": {
      "text/plain": [
       "94.0"
      ]
     },
     "execution_count": 53,
     "metadata": {},
     "output_type": "execute_result"
    }
   ],
   "source": [
    "np.percentile(a,100)"
   ]
  },
  {
   "cell_type": "code",
   "execution_count": 54,
   "id": "1aa79acc-eacf-4076-a4e8-4947510dc793",
   "metadata": {},
   "outputs": [
    {
     "data": {
      "text/plain": [
       "9.0"
      ]
     },
     "execution_count": 54,
     "metadata": {},
     "output_type": "execute_result"
    }
   ],
   "source": [
    "np.percentile(a,0)"
   ]
  },
  {
   "cell_type": "code",
   "execution_count": 55,
   "id": "d6a30870-7f7a-4f95-822e-681fa4c42c28",
   "metadata": {},
   "outputs": [
    {
     "data": {
      "text/plain": [
       "53.0"
      ]
     },
     "execution_count": 55,
     "metadata": {},
     "output_type": "execute_result"
    }
   ],
   "source": [
    "np.percentile(a,50)"
   ]
  },
  {
   "cell_type": "markdown",
   "id": "078a207d-1bfd-4fe0-8032-84f6f953c71f",
   "metadata": {},
   "source": [
    "## 12. np.histogram\n",
    "Numpy has a built in numpy.histogram() function which represent the frequency of data distribution in the graphical form"
   ]
  },
  {
   "cell_type": "code",
   "execution_count": 56,
   "id": "ddc24211-5fcd-4499-8025-613e3caa0cb1",
   "metadata": {},
   "outputs": [
    {
     "data": {
      "text/plain": [
       "array([93, 94, 24, 28, 61, 53, 64, 26,  9, 74, 21, 24, 64, 92, 47])"
      ]
     },
     "execution_count": 56,
     "metadata": {},
     "output_type": "execute_result"
    }
   ],
   "source": [
    "a"
   ]
  },
  {
   "cell_type": "code",
   "execution_count": 59,
   "id": "3524d754-735b-4608-bc4a-81adccac168c",
   "metadata": {},
   "outputs": [
    {
     "data": {
      "text/plain": [
       "(array([1, 0, 5, 0, 1, 1, 3, 1, 0, 3], dtype=int64),\n",
       " array([  0,  10,  20,  30,  40,  50,  60,  70,  80,  90, 100]))"
      ]
     },
     "execution_count": 59,
     "metadata": {},
     "output_type": "execute_result"
    }
   ],
   "source": [
    "np.histogram(a,bins=[0,10,20,30,40,50,60,70,80,90,100])"
   ]
  },
  {
   "cell_type": "markdown",
   "id": "9bcf6a73-476d-4d7c-8a6a-cd21d0e0351b",
   "metadata": {},
   "source": [
    "## 13. np.corrcoef\n",
    "Return pearson product-moment correlation coefficients"
   ]
  },
  {
   "cell_type": "code",
   "execution_count": 61,
   "id": "0b4bb839-9cc1-4142-b463-666d17ec8c07",
   "metadata": {},
   "outputs": [
    {
     "data": {
      "text/plain": [
       "array([[1.        , 0.25344572],\n",
       "       [0.25344572, 1.        ]])"
      ]
     },
     "execution_count": 61,
     "metadata": {},
     "output_type": "execute_result"
    }
   ],
   "source": [
    "salary = np.array([20000,40000,25000,35000,60000])\n",
    "experience = np.array([1,3,2,4,2])\n",
    "np.corrcoef(salary,experience)"
   ]
  },
  {
   "cell_type": "markdown",
   "id": "6a42ce01-78e5-4b52-b7b1-18fa06c5cb6a",
   "metadata": {},
   "source": [
    "## 14. np.isin\n",
    "with the help of numpy.isin() method we can see that one array having values are checked in a different numpy array having different elements with different size."
   ]
  },
  {
   "cell_type": "code",
   "execution_count": 62,
   "id": "62984412-65e7-4782-925b-3e210d137e6e",
   "metadata": {},
   "outputs": [
    {
     "data": {
      "text/plain": [
       "array([93, 94, 24, 28, 61, 53, 64, 26,  9, 74, 21, 24, 64, 92, 47])"
      ]
     },
     "execution_count": 62,
     "metadata": {},
     "output_type": "execute_result"
    }
   ],
   "source": [
    "a"
   ]
  },
  {
   "cell_type": "code",
   "execution_count": 65,
   "id": "c4c50f93-771a-4d91-9881-38134b656eeb",
   "metadata": {},
   "outputs": [
    {
     "data": {
      "text/plain": [
       "array([93])"
      ]
     },
     "execution_count": 65,
     "metadata": {},
     "output_type": "execute_result"
    }
   ],
   "source": [
    "items = [93,20,30,40,50,60,70,80,90,100]\n",
    "a[np.isin(a,items)]"
   ]
  },
  {
   "cell_type": "markdown",
   "id": "2ded7cd3-ebb2-4d98-8d1b-cc816d9348ca",
   "metadata": {},
   "source": [
    "## 15. np.flip\n",
    "The numpy.flip() function reverses the order of array elements alongs the specified axis preserving the shape of the array."
   ]
  },
  {
   "cell_type": "code",
   "execution_count": 66,
   "id": "55119903-668a-4276-86b6-56cad96aff46",
   "metadata": {},
   "outputs": [
    {
     "data": {
      "text/plain": [
       "array([93, 94, 24, 28, 61, 53, 64, 26,  9, 74, 21, 24, 64, 92, 47])"
      ]
     },
     "execution_count": 66,
     "metadata": {},
     "output_type": "execute_result"
    }
   ],
   "source": [
    "a"
   ]
  },
  {
   "cell_type": "code",
   "execution_count": 67,
   "id": "63c71cbc-593e-4720-b982-4cc47582337b",
   "metadata": {},
   "outputs": [
    {
     "data": {
      "text/plain": [
       "array([47, 92, 64, 24, 21, 74,  9, 26, 64, 53, 61, 28, 24, 94, 93])"
      ]
     },
     "execution_count": 67,
     "metadata": {},
     "output_type": "execute_result"
    }
   ],
   "source": [
    "np.flip(a)"
   ]
  },
  {
   "cell_type": "code",
   "execution_count": 70,
   "id": "7210bfc2-a9dc-4c18-aea4-8806b946e90b",
   "metadata": {},
   "outputs": [
    {
     "data": {
      "text/plain": [
       "array([[89, 28, 46, 67],\n",
       "       [28, 44, 91, 75],\n",
       "       [82, 48, 94, 16],\n",
       "       [61, 91, 68, 65],\n",
       "       [53, 87, 60,  6],\n",
       "       [89, 93, 48, 36]])"
      ]
     },
     "execution_count": 70,
     "metadata": {},
     "output_type": "execute_result"
    }
   ],
   "source": [
    "b"
   ]
  },
  {
   "cell_type": "code",
   "execution_count": 71,
   "id": "eb18be21-5996-44b3-948c-5e60b47fcd70",
   "metadata": {},
   "outputs": [
    {
     "data": {
      "text/plain": [
       "array([[36, 48, 93, 89],\n",
       "       [ 6, 60, 87, 53],\n",
       "       [65, 68, 91, 61],\n",
       "       [16, 94, 48, 82],\n",
       "       [75, 91, 44, 28],\n",
       "       [67, 46, 28, 89]])"
      ]
     },
     "execution_count": 71,
     "metadata": {},
     "output_type": "execute_result"
    }
   ],
   "source": [
    "np.flip(b)"
   ]
  },
  {
   "cell_type": "markdown",
   "id": "e1df38dc-06dc-43d6-b9ed-ca551192e562",
   "metadata": {},
   "source": [
    "## 16. np.put\n",
    "The numpy.put() function replace specific elements of an array with given values of p_array.Array indexed works on flattened array."
   ]
  },
  {
   "cell_type": "code",
   "execution_count": 72,
   "id": "0f669620-bea6-42b7-ab3f-63c534a3e5f6",
   "metadata": {},
   "outputs": [
    {
     "data": {
      "text/plain": [
       "array([93, 94, 24, 28, 61, 53, 64, 26,  9, 74, 21, 24, 64, 92, 47])"
      ]
     },
     "execution_count": 72,
     "metadata": {},
     "output_type": "execute_result"
    }
   ],
   "source": [
    "a"
   ]
  },
  {
   "cell_type": "code",
   "execution_count": 74,
   "id": "4a41978b-2494-4045-b110-3b02a5b5040d",
   "metadata": {},
   "outputs": [
    {
     "data": {
      "text/plain": [
       "array([930, 940,  24,  28,  61,  53,  64,  26,   9,  74,  21,  24,  64,\n",
       "        92,  47])"
      ]
     },
     "execution_count": 74,
     "metadata": {},
     "output_type": "execute_result"
    }
   ],
   "source": [
    "np.put(a,[0,1],[930,940])\n",
    "a"
   ]
  },
  {
   "cell_type": "markdown",
   "id": "55d69c3d-49a1-4ea1-88fd-13ac58ca6195",
   "metadata": {},
   "source": [
    "## 17. np.delete\n",
    "The numpy.delete() function returns a new array with the deletion of sun-array along with the mentioned axis."
   ]
  },
  {
   "cell_type": "code",
   "execution_count": 75,
   "id": "47797b82-35db-43ab-85a8-aa707fdf58a4",
   "metadata": {},
   "outputs": [
    {
     "data": {
      "text/plain": [
       "array([930, 940,  24,  28,  61,  53,  64,  26,   9,  74,  21,  24,  64,\n",
       "        92,  47])"
      ]
     },
     "execution_count": 75,
     "metadata": {},
     "output_type": "execute_result"
    }
   ],
   "source": [
    "a"
   ]
  },
  {
   "cell_type": "code",
   "execution_count": 76,
   "id": "c1b82643-8929-4338-a648-32faf61cb2be",
   "metadata": {},
   "outputs": [
    {
     "data": {
      "text/plain": [
       "array([940,  24,  28,  61,  53,  64,  26,   9,  74,  21,  24,  64,  92,\n",
       "        47])"
      ]
     },
     "execution_count": 76,
     "metadata": {},
     "output_type": "execute_result"
    }
   ],
   "source": [
    "np.delete(a,0)"
   ]
  },
  {
   "cell_type": "code",
   "execution_count": 77,
   "id": "755b4d09-db8e-4610-b94d-d7c97e43c8ee",
   "metadata": {},
   "outputs": [
    {
     "data": {
      "text/plain": [
       "array([940,  61,  53,  64,  26,   9,  74,  21,  24,  64,  92,  47])"
      ]
     },
     "execution_count": 77,
     "metadata": {},
     "output_type": "execute_result"
    }
   ],
   "source": [
    "np.delete(a,[0,2,3])"
   ]
  },
  {
   "cell_type": "markdown",
   "id": "2445c118-4895-4acb-bf3c-d0cea509720a",
   "metadata": {},
   "source": [
    "## 17. Set function\n",
    "- np.union1d\n",
    "- np.intersect1d\n",
    "- np.setdiff1d\n",
    "- np.setxor1d\n",
    "- np.in1d"
   ]
  },
  {
   "cell_type": "code",
   "execution_count": 79,
   "id": "21082ff0-fc9e-4c25-a66e-dc67cb154871",
   "metadata": {},
   "outputs": [
    {
     "data": {
      "text/plain": [
       "array([1, 2, 3, 4, 5, 6, 7])"
      ]
     },
     "execution_count": 79,
     "metadata": {},
     "output_type": "execute_result"
    }
   ],
   "source": [
    "a = np.array([1,2,3,4,5])\n",
    "b = np.array([3,4,5,6,7])\n",
    "\n",
    "np.union1d(a,b)"
   ]
  },
  {
   "cell_type": "code",
   "execution_count": 80,
   "id": "03874212-4401-4c22-8b60-cfd3a81da294",
   "metadata": {},
   "outputs": [
    {
     "data": {
      "text/plain": [
       "array([3, 4, 5])"
      ]
     },
     "execution_count": 80,
     "metadata": {},
     "output_type": "execute_result"
    }
   ],
   "source": [
    "np.intersect1d(a,b)"
   ]
  },
  {
   "cell_type": "code",
   "execution_count": 83,
   "id": "8faf5d01-e4ae-43e1-8aac-267d7212ad99",
   "metadata": {},
   "outputs": [
    {
     "data": {
      "text/plain": [
       "array([1, 2])"
      ]
     },
     "execution_count": 83,
     "metadata": {},
     "output_type": "execute_result"
    }
   ],
   "source": [
    "np.setdiff1d(a,b)"
   ]
  },
  {
   "cell_type": "code",
   "execution_count": 84,
   "id": "3bc63e81-dd94-4114-935f-30153a692cb5",
   "metadata": {},
   "outputs": [
    {
     "data": {
      "text/plain": [
       "array([6, 7])"
      ]
     },
     "execution_count": 84,
     "metadata": {},
     "output_type": "execute_result"
    }
   ],
   "source": [
    "np.setdiff1d(b,a)"
   ]
  },
  {
   "cell_type": "code",
   "execution_count": 85,
   "id": "bb764fe5-7afc-4ad3-ad79-eb4b3e92b5bd",
   "metadata": {},
   "outputs": [
    {
     "data": {
      "text/plain": [
       "array([1, 2, 6, 7])"
      ]
     },
     "execution_count": 85,
     "metadata": {},
     "output_type": "execute_result"
    }
   ],
   "source": [
    "np.setxor1d(a,b)"
   ]
  },
  {
   "cell_type": "code",
   "execution_count": 86,
   "id": "0bb6a663-a533-4573-ada0-d541773b5f19",
   "metadata": {},
   "outputs": [
    {
     "data": {
      "text/plain": [
       "array([ True, False, False, False, False])"
      ]
     },
     "execution_count": 86,
     "metadata": {},
     "output_type": "execute_result"
    }
   ],
   "source": [
    "np.in1d(a,1)"
   ]
  },
  {
   "cell_type": "markdown",
   "id": "2c2df662-82de-4ae1-8bdb-6ee2f9c31c72",
   "metadata": {},
   "source": [
    "## 18. np.clip\n",
    "numpy.clip() function is used to clip (limit) the values in an array"
   ]
  },
  {
   "cell_type": "code",
   "execution_count": 88,
   "id": "09ddc581-bd85-42b7-a9fa-0b4617f4b952",
   "metadata": {},
   "outputs": [
    {
     "data": {
      "text/plain": [
       "array([98, 36, 91, 76, 65, 96, 19, 98, 50, 97, 32, 88, 60, 57, 36])"
      ]
     },
     "execution_count": 88,
     "metadata": {},
     "output_type": "execute_result"
    }
   ],
   "source": [
    "a = np.random.randint(1,100,15)\n",
    "a"
   ]
  },
  {
   "cell_type": "code",
   "execution_count": 89,
   "id": "2d193339-65ec-4226-a671-7fa210e3c80e",
   "metadata": {},
   "outputs": [
    {
     "data": {
      "text/plain": [
       "array([75, 36, 75, 75, 65, 75, 25, 75, 50, 75, 32, 75, 60, 57, 36])"
      ]
     },
     "execution_count": 89,
     "metadata": {},
     "output_type": "execute_result"
    }
   ],
   "source": [
    "np.clip(a,a_min = 25,a_max = 75)"
   ]
  },
  {
   "cell_type": "markdown",
   "id": "ca8d558e-0997-4c07-b615-9ae3fe3de57e",
   "metadata": {},
   "source": [
    "## 19. np.swapaxes\n",
    "np.swapaxes is a function in NumPy used to swap two axes (dimensions) of an array. It is useful for reshaping and manipulating multi-dimensional arrays."
   ]
  },
  {
   "cell_type": "code",
   "execution_count": 92,
   "id": "9b611906-c309-48b4-8485-d6097b082924",
   "metadata": {},
   "outputs": [
    {
     "name": "stdout",
     "output_type": "stream",
     "text": [
      "[[1 4]\n",
      " [2 5]\n",
      " [3 6]]\n"
     ]
    }
   ],
   "source": [
    "arr = np.array([[1, 2, 3], \n",
    "                [4, 5, 6]])\n",
    "\n",
    "swapped = np.swapaxes(arr, 0, 1)\n",
    "print(swapped)"
   ]
  },
  {
   "cell_type": "markdown",
   "id": "066f5271-11fe-4d17-ac7b-62faa853042c",
   "metadata": {},
   "source": [
    "## 20. np.uniform \n",
    "np.uniform is a function in NumPy that generates random numbers from a uniform distribution within a specified range."
   ]
  },
  {
   "cell_type": "code",
   "execution_count": 93,
   "id": "e5f630ff-65c8-4a6a-b2fc-456aef090b18",
   "metadata": {},
   "outputs": [
    {
     "name": "stdout",
     "output_type": "stream",
     "text": [
      "2.1077169779940363\n"
     ]
    }
   ],
   "source": [
    " # Generates a random number between 0 and 10\n",
    "random_number = np.random.uniform(0, 10) \n",
    "print(random_number)"
   ]
  },
  {
   "cell_type": "code",
   "execution_count": 95,
   "id": "3c844160-7f02-4523-bb8b-16c243fb3fd3",
   "metadata": {},
   "outputs": [
    {
     "name": "stdout",
     "output_type": "stream",
     "text": [
      "[[14.34362504  8.07364583  6.92965734]\n",
      " [ 6.17302795  8.53042391  6.17577143]\n",
      " [ 6.03765242  8.11232771  8.65629113]]\n"
     ]
    }
   ],
   "source": [
    "# 3x3 array with values between 5 and 15\n",
    "random_array = np.random.uniform(5, 15, size=(3, 3))\n",
    "print(random_array)"
   ]
  },
  {
   "cell_type": "markdown",
   "id": "fa7f3511-2ac6-4854-a04f-baef879182e6",
   "metadata": {},
   "source": [
    "## 21.np.count_nonzero\n",
    "np.count_nonzero is a NumPy function used to count the number of nonzero elements in an array."
   ]
  },
  {
   "cell_type": "code",
   "execution_count": 96,
   "id": "49c5f30a-3513-465b-bd00-3130c15579a4",
   "metadata": {},
   "outputs": [
    {
     "name": "stdout",
     "output_type": "stream",
     "text": [
      "4\n"
     ]
    }
   ],
   "source": [
    "arr = np.array([0, 1, 2, 0, 3, 4, 0])\n",
    "count = np.count_nonzero(arr)\n",
    "print(count)"
   ]
  },
  {
   "cell_type": "code",
   "execution_count": 97,
   "id": "16031b4b-28fc-4b8a-9566-85ee73248dff",
   "metadata": {},
   "outputs": [
    {
     "name": "stdout",
     "output_type": "stream",
     "text": [
      "Total nonzero: 3\n",
      "Nonzero count per column: [1 1 1]\n",
      "Nonzero count per row: [1 2]\n"
     ]
    }
   ],
   "source": [
    "arr2d = np.array([[0, 2, 0], \n",
    "                  [3, 0, 4]])\n",
    "\n",
    "count_all = np.count_nonzero(arr2d)  # Counts in the entire array\n",
    "count_axis0 = np.count_nonzero(arr2d, axis=0)  # Counts along columns\n",
    "count_axis1 = np.count_nonzero(arr2d, axis=1)  # Counts along rows\n",
    "\n",
    "print(\"Total nonzero:\", count_all)\n",
    "print(\"Nonzero count per column:\", count_axis0)\n",
    "print(\"Nonzero count per row:\", count_axis1)"
   ]
  },
  {
   "cell_type": "markdown",
   "id": "6f76313d-7ce0-4a72-8428-8b79f32b8ee8",
   "metadata": {},
   "source": [
    "## 22. np.tile\n",
    "np.tile is a NumPy function used to repeat an array along specified dimensions."
   ]
  },
  {
   "cell_type": "code",
   "execution_count": 98,
   "id": "5c6d104e-3ea7-44c4-a92c-36e6e7c34356",
   "metadata": {},
   "outputs": [
    {
     "name": "stdout",
     "output_type": "stream",
     "text": [
      "[1 2 3 1 2 3 1 2 3]\n"
     ]
    }
   ],
   "source": [
    "arr = np.array([1, 2, 3])\n",
    "tiled_arr = np.tile(arr, 3)  # Repeat the array 3 times\n",
    "print(tiled_arr)"
   ]
  },
  {
   "cell_type": "code",
   "execution_count": 99,
   "id": "ed35bcb8-2cd6-467d-93af-24524784ec58",
   "metadata": {},
   "outputs": [
    {
     "name": "stdout",
     "output_type": "stream",
     "text": [
      "[[1 2 1 2 1 2]\n",
      " [3 4 3 4 3 4]\n",
      " [1 2 1 2 1 2]\n",
      " [3 4 3 4 3 4]]\n"
     ]
    }
   ],
   "source": [
    "arr2d = np.array([[1, 2], \n",
    "                  [3, 4]])\n",
    "\n",
    "tiled_arr2d = np.tile(arr2d, (2, 3))  # Repeat 2 times along rows, 3 times along columns\n",
    "print(tiled_arr2d)"
   ]
  },
  {
   "cell_type": "markdown",
   "id": "3b50d40f-75d5-4884-bc4b-561f9c58dc8a",
   "metadata": {},
   "source": [
    "## 23. np.repeat\n",
    "np.repeat is a NumPy function used to repeat elements within an array along a specified axis."
   ]
  },
  {
   "cell_type": "code",
   "execution_count": 100,
   "id": "a0f02d72-a151-4b45-a86f-9ac3eb810553",
   "metadata": {},
   "outputs": [
    {
     "name": "stdout",
     "output_type": "stream",
     "text": [
      "[1 1 1 2 2 2 3 3 3]\n"
     ]
    }
   ],
   "source": [
    "arr = np.array([1, 2, 3])\n",
    "repeated_arr = np.repeat(arr, 3)  # Each element is repeated 3 times\n",
    "print(repeated_arr)"
   ]
  },
  {
   "cell_type": "code",
   "execution_count": 101,
   "id": "b43690fe-7121-4d4f-92a0-8ce2ff18ea37",
   "metadata": {},
   "outputs": [
    {
     "name": "stdout",
     "output_type": "stream",
     "text": [
      "Repeated Rows:\n",
      " [[1 2]\n",
      " [1 2]\n",
      " [3 4]\n",
      " [3 4]]\n",
      "Repeated Columns:\n",
      " [[1 1 2 2]\n",
      " [3 3 4 4]]\n"
     ]
    }
   ],
   "source": [
    "arr2d = np.array([[1, 2], \n",
    "                  [3, 4]])\n",
    "\n",
    "repeated_rows = np.repeat(arr2d, 2, axis=0)  # Repeat rows\n",
    "repeated_cols = np.repeat(arr2d, 2, axis=1)  # Repeat columns\n",
    "\n",
    "print(\"Repeated Rows:\\n\", repeated_rows)\n",
    "print(\"Repeated Columns:\\n\", repeated_cols)"
   ]
  },
  {
   "cell_type": "code",
   "execution_count": null,
   "id": "15d3d173-3438-4295-a50b-3021dd6256a8",
   "metadata": {},
   "outputs": [],
   "source": []
  }
 ],
 "metadata": {
  "kernelspec": {
   "display_name": "Python 3 (ipykernel)",
   "language": "python",
   "name": "python3"
  },
  "language_info": {
   "codemirror_mode": {
    "name": "ipython",
    "version": 3
   },
   "file_extension": ".py",
   "mimetype": "text/x-python",
   "name": "python",
   "nbconvert_exporter": "python",
   "pygments_lexer": "ipython3",
   "version": "3.12.4"
  }
 },
 "nbformat": 4,
 "nbformat_minor": 5
}
