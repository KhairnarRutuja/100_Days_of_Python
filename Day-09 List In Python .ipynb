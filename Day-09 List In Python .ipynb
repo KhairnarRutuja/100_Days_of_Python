{
 "cells": [
  {
   "cell_type": "markdown",
   "id": "f9ae6552",
   "metadata": {},
   "source": [
    "## List"
   ]
  },
  {
   "cell_type": "markdown",
   "id": "97fc11d9",
   "metadata": {},
   "source": [
    "In Python, a list is a collection of items, which can be of different types, such as integers, strings, or even other lists. Lists are mutable, meaning that you can change their content after they are created. Lists are ordered, so the items in a list maintain a specific sequence, and you can access them by their index. Lists are created using square brackets [], with commas separating the elements."
   ]
  },
  {
   "cell_type": "markdown",
   "id": "ff539f88",
   "metadata": {},
   "source": [
    "### Creating List"
   ]
  },
  {
   "cell_type": "code",
   "execution_count": 1,
   "id": "96ad0800",
   "metadata": {},
   "outputs": [
    {
     "name": "stdout",
     "output_type": "stream",
     "text": [
      "[]\n"
     ]
    }
   ],
   "source": [
    "# Create Empty list\n",
    "L1 = []\n",
    "print(L1)"
   ]
  },
  {
   "cell_type": "code",
   "execution_count": 2,
   "id": "516f0bbf",
   "metadata": {},
   "outputs": [
    {
     "name": "stdout",
     "output_type": "stream",
     "text": [
      "[1, 2, 3, 4, 5]\n"
     ]
    }
   ],
   "source": [
    "# 1-D List --> Homogeneous list\n",
    "print([1,2,3,4,5])"
   ]
  },
  {
   "cell_type": "code",
   "execution_count": 3,
   "id": "c183b98d",
   "metadata": {},
   "outputs": [
    {
     "name": "stdout",
     "output_type": "stream",
     "text": [
      "[1, 2, 3, [4, 5, 6]]\n"
     ]
    }
   ],
   "source": [
    "# 2-D List --> Hetrogeneous List\n",
    "print([1,2,3,[4,5,6]])"
   ]
  },
  {
   "cell_type": "code",
   "execution_count": 4,
   "id": "b9dd4455",
   "metadata": {},
   "outputs": [
    {
     "name": "stdout",
     "output_type": "stream",
     "text": [
      "[[[1, 2], [3, 4], [5, 6]]]\n"
     ]
    }
   ],
   "source": [
    "# 3-D list --> Nested List\n",
    "print([[[1,2],[3,4],[5,6]]])"
   ]
  },
  {
   "cell_type": "code",
   "execution_count": 5,
   "id": "bac4a28c",
   "metadata": {},
   "outputs": [
    {
     "name": "stdout",
     "output_type": "stream",
     "text": [
      "['H', 'e', 'l', 'l', 'o']\n"
     ]
    }
   ],
   "source": [
    "# using type conversion in list\n",
    "print(list(\"Hello\"))"
   ]
  },
  {
   "cell_type": "code",
   "execution_count": 6,
   "id": "073ec484",
   "metadata": {},
   "outputs": [
    {
     "name": "stdout",
     "output_type": "stream",
     "text": [
      "[1, 3.14, 'Hello World', True]\n"
     ]
    }
   ],
   "source": [
    "print([1,3.14,\"Hello World\",True])"
   ]
  },
  {
   "cell_type": "code",
   "execution_count": 7,
   "id": "b223234e",
   "metadata": {},
   "outputs": [
    {
     "name": "stdout",
     "output_type": "stream",
     "text": [
      "['Hello', 'Good', 'Morning']\n"
     ]
    }
   ],
   "source": [
    "print([\"Hello\",\"Good\",\"Morning\"])"
   ]
  },
  {
   "cell_type": "markdown",
   "id": "f111eefe",
   "metadata": {},
   "source": [
    "### Accessing Items from a list\n",
    "- In order to access the list items refer to the index number. Use the index operator [ ] to access an item in a list. The index must be an integer. Nested lists are accessed using nested indexing.\n",
    "\n",
    "**Positive indexing:**\n",
    "- In positive indexing, the index starts from 0 for the first element, 1 for the second element, and so on, increasing by one for each subsequent element.\n",
    "\n",
    "**Negative indexing:**\n",
    "- In negative indexing, the index starts from -1 for the last element, -2 for the second to last element, and so on, decreasing by one for each previous element."
   ]
  },
  {
   "cell_type": "markdown",
   "id": "559f3c78",
   "metadata": {},
   "source": [
    "### Indexing"
   ]
  },
  {
   "cell_type": "code",
   "execution_count": 8,
   "id": "7ca1407d",
   "metadata": {},
   "outputs": [
    {
     "name": "stdout",
     "output_type": "stream",
     "text": [
      "[1, 2, 3, 4, 5]\n",
      "1\n",
      "4\n",
      "5\n",
      "3\n"
     ]
    }
   ],
   "source": [
    "L2 = [1,2,3,4,5]\n",
    "print(L2)\n",
    "# Postitive Indexing\n",
    "# fetch 1\n",
    "print(L2[0])\n",
    "# Fetch 4\n",
    "print(L2[3])\n",
    "# Negative Indexing\n",
    "# Fetch 5\n",
    "print(L2[-1])\n",
    "# fetch 6\n",
    "print(L2[-3])"
   ]
  },
  {
   "cell_type": "code",
   "execution_count": 9,
   "id": "f3eee65e",
   "metadata": {},
   "outputs": [
    {
     "name": "stdout",
     "output_type": "stream",
     "text": [
      "[1, 2, 3, [4, 5]]\n",
      "4\n",
      "4\n",
      "5\n",
      "5\n"
     ]
    }
   ],
   "source": [
    "L3 = [1,2,3,[4,5]]\n",
    "print(L3)\n",
    "# Fetch 4 positive indexing\n",
    "print(L3[3][0])\n",
    "# negative indexing\n",
    "print(L3[3][-2])\n",
    "# fetch 5\n",
    "print(L3[3][1])\n",
    "# negative indexing\n",
    "print(L3[3][-1])"
   ]
  },
  {
   "cell_type": "code",
   "execution_count": 10,
   "id": "fb6b6c86",
   "metadata": {},
   "outputs": [
    {
     "name": "stdout",
     "output_type": "stream",
     "text": [
      "8\n",
      "8\n"
     ]
    }
   ],
   "source": [
    "L4 = [[[1,2],[8,3],[4,5],[6,7]]]\n",
    "# fetch 8 postive indexing\n",
    "print(L4[0][1][0])\n",
    "# negative indexing\n",
    "print(L4[0][-3][-2])"
   ]
  },
  {
   "cell_type": "code",
   "execution_count": 11,
   "id": "6659cb01",
   "metadata": {},
   "outputs": [
    {
     "name": "stdout",
     "output_type": "stream",
     "text": [
      "12\n",
      "6\n",
      "6\n"
     ]
    }
   ],
   "source": [
    "L5 = [[[[1, 2, 3], [4, 5, 6]], [[7, 8, 9], [10, 11, 12]]]]\n",
    "# fetch 12\n",
    "print(L5[0][1][1][2])\n",
    "# fetch 6 using positive indexing\n",
    "print(L5[0][0][1][2])\n",
    "# fetch 6 using negative indexing\n",
    "print(L5[0][-2][-1][-1])"
   ]
  },
  {
   "attachments": {
    "image.png": {
     "image/png": "[encoded data removed]"
    }
   },
   "cell_type": "markdown",
   "id": "3303ef28",
   "metadata": {},
   "source": [
    "### Slicing\n",
    "- Slicing in Python is a technique used to extract a portion of a sequence, such as a list, tuple, or string. It allows you to create a new sequence containing a subset of the elements from the original sequence, specified by a range of indices.\n",
    "\n",
    "The syntax for slicing is sequence[start:stop:step]\n",
    "\n",
    "![image.png](attachment:image.png)"
   ]
  },
  {
   "cell_type": "code",
   "execution_count": 12,
   "id": "9769d7c0",
   "metadata": {},
   "outputs": [
    {
     "name": "stdout",
     "output_type": "stream",
     "text": [
      "[[[[101, 102, 103], [104, 105, 106]], [[107, 108, 109], [110, 111, 112]]]]\n"
     ]
    }
   ],
   "source": [
    "L6 = [[[[101,102,103],[104,105,106]],[[107,108,109],[110,111,112]]]]\n",
    "print(L6)"
   ]
  },
  {
   "cell_type": "code",
   "execution_count": 13,
   "id": "3d1ad8f1",
   "metadata": {},
   "outputs": [
    {
     "name": "stdout",
     "output_type": "stream",
     "text": [
      "[104]\n"
     ]
    }
   ],
   "source": [
    "print(L6[0][0][1][0:1])"
   ]
  },
  {
   "cell_type": "code",
   "execution_count": 14,
   "id": "3e8b8417",
   "metadata": {},
   "outputs": [
    {
     "name": "stdout",
     "output_type": "stream",
     "text": [
      "[1, 2, 3, 4, 5]\n",
      "[1, 2, 3, 4, 5]\n",
      "[1, 2, 3, 4, 5]\n",
      "[1, 2, 3, 4, 5]\n",
      "[5, 4, 3, 2, 1]\n",
      "[2, 3, 4]\n",
      "[2, 4]\n"
     ]
    }
   ],
   "source": [
    "L7 = [1,2,3,4,5]\n",
    "print(L7)\n",
    "# print all elements\n",
    "print(L7[:])\n",
    "print(L7[0:])\n",
    "print(L7[:5])\n",
    "\n",
    "# reverse list\n",
    "print(L7[::-1])\n",
    "\n",
    "# fetch 2 to 4\n",
    "print(L7[1:4])\n",
    "\n",
    "# step\n",
    "print(L7[1::2])"
   ]
  },
  {
   "cell_type": "markdown",
   "id": "e8bcb865",
   "metadata": {},
   "source": [
    "### Adding Items to a list"
   ]
  },
  {
   "cell_type": "markdown",
   "id": "3c1a85ec",
   "metadata": {},
   "source": [
    "### Append()\n",
    "- In Python, the append() method is used to add an element to the end of a list. It modifies the original list by adding the new element at its end.\n",
    "- Only one element at a time can be added to the list by using the append() method."
   ]
  },
  {
   "cell_type": "code",
   "execution_count": 15,
   "id": "076b8c31",
   "metadata": {},
   "outputs": [
    {
     "name": "stdout",
     "output_type": "stream",
     "text": [
      "[1, 2, 3, 4, 5, 6, True, 3.14, 'Hello']\n"
     ]
    }
   ],
   "source": [
    "L8 = [1,2,3,4,5]\n",
    "L8.append(6)\n",
    "L8.append(True)\n",
    "L8.append(3.14)\n",
    "L8.append(\"Hello\")\n",
    "print(L8)"
   ]
  },
  {
   "cell_type": "markdown",
   "id": "9ae91ddf",
   "metadata": {},
   "source": [
    "### Extend()\n",
    "- In Python, the extend() method is used to extend a list by appending elements from another iterable (such as another list) to the end of the original list. It modifies the original list in place."
   ]
  },
  {
   "cell_type": "code",
   "execution_count": 16,
   "id": "9117442f",
   "metadata": {},
   "outputs": [
    {
     "name": "stdout",
     "output_type": "stream",
     "text": [
      "[1, 2, 3, 4, 5, 6, 7, 8, 'H', 'e', 'l', 'l', 'o']\n"
     ]
    }
   ],
   "source": [
    "L8 = [1,2,3,4,5]\n",
    "L8.extend([6,7,8])\n",
    "L8.extend(\"Hello\")\n",
    "print(L8)"
   ]
  },
  {
   "cell_type": "markdown",
   "id": "5d49385a",
   "metadata": {},
   "source": [
    "### Insert()\n",
    "- In Python, the insert() method is used to insert an element into a list at a specified position. It allows you to add a new element at any desired index within the list, shifting the existing elements to the right."
   ]
  },
  {
   "cell_type": "code",
   "execution_count": 17,
   "id": "23238954",
   "metadata": {},
   "outputs": [
    {
     "name": "stdout",
     "output_type": "stream",
     "text": [
      "[1, 100, 2, 3, 4, 5]\n",
      "[1, 100, 2, 50, 3, 4, 5]\n"
     ]
    }
   ],
   "source": [
    "L8 = [1,2,3,4,5]\n",
    "L8.insert(1,100)\n",
    "print(L8)\n",
    "L8.insert(3,50)\n",
    "print(L8)"
   ]
  },
  {
   "cell_type": "markdown",
   "id": "7b24738b",
   "metadata": {},
   "source": [
    "### Editing item in a list"
   ]
  },
  {
   "cell_type": "code",
   "execution_count": 18,
   "id": "e9724d1a",
   "metadata": {},
   "outputs": [
    {
     "name": "stdout",
     "output_type": "stream",
     "text": [
      "[6, 7, 8, 9, 1000]\n",
      "[6, 7, 8, 500, 1000]\n",
      "[600, 700, 800, 900, 1000]\n"
     ]
    }
   ],
   "source": [
    "L9 = [6,7,8,9,10]\n",
    "\n",
    "# editing with positive indexing\n",
    "L9[4] = 1000\n",
    "print(L9)\n",
    "\n",
    "# editing with negative indexing\n",
    "L9[-2] = 500\n",
    "print(L9)\n",
    "\n",
    "# editing with slicing\n",
    "L9[:-1] = [600,700,800,900]\n",
    "print(L9)"
   ]
  },
  {
   "cell_type": "markdown",
   "id": "98e88201",
   "metadata": {},
   "source": [
    "### Deleting items from a list"
   ]
  },
  {
   "cell_type": "markdown",
   "id": "c0ad1b3f",
   "metadata": {},
   "source": [
    "### Delete()\n",
    "The del statement in Python is used to delete items from lists by index or slices. It can also delete variables."
   ]
  },
  {
   "cell_type": "code",
   "execution_count": 19,
   "id": "a89f69f9",
   "metadata": {},
   "outputs": [
    {
     "name": "stdout",
     "output_type": "stream",
     "text": [
      "[101, 102, 103, 104, 105]\n",
      "[101, 102, 103, 104]\n",
      "[101, 104]\n"
     ]
    }
   ],
   "source": [
    "L10 = [101,102,103,104,105]\n",
    "print(L10)\n",
    "\n",
    "# Indexing\n",
    "del L10[-1]\n",
    "print(L10)\n",
    "\n",
    "# Slicing\n",
    "del L10[1:3]\n",
    "print(L10)"
   ]
  },
  {
   "cell_type": "markdown",
   "id": "1d46a752",
   "metadata": {},
   "source": [
    "### Remove()\n",
    "- The remove() method in Python is used to remove the first occurrence of a specified element from a list."
   ]
  },
  {
   "cell_type": "code",
   "execution_count": 20,
   "id": "ebaa80a0",
   "metadata": {},
   "outputs": [
    {
     "name": "stdout",
     "output_type": "stream",
     "text": [
      "['Red', 'Green', 'Blue', 'yellow', 'black', 'White']\n",
      "['Green', 'Blue', 'yellow', 'black', 'White']\n"
     ]
    }
   ],
   "source": [
    "color = [\"Red\",\"Green\",\"Blue\",\"yellow\",\"black\",\"White\"]\n",
    "print(color)\n",
    "color.remove(\"Red\")\n",
    "print(color)"
   ]
  },
  {
   "cell_type": "markdown",
   "id": "68756fa1",
   "metadata": {},
   "source": [
    "### Pop()\n",
    "- In Python, the pop() method is used to remove and return the item at a specified index (by default, the last item) from a list. It modifies the original list."
   ]
  },
  {
   "cell_type": "code",
   "execution_count": 21,
   "id": "aa091274",
   "metadata": {},
   "outputs": [
    {
     "name": "stdout",
     "output_type": "stream",
     "text": [
      "['A', 'B', 'C', 'D']\n",
      "['A', 'B', 'C']\n"
     ]
    }
   ],
   "source": [
    "Cap_let = ['A','B','C','D','E']\n",
    "Cap_let.pop()\n",
    "print(Cap_let)\n",
    "\n",
    "Cap_let.pop(3)\n",
    "print(Cap_let)"
   ]
  },
  {
   "cell_type": "markdown",
   "id": "7f350151",
   "metadata": {},
   "source": [
    "### Clear()\n",
    "- The clear() method in Python is used to remove all elements from a list. It modifies the original list in place, leaving it empty."
   ]
  },
  {
   "cell_type": "code",
   "execution_count": 22,
   "id": "df3e8a48",
   "metadata": {},
   "outputs": [
    {
     "name": "stdout",
     "output_type": "stream",
     "text": [
      "[1, 2, 3, 4, 5]\n",
      "[]\n"
     ]
    }
   ],
   "source": [
    "emp_list = [1,2,3,4,5]\n",
    "print(emp_list)\n",
    "\n",
    "emp_list.clear()\n",
    "print(emp_list)"
   ]
  },
  {
   "cell_type": "markdown",
   "id": "f12c5e6e",
   "metadata": {},
   "source": [
    "### Operations on Lists\n",
    "- Arithmatic\n",
    "- Membership\n",
    "- Loop"
   ]
  },
  {
   "cell_type": "code",
   "execution_count": 23,
   "id": "aac8994c",
   "metadata": {},
   "outputs": [
    {
     "name": "stdout",
     "output_type": "stream",
     "text": [
      "[1, 2, 3, 4, 5, 6, 7, 8]\n",
      "[1, 2, 3, 4, 1, 2, 3, 4, 1, 2, 3, 4]\n"
     ]
    }
   ],
   "source": [
    "# Arithmatic\n",
    "f1 = [1,2,3,4]\n",
    "f2 = [5,6,7,8]\n",
    "\n",
    "# concatenation/Merge\n",
    "print(f1+f2)\n",
    "\n",
    "print(f1*3)"
   ]
  },
  {
   "cell_type": "code",
   "execution_count": 24,
   "id": "b557f283",
   "metadata": {},
   "outputs": [
    {
     "name": "stdout",
     "output_type": "stream",
     "text": [
      "True\n",
      "False\n"
     ]
    }
   ],
   "source": [
    "# Membership Operator\n",
    "f3 = [101,102,103,\"hello\"]\n",
    "f4 = [101,102,103,[\"hello\"]]\n",
    "\n",
    "print(102 in f3)\n",
    "print(102 not in f3)"
   ]
  },
  {
   "cell_type": "code",
   "execution_count": 25,
   "id": "e0ac9209",
   "metadata": {},
   "outputs": [
    {
     "name": "stdout",
     "output_type": "stream",
     "text": [
      "101\n",
      "102\n",
      "103\n",
      "hello\n"
     ]
    }
   ],
   "source": [
    "# Loop\n",
    "for i in f3:\n",
    "    print(i)"
   ]
  },
  {
   "cell_type": "markdown",
   "id": "30bf435a",
   "metadata": {},
   "source": [
    "### List Functions"
   ]
  },
  {
   "cell_type": "markdown",
   "id": "e32ccd9f",
   "metadata": {},
   "source": [
    "### Len()\n",
    "- This function returns the number of elements in a list."
   ]
  },
  {
   "cell_type": "code",
   "execution_count": 26,
   "id": "31e7dfaa",
   "metadata": {},
   "outputs": [
    {
     "name": "stdout",
     "output_type": "stream",
     "text": [
      "4\n"
     ]
    }
   ],
   "source": [
    "my_list = [1,\"Hello_world\",22.7,True]\n",
    "print(len(my_list))"
   ]
  },
  {
   "cell_type": "markdown",
   "id": "063d2606",
   "metadata": {},
   "source": [
    "### Max()\n",
    "- This function returns the largest element in a list."
   ]
  },
  {
   "cell_type": "code",
   "execution_count": 27,
   "id": "9485a6ff",
   "metadata": {},
   "outputs": [
    {
     "name": "stdout",
     "output_type": "stream",
     "text": [
      "89\n"
     ]
    }
   ],
   "source": [
    "int_list = [56,78,23,89,45]\n",
    "print(max(int_list))"
   ]
  },
  {
   "cell_type": "markdown",
   "id": "e806431a",
   "metadata": {},
   "source": [
    "### Min()\n",
    "- This function returns the smallest element in a list."
   ]
  },
  {
   "cell_type": "code",
   "execution_count": 28,
   "id": "4ff67c71",
   "metadata": {},
   "outputs": [
    {
     "name": "stdout",
     "output_type": "stream",
     "text": [
      "23\n"
     ]
    }
   ],
   "source": [
    "print(min(int_list))"
   ]
  },
  {
   "cell_type": "markdown",
   "id": "e24a5a84",
   "metadata": {},
   "source": [
    "### Sorted()\n",
    "- This function returns a new sorted list from the elements of an iterable."
   ]
  },
  {
   "cell_type": "code",
   "execution_count": 29,
   "id": "73a71a4e",
   "metadata": {},
   "outputs": [
    {
     "name": "stdout",
     "output_type": "stream",
     "text": [
      "[23, 45, 56, 78, 89]\n"
     ]
    }
   ],
   "source": [
    "# Ascending order\n",
    "print(sorted(int_list))"
   ]
  },
  {
   "cell_type": "code",
   "execution_count": 30,
   "id": "40891e82",
   "metadata": {},
   "outputs": [
    {
     "name": "stdout",
     "output_type": "stream",
     "text": [
      "[89, 78, 56, 45, 23]\n"
     ]
    }
   ],
   "source": [
    "# descending order\n",
    "print(sorted(int_list,reverse=True))"
   ]
  },
  {
   "cell_type": "markdown",
   "id": "81541dc0",
   "metadata": {},
   "source": [
    "###  Count()\n",
    "- The count() method in Python is used to count the number of occurrences of a specified element in a list. It returns the number of times the element appears in the list."
   ]
  },
  {
   "cell_type": "code",
   "execution_count": 31,
   "id": "ec5d05eb",
   "metadata": {},
   "outputs": [
    {
     "name": "stdout",
     "output_type": "stream",
     "text": [
      "2\n"
     ]
    }
   ],
   "source": [
    "occ_num = [1,5,6,8,3,2,9,7,6,4,3,1,2,6,3,4]\n",
    "print(occ_num.count(2))"
   ]
  },
  {
   "cell_type": "markdown",
   "id": "b4f03ed0",
   "metadata": {},
   "source": [
    "### Index()\n",
    "- The index() method in Python is used to find the index of the first occurrence of a specified element in a list. It returns the index of the specified element if it is found in the list."
   ]
  },
  {
   "cell_type": "code",
   "execution_count": 32,
   "id": "dc400ebe",
   "metadata": {},
   "outputs": [
    {
     "name": "stdout",
     "output_type": "stream",
     "text": [
      "5\n"
     ]
    }
   ],
   "source": [
    "print(occ_num.index(2))"
   ]
  },
  {
   "cell_type": "markdown",
   "id": "92872a48",
   "metadata": {},
   "source": [
    "### Reverse()\n",
    "- The reverse() method in Python is used to reverse the order of elements in a list. It modifies the original list in place."
   ]
  },
  {
   "cell_type": "code",
   "execution_count": 33,
   "id": "9a4e43b3",
   "metadata": {},
   "outputs": [
    {
     "name": "stdout",
     "output_type": "stream",
     "text": [
      "[7, 6, 9, 7, 6, 5, 4, 4, 3, 2, 1]\n"
     ]
    }
   ],
   "source": [
    "l1 = [1,2,3,4,4,5,6,7,9,6,7]\n",
    "l1.reverse()\n",
    "print(l1)"
   ]
  },
  {
   "cell_type": "markdown",
   "id": "189c86dd",
   "metadata": {},
   "source": [
    "### Sort()\n",
    "- The sort() method in Python is used to sort the elements of a list in place. It modifies the original list."
   ]
  },
  {
   "cell_type": "code",
   "execution_count": 34,
   "id": "bed9ccf9",
   "metadata": {},
   "outputs": [
    {
     "name": "stdout",
     "output_type": "stream",
     "text": [
      "[1, 2, 3, 4, 4, 5, 6, 6, 7, 7, 9]\n"
     ]
    }
   ],
   "source": [
    "l1.sort()\n",
    "print(l1)"
   ]
  },
  {
   "cell_type": "markdown",
   "id": "cb37e575",
   "metadata": {},
   "source": [
    "### Copy()\n",
    "- The copy() method in Python is used to create a shallow copy of a list. It returns a new list with the same elements as the original list."
   ]
  },
  {
   "cell_type": "code",
   "execution_count": 35,
   "id": "55b5e360",
   "metadata": {},
   "outputs": [
    {
     "name": "stdout",
     "output_type": "stream",
     "text": [
      "[1, 2, 3, 4, 4, 5, 6, 6, 7, 7, 9]\n"
     ]
    }
   ],
   "source": [
    "l2 = l1.copy()\n",
    "print(l2)"
   ]
  },
  {
   "cell_type": "markdown",
   "id": "a946ec65",
   "metadata": {},
   "source": [
    "### List Comprehension\n",
    "- List comprehension is a concise way to create lists in Python. It allows you to generate a new list by applying an expression to each item in an existing iterable (such as a list), optionally filtering the items based on a condition.\n",
    "- Syntax\n",
    "- new_list = [expression for item in iterable if condition]"
   ]
  },
  {
   "cell_type": "code",
   "execution_count": 36,
   "id": "63d31172",
   "metadata": {},
   "outputs": [
    {
     "name": "stdout",
     "output_type": "stream",
     "text": [
      "[1, 2, 3, 4, 5, 6, 7, 8, 9, 10]\n"
     ]
    }
   ],
   "source": [
    "# Add 1 to 10 numbers to a list\n",
    "L = []\n",
    "\n",
    "for i in range(1,11):\n",
    "    L.append(i)\n",
    "print(L)"
   ]
  },
  {
   "cell_type": "code",
   "execution_count": 37,
   "id": "15b7ec4b",
   "metadata": {},
   "outputs": [
    {
     "name": "stdout",
     "output_type": "stream",
     "text": [
      "[1, 2, 3, 4, 5, 6, 7, 8, 9, 10]\n"
     ]
    }
   ],
   "source": [
    "L = [i for i in range(1,11)]\n",
    "print(L)"
   ]
  },
  {
   "cell_type": "code",
   "execution_count": 38,
   "id": "d148cf81",
   "metadata": {},
   "outputs": [
    {
     "name": "stdout",
     "output_type": "stream",
     "text": [
      "[6, 9, 12]\n"
     ]
    }
   ],
   "source": [
    "# Scalar Multiplication on a vector\n",
    "v = [2,3,4]\n",
    "s = 3\n",
    "x = []\n",
    "for i in v:\n",
    "    x.append(i*s)\n",
    "print(x)"
   ]
  },
  {
   "cell_type": "code",
   "execution_count": 39,
   "id": "c0c35901",
   "metadata": {},
   "outputs": [
    {
     "name": "stdout",
     "output_type": "stream",
     "text": [
      "[6, 9, 12]\n"
     ]
    }
   ],
   "source": [
    "# using list Comprehension\n",
    "print([s*i for i in v])"
   ]
  },
  {
   "cell_type": "code",
   "execution_count": 40,
   "id": "7dc2904e",
   "metadata": {},
   "outputs": [
    {
     "name": "stdout",
     "output_type": "stream",
     "text": [
      "[1, 4, 9, 16, 25]\n"
     ]
    }
   ],
   "source": [
    "sq_list = [1,2,3,4,5]\n",
    "print([i**2 for i in sq_list])"
   ]
  },
  {
   "cell_type": "code",
   "execution_count": 41,
   "id": "41931f0c",
   "metadata": {},
   "outputs": [
    {
     "name": "stdout",
     "output_type": "stream",
     "text": [
      "[5, 10, 15, 20, 25, 30, 35, 40, 45, 50]\n"
     ]
    }
   ],
   "source": [
    "# print all numbers divisible by 5 in the range od 1 to 50\n",
    "print([i for i in range(1,51) if i % 5 == 0])"
   ]
  },
  {
   "cell_type": "code",
   "execution_count": 42,
   "id": "e66da4d8",
   "metadata": {},
   "outputs": [
    {
     "data": {
      "text/plain": [
       "['Python', 'PHP']"
      ]
     },
     "execution_count": 42,
     "metadata": {},
     "output_type": "execute_result"
    }
   ],
   "source": [
    "# find language which start with P\n",
    "languages = ['Java', 'Python', 'PHP', 'C']\n",
    "[i for i in languages if i.startswith('P')]"
   ]
  },
  {
   "cell_type": "code",
   "execution_count": 43,
   "id": "f6edd42e",
   "metadata": {},
   "outputs": [
    {
     "name": "stdout",
     "output_type": "stream",
     "text": [
      "['Apple']\n"
     ]
    }
   ],
   "source": [
    "# Nested if with list comprehension\n",
    "\n",
    "Basket = [\"Apple\",\"Guava\",\"Cherry\",\"Banana\"]\n",
    "my_fruits = [\"Apple\",\"Kiwi\",\"Grapes\",\"Banana\"]\n",
    "\n",
    "print([i for i in my_fruits if i in Basket if i.startswith('A')])"
   ]
  },
  {
   "cell_type": "markdown",
   "id": "c07432a8",
   "metadata": {},
   "source": [
    "### Way to Traverse a list\n",
    "- itemwise\n",
    "- indexwise"
   ]
  },
  {
   "cell_type": "code",
   "execution_count": 44,
   "id": "e45fdff7",
   "metadata": {},
   "outputs": [
    {
     "name": "stdout",
     "output_type": "stream",
     "text": [
      "1\n",
      "2\n",
      "3\n",
      "4\n",
      "5\n"
     ]
    }
   ],
   "source": [
    "# itemwise\n",
    "L = [1,2,3,4,5]\n",
    "\n",
    "for i in L:\n",
    "    print(i)"
   ]
  },
  {
   "cell_type": "code",
   "execution_count": 45,
   "id": "07981275",
   "metadata": {},
   "outputs": [
    {
     "name": "stdout",
     "output_type": "stream",
     "text": [
      "0\n",
      "1\n",
      "2\n",
      "3\n",
      "4\n"
     ]
    }
   ],
   "source": [
    "L = [1,2,3,4,5]\n",
    "\n",
    "for i in range(0,len(L)):\n",
    "    print(i)"
   ]
  },
  {
   "cell_type": "code",
   "execution_count": null,
   "id": "696ddc2f",
   "metadata": {},
   "outputs": [],
   "source": []
  }
 ],
 "metadata": {
  "kernelspec": {
   "display_name": "Python 3 (ipykernel)",
   "language": "python",
   "name": "python3"
  },
  "language_info": {
   "codemirror_mode": {
    "name": "ipython",
    "version": 3
   },
   "file_extension": ".py",
   "mimetype": "text/x-python",
   "name": "python",
   "nbconvert_exporter": "python",
   "pygments_lexer": "ipython3",
   "version": "3.11.7"
  }
 },
 "nbformat": 4,
 "nbformat_minor": 5
}
