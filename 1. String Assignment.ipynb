{
 "cells": [
  {
   "cell_type": "markdown",
   "id": "7b45cccb-8641-46bf-9c7a-606be0478d30",
   "metadata": {},
   "source": [
    "### 1. Write a program to print every character of a string entered by the user in a new line using a loopp"
   ]
  },
  {
   "cell_type": "code",
   "execution_count": 1,
   "id": "1eb8a0d1-1f35-4f04-a530-e9cd527c17b8",
   "metadata": {},
   "outputs": [
    {
     "name": "stdin",
     "output_type": "stream",
     "text": [
      "Enter the string Rutuja\n"
     ]
    },
    {
     "name": "stdout",
     "output_type": "stream",
     "text": [
      "R\n",
      "u\n",
      "t\n",
      "u\n",
      "j\n",
      "a\n"
     ]
    }
   ],
   "source": [
    "str1 = input(\"Enter the string\")\n",
    "\n",
    "for i in str1:\n",
    "    print(i)"
   ]
  },
  {
   "cell_type": "markdown",
   "id": "673443a2-cdb3-42ce-8c0d-32c1d9708a5f",
   "metadata": {},
   "source": [
    "### 2.  Write a program to find the length of the string \"machine learning\" with and without using len functionn"
   ]
  },
  {
   "cell_type": "code",
   "execution_count": 2,
   "id": "5a710436-df4c-411d-a533-e3da71edb473",
   "metadata": {},
   "outputs": [
    {
     "name": "stdout",
     "output_type": "stream",
     "text": [
      "16\n"
     ]
    }
   ],
   "source": [
    "str2 = \"Machine Learning\"\n",
    "len_count = 0\n",
    "for i in str2:\n",
    "    len_count+=1\n",
    "print(len_count)"
   ]
  },
  {
   "cell_type": "code",
   "execution_count": 3,
   "id": "7c23a08b-28c4-4f93-b541-06c8cdc720ae",
   "metadata": {},
   "outputs": [
    {
     "data": {
      "text/plain": [
       "16"
      ]
     },
     "execution_count": 3,
     "metadata": {},
     "output_type": "execute_result"
    }
   ],
   "source": [
    "len(str2)"
   ]
  },
  {
   "cell_type": "markdown",
   "id": "5971d91f-7cbf-40e8-a795-c55b8c01a2f4",
   "metadata": {},
   "source": [
    "### 3. Write a program to check if the word 'orange' is present in the \"This is orange juice\".."
   ]
  },
  {
   "cell_type": "code",
   "execution_count": 5,
   "id": "445610db-5d21-41b8-9983-e9e075dec48e",
   "metadata": {},
   "outputs": [
    {
     "name": "stdout",
     "output_type": "stream",
     "text": [
      "The word orange is present in This is orange juice\n"
     ]
    }
   ],
   "source": [
    "str3 = \"This is orange juice\"\n",
    "word = \"orange\"\n",
    "found = False\n",
    "for i in str3.split():\n",
    "    if i in word:\n",
    "        found = True\n",
    "        if found:\n",
    "            print(f\"The word {word} is present in {str3}\")\n",
    "        else:\n",
    "            print(f\"The word {word} is not present in {str3}\")\n",
    "    "
   ]
  },
  {
   "cell_type": "code",
   "execution_count": 6,
   "id": "e743a4a9-0a3b-4553-ab67-a3f26877b7a2",
   "metadata": {},
   "outputs": [
    {
     "name": "stdout",
     "output_type": "stream",
     "text": [
      "The word orange is present in This is orange juice\n"
     ]
    }
   ],
   "source": [
    "str_3 = str3.split()\n",
    "word = \"orange\"\n",
    "if word in str_3:\n",
    "    print(f\"The word {word} is present in {str3}\")\n",
    "else:\n",
    "    print(f\"The word {word} is not present in {str3}\")"
   ]
  },
  {
   "cell_type": "code",
   "execution_count": 9,
   "id": "e6efe8eb-6d21-4ccd-9ec4-d865d3400281",
   "metadata": {},
   "outputs": [],
   "source": [
    "str3 = \"This is orange juice\"\n",
    "def find_word(word):\n",
    "    found = False\n",
    "    for i in str3.split():\n",
    "        if i in word:\n",
    "            found = True\n",
    "            if found:\n",
    "                print(f\"The word {word} is present in {str3}\")\n",
    "            else:\n",
    "                print(f\"The word {word} is not present in {str3}\")    "
   ]
  },
  {
   "cell_type": "code",
   "execution_count": 10,
   "id": "66e90a73-4796-4a87-8d2d-43730e4fcb34",
   "metadata": {},
   "outputs": [
    {
     "name": "stdout",
     "output_type": "stream",
     "text": [
      "The word orange is present in This is orange juice\n"
     ]
    }
   ],
   "source": [
    "find_word(\"orange\")"
   ]
  },
  {
   "cell_type": "markdown",
   "id": "364b1708-0845-4eec-93bf-6567df9135a5",
   "metadata": {},
   "source": [
    "### 4. Write a program to find the number of vowels, consonants, digits, and white space characters in a string.."
   ]
  },
  {
   "cell_type": "code",
   "execution_count": 30,
   "id": "07c4b596-a4e1-4db9-86d2-7df6773d7b76",
   "metadata": {},
   "outputs": [
    {
     "name": "stdin",
     "output_type": "stream",
     "text": [
      "Enter the string Rutuja 12345\n"
     ]
    },
    {
     "name": "stdout",
     "output_type": "stream",
     "text": [
      "Total number of vowels is 3\n",
      "Total number of consonant is 3\n",
      "Total number of digit is 5\n",
      "Total number of space is 1\n"
     ]
    }
   ],
   "source": [
    "str4 = input(\"Enter the string\")\n",
    "vowel = \"AEIOUaeiou\"\n",
    "number = \"0123456789\"\n",
    "space = \" \"\n",
    "V_count = 0\n",
    "N_count = 0\n",
    "S_count = 0\n",
    "C_count = 0\n",
    "for i in str4:\n",
    "    if i in vowel:\n",
    "        V_count += 1\n",
    "    elif i in number:\n",
    "        N_count += 1\n",
    "    elif i in space:\n",
    "        S_count += 1\n",
    "    else:\n",
    "        C_count += 1   \n",
    "print(f\"Total number of vowels is {V_count}\")\n",
    "print(f\"Total number of consonant is {C_count}\")\n",
    "print(f\"Total number of digit is {N_count}\")\n",
    "print(f\"Total number of space is {S_count}\")"
   ]
  },
  {
   "cell_type": "markdown",
   "id": "3c4e35f9-4def-4d81-beba-f3ac78abcfc3",
   "metadata": {},
   "source": [
    "### 5. Write a Python program to count Uppercase, Lowercase, special character, and numeric values in a given string.."
   ]
  },
  {
   "cell_type": "code",
   "execution_count": 34,
   "id": "cc544825-3940-4ea5-ba9f-eb26d5b55daa",
   "metadata": {},
   "outputs": [
    {
     "name": "stdin",
     "output_type": "stream",
     "text": [
      "Enter the string Rutuja@ 12345\n"
     ]
    },
    {
     "name": "stdout",
     "output_type": "stream",
     "text": [
      "Total number of upper case character 1\n",
      "Total number of lower case character 5\n",
      "Total number of Numeric character 5\n",
      "Total number of special character 1\n"
     ]
    }
   ],
   "source": [
    "str5 = input(\"Enter the string\")\n",
    "Upper_count = 0\n",
    "lower_count = 0\n",
    "Number_count = 0\n",
    "special_char_count = 0\n",
    "special_char = ['~', ':', \"'\", '+', '[', '\\\\', '@', '^', '{', '%', '(', '-', '\"', '*', '|', ',', '&', '<', '`', '}', '.', '_', '=', ']', '!', '>', ';', '?', '#', '$', ')', '/']\n",
    "\n",
    "for i in str5:\n",
    "    if i.isupper():\n",
    "        Upper_count += 1\n",
    "    elif i.islower():\n",
    "        lower_count += 1\n",
    "    elif i.isnumeric():\n",
    "        Number_count += 1\n",
    "    elif i in special_char:\n",
    "        special_char_count += 1\n",
    "print(f\"Total number of upper case character {Upper_count}\")\n",
    "print(f\"Total number of lower case character {lower_count}\")\n",
    "print(f\"Total number of Numeric character {Number_count}\")\n",
    "print(f\"Total number of special character {special_char_count}\")"
   ]
  },
  {
   "cell_type": "markdown",
   "id": "aecf88d7-32e2-4e2b-9e8f-966a8d6ed923",
   "metadata": {},
   "source": [
    "### 6. Write a program to make a new string with all the consonants deleted from the string \"Hello, have a good day\".."
   ]
  },
  {
   "cell_type": "code",
   "execution_count": 36,
   "id": "97e2f93d-8bf3-4fbc-8709-41d4c232cd9b",
   "metadata": {},
   "outputs": [
    {
     "name": "stdout",
     "output_type": "stream",
     "text": [
      "eoaeaooa\n"
     ]
    }
   ],
   "source": [
    "str6 = \"Hello, have a good day\"\n",
    "vowels = \"AEIOUaeiou\"\n",
    "new_str = \"\"\n",
    "\n",
    "for i in str6:\n",
    "    if i in vowels:\n",
    "        new_str += i\n",
    "print(new_str)"
   ]
  },
  {
   "cell_type": "code",
   "execution_count": 49,
   "id": "6deb0066-e0cc-4774-aed6-f81340d4e63e",
   "metadata": {},
   "outputs": [],
   "source": [
    "def str_without_consonant(str6):\n",
    "    vowels = \"AEIOUaeiou\"\n",
    "    new_string = \"\"\n",
    "    for i in str6:\n",
    "        if i in vowels:\n",
    "            new_string += i\n",
    "    return new_string"
   ]
  },
  {
   "cell_type": "code",
   "execution_count": 50,
   "id": "987ccec6-bf25-48a3-ad54-bff4a203e4a5",
   "metadata": {},
   "outputs": [
    {
     "data": {
      "text/plain": [
       "'eoaeaooa'"
      ]
     },
     "execution_count": 50,
     "metadata": {},
     "output_type": "execute_result"
    }
   ],
   "source": [
    "str_without_consonant(\"Hello, have a good day\")"
   ]
  },
  {
   "cell_type": "markdown",
   "id": "8b58bd56-fdeb-4fc3-801f-410a79eb0d46",
   "metadata": {},
   "source": [
    "### 7. Write a Python program to remove the nth index character from a non-empty string.."
   ]
  },
  {
   "cell_type": "code",
   "execution_count": 52,
   "id": "51d488c4-1180-4acb-b6bc-a5086911824b",
   "metadata": {},
   "outputs": [],
   "source": [
    "def remove_ith_char(str7):\n",
    "    ith_index = int(input(\"enter the index\"))\n",
    "    list1 = list(str7)\n",
    "    list1.pop(ith_index)\n",
    "    return \"\".join(list1)"
   ]
  },
  {
   "cell_type": "code",
   "execution_count": 53,
   "id": "c6ae34d3-1b74-4647-acdb-8e03c5f14529",
   "metadata": {},
   "outputs": [
    {
     "name": "stdin",
     "output_type": "stream",
     "text": [
      "enter the index 5\n"
     ]
    },
    {
     "data": {
      "text/plain": [
       "'Machie Learning'"
      ]
     },
     "execution_count": 53,
     "metadata": {},
     "output_type": "execute_result"
    }
   ],
   "source": [
    "remove_ith_char(\"Machine Learning\")"
   ]
  },
  {
   "cell_type": "markdown",
   "id": "7d537d5e-d222-4eb1-93b9-451165c57162",
   "metadata": {},
   "source": [
    "### 8. Write a Python program to change a given string to a new string where the first and last characters have been exchanged.."
   ]
  },
  {
   "cell_type": "code",
   "execution_count": 54,
   "id": "36f90861-999e-45a1-bcf1-fb38d89d4b43",
   "metadata": {},
   "outputs": [],
   "source": [
    "def exchanged_char(str8):\n",
    "    new_str = str8[-1] + str8[1:-1] + str8[0]\n",
    "    return new_str"
   ]
  },
  {
   "cell_type": "code",
   "execution_count": 55,
   "id": "f1ffaa3c-95ce-4792-a069-5e270f6dce9d",
   "metadata": {},
   "outputs": [
    {
     "data": {
      "text/plain": [
       "'nythoP'"
      ]
     },
     "execution_count": 55,
     "metadata": {},
     "output_type": "execute_result"
    }
   ],
   "source": [
    "exchanged_char(\"Python\")"
   ]
  },
  {
   "cell_type": "code",
   "execution_count": 56,
   "id": "54d6810e-0d25-47dc-b9d1-3474464c553b",
   "metadata": {},
   "outputs": [],
   "source": [
    "def exch_char(str9):\n",
    "    list2 = list(str9)\n",
    "    temp = list2[-1]\n",
    "    list2[-1] = list2[0]\n",
    "    list2[0] = temp\n",
    "    new_str = \"\".join(list2)\n",
    "    return new_str"
   ]
  },
  {
   "cell_type": "code",
   "execution_count": 57,
   "id": "274f781e-249a-44ed-bcbb-d2370eed2965",
   "metadata": {},
   "outputs": [
    {
     "data": {
      "text/plain": [
       "'nythoP'"
      ]
     },
     "execution_count": 57,
     "metadata": {},
     "output_type": "execute_result"
    }
   ],
   "source": [
    "exch_char(\"Python\")"
   ]
  },
  {
   "cell_type": "markdown",
   "id": "d351f28f-f796-44c5-84eb-e7e0149b97f6",
   "metadata": {},
   "source": [
    "### 9.Write a Python program to count the occurrences of each word in a given sentence.."
   ]
  },
  {
   "cell_type": "code",
   "execution_count": 58,
   "id": "b2bfc5a6-3731-466d-841d-c44cb46e5841",
   "metadata": {},
   "outputs": [],
   "source": [
    "def word_occurrences(str10):\n",
    "    str_10 = str10.split()\n",
    "    dict = {}\n",
    "    for key in str_10:\n",
    "        value = str_10.count(key)\n",
    "        dict.update({key:value})\n",
    "    return dict    "
   ]
  },
  {
   "cell_type": "code",
   "execution_count": 66,
   "id": "87a1fe43-788c-45d0-be18-6b38ed6770fd",
   "metadata": {},
   "outputs": [
    {
     "name": "stdout",
     "output_type": "stream",
     "text": [
      "{'An': 2, 'Error': 1, 'Function:': 1, 'error': 2, 'function': 2, 'evaluates': 1, 'the': 4, 'prediction': 1, 'of': 2, 'model.': 2, 'If': 1, 'there': 1, 'are': 1, 'known': 1, 'examples,': 1, 'an': 1, 'can': 1, 'make': 1, 'a': 1, 'comparison': 1, 'to': 1, 'assess': 1, 'accuracy': 1}\n"
     ]
    }
   ],
   "source": [
    "print(word_occurrences(\"An Error Function: An error function evaluates the prediction of the model. If there are known examples, an error function can make a comparison to assess the accuracy of the model.\"))"
   ]
  },
  {
   "cell_type": "markdown",
   "id": "9a957a55-6b25-45e8-a7e5-953ff23cf13e",
   "metadata": {},
   "source": [
    "### 10. How do you count the occurrence of a given character in a string"
   ]
  },
  {
   "cell_type": "code",
   "execution_count": 63,
   "id": "bca32d3c-d26f-4006-8442-990c4807bc19",
   "metadata": {},
   "outputs": [],
   "source": [
    "def occurrence_char(s1):\n",
    "    dict1 = {}\n",
    "    for key in s1:\n",
    "        value = s1.count(key)\n",
    "        dict1.update({key:value})\n",
    "    return dict1"
   ]
  },
  {
   "cell_type": "code",
   "execution_count": 65,
   "id": "e998d88a-bb17-4c3e-ae32-6336aa30abc3",
   "metadata": {},
   "outputs": [
    {
     "name": "stdout",
     "output_type": "stream",
     "text": [
      "{'M': 1, 'a': 4, 'c': 1, 'h': 1, 'i': 3, 'n': 6, 'e': 5, ' ': 4, 'L': 2, 'r': 2, 'g': 2, 'd': 1, 'D': 1, 'p': 1}\n"
     ]
    }
   ],
   "source": [
    "print(occurrence_char(\"Machine Learning and Deep Learning\"))"
   ]
  },
  {
   "cell_type": "markdown",
   "id": "2de80a09-16aa-44e5-9cdf-ffead4cb270b",
   "metadata": {},
   "source": [
    "### 11. Write a program to find last 10 characters of a string?"
   ]
  },
  {
   "cell_type": "code",
   "execution_count": 69,
   "id": "56bff485-b91c-4282-842b-902afc7e0601",
   "metadata": {},
   "outputs": [],
   "source": [
    "def find_char(s2):\n",
    "    new_s2 = s2[-10:]\n",
    "    return new_s2"
   ]
  },
  {
   "cell_type": "code",
   "execution_count": 70,
   "id": "b8c6a6bd-168e-40aa-8ed0-d58d4d3a873a",
   "metadata": {},
   "outputs": [
    {
     "data": {
      "text/plain": [
       "'e Learning'"
      ]
     },
     "execution_count": 70,
     "metadata": {},
     "output_type": "execute_result"
    }
   ],
   "source": [
    "find_char(\"Machine Learning\")"
   ]
  },
  {
   "cell_type": "markdown",
   "id": "1b80d194-4947-4705-809e-5e311d34393d",
   "metadata": {},
   "source": [
    "### 12. WAP to convert a given string to all uppercase if it contains at least 2 uppercase characters in the first 4 characters.."
   ]
  },
  {
   "cell_type": "code",
   "execution_count": 71,
   "id": "2ae36390-95f6-4a12-81b1-6d76964bb72e",
   "metadata": {},
   "outputs": [],
   "source": [
    "def upper_string(s3):\n",
    "    upper_count = 0\n",
    "    for i in s3[:4]:\n",
    "        if i.isupper():\n",
    "            upper_count += 1\n",
    "    if upper_count >= 2:\n",
    "        return s3.upper()\n",
    "    else:\n",
    "        return s3"
   ]
  },
  {
   "cell_type": "code",
   "execution_count": 76,
   "id": "1471123b-b181-4450-b7e8-d3fcf581481e",
   "metadata": {},
   "outputs": [
    {
     "data": {
      "text/plain": [
       "'RUTUJA'"
      ]
     },
     "execution_count": 76,
     "metadata": {},
     "output_type": "execute_result"
    }
   ],
   "source": [
    "upper_string(\"RUtuja\")"
   ]
  },
  {
   "cell_type": "markdown",
   "id": "68540b2c-aa66-47d1-80fd-7aeb2d7fa610",
   "metadata": {},
   "source": [
    "### 13. Write a Python program to remove a newline in Python."
   ]
  },
  {
   "cell_type": "code",
   "execution_count": 79,
   "id": "c9196896-6b46-42f8-a9ac-d64e5b2f90b2",
   "metadata": {},
   "outputs": [],
   "source": [
    "def remove_newline(s4):\n",
    "    s = s4.replace(\"\\n\",\"\")\n",
    "    return s"
   ]
  },
  {
   "cell_type": "code",
   "execution_count": 81,
   "id": "2dea27f1-a86c-4d95-9c22-b19fbeedc4d6",
   "metadata": {},
   "outputs": [
    {
     "data": {
      "text/plain": [
       "'machine learning and deep learning'"
      ]
     },
     "execution_count": 81,
     "metadata": {},
     "output_type": "execute_result"
    }
   ],
   "source": [
    "remove_newline(\"machine learning\\n and deep learning\")"
   ]
  },
  {
   "cell_type": "markdown",
   "id": "f6a9abc6-9c6d-4a53-b916-c6836fae0481",
   "metadata": {},
   "source": [
    "### 14. Write a Python program to find the first repeated character in a given string"
   ]
  },
  {
   "cell_type": "code",
   "execution_count": 85,
   "id": "32e204aa-c55a-4124-b009-c53e95a1df2a",
   "metadata": {},
   "outputs": [],
   "source": [
    "def repeted_chr(s5):\n",
    "    empty_str = \"\"\n",
    "    for i in s5:\n",
    "        if i in empty_str:\n",
    "            print(i)\n",
    "            break\n",
    "        else:\n",
    "            empty_str += i"
   ]
  },
  {
   "cell_type": "code",
   "execution_count": 86,
   "id": "137a47da-033e-41a4-a105-6db099b53efc",
   "metadata": {},
   "outputs": [
    {
     "name": "stdout",
     "output_type": "stream",
     "text": [
      "e\n"
     ]
    }
   ],
   "source": [
    "repeted_chr(\"Machine Learning\")"
   ]
  },
  {
   "cell_type": "markdown",
   "id": "673ae367-74bc-4278-9c28-1654ff1ea896",
   "metadata": {},
   "source": [
    "### 15. Python program to Count Even and Odd numbers in a string"
   ]
  },
  {
   "cell_type": "code",
   "execution_count": 88,
   "id": "261edb94-cb02-43ce-b3c7-e9770276dc60",
   "metadata": {},
   "outputs": [],
   "source": [
    "def odd_even_num(num):\n",
    "    even_count = 0\n",
    "    odd_count = 0\n",
    "    for i in num:\n",
    "        if int(i) % 2 == 0:\n",
    "            even_count += 1\n",
    "        else:\n",
    "            odd_count += 1\n",
    "    return even_count,odd_count"
   ]
  },
  {
   "cell_type": "code",
   "execution_count": 89,
   "id": "9b54628e-8a65-4431-b9ef-949d65175222",
   "metadata": {},
   "outputs": [
    {
     "data": {
      "text/plain": [
       "(4, 5)"
      ]
     },
     "execution_count": 89,
     "metadata": {},
     "output_type": "execute_result"
    }
   ],
   "source": [
    "odd_even_num(\"123456789\")"
   ]
  },
  {
   "cell_type": "markdown",
   "id": "c3452cc8-7087-4cf9-85b9-1d1959116e67",
   "metadata": {},
   "source": [
    "### 16. How do you check if a string contains only digits?"
   ]
  },
  {
   "cell_type": "code",
   "execution_count": 90,
   "id": "adfff0ff-5d31-4851-8cee-3bd9ec89e7ae",
   "metadata": {},
   "outputs": [],
   "source": [
    "def only_digit(s6):\n",
    "    for i in s6:\n",
    "        if i.isdigit():\n",
    "            return \"string contain only digits\"\n",
    "        else:\n",
    "            return \"String contain not only digits\""
   ]
  },
  {
   "cell_type": "code",
   "execution_count": 92,
   "id": "64bf3299-3d1f-47a0-a6d2-7911f413910c",
   "metadata": {},
   "outputs": [
    {
     "data": {
      "text/plain": [
       "'String contain not only digits'"
      ]
     },
     "execution_count": 92,
     "metadata": {},
     "output_type": "execute_result"
    }
   ],
   "source": [
    "only_digit(\"Rutuja@ 12345\")"
   ]
  },
  {
   "cell_type": "markdown",
   "id": "d8570266-732d-4fc8-9319-fb713340d91c",
   "metadata": {},
   "source": [
    "### 17. Write a Python program to find the second most repeated word in a given stringg"
   ]
  },
  {
   "cell_type": "code",
   "execution_count": 93,
   "id": "5d063721-b54c-4906-9137-33314dc495eb",
   "metadata": {},
   "outputs": [],
   "source": [
    "def repeted_word(s7):\n",
    "    empty_str = \"\"\n",
    "    for i in s7.split():\n",
    "        if i in empty_str:\n",
    "            print(i)\n",
    "            break\n",
    "        else:\n",
    "            empty_str += i"
   ]
  },
  {
   "cell_type": "code",
   "execution_count": 94,
   "id": "7765b3e9-66dc-4c42-b1e6-0859dc3d693a",
   "metadata": {},
   "outputs": [
    {
     "name": "stdout",
     "output_type": "stream",
     "text": [
      "learning\n"
     ]
    }
   ],
   "source": [
    "repeted_word(\"machine learning and deep learning\")"
   ]
  },
  {
   "cell_type": "markdown",
   "id": "d2c653ab-4ff1-4e51-b6b9-55038e1bf1a4",
   "metadata": {},
   "source": [
    "### 18. Python program to check whether a number is Prime or not"
   ]
  },
  {
   "cell_type": "code",
   "execution_count": 133,
   "id": "c6e723af-8856-4951-a0e6-48be10a5d396",
   "metadata": {},
   "outputs": [],
   "source": [
    "def prime_num(num):\n",
    "    if num <= 1:\n",
    "        return False\n",
    "    for i in range(2,num):\n",
    "        if num % i == 0:\n",
    "            return \"The Given number is not prime\"\n",
    "    return \"The given number is prime\""
   ]
  },
  {
   "cell_type": "code",
   "execution_count": 134,
   "id": "1f647784-d42d-40a8-b62c-26caf5420edc",
   "metadata": {},
   "outputs": [
    {
     "data": {
      "text/plain": [
       "'The Given number is not prime'"
      ]
     },
     "execution_count": 134,
     "metadata": {},
     "output_type": "execute_result"
    }
   ],
   "source": [
    "prime_num(4)"
   ]
  },
  {
   "cell_type": "markdown",
   "id": "07c42a57-19c5-4802-8f9c-e2d6c0b70214",
   "metadata": {},
   "source": [
    "### 19. Write a Python Program to find the area of a circle"
   ]
  },
  {
   "cell_type": "code",
   "execution_count": 135,
   "id": "f40a7f8b-305f-4d96-9204-42f23a2cc0e0",
   "metadata": {},
   "outputs": [
    {
     "data": {
      "text/plain": [
       "1256.6370614359173"
      ]
     },
     "execution_count": 135,
     "metadata": {},
     "output_type": "execute_result"
    }
   ],
   "source": [
    "import math\n",
    "def area_circle(Radius):\n",
    "    area = math.pi*Radius**2\n",
    "    return area\n",
    "area_circle(20)"
   ]
  },
  {
   "cell_type": "markdown",
   "id": "b29821a6-ca3d-44da-9aea-2387e3799b8e",
   "metadata": {},
   "source": [
    "### 20. Write a Python program to remove duplicate characters of a given string"
   ]
  },
  {
   "cell_type": "code",
   "execution_count": 140,
   "id": "1b9925ee-da62-4524-a3eb-83c7f20c6739",
   "metadata": {},
   "outputs": [],
   "source": [
    "def duplicate_char(s8):\n",
    "    empty_list = []\n",
    "    for i in list(s8):\n",
    "        if i in empty_list:\n",
    "            empty_list.remove(i)\n",
    "        else:\n",
    "            empty_list.append(i)\n",
    "    return \"\".join(empty_list)"
   ]
  },
  {
   "cell_type": "code",
   "execution_count": 141,
   "id": "7494a592-1872-429a-94f0-c1d5d395c1b3",
   "metadata": {},
   "outputs": [
    {
     "data": {
      "text/plain": [
       "'MchLdDplei'"
      ]
     },
     "execution_count": 141,
     "metadata": {},
     "output_type": "execute_result"
    }
   ],
   "source": [
    "duplicate_char(\"Machine Learning and Deep learning\")"
   ]
  },
  {
   "cell_type": "markdown",
   "id": "a5cdec56-b1c4-441f-8ac2-f68aec395c28",
   "metadata": {},
   "source": [
    "### 21. Write a Python program to remove spaces from a given string"
   ]
  },
  {
   "cell_type": "code",
   "execution_count": 146,
   "id": "7d685a28-0437-4e22-a562-0954289f7a73",
   "metadata": {},
   "outputs": [],
   "source": [
    "def remove_space(s9):\n",
    "    for i in s9:\n",
    "        if i.isspace():\n",
    "            remove_space = s9.replace(i,\"\")\n",
    "    return remove_space"
   ]
  },
  {
   "cell_type": "code",
   "execution_count": 147,
   "id": "ccc76505-a2c2-4211-ae2e-b97f5eb86de8",
   "metadata": {},
   "outputs": [
    {
     "data": {
      "text/plain": [
       "'RutujaKhairnar'"
      ]
     },
     "execution_count": 147,
     "metadata": {},
     "output_type": "execute_result"
    }
   ],
   "source": [
    "remove_space(\"Rutuja Khairnar\")"
   ]
  },
  {
   "cell_type": "markdown",
   "id": "b6762bb7-f95c-48d7-b2ca-9efa8991a34f",
   "metadata": {},
   "source": [
    "### 22. Write a Python program to swap cases of a given string"
   ]
  },
  {
   "cell_type": "code",
   "execution_count": 149,
   "id": "ee66795b-3521-4fcd-bc79-391c1c62dd8f",
   "metadata": {},
   "outputs": [],
   "source": [
    "def swap_string(s10):\n",
    "    swap_str = s10.swapcase()\n",
    "    return swap_str"
   ]
  },
  {
   "cell_type": "code",
   "execution_count": 150,
   "id": "aba31670-70c9-45d7-b762-4e109964d89b",
   "metadata": {},
   "outputs": [
    {
     "data": {
      "text/plain": [
       "'mAcHInE lEArnING'"
      ]
     },
     "execution_count": 150,
     "metadata": {},
     "output_type": "execute_result"
    }
   ],
   "source": [
    "swap_string(\"MaChiNe LeaRNing\")"
   ]
  },
  {
   "cell_type": "markdown",
   "id": "c8d3f894-c0ce-45ee-9c1e-23121f7d2f09",
   "metadata": {},
   "source": [
    "### 23. Write a Python program to reverse words in a string"
   ]
  },
  {
   "cell_type": "code",
   "execution_count": 153,
   "id": "06a3e4dd-d0dc-470a-a4f0-34689e7e01c2",
   "metadata": {},
   "outputs": [],
   "source": [
    "def reverse_string(s11):\n",
    "    revrse_str = reversed(s11)\n",
    "    return \"\".join(revrse_str)"
   ]
  },
  {
   "cell_type": "code",
   "execution_count": 154,
   "id": "ed5ebd55-cc94-46a7-8cbb-16abb0df5b29",
   "metadata": {},
   "outputs": [
    {
     "data": {
      "text/plain": [
       "'gninraeL enihcaM'"
      ]
     },
     "execution_count": 154,
     "metadata": {},
     "output_type": "execute_result"
    }
   ],
   "source": [
    "reverse_string(\"Machine Learning\")"
   ]
  },
  {
   "cell_type": "markdown",
   "id": "62db9ee2-e686-40e2-99dc-548974f2fe97",
   "metadata": {},
   "source": [
    "### 24. Write a Python function to reverses a string if its length is a multiple of 5"
   ]
  },
  {
   "cell_type": "code",
   "execution_count": 158,
   "id": "3826ce96-ceb1-4342-86e3-15ae943f1b1f",
   "metadata": {},
   "outputs": [],
   "source": [
    "def rev_str(s12):\n",
    "    for i in s12:\n",
    "        if len(s12) % 5 == 0:\n",
    "            return \"\".join(reversed(s12))\n",
    "        else:\n",
    "            return s12"
   ]
  },
  {
   "cell_type": "code",
   "execution_count": 161,
   "id": "4bb51ae7-d0af-4e98-b2f5-2d0d3d95179a",
   "metadata": {},
   "outputs": [
    {
     "data": {
      "text/plain": [
       "'gninraeLenihcam'"
      ]
     },
     "execution_count": 161,
     "metadata": {},
     "output_type": "execute_result"
    }
   ],
   "source": [
    "rev_str(\"machineLearning\")"
   ]
  },
  {
   "cell_type": "markdown",
   "id": "d2dc5d01-773c-4d02-a8f4-e216c166aba8",
   "metadata": {},
   "source": [
    "### 25. Write a Python program to remove the characters which have odd index values of a given stringg"
   ]
  },
  {
   "cell_type": "code",
   "execution_count": 201,
   "id": "8e2d4aa8-55f5-4adb-aeb3-8429d4839fbb",
   "metadata": {},
   "outputs": [],
   "source": [
    "def odd_index(s13):\n",
    "    empty_str = \"\"\n",
    "    for index,value in enumerate(s13):\n",
    "        if index % 2 == 0:\n",
    "            empty_str += value\n",
    "    return empty_str"
   ]
  },
  {
   "cell_type": "code",
   "execution_count": 202,
   "id": "05234522-98ad-437d-96e4-e1e0a1659a06",
   "metadata": {},
   "outputs": [
    {
     "data": {
      "text/plain": [
       "'McieLann'"
      ]
     },
     "execution_count": 202,
     "metadata": {},
     "output_type": "execute_result"
    }
   ],
   "source": [
    "odd_index(\"Machine Learning\")"
   ]
  },
  {
   "cell_type": "markdown",
   "id": "2880af63-1ebb-4dba-8beb-43abe965d414",
   "metadata": {},
   "source": [
    "### 26. write a python program to check if the given string is palidrome or not"
   ]
  },
  {
   "cell_type": "code",
   "execution_count": 203,
   "id": "8f1900ff-fec5-43d3-8f29-4b3505f3f62a",
   "metadata": {},
   "outputs": [],
   "source": [
    "def palidrome_str(s14):\n",
    "    reverse_str = \"\".join(reversed(s14))\n",
    "    if s14 == reverse_str:\n",
    "        return \"The Given String Palidrome\"\n",
    "    else:\n",
    "        return \"The Given string is not Palidrome\"                   "
   ]
  },
  {
   "cell_type": "code",
   "execution_count": 204,
   "id": "58ae403b-8292-4b7f-bfd8-a91f1f491945",
   "metadata": {},
   "outputs": [
    {
     "data": {
      "text/plain": [
       "'The Given String Palidrome'"
      ]
     },
     "execution_count": 204,
     "metadata": {},
     "output_type": "execute_result"
    }
   ],
   "source": [
    "palidrome_str(\"POP\")"
   ]
  },
  {
   "cell_type": "markdown",
   "id": "0e06327b-55a3-48d5-8873-6c62b35cfb7e",
   "metadata": {},
   "source": [
    "### 27. write a python program to reverse string without using reversed function"
   ]
  },
  {
   "cell_type": "code",
   "execution_count": 205,
   "id": "99f744a8-c827-4ece-a7f0-39ca3150168f",
   "metadata": {},
   "outputs": [],
   "source": [
    "def reverse_string(s15):\n",
    "    rev_str = \"\"\n",
    "    for i in s15:\n",
    "        rev_str = i + rev_str\n",
    "    return rev_str"
   ]
  },
  {
   "cell_type": "code",
   "execution_count": 206,
   "id": "3e03e4b6-fd22-4222-8aeb-7b8fff93aa39",
   "metadata": {},
   "outputs": [
    {
     "data": {
      "text/plain": [
       "'ajutuR'"
      ]
     },
     "execution_count": 206,
     "metadata": {},
     "output_type": "execute_result"
    }
   ],
   "source": [
    "reverse_string(\"Rutuja\")"
   ]
  },
  {
   "cell_type": "code",
   "execution_count": 207,
   "id": "cfc779f3-032f-49ea-b525-c83b4cee2cba",
   "metadata": {},
   "outputs": [
    {
     "name": "stdout",
     "output_type": "stream",
     "text": [
      "ajutuR\n"
     ]
    }
   ],
   "source": [
    "s16 = \"Rutuja\"\n",
    "print(\"\".join(reversed(s16)))"
   ]
  },
  {
   "cell_type": "code",
   "execution_count": 208,
   "id": "f54b3905-2684-481d-ad80-a40339b53b6b",
   "metadata": {},
   "outputs": [
    {
     "name": "stdout",
     "output_type": "stream",
     "text": [
      "ajutuR\n"
     ]
    }
   ],
   "source": [
    "print(s16[::-1])"
   ]
  },
  {
   "cell_type": "code",
   "execution_count": null,
   "id": "7be5d8fd-ff14-4d9b-a1c2-767f85e89416",
   "metadata": {},
   "outputs": [],
   "source": []
  }
 ],
 "metadata": {
  "kernelspec": {
   "display_name": "Python 3 (ipykernel)",
   "language": "python",
   "name": "python3"
  },
  "language_info": {
   "codemirror_mode": {
    "name": "ipython",
    "version": 3
   },
   "file_extension": ".py",
   "mimetype": "text/x-python",
   "name": "python",
   "nbconvert_exporter": "python",
   "pygments_lexer": "ipython3",
   "version": "3.12.4"
  }
 },
 "nbformat": 4,
 "nbformat_minor": 5
}
