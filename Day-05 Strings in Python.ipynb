{
 "cells": [
  {
   "cell_type": "markdown",
   "id": "f73c34bd",
   "metadata": {},
   "source": [
    "# Strings In Python"
   ]
  },
  {
   "cell_type": "markdown",
   "id": "beb5c6e5",
   "metadata": {},
   "source": [
    "## What is strings ?\n",
    "A String is a data structure in Python that represents a sequence of characters. typically used to represent text in computer programming. In \n",
    "programming languages, a string is enclosed within quotation marks, either single (' ') or double (\" \").A String is an immutable data type, meaning that once you have created a string, you cannot change it."
   ]
  },
  {
   "cell_type": "code",
   "execution_count": 1,
   "id": "95db8910",
   "metadata": {},
   "outputs": [
    {
     "name": "stdout",
     "output_type": "stream",
     "text": [
      "Hello World!\n"
     ]
    }
   ],
   "source": [
    "# Create string with single quote\n",
    "s1 = 'Hello World!'\n",
    "print(s1)"
   ]
  },
  {
   "cell_type": "code",
   "execution_count": 2,
   "id": "76bc0bb5",
   "metadata": {},
   "outputs": [
    {
     "name": "stdout",
     "output_type": "stream",
     "text": [
      "Strings\n"
     ]
    }
   ],
   "source": [
    "# Create string with double quote\n",
    "s2 = \"Strings\"\n",
    "print(s2)"
   ]
  },
  {
   "cell_type": "code",
   "execution_count": 3,
   "id": "e7bc4919",
   "metadata": {},
   "outputs": [
    {
     "name": "stdout",
     "output_type": "stream",
     "text": [
      "Hello, Good Morning\n"
     ]
    }
   ],
   "source": [
    "# Create string with triple quote\n",
    "s3 = \"\"\"Hello, Good Morning\"\"\"\n",
    "print(s3)"
   ]
  },
  {
   "cell_type": "code",
   "execution_count": 4,
   "id": "3b88b314",
   "metadata": {},
   "outputs": [
    {
     "name": "stdout",
     "output_type": "stream",
     "text": [
      "Hello, we are learning \"Python\".\n"
     ]
    }
   ],
   "source": [
    "# quotation marks in between string\n",
    "s4 = 'Hello, we are learning \"Python\".'\n",
    "print(s4)"
   ]
  },
  {
   "cell_type": "markdown",
   "id": "76fbdddf",
   "metadata": {},
   "source": [
    "## Accessing Characters of a string"
   ]
  },
  {
   "cell_type": "markdown",
   "id": "c47fcfd8",
   "metadata": {},
   "source": [
    "In Python, indexing refers to accessing individual elements or characters in a sequence like strings, lists, tuples, etc., by their position within the sequence. The indexing starts from 0, meaning the first element is at index 0, the second element is at index 1, and so on.\n",
    "\n",
    "**1. Indexing Positive Numbers:**-  Positive indexing starts from 0 for the first element and increments by 1 for each subsequent element.\n",
    "\n",
    "**2. Indexing Negative Numbers:**-  Negative indexing starts from -1 for the last element and decrements by 1 towards the beginning of the sequence."
   ]
  },
  {
   "cell_type": "code",
   "execution_count": 5,
   "id": "d93b286a",
   "metadata": {},
   "outputs": [
    {
     "name": "stdout",
     "output_type": "stream",
     "text": [
      "Python\n"
     ]
    }
   ],
   "source": [
    "st = \"Python\"\n",
    "print(st)"
   ]
  },
  {
   "cell_type": "code",
   "execution_count": 6,
   "id": "7609ee6e",
   "metadata": {},
   "outputs": [
    {
     "name": "stdout",
     "output_type": "stream",
     "text": [
      "P\n"
     ]
    }
   ],
   "source": [
    "# print first character\n",
    "print(st[0])"
   ]
  },
  {
   "cell_type": "code",
   "execution_count": 7,
   "id": "18f01a84",
   "metadata": {},
   "outputs": [
    {
     "name": "stdout",
     "output_type": "stream",
     "text": [
      "n\n"
     ]
    }
   ],
   "source": [
    "# print last character\n",
    "print(st[5])"
   ]
  },
  {
   "cell_type": "code",
   "execution_count": 8,
   "id": "1e975cff",
   "metadata": {},
   "outputs": [
    {
     "name": "stdout",
     "output_type": "stream",
     "text": [
      "P\n",
      "y\n",
      "t\n",
      "h\n",
      "o\n",
      "n\n"
     ]
    }
   ],
   "source": [
    "# using for loop \n",
    "for i in st:\n",
    "    print(i)"
   ]
  },
  {
   "cell_type": "markdown",
   "id": "a4f9313a",
   "metadata": {},
   "source": [
    "## String Slicing"
   ]
  },
  {
   "cell_type": "markdown",
   "id": "bc7b4bf1",
   "metadata": {},
   "source": [
    "In Python, the String Slicing method is used to access a range of characters in the String. Slicing in a String is done by using a Slicing operator, i.e., a colon (:).  \n",
    "Slicing allows you to extract a substring from a string"
   ]
  },
  {
   "cell_type": "code",
   "execution_count": 9,
   "id": "84abe383",
   "metadata": {},
   "outputs": [
    {
     "name": "stdout",
     "output_type": "stream",
     "text": [
      "!!!! gninroM dooG !!!!\n"
     ]
    }
   ],
   "source": [
    "# reverse string\n",
    "a = \"!!!! Good Morning !!!!\"\n",
    "print(a[::-1])"
   ]
  },
  {
   "cell_type": "code",
   "execution_count": 10,
   "id": "a520a2d5",
   "metadata": {},
   "outputs": [
    {
     "name": "stdout",
     "output_type": "stream",
     "text": [
      "Morning Good\n"
     ]
    }
   ],
   "source": [
    "a = \"Good Morning\"\n",
    "b = a[5:]\n",
    "c = a[:4]\n",
    "result = b +\" \" + c\n",
    "print(result)"
   ]
  },
  {
   "cell_type": "markdown",
   "id": "7caac838",
   "metadata": {},
   "source": [
    "## String Method"
   ]
  },
  {
   "cell_type": "code",
   "execution_count": 11,
   "id": "14e26989",
   "metadata": {},
   "outputs": [
    {
     "data": {
      "text/plain": [
       "12"
      ]
     },
     "execution_count": 11,
     "metadata": {},
     "output_type": "execute_result"
    }
   ],
   "source": [
    "len(a)"
   ]
  },
  {
   "cell_type": "markdown",
   "id": "70a0cef5",
   "metadata": {},
   "source": [
    "### 1. String capitalize() \n",
    "The capitalize() method returns a string where the first character is upper case, and the rest is lower case."
   ]
  },
  {
   "cell_type": "code",
   "execution_count": 12,
   "id": "ba4f1a7c",
   "metadata": {},
   "outputs": [
    {
     "name": "stdout",
     "output_type": "stream",
     "text": [
      "Hello world\n"
     ]
    }
   ],
   "source": [
    "# capitalize()\n",
    "string = \"hello world\"\n",
    "capitalized_string = string.capitalize()\n",
    "print(capitalized_string)"
   ]
  },
  {
   "cell_type": "markdown",
   "id": "07010777",
   "metadata": {},
   "source": [
    "### 2. String casefold() \n",
    "The casefold() method returns a string where all the characters are lower case.\n",
    "This method is similar to the lower() method, but the casefold() method is stronger, more aggressive, meaning that it will convert more characters into lower case,"
   ]
  },
  {
   "cell_type": "code",
   "execution_count": 13,
   "id": "c1641de5",
   "metadata": {},
   "outputs": [
    {
     "name": "stdout",
     "output_type": "stream",
     "text": [
      "weightage of the discussion\n"
     ]
    }
   ],
   "source": [
    "A = \"WeightAGE oF THe DiScuSSiON\"\n",
    "print(A.casefold())"
   ]
  },
  {
   "cell_type": "markdown",
   "id": "c1bcabbb",
   "metadata": {},
   "source": [
    "### 3. String center()\n",
    "The center() method will center align the string, using a specified character (space is default) as the fill character."
   ]
  },
  {
   "cell_type": "code",
   "execution_count": 14,
   "id": "b1fd0883",
   "metadata": {},
   "outputs": [
    {
     "name": "stdout",
     "output_type": "stream",
     "text": [
      "                   Hello Python                   \n"
     ]
    }
   ],
   "source": [
    "B = \"Hello Python\"\n",
    "print(B.center(50))"
   ]
  },
  {
   "cell_type": "markdown",
   "id": "20fe91c8",
   "metadata": {},
   "source": [
    "### 4. String count() \n",
    "The count() method returns the number of times a specified value appears in the string."
   ]
  },
  {
   "cell_type": "code",
   "execution_count": 15,
   "id": "5edb9816",
   "metadata": {},
   "outputs": [
    {
     "name": "stdout",
     "output_type": "stream",
     "text": [
      "4\n"
     ]
    }
   ],
   "source": [
    "C = \"I love apples, apple are my favorite fruit\"\n",
    "print(C.count('a'))"
   ]
  },
  {
   "cell_type": "markdown",
   "id": "1131c70b",
   "metadata": {},
   "source": [
    "### 5. String endswith()\n",
    "The endswith() method returns True if the string ends with the specified value, otherwise False."
   ]
  },
  {
   "cell_type": "code",
   "execution_count": 16,
   "id": "57d572bf",
   "metadata": {},
   "outputs": [
    {
     "name": "stdout",
     "output_type": "stream",
     "text": [
      "True\n"
     ]
    }
   ],
   "source": [
    "E = \"Hello, welcome to my world.\"\n",
    "print(E.endswith(\".\"))"
   ]
  },
  {
   "cell_type": "markdown",
   "id": "d739a655",
   "metadata": {},
   "source": [
    "### 6. String find()\n",
    "The find() method finds the first occurrence of the specified value.\n",
    "The find() method returns -1 if the value is not found.\n",
    "The find() method is almost the same as the index() method, the only difference is that the index() method raises an exception if the value is not found. "
   ]
  },
  {
   "cell_type": "code",
   "execution_count": 17,
   "id": "e49f6053",
   "metadata": {},
   "outputs": [
    {
     "name": "stdout",
     "output_type": "stream",
     "text": [
      "7\n"
     ]
    }
   ],
   "source": [
    "F = \"occurrence\"\n",
    "print(F.find('n'))"
   ]
  },
  {
   "cell_type": "markdown",
   "id": "19d93bee",
   "metadata": {},
   "source": [
    "### 7. String format()\n",
    "The format() method formats the specified value(s) and insert them inside the string's placeholder.\n",
    "The placeholder is defined using curly brackets: {}. Read more about the placeholders in the Placeholder section below.\n",
    "The format() method returns the formatted string."
   ]
  },
  {
   "cell_type": "code",
   "execution_count": 18,
   "id": "6b5af44c",
   "metadata": {},
   "outputs": [
    {
     "name": "stdout",
     "output_type": "stream",
     "text": [
      "My name is John, I'm 36\n",
      "My name is John, I'm 36\n",
      "My name is John, I'm 36\n"
     ]
    }
   ],
   "source": [
    "G = \"My name is {fname}, I'm {age}\".format(fname = \"John\", age = 36)\n",
    "H = \"My name is {0}, I'm {1}\".format(\"John\",36)\n",
    "I = \"My name is {}, I'm {}\".format(\"John\",36)\n",
    "print(G)\n",
    "print(H)\n",
    "print(I)"
   ]
  },
  {
   "cell_type": "markdown",
   "id": "78f2f599",
   "metadata": {},
   "source": [
    "### 8. String index()\n",
    "The index() method finds the first occurrence of the specified value.\n",
    "The index() method raises an exception if the value is not found.\n",
    "The index() method is almost the same as the find() method, the only difference is that the find() method returns -1 if the value is not found. "
   ]
  },
  {
   "cell_type": "code",
   "execution_count": 19,
   "id": "278621a8",
   "metadata": {},
   "outputs": [
    {
     "name": "stdout",
     "output_type": "stream",
     "text": [
      "1\n"
     ]
    }
   ],
   "source": [
    "J = 'random'\n",
    "print(J.index('and'))"
   ]
  },
  {
   "cell_type": "markdown",
   "id": "85aec300",
   "metadata": {},
   "source": [
    "### 9. String isalnum()\n",
    "The isalnum() method returns True if all the characters are alphanumeric, meaning alphabet letter (a-z) and numbers (0-9).\n",
    "characters that are not alphanumeric: (space)!#%&? etc."
   ]
  },
  {
   "cell_type": "code",
   "execution_count": 20,
   "id": "d7e1d242",
   "metadata": {},
   "outputs": [
    {
     "name": "stdout",
     "output_type": "stream",
     "text": [
      "True\n"
     ]
    }
   ],
   "source": [
    "K = \"Company12\"\n",
    "print(K.isalnum())"
   ]
  },
  {
   "cell_type": "markdown",
   "id": "009bd6fe",
   "metadata": {},
   "source": [
    "### 10. String isalpha()\n",
    "The isalpha() method returns True if all the characters are alphabet letters (a-z). characters that are not alphabet letters: (space)!#%&? etc."
   ]
  },
  {
   "cell_type": "code",
   "execution_count": 21,
   "id": "807e5fb3",
   "metadata": {},
   "outputs": [
    {
     "name": "stdout",
     "output_type": "stream",
     "text": [
      "True\n"
     ]
    }
   ],
   "source": [
    "L = \"Monica\"\n",
    "print(L.isalpha())"
   ]
  },
  {
   "cell_type": "markdown",
   "id": "07145646",
   "metadata": {},
   "source": [
    "### 11. String isascii() \n",
    "The isascii() method returns True if all the characters are ascii characters  (a-z)."
   ]
  },
  {
   "cell_type": "code",
   "execution_count": 22,
   "id": "36e160a5",
   "metadata": {},
   "outputs": [
    {
     "name": "stdout",
     "output_type": "stream",
     "text": [
      "True\n"
     ]
    }
   ],
   "source": [
    "M = \"Company123\"\n",
    "print(M.isascii())"
   ]
  },
  {
   "cell_type": "markdown",
   "id": "6a906cc3",
   "metadata": {},
   "source": [
    "### 12. String isdecimal()\n",
    "The isdecimal() method returns True if all the characters are decimals (0-9)."
   ]
  },
  {
   "cell_type": "code",
   "execution_count": 23,
   "id": "7a74b8a5",
   "metadata": {},
   "outputs": [
    {
     "name": "stdout",
     "output_type": "stream",
     "text": [
      "True\n"
     ]
    }
   ],
   "source": [
    "N = \"28212\"\n",
    "print(N.isdecimal())"
   ]
  },
  {
   "cell_type": "markdown",
   "id": "e384f84e",
   "metadata": {},
   "source": [
    "### 13. String isdigit()\n",
    "The isdigit() method returns True if all the characters are digits, otherwise False."
   ]
  },
  {
   "cell_type": "code",
   "execution_count": 24,
   "id": "4ad1704c",
   "metadata": {},
   "outputs": [
    {
     "name": "stdout",
     "output_type": "stream",
     "text": [
      "True\n"
     ]
    }
   ],
   "source": [
    "O = \"50800\"\n",
    "print(O.isdigit())"
   ]
  },
  {
   "cell_type": "markdown",
   "id": "5bd7c6a2",
   "metadata": {},
   "source": [
    "### 14. String isidentifier() \n",
    "The isidentifier() method returns True if the string is a valid identifier, otherwise False.\n",
    "A string is considered a valid identifier if it only contains alphanumeric letters (a-z) and (0-9), or underscores (_). A valid identifier cannot start with a number, or contain any spaces."
   ]
  },
  {
   "cell_type": "code",
   "execution_count": 25,
   "id": "66dbbf29",
   "metadata": {},
   "outputs": [
    {
     "name": "stdout",
     "output_type": "stream",
     "text": [
      "True\n",
      "False\n",
      "False\n",
      "False\n"
     ]
    }
   ],
   "source": [
    "P = 'Python'\n",
    "print(P.isidentifier())\n",
    "\n",
    "Q = 'Py thon'\n",
    "print(Q.isidentifier())\n",
    "\n",
    "R = '22Python'\n",
    "print(R.isidentifier())\n",
    "\n",
    "S = ''\n",
    "print(S.isidentifier())"
   ]
  },
  {
   "cell_type": "markdown",
   "id": "502beb83",
   "metadata": {},
   "source": [
    "### 15.  String islower()\n",
    "The islower() method returns True if all the characters are in lower case, otherwise False.\n",
    "Numbers, symbols and spaces are not checked, only alphabet characters"
   ]
  },
  {
   "cell_type": "code",
   "execution_count": 26,
   "id": "0d85a67c",
   "metadata": {},
   "outputs": [
    {
     "name": "stdout",
     "output_type": "stream",
     "text": [
      "True\n",
      "True\n",
      "False\n"
     ]
    }
   ],
   "source": [
    "T = 'this is good'\n",
    "print(T.islower())\n",
    "\n",
    "U = 'th!s is a1so g00d'\n",
    "print(U.islower())\n",
    "\n",
    "V = 'this is Not good'\n",
    "print(V.islower())"
   ]
  },
  {
   "cell_type": "markdown",
   "id": "901973a0",
   "metadata": {},
   "source": [
    "### 16. String isnumeric()\n",
    "The isnumeric() method returns True if all the characters are numeric (0-9), otherwise False.\n",
    "Exponents, like ² and ¾ are also considered to be numeric values.\n",
    "\"-1\" and \"1.5\" are NOT considered numeric values, because all the characters in the string must be numeric, and the - and the . are not."
   ]
  },
  {
   "cell_type": "code",
   "execution_count": 27,
   "id": "b8aa1e31",
   "metadata": {},
   "outputs": [
    {
     "name": "stdout",
     "output_type": "stream",
     "text": [
      "True\n",
      "True\n",
      "False\n",
      "False\n",
      "False\n"
     ]
    }
   ],
   "source": [
    "w = \"\\u0030\" #unicode for 0\n",
    "x = \"\\u00B2\" #unicode for &sup2;\n",
    "y = \"10km2\"\n",
    "z = \"-1\"\n",
    "z1 = \"1.5\"\n",
    "\n",
    "print(w.isnumeric())\n",
    "print(x.isnumeric())\n",
    "print(y.isnumeric())\n",
    "print(z.isnumeric())\n",
    "print(z1.isnumeric())"
   ]
  },
  {
   "cell_type": "markdown",
   "id": "c178bdb4",
   "metadata": {},
   "source": [
    "### 17. String isupper()\n",
    "The isupper() method returns True if all the characters are in upper case, otherwise False.\n",
    "Numbers, symbols and spaces are not checked, only alphabet characters."
   ]
  },
  {
   "cell_type": "code",
   "execution_count": 28,
   "id": "30a58eb5",
   "metadata": {},
   "outputs": [
    {
     "name": "stdout",
     "output_type": "stream",
     "text": [
      "False\n",
      "False\n",
      "True\n"
     ]
    }
   ],
   "source": [
    "a = \"Hello World!\"\n",
    "b = \"hello 123\"\n",
    "c = \"MY NAME IS PETER\"\n",
    "\n",
    "print(a.isupper())\n",
    "print(b.isupper())\n",
    "print(c.isupper())"
   ]
  },
  {
   "cell_type": "markdown",
   "id": "ade8d89e",
   "metadata": {},
   "source": [
    "### 18. String istitle()\n",
    "The istitle() method returns True if all words in a text start with a upper case letter, AND the rest of the word are lower case letters, otherwise False.\n",
    "Symbols and numbers are ignored."
   ]
  },
  {
   "cell_type": "code",
   "execution_count": 29,
   "id": "32388c59",
   "metadata": {},
   "outputs": [
    {
     "name": "stdout",
     "output_type": "stream",
     "text": [
      "False\n",
      "True\n",
      "True\n",
      "True\n"
     ]
    }
   ],
   "source": [
    "d = \"HELLO, AND WELCOME TO MY WORLD\"\n",
    "e = \"Hello\"\n",
    "f = \"22 Names\"\n",
    "g = \"This Is %'!?\"\n",
    "\n",
    "print(d.istitle())\n",
    "print(e.istitle())\n",
    "print(f.istitle())\n",
    "print(g.istitle())"
   ]
  },
  {
   "cell_type": "markdown",
   "id": "fd46fa7d",
   "metadata": {},
   "source": [
    "### 19. String join()\n",
    "The join() method takes all items in an iterable and joins them into one string.\n",
    "A string must be specified as the separator."
   ]
  },
  {
   "cell_type": "code",
   "execution_count": 30,
   "id": "61811e0a",
   "metadata": {},
   "outputs": [
    {
     "name": "stdout",
     "output_type": "stream",
     "text": [
      "Python is a fun programming language\n"
     ]
    }
   ],
   "source": [
    "text = ['Python', 'is', 'a', 'fun', 'programming', 'language']\n",
    "\n",
    "# join elements of text with space\n",
    "print(' '.join(text))"
   ]
  },
  {
   "cell_type": "code",
   "execution_count": 31,
   "id": "7577c80a",
   "metadata": {},
   "outputs": [
    {
     "name": "stdout",
     "output_type": "stream",
     "text": [
      "1, 2, 3, 4\n"
     ]
    }
   ],
   "source": [
    "numList = ['1', '2', '3', '4']\n",
    "separator = ', '\n",
    "print(separator.join(numList))"
   ]
  },
  {
   "cell_type": "markdown",
   "id": "f78ff08b",
   "metadata": {},
   "source": [
    "### 20. String lower()\n",
    "The lower() method returns a string where all characters are lower case. Symbols and Numbers are ignored."
   ]
  },
  {
   "cell_type": "code",
   "execution_count": 32,
   "id": "11fea2ce",
   "metadata": {},
   "outputs": [
    {
     "name": "stdout",
     "output_type": "stream",
     "text": [
      "python is fun\n"
     ]
    }
   ],
   "source": [
    "h = 'PYTHON IS FUN'\n",
    "print(h.lower())"
   ]
  },
  {
   "cell_type": "markdown",
   "id": "40e83768",
   "metadata": {},
   "source": [
    "### 21. String upper()\n",
    "The upper() method returns a string where all characters are in upper case.\n",
    "Symbols and Numbers are ignored."
   ]
  },
  {
   "cell_type": "code",
   "execution_count": 33,
   "id": "e98da83d",
   "metadata": {},
   "outputs": [
    {
     "name": "stdout",
     "output_type": "stream",
     "text": [
      "TH!S SH0ULD B3 UPP3RCAS3!\n"
     ]
    }
   ],
   "source": [
    "i = \"Th!s Sh0uLd B3 uPp3rCas3!\"\n",
    "print(i.upper())"
   ]
  },
  {
   "cell_type": "markdown",
   "id": "2a8f88ee",
   "metadata": {},
   "source": [
    "### 22. String swapcase()\n",
    "The swapcase() method returns a string where all the upper case letters are lower case and vice versa."
   ]
  },
  {
   "cell_type": "code",
   "execution_count": 34,
   "id": "5d6ec0c2",
   "metadata": {},
   "outputs": [
    {
     "name": "stdout",
     "output_type": "stream",
     "text": [
      "jOhN cEnA\n"
     ]
    }
   ],
   "source": [
    "j = \"JoHn CeNa\"\n",
    "print(j.swapcase())"
   ]
  },
  {
   "cell_type": "markdown",
   "id": "473df071",
   "metadata": {},
   "source": [
    "### 23. String splitlines()\n",
    "The splitlines() method splits a string into a list. The splitting is done at line breaks."
   ]
  },
  {
   "cell_type": "code",
   "execution_count": 35,
   "id": "8f95968d",
   "metadata": {},
   "outputs": [
    {
     "name": "stdout",
     "output_type": "stream",
     "text": [
      "['Thank you for the music', 'Welcome to the jungle']\n"
     ]
    }
   ],
   "source": [
    "k = \"Thank you for the music\\nWelcome to the jungle\"\n",
    "k = k.splitlines()\n",
    "print(k)"
   ]
  },
  {
   "cell_type": "markdown",
   "id": "87df365a",
   "metadata": {},
   "source": [
    "### 24. String split()\n",
    "The split() method splits a string into a list.\n",
    "You can specify the separator, default separator is any whitespace."
   ]
  },
  {
   "cell_type": "code",
   "execution_count": 36,
   "id": "ff5cdac5",
   "metadata": {},
   "outputs": [
    {
     "name": "stdout",
     "output_type": "stream",
     "text": [
      "['hello', 'my name is Peter', 'I am 26 years old']\n"
     ]
    }
   ],
   "source": [
    "l = \"hello, my name is Peter, I am 26 years old\"\n",
    "l = l.split(\", \")\n",
    "print(l)"
   ]
  },
  {
   "cell_type": "markdown",
   "id": "72cf807b",
   "metadata": {},
   "source": [
    "### 25. String replace()\n",
    "The replace() method replaces a specified phrase with another specified phrase."
   ]
  },
  {
   "cell_type": "code",
   "execution_count": 37,
   "id": "8c7b4467",
   "metadata": {},
   "outputs": [
    {
     "name": "stdout",
     "output_type": "stream",
     "text": [
      "three three was a race horse, two two was three too.\n"
     ]
    }
   ],
   "source": [
    "m = \"one one was a race horse, two two was one too.\"\n",
    "m = m.replace(\"one\", \"three\")\n",
    "print(m)"
   ]
  },
  {
   "cell_type": "code",
   "execution_count": null,
   "id": "eaec1419",
   "metadata": {},
   "outputs": [],
   "source": []
  }
 ],
 "metadata": {
  "kernelspec": {
   "display_name": "Python 3 (ipykernel)",
   "language": "python",
   "name": "python3"
  },
  "language_info": {
   "codemirror_mode": {
    "name": "ipython",
    "version": 3
   },
   "file_extension": ".py",
   "mimetype": "text/x-python",
   "name": "python",
   "nbconvert_exporter": "python",
   "pygments_lexer": "ipython3",
   "version": "3.9.13"
  }
 },
 "nbformat": 4,
 "nbformat_minor": 5
}
