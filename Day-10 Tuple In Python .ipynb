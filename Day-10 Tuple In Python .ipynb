{
 "cells": [
  {
   "cell_type": "markdown",
   "id": "43f1d1f0",
   "metadata": {},
   "source": [
    "## Tuple"
   ]
  },
  {
   "cell_type": "markdown",
   "id": "acf9d091",
   "metadata": {},
   "source": [
    "- In Python, a tuple is an ordered collection of elements, similar to a list. However, tuples are immutable, meaning their elements cannot be changed after creation. Tuples are defined by enclosing the elements in parentheses ()."
   ]
  },
  {
   "cell_type": "markdown",
   "id": "625acc0e",
   "metadata": {},
   "source": [
    "### Creating Tuple"
   ]
  },
  {
   "cell_type": "code",
   "execution_count": 1,
   "id": "5ed2d3d7",
   "metadata": {},
   "outputs": [
    {
     "name": "stdout",
     "output_type": "stream",
     "text": [
      "()\n",
      "<class 'tuple'>\n"
     ]
    }
   ],
   "source": [
    "# empty tuple\n",
    "t1 = ()\n",
    "print(t1)\n",
    "print(type(t1))"
   ]
  },
  {
   "cell_type": "code",
   "execution_count": 2,
   "id": "010f30d7",
   "metadata": {},
   "outputs": [
    {
     "name": "stdout",
     "output_type": "stream",
     "text": [
      "('Hello',)\n"
     ]
    }
   ],
   "source": [
    "# create a tuple with single item using comma\n",
    "t2 = (\"Hello\",)\n",
    "print(t2)"
   ]
  },
  {
   "cell_type": "code",
   "execution_count": 3,
   "id": "ad0eee3c",
   "metadata": {},
   "outputs": [
    {
     "name": "stdout",
     "output_type": "stream",
     "text": [
      "(1, 2, 3, 4, 5)\n"
     ]
    }
   ],
   "source": [
    "# Homogeneous tuple\n",
    "t3 = (1,2,3,4,5)\n",
    "print(t3)"
   ]
  },
  {
   "cell_type": "code",
   "execution_count": 4,
   "id": "725b564f",
   "metadata": {},
   "outputs": [
    {
     "name": "stdout",
     "output_type": "stream",
     "text": [
      "(1, 2, True, [1, 2, 3])\n"
     ]
    }
   ],
   "source": [
    "# Hetrogeneous tuple\n",
    "t4 = (1,2,True,[1,2,3])\n",
    "print(t4)"
   ]
  },
  {
   "cell_type": "code",
   "execution_count": 5,
   "id": "6330eee5",
   "metadata": {},
   "outputs": [
    {
     "name": "stdout",
     "output_type": "stream",
     "text": [
      "(1, 2, 3, (4, 5))\n"
     ]
    }
   ],
   "source": [
    "# 2-D tuple\n",
    "t5 = (1,2,3,(4,5))\n",
    "print(t5)"
   ]
  },
  {
   "cell_type": "code",
   "execution_count": 6,
   "id": "5d341785",
   "metadata": {},
   "outputs": [
    {
     "name": "stdout",
     "output_type": "stream",
     "text": [
      "('H', 'e', 'l', 'l', 'o')\n"
     ]
    }
   ],
   "source": [
    "# creating tuple using type conversion\n",
    "print(tuple(\"Hello\"))"
   ]
  },
  {
   "cell_type": "markdown",
   "id": "508f661e",
   "metadata": {},
   "source": [
    "### Accessing Items from a Tuple\n",
    "- In order to access the tuple items refer to the index number. Use the index operator [ ] to access an item in a tuple. The index must be an integer. Nested tuple are accessed using nested indexing.\n",
    "\n",
    "**Positive indexing:**\n",
    "- In positive indexing, the index starts from 0 for the first element, 1 for the second element, and so on, increasing by one for each subsequent element.\n",
    "\n",
    "**Negative indexing:**\n",
    "- In negative indexing, the index starts from -1 for the last element, -2 for the second to last element, and so on, decreasing by one for each previous element."
   ]
  },
  {
   "cell_type": "markdown",
   "id": "2987a543-42a0-4e38-8b77-33ef178697f7",
   "metadata": {},
   "source": [
    "### Indexing"
   ]
  },
  {
   "cell_type": "code",
   "execution_count": 7,
   "id": "c96929a1-9614-4dc5-b6d9-a746d7f88463",
   "metadata": {},
   "outputs": [
    {
     "name": "stdout",
     "output_type": "stream",
     "text": [
      "Positive indexing\n",
      "1\n",
      "2\n",
      "3\n",
      "4\n",
      "5\n",
      "------------------------\n",
      "Negative Indexing\n",
      "5\n",
      "4\n",
      "3\n",
      "2\n",
      "1\n"
     ]
    }
   ],
   "source": [
    "print(\"Positive indexing\")\n",
    "print(t3[0])\n",
    "print(t3[1])\n",
    "print(t3[2])\n",
    "print(t3[3])\n",
    "print(t3[4])\n",
    "print(\"------------------------\")\n",
    "print(\"Negative Indexing\")\n",
    "print(t3[-1])\n",
    "print(t3[-2])\n",
    "print(t3[-3])\n",
    "print(t3[-4])\n",
    "print(t3[-5])"
   ]
  },
  {
   "cell_type": "code",
   "execution_count": 8,
   "id": "194e9fd3",
   "metadata": {},
   "outputs": [
    {
     "name": "stdout",
     "output_type": "stream",
     "text": [
      "('Python', 1, 3.214, True)\n",
      "True\n",
      "True\n"
     ]
    }
   ],
   "source": [
    "t6 = (\"Python\",1,3.214,True)\n",
    "print(t6)\n",
    "\n",
    "# Positive indexing\n",
    "# fetch true\n",
    "print(t6[3])\n",
    "# negative indexing\n",
    "print(t6[-1])"
   ]
  },
  {
   "cell_type": "code",
   "execution_count": 9,
   "id": "1da5c3c2",
   "metadata": {},
   "outputs": [
    {
     "name": "stdout",
     "output_type": "stream",
     "text": [
      "(1, 2, 3, (4, 5))\n",
      "5\n",
      "5\n"
     ]
    }
   ],
   "source": [
    "t5 = (1,2,3,(4,5))\n",
    "print(t5)\n",
    "\n",
    "# fetch 5 using +ve indexing\n",
    "print(t5[3][1])\n",
    "\n",
    "# using negative indexing\n",
    "print(t5[3][-1])"
   ]
  },
  {
   "cell_type": "code",
   "execution_count": 10,
   "id": "3ee47c88",
   "metadata": {},
   "outputs": [
    {
     "name": "stdout",
     "output_type": "stream",
     "text": [
      "12\n",
      "12\n"
     ]
    }
   ],
   "source": [
    "t6 = ((((1,2,3),(4,5,6)),((7,8,9),(10,11,12))))\n",
    "# fetch 12 using postive indexing\n",
    "print(t6[1][1][2])\n",
    "\n",
    "# using negative indexing\n",
    "print(t6[-1][-1][-1])"
   ]
  },
  {
   "cell_type": "code",
   "execution_count": 11,
   "id": "71287300-b4a2-4b87-b951-34986ed9725b",
   "metadata": {},
   "outputs": [
    {
     "name": "stdout",
     "output_type": "stream",
     "text": [
      "(0, 1, 2, 3, 4, 5, 6, 7, 8, 9)\n"
     ]
    }
   ],
   "source": [
    "t7 = tuple(range(0,10))\n",
    "print(t7)"
   ]
  },
  {
   "cell_type": "markdown",
   "id": "14b76daa-1e56-4e3e-8a37-74197f2755c1",
   "metadata": {},
   "source": [
    "### Slicing\n",
    "- Slicing in Python is a technique used to extract a portion of a sequence, such as a list, tuple, or string. It allows you to create a new sequence containing a subset of the elements from the original sequence, specified by a range of indices.\n",
    "\n",
    "The syntax for slicing is sequence [start:stop:step]"
   ]
  },
  {
   "cell_type": "code",
   "execution_count": 12,
   "id": "2e7d9db1-b4ce-4d70-b57a-94901d2a4b3a",
   "metadata": {},
   "outputs": [
    {
     "name": "stdout",
     "output_type": "stream",
     "text": [
      "(0, 1, 2, 3, 4)\n"
     ]
    }
   ],
   "source": [
    "# positive slicing\n",
    "print(t7[0:5])"
   ]
  },
  {
   "cell_type": "code",
   "execution_count": 13,
   "id": "e080e081-4398-4b07-9cc4-0c1fc9c167a8",
   "metadata": {},
   "outputs": [
    {
     "name": "stdout",
     "output_type": "stream",
     "text": [
      "(4, 5, 6)\n"
     ]
    }
   ],
   "source": [
    "print(t7[4:7])"
   ]
  },
  {
   "cell_type": "code",
   "execution_count": 14,
   "id": "5cd28da2-5b5f-4625-9303-fcec7c566204",
   "metadata": {},
   "outputs": [
    {
     "name": "stdout",
     "output_type": "stream",
     "text": [
      "(5, 6, 7, 8, 9)\n"
     ]
    }
   ],
   "source": [
    "# negative slicing\n",
    "print(t7[-5:])"
   ]
  },
  {
   "cell_type": "code",
   "execution_count": 16,
   "id": "13dc7e82-ad34-4c39-a50c-b5bca500ace6",
   "metadata": {},
   "outputs": [
    {
     "name": "stdout",
     "output_type": "stream",
     "text": [
      "(9, 8, 7, 6, 5)\n"
     ]
    }
   ],
   "source": [
    "print(t7[-1:-6:-1])"
   ]
  },
  {
   "cell_type": "markdown",
   "id": "8421d99b",
   "metadata": {},
   "source": [
    "### Adding items in Tuples"
   ]
  },
  {
   "cell_type": "code",
   "execution_count": 17,
   "id": "293b9033",
   "metadata": {},
   "outputs": [
    {
     "name": "stdout",
     "output_type": "stream",
     "text": [
      "(1, 2, 3, (4, 5))\n"
     ]
    }
   ],
   "source": [
    "print(t5)"
   ]
  },
  {
   "cell_type": "code",
   "execution_count": 17,
   "id": "1f4bb41a",
   "metadata": {},
   "outputs": [
    {
     "ename": "TypeError",
     "evalue": "'tuple' object does not support item assignment",
     "output_type": "error",
     "traceback": [
      "\u001b[1;31m---------------------------------------------------------------------------\u001b[0m",
      "\u001b[1;31mTypeError\u001b[0m                                 Traceback (most recent call last)",
      "Cell \u001b[1;32mIn[17], line 1\u001b[0m\n\u001b[1;32m----> 1\u001b[0m t5[\u001b[38;5;241m2\u001b[39m] \u001b[38;5;241m=\u001b[39m \u001b[38;5;241m100\u001b[39m\n\u001b[0;32m      2\u001b[0m \u001b[38;5;28mprint\u001b[39m(t5)\n",
      "\u001b[1;31mTypeError\u001b[0m: 'tuple' object does not support item assignment"
     ]
    }
   ],
   "source": [
    "t5[2] = 100\n",
    "print(t5)"
   ]
  },
  {
   "cell_type": "markdown",
   "id": "f61da932-017a-4a0f-9460-8eb7e938f731",
   "metadata": {},
   "source": [
    "**Tuple are immutable**"
   ]
  },
  {
   "cell_type": "markdown",
   "id": "e03f88dc-d143-44a1-bc76-7a8a9aaba174",
   "metadata": {},
   "source": [
    "### Deleting items from a Tuple"
   ]
  },
  {
   "cell_type": "code",
   "execution_count": 18,
   "id": "2f4f450c-d2ce-4fb2-b7ac-83aa8c1306d6",
   "metadata": {},
   "outputs": [],
   "source": [
    "t1 = (1,2,3)\n",
    "del t1"
   ]
  },
  {
   "cell_type": "code",
   "execution_count": 19,
   "id": "b9a2cb6f-263e-4b4a-ae26-de4c5eef9caf",
   "metadata": {},
   "outputs": [
    {
     "ename": "NameError",
     "evalue": "name 't1' is not defined",
     "output_type": "error",
     "traceback": [
      "\u001b[1;31m---------------------------------------------------------------------------\u001b[0m",
      "\u001b[1;31mNameError\u001b[0m                                 Traceback (most recent call last)",
      "Cell \u001b[1;32mIn[19], line 1\u001b[0m\n\u001b[1;32m----> 1\u001b[0m \u001b[38;5;28mprint\u001b[39m(t1)\n",
      "\u001b[1;31mNameError\u001b[0m: name 't1' is not defined"
     ]
    }
   ],
   "source": [
    "print(t1)"
   ]
  },
  {
   "cell_type": "markdown",
   "id": "5d277924-8d54-44cd-ae13-4d811c7ef641",
   "metadata": {},
   "source": [
    "### Operations on Lists\n",
    "- Arithmatic\n",
    "- Membership\n",
    "- Loop"
   ]
  },
  {
   "cell_type": "code",
   "execution_count": 32,
   "id": "700acc0d-49fd-4c6e-b176-eaf0c77a7b54",
   "metadata": {},
   "outputs": [
    {
     "name": "stdout",
     "output_type": "stream",
     "text": [
      "(1, 2, 3, 4, 5, 6)\n"
     ]
    }
   ],
   "source": [
    "# Arithmatic \n",
    "t1 = (1,2,3)\n",
    "t2 = (4,5,6)\n",
    "# concatenation/Merge\n",
    "print(t1+t2)"
   ]
  },
  {
   "cell_type": "code",
   "execution_count": 21,
   "id": "c2dfaebd-b6db-43bf-aa3a-e8c4c16449cb",
   "metadata": {},
   "outputs": [
    {
     "name": "stdout",
     "output_type": "stream",
     "text": [
      "(1, 2, 3, 1, 2, 3, 1, 2, 3)\n"
     ]
    }
   ],
   "source": [
    "print(t1*3)"
   ]
  },
  {
   "cell_type": "code",
   "execution_count": 22,
   "id": "acb1defb-bf98-4abb-82e1-1e55973bcac3",
   "metadata": {},
   "outputs": [
    {
     "name": "stdout",
     "output_type": "stream",
     "text": [
      "True\n",
      "True\n"
     ]
    }
   ],
   "source": [
    "# membership\n",
    "print(1 in t1)\n",
    "print(0 not in t2)"
   ]
  },
  {
   "cell_type": "code",
   "execution_count": 23,
   "id": "bca9fedd-2909-4757-867b-f1bc6a1c4446",
   "metadata": {},
   "outputs": [
    {
     "name": "stdout",
     "output_type": "stream",
     "text": [
      "1\n",
      "2\n",
      "3\n"
     ]
    }
   ],
   "source": [
    "# loop\n",
    "for i in t1:\n",
    "    print(i)"
   ]
  },
  {
   "cell_type": "markdown",
   "id": "68607573-adb7-4ab9-93f9-3edb55eed660",
   "metadata": {},
   "source": [
    "## Tuple Functions"
   ]
  },
  {
   "cell_type": "markdown",
   "id": "41d317c4-faab-44a0-aec3-f86204e2f5ff",
   "metadata": {},
   "source": [
    "### Len()\n",
    "- This function returns the number of elements in a Tuple."
   ]
  },
  {
   "cell_type": "code",
   "execution_count": 25,
   "id": "617ae2b4-bc90-49ba-88bb-e87ca6637f4b",
   "metadata": {},
   "outputs": [
    {
     "name": "stdout",
     "output_type": "stream",
     "text": [
      "5\n"
     ]
    }
   ],
   "source": [
    "t1 = (1,2,3,4,5)\n",
    "print(len(t1))"
   ]
  },
  {
   "cell_type": "markdown",
   "id": "d4e9769f-9ef3-4de1-a960-923108513c7a",
   "metadata": {},
   "source": [
    "### Max()\n",
    "- This function returns the largest element in a Tuple."
   ]
  },
  {
   "cell_type": "code",
   "execution_count": 26,
   "id": "b76d42d4-3bc4-41f1-b8ff-afa51afd4818",
   "metadata": {},
   "outputs": [
    {
     "name": "stdout",
     "output_type": "stream",
     "text": [
      "5\n"
     ]
    }
   ],
   "source": [
    "# max\n",
    "print(max(t1))"
   ]
  },
  {
   "cell_type": "markdown",
   "id": "043b40c7-f943-4884-9dee-cfaf1601fa60",
   "metadata": {},
   "source": [
    "### Min()\n",
    "- This function returns the smallest element in a Tuple."
   ]
  },
  {
   "cell_type": "code",
   "execution_count": 27,
   "id": "6f5672d0-2bed-4b54-a35e-65308ea921a1",
   "metadata": {},
   "outputs": [
    {
     "name": "stdout",
     "output_type": "stream",
     "text": [
      "1\n"
     ]
    }
   ],
   "source": [
    "# min\n",
    "print(min(t1))"
   ]
  },
  {
   "cell_type": "markdown",
   "id": "6b0fb08a-3997-467b-a25b-b829f64a894a",
   "metadata": {},
   "source": [
    "### Sorted()\n",
    "- This function returns a new sorted Tuple from the elements of an iterable."
   ]
  },
  {
   "cell_type": "code",
   "execution_count": 35,
   "id": "a87981e9-b278-43da-9bc2-46aff9cfa280",
   "metadata": {},
   "outputs": [
    {
     "name": "stdout",
     "output_type": "stream",
     "text": [
      "(1, 2, 3)\n"
     ]
    }
   ],
   "source": [
    "# Ascending order\n",
    "print(tuple(sorted(t1)))"
   ]
  },
  {
   "cell_type": "code",
   "execution_count": 36,
   "id": "6bbe783d-c9d5-46db-868d-2e184017b400",
   "metadata": {},
   "outputs": [
    {
     "name": "stdout",
     "output_type": "stream",
     "text": [
      "(3, 2, 1)\n"
     ]
    }
   ],
   "source": [
    "# descending order\n",
    "print(tuple(sorted(t1,reverse=True)))"
   ]
  },
  {
   "cell_type": "markdown",
   "id": "949cef82-7e0b-4751-986d-1c5f13909ead",
   "metadata": {},
   "source": [
    "### sum()\n",
    "- sum() function to calculate the sum of elements in a tuple. "
   ]
  },
  {
   "cell_type": "code",
   "execution_count": 30,
   "id": "7952ca98-3b5f-4fe2-8fbf-7e6e5c4735a3",
   "metadata": {},
   "outputs": [
    {
     "name": "stdout",
     "output_type": "stream",
     "text": [
      "15\n"
     ]
    }
   ],
   "source": [
    "# sum\n",
    "print(sum(t1))"
   ]
  },
  {
   "cell_type": "markdown",
   "id": "8afacaf6-70fc-423d-a2e6-d382d1d7d44c",
   "metadata": {},
   "source": [
    "###  Count()\n",
    "- The count() method in Python is used to count the number of occurrences of a specified element in a tuple. It returns the number of times the element appears in the tuple."
   ]
  },
  {
   "cell_type": "code",
   "execution_count": 41,
   "id": "2587a6f1-70af-4f38-bea8-145faa86fec4",
   "metadata": {},
   "outputs": [
    {
     "data": {
      "text/plain": [
       "2"
      ]
     },
     "execution_count": 41,
     "metadata": {},
     "output_type": "execute_result"
    }
   ],
   "source": [
    "# Count\n",
    "t2 = (1,2,3,4,8,9,2,5,3,1,7,8,10)\n",
    "t2.count(2)"
   ]
  },
  {
   "cell_type": "markdown",
   "id": "aad74ddc-abc5-42a0-aad3-bbcc0aefb4ca",
   "metadata": {},
   "source": [
    "### Index()\n",
    "- The index() method in Python is used to find the index of the first occurrence of a specified element in a tuple. It returns the index of the specified element if it is found in the tuple."
   ]
  },
  {
   "cell_type": "code",
   "execution_count": 42,
   "id": "478e319d-ef99-42c4-93ed-755e6af61dfa",
   "metadata": {},
   "outputs": [
    {
     "name": "stdout",
     "output_type": "stream",
     "text": [
      "4\n"
     ]
    }
   ],
   "source": [
    "print(t2.index(8))"
   ]
  },
  {
   "cell_type": "code",
   "execution_count": null,
   "id": "370ada83-bb5b-4b3a-b309-d94ddc240c20",
   "metadata": {},
   "outputs": [],
   "source": []
  }
 ],
 "metadata": {
  "kernelspec": {
   "display_name": "Python 3 (ipykernel)",
   "language": "python",
   "name": "python3"
  },
  "language_info": {
   "codemirror_mode": {
    "name": "ipython",
    "version": 3
   },
   "file_extension": ".py",
   "mimetype": "text/x-python",
   "name": "python",
   "nbconvert_exporter": "python",
   "pygments_lexer": "ipython3",
   "version": "3.12.4"
  }
 },
 "nbformat": 4,
 "nbformat_minor": 5
}
