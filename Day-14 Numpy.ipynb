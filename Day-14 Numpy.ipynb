{
 "cells": [
  {
   "cell_type": "markdown",
   "id": "d2a1c3cb",
   "metadata": {},
   "source": [
    "## NUMPY\n",
    "NumPy, which stands for Numerical Python, is a fundamental package for scientific computing in Python. It provides support for arrays, matrices, and a large collection of mathematical functions to operate on these data structures"
   ]
  },
  {
   "cell_type": "markdown",
   "id": "1a277e6f",
   "metadata": {},
   "source": [
    "- Numpy is a Linear Algebra Library in Python and it is the holy grail and the main building block of data science.\n",
    "- Numpy stands for Numerical python which is used to perform numerical calculations.\n",
    "- Numpy is used to handle arrays and matrices."
   ]
  },
  {
   "cell_type": "markdown",
   "id": "b2f34696",
   "metadata": {},
   "source": [
    "## What is Numpy?"
   ]
  },
  {
   "cell_type": "markdown",
   "id": "10d279b8",
   "metadata": {},
   "source": [
    "- Numpy in python is a library that used to work with arrays.\n",
    "- It is also a datastructure used to store multiple values.\n",
    "- Numpy provides efficient way of storing and manipulating data.\n",
    "- It offers wide variety of mathematical functions which helps in solving complex math problems of linear algebra fourier transform and vectors."
   ]
  },
  {
   "cell_type": "markdown",
   "id": "6bb78d5b",
   "metadata": {},
   "source": [
    "## Why Numpy?"
   ]
  },
  {
   "cell_type": "markdown",
   "id": "b53aad7c",
   "metadata": {},
   "source": [
    "- Faster and more compact then list.\n",
    "- Consume less memory.\n",
    "- data type can be specified.\n",
    "- High level mathematical functions can be used.\n",
    "- used to solve problems related to linear algebra fourier transfomr,vector etc."
   ]
  },
  {
   "cell_type": "markdown",
   "id": "a673a7a8",
   "metadata": {},
   "source": [
    "## What is an array?\n",
    "- Numpy array commonly used data strucures in python that store data as a grid or a matrix and easy to access."
   ]
  },
  {
   "cell_type": "markdown",
   "id": "e6412684-37a8-4dec-a05e-9608ffeae6e1",
   "metadata": {},
   "source": [
    "## Numpy Array vs python sequence\n",
    "- Numpy arrays have a fixed size at creation, unlike pyhton lists (which can grow dynamically). changing the size of an ndarray will create a new array and delete the orginal.\n",
    "- The elements in a Numpy array are all required to be of the same data type, and thus will be the same size in memory.\n",
    "- NUmpy array facilitate advanced mathematical and other type of operations on large numbers of data. Typically, such operations are executed more efficiently and with less code than is possible using python's built in sequences."
   ]
  },
  {
   "cell_type": "markdown",
   "id": "ab3ff45f",
   "metadata": {},
   "source": [
    "### Import Numpy Package"
   ]
  },
  {
   "cell_type": "code",
   "execution_count": 1,
   "id": "b4cca2ea",
   "metadata": {},
   "outputs": [],
   "source": [
    "import numpy as np"
   ]
  },
  {
   "cell_type": "markdown",
   "id": "dabdf866",
   "metadata": {},
   "source": [
    "### Create Numpy Array"
   ]
  },
  {
   "cell_type": "code",
   "execution_count": 2,
   "id": "b7292ee9",
   "metadata": {},
   "outputs": [
    {
     "name": "stdout",
     "output_type": "stream",
     "text": [
      "[]\n",
      "<class 'numpy.ndarray'>\n"
     ]
    }
   ],
   "source": [
    "arr = np.array([])\n",
    "print(arr)\n",
    "print(type(arr))"
   ]
  },
  {
   "cell_type": "markdown",
   "id": "e371c738",
   "metadata": {},
   "source": [
    "### Create numpy array to store values"
   ]
  },
  {
   "cell_type": "code",
   "execution_count": 3,
   "id": "45144b1b",
   "metadata": {},
   "outputs": [
    {
     "name": "stdout",
     "output_type": "stream",
     "text": [
      "[6 7 8 9 4 5 6]\n",
      "<class 'numpy.ndarray'>\n"
     ]
    }
   ],
   "source": [
    "arr1 = np.array([6,7,8,9,4,5,6])\n",
    "print(arr1)\n",
    "print(type(arr1))"
   ]
  },
  {
   "cell_type": "code",
   "execution_count": 4,
   "id": "2a242426",
   "metadata": {},
   "outputs": [
    {
     "name": "stdout",
     "output_type": "stream",
     "text": [
      "['Blue' 'Green' 'Orange' 'Yellow' 'White']\n",
      "<class 'numpy.ndarray'>\n"
     ]
    }
   ],
   "source": [
    "colors = np.array((\"Blue\",\"Green\",\"Orange\",\"Yellow\",\"White\"))\n",
    "print(colors)\n",
    "print(type(colors))"
   ]
  },
  {
   "cell_type": "code",
   "execution_count": 5,
   "id": "89d10a57-e295-4314-888b-2be4c5172bf4",
   "metadata": {},
   "outputs": [
    {
     "name": "stdout",
     "output_type": "stream",
     "text": [
      "[[1 2 3]\n",
      " [4 5 6]]\n"
     ]
    }
   ],
   "source": [
    "# 2D array\n",
    "arr1 = np.array([[1,2,3],[4,5,6]])\n",
    "print(arr1)"
   ]
  },
  {
   "cell_type": "code",
   "execution_count": 6,
   "id": "c49fbc1b-e3d1-46a4-a3a6-21b807af295b",
   "metadata": {},
   "outputs": [
    {
     "name": "stdout",
     "output_type": "stream",
     "text": [
      "[[[ 1  2  3]\n",
      "  [ 4  5  6]]\n",
      "\n",
      " [[ 7  8  9]\n",
      "  [10 11 12]]]\n"
     ]
    }
   ],
   "source": [
    "# 3D array\n",
    "arr1 = np.array([[[1,2,3],[4,5,6]],[[7,8,9],[10,11,12]]])\n",
    "print(arr1)"
   ]
  },
  {
   "cell_type": "code",
   "execution_count": 7,
   "id": "bbbd67b0-b54b-4520-9c60-a68a3988aa1e",
   "metadata": {},
   "outputs": [
    {
     "name": "stdout",
     "output_type": "stream",
     "text": [
      "[1. 2. 3. 4. 5.]\n"
     ]
    }
   ],
   "source": [
    "arr1 = np.array([1,2,3,4,5],dtype = 'float')\n",
    "print(arr1)"
   ]
  },
  {
   "cell_type": "markdown",
   "id": "eed28128",
   "metadata": {},
   "source": [
    "### How to create an array using list"
   ]
  },
  {
   "cell_type": "code",
   "execution_count": 8,
   "id": "e2fa945a",
   "metadata": {},
   "outputs": [
    {
     "name": "stdout",
     "output_type": "stream",
     "text": [
      "[34 56 78 98 76 56 45 34 23]\n",
      "<class 'numpy.ndarray'>\n"
     ]
    }
   ],
   "source": [
    "List = [34,56,78,98,76,56,45,34,23]\n",
    "arr3 = np.array(List)\n",
    "print(arr3)\n",
    "print(type(arr3))"
   ]
  },
  {
   "cell_type": "markdown",
   "id": "a3b6fe34",
   "metadata": {},
   "source": [
    "### How to create an array using Tuple"
   ]
  },
  {
   "cell_type": "code",
   "execution_count": 9,
   "id": "c8037de3",
   "metadata": {},
   "outputs": [
    {
     "name": "stdout",
     "output_type": "stream",
     "text": [
      "[101 102 103 104 105 106 107 108]\n",
      "<class 'numpy.ndarray'>\n"
     ]
    }
   ],
   "source": [
    "Tuple = (101,102,103,104,105,106,107,108)\n",
    "arr4 = np.array(Tuple)\n",
    "print(arr4)\n",
    "print(type(arr4))"
   ]
  },
  {
   "cell_type": "markdown",
   "id": "312b4063",
   "metadata": {},
   "source": [
    "### 1-D Array Vector"
   ]
  },
  {
   "cell_type": "code",
   "execution_count": 10,
   "id": "f3f83760",
   "metadata": {},
   "outputs": [
    {
     "name": "stdout",
     "output_type": "stream",
     "text": [
      "[1 2 3 4 5 6]\n",
      "<class 'numpy.ndarray'>\n"
     ]
    }
   ],
   "source": [
    "arr5 = np.array([1,2,3,4,5,6])\n",
    "print(arr5)\n",
    "print(type(arr5))"
   ]
  },
  {
   "cell_type": "markdown",
   "id": "96bd6bc9",
   "metadata": {},
   "source": [
    "## Functionality in Numpy array"
   ]
  },
  {
   "cell_type": "markdown",
   "id": "870e66fe",
   "metadata": {},
   "source": [
    "### 1. Dimension of Array"
   ]
  },
  {
   "cell_type": "code",
   "execution_count": 11,
   "id": "d83c771c",
   "metadata": {},
   "outputs": [
    {
     "name": "stdout",
     "output_type": "stream",
     "text": [
      "[1 2 3 4 5 6]\n",
      "Diamention of array is:  1\n"
     ]
    }
   ],
   "source": [
    "print(arr5)\n",
    "print(\"Diamention of array is: \",arr5.ndim)"
   ]
  },
  {
   "cell_type": "markdown",
   "id": "0cc615bd",
   "metadata": {},
   "source": [
    "### 2. Number of elements"
   ]
  },
  {
   "cell_type": "code",
   "execution_count": 12,
   "id": "69915d79",
   "metadata": {},
   "outputs": [
    {
     "name": "stdout",
     "output_type": "stream",
     "text": [
      "[1 2 3 4 5 6]\n",
      "Number of elements is:  6\n"
     ]
    }
   ],
   "source": [
    "print(arr5)\n",
    "print(\"Number of elements is: \",arr5.size)"
   ]
  },
  {
   "cell_type": "markdown",
   "id": "127f9e0a",
   "metadata": {},
   "source": [
    "### 3. DataTypes of elements"
   ]
  },
  {
   "cell_type": "code",
   "execution_count": 13,
   "id": "60725ebf",
   "metadata": {},
   "outputs": [
    {
     "name": "stdout",
     "output_type": "stream",
     "text": [
      "[1 2 3 4 5 6]\n",
      "Datatype of elements of array:  int32\n"
     ]
    }
   ],
   "source": [
    "print(arr5)\n",
    "print(\"Datatype of elements of array: \",arr5.dtype)"
   ]
  },
  {
   "cell_type": "markdown",
   "id": "8e6c22e4",
   "metadata": {},
   "source": [
    "### 4. Datatypes of Array"
   ]
  },
  {
   "cell_type": "code",
   "execution_count": 14,
   "id": "17170685",
   "metadata": {},
   "outputs": [
    {
     "name": "stdout",
     "output_type": "stream",
     "text": [
      "[1 2 3 4 5 6]\n",
      "Datatype of array:  <class 'numpy.ndarray'>\n"
     ]
    }
   ],
   "source": [
    "print(arr5)\n",
    "print(\"Datatype of array: \",type(arr5))"
   ]
  },
  {
   "cell_type": "markdown",
   "id": "ce1a33f4",
   "metadata": {},
   "source": [
    "### 5. Check type of shape"
   ]
  },
  {
   "cell_type": "code",
   "execution_count": 15,
   "id": "a044483e",
   "metadata": {},
   "outputs": [
    {
     "name": "stdout",
     "output_type": "stream",
     "text": [
      "[1 2 3 4 5 6]\n",
      "Shape of array:  (6,)\n"
     ]
    }
   ],
   "source": [
    "print(arr5)\n",
    "print(\"Shape of array: \",arr5.shape)"
   ]
  },
  {
   "cell_type": "markdown",
   "id": "0324a8b6-c76c-4c2a-965c-0a37a49e5b68",
   "metadata": {},
   "source": [
    "### 6. Check memory occupy"
   ]
  },
  {
   "cell_type": "code",
   "execution_count": 16,
   "id": "60b3590d-f024-48ae-8eda-a0d9ee1633b8",
   "metadata": {},
   "outputs": [
    {
     "name": "stdout",
     "output_type": "stream",
     "text": [
      "[1 2 3 4 5 6]\n",
      "Memory occupy 4\n"
     ]
    }
   ],
   "source": [
    "print(arr5)\n",
    "print(\"Memory occupy\",arr5.itemsize)"
   ]
  },
  {
   "cell_type": "markdown",
   "id": "ac72cdc5",
   "metadata": {},
   "source": [
    "### 2-D Matrices"
   ]
  },
  {
   "cell_type": "code",
   "execution_count": 17,
   "id": "1205f87e",
   "metadata": {},
   "outputs": [
    {
     "name": "stdout",
     "output_type": "stream",
     "text": [
      "[[1 2 3]\n",
      " [4 5 6]\n",
      " [7 8 9]]\n"
     ]
    }
   ],
   "source": [
    "arr_2d = np.array([[1,2,3],[4,5,6],[7,8,9]])\n",
    "print(arr_2d)"
   ]
  },
  {
   "cell_type": "code",
   "execution_count": 18,
   "id": "7a938898",
   "metadata": {},
   "outputs": [
    {
     "name": "stdout",
     "output_type": "stream",
     "text": [
      "[[4 5 6 7]\n",
      " [8 9 1 2]\n",
      " [3 2 4 3]\n",
      " [9 2 1 4]]\n"
     ]
    }
   ],
   "source": [
    "arr6 = np.array([[4,5,6,7],[8,9,1,2],[3,2,4,3],[9,2,1,4]])\n",
    "print(arr6)"
   ]
  },
  {
   "cell_type": "code",
   "execution_count": 19,
   "id": "3f0a391a",
   "metadata": {},
   "outputs": [
    {
     "name": "stdout",
     "output_type": "stream",
     "text": [
      "Dimension of the array: 2\n"
     ]
    }
   ],
   "source": [
    "print(\"Dimension of the array:\",arr6.ndim)"
   ]
  },
  {
   "cell_type": "code",
   "execution_count": 20,
   "id": "2361cdd4",
   "metadata": {},
   "outputs": [
    {
     "name": "stdout",
     "output_type": "stream",
     "text": [
      "shape of the array:  (4, 4)\n"
     ]
    }
   ],
   "source": [
    "print(\"shape of the array: \",arr6.shape)"
   ]
  },
  {
   "cell_type": "code",
   "execution_count": 21,
   "id": "a24b68e0",
   "metadata": {},
   "outputs": [
    {
     "name": "stdout",
     "output_type": "stream",
     "text": [
      "Number of elements in array:  16\n"
     ]
    }
   ],
   "source": [
    "print(\"Number of elements in array: \",arr6.size)"
   ]
  },
  {
   "cell_type": "code",
   "execution_count": 22,
   "id": "02889d80",
   "metadata": {},
   "outputs": [
    {
     "name": "stdout",
     "output_type": "stream",
     "text": [
      "Datatype of elements:  int32\n"
     ]
    }
   ],
   "source": [
    "print(\"Datatype of elements: \",arr6.dtype)"
   ]
  },
  {
   "cell_type": "code",
   "execution_count": 23,
   "id": "cafe48df",
   "metadata": {},
   "outputs": [
    {
     "name": "stdout",
     "output_type": "stream",
     "text": [
      "Datatype of array:  <class 'numpy.ndarray'>\n"
     ]
    }
   ],
   "source": [
    "print(\"Datatype of array: \",type(arr6))"
   ]
  },
  {
   "cell_type": "markdown",
   "id": "de2dbee8",
   "metadata": {},
   "source": [
    "### 3-D Array Tensors"
   ]
  },
  {
   "cell_type": "code",
   "execution_count": 24,
   "id": "7e0b9a5b",
   "metadata": {},
   "outputs": [
    {
     "name": "stdout",
     "output_type": "stream",
     "text": [
      "[[[1 2 3]\n",
      "  [4 5 6]\n",
      "  [7 8 9]]]\n",
      "<class 'numpy.ndarray'>\n"
     ]
    }
   ],
   "source": [
    "arr7 = np.array([[[1,2,3],[4,5,6],[7,8,9]]])\n",
    "print(arr7)\n",
    "print(type(arr7))"
   ]
  },
  {
   "cell_type": "code",
   "execution_count": 25,
   "id": "4e4b4657",
   "metadata": {},
   "outputs": [
    {
     "name": "stdout",
     "output_type": "stream",
     "text": [
      "Dimension of array:  3\n"
     ]
    }
   ],
   "source": [
    "print(\"Dimension of array: \",arr7.ndim)"
   ]
  },
  {
   "cell_type": "code",
   "execution_count": 26,
   "id": "a1287a28",
   "metadata": {},
   "outputs": [
    {
     "name": "stdout",
     "output_type": "stream",
     "text": [
      "Number of elements in array:  9\n"
     ]
    }
   ],
   "source": [
    "print(\"Number of elements in array: \",arr7.size)"
   ]
  },
  {
   "cell_type": "code",
   "execution_count": 27,
   "id": "1c2aac8b",
   "metadata": {},
   "outputs": [
    {
     "name": "stdout",
     "output_type": "stream",
     "text": [
      "shape of array:  (1, 3, 3)\n"
     ]
    }
   ],
   "source": [
    "print(\"shape of array: \",arr7.shape)"
   ]
  },
  {
   "cell_type": "code",
   "execution_count": 28,
   "id": "ae9ad40e",
   "metadata": {},
   "outputs": [
    {
     "name": "stdout",
     "output_type": "stream",
     "text": [
      "Datatype of elements:  int32\n"
     ]
    }
   ],
   "source": [
    "print(\"Datatype of elements: \",arr7.dtype)"
   ]
  },
  {
   "cell_type": "code",
   "execution_count": 29,
   "id": "62c19c1e",
   "metadata": {},
   "outputs": [
    {
     "name": "stdout",
     "output_type": "stream",
     "text": [
      "Datatype of array:  <class 'numpy.ndarray'>\n"
     ]
    }
   ],
   "source": [
    "print(\"Datatype of array: \",type(arr7))"
   ]
  },
  {
   "cell_type": "markdown",
   "id": "146c07dd",
   "metadata": {},
   "source": [
    "## Built-In Function "
   ]
  },
  {
   "cell_type": "markdown",
   "id": "198cb8c3",
   "metadata": {},
   "source": [
    "### 1. arange :- \n",
    "- It is used to generate evenly spaced values within a given interval."
   ]
  },
  {
   "cell_type": "code",
   "execution_count": 30,
   "id": "b82eea97",
   "metadata": {},
   "outputs": [
    {
     "data": {
      "text/plain": [
       "array([ 0,  1,  2,  3,  4,  5,  6,  7,  8,  9, 10, 11, 12, 13, 14])"
      ]
     },
     "execution_count": 30,
     "metadata": {},
     "output_type": "execute_result"
    }
   ],
   "source": [
    "# Generate values from 0 to 14\n",
    "np.arange(15) # end value is not included"
   ]
  },
  {
   "cell_type": "code",
   "execution_count": 31,
   "id": "0c5ca19b",
   "metadata": {},
   "outputs": [
    {
     "data": {
      "text/plain": [
       "array([ 0,  1,  2,  3,  4,  5,  6,  7,  8,  9, 10, 11, 12, 13, 14, 15, 16,\n",
       "       17, 18, 19, 20, 21, 22, 23, 24, 25, 26, 27, 28, 29, 30])"
      ]
     },
     "execution_count": 31,
     "metadata": {},
     "output_type": "execute_result"
    }
   ],
   "source": [
    "# Generate values from 0 to 30\n",
    "np.arange(31)"
   ]
  },
  {
   "cell_type": "code",
   "execution_count": 32,
   "id": "012278a7",
   "metadata": {},
   "outputs": [
    {
     "data": {
      "text/plain": [
       "array([101, 102, 103, 104, 105, 106, 107, 108, 109, 110, 111, 112, 113,\n",
       "       114, 115, 116, 117, 118, 119, 120, 121, 122, 123, 124, 125, 126,\n",
       "       127, 128, 129, 130, 131, 132, 133, 134, 135, 136, 137, 138, 139,\n",
       "       140, 141, 142, 143, 144, 145, 146, 147, 148, 149, 150])"
      ]
     },
     "execution_count": 32,
     "metadata": {},
     "output_type": "execute_result"
    }
   ],
   "source": [
    "# Generate values from 101 to 150\n",
    "np.arange(101,151)"
   ]
  },
  {
   "cell_type": "code",
   "execution_count": 33,
   "id": "12b0acd6",
   "metadata": {},
   "outputs": [
    {
     "data": {
      "text/plain": [
       "array([400, 401, 402, 403, 404, 405, 406, 407, 408, 409, 410, 411, 412,\n",
       "       413, 414, 415, 416, 417, 418, 419, 420, 421, 422, 423, 424, 425,\n",
       "       426, 427, 428, 429, 430, 431, 432, 433, 434, 435, 436, 437, 438,\n",
       "       439, 440, 441, 442, 443, 444, 445, 446, 447, 448, 449, 450, 451,\n",
       "       452, 453, 454, 455, 456, 457, 458, 459, 460, 461, 462, 463, 464,\n",
       "       465, 466, 467, 468, 469, 470, 471, 472, 473, 474, 475, 476, 477,\n",
       "       478, 479, 480])"
      ]
     },
     "execution_count": 33,
     "metadata": {},
     "output_type": "execute_result"
    }
   ],
   "source": [
    "# Generate values from 400 to 480\n",
    "np.arange(400,481)"
   ]
  },
  {
   "cell_type": "code",
   "execution_count": 34,
   "id": "7961d7df",
   "metadata": {},
   "outputs": [
    {
     "data": {
      "text/plain": [
       "array([ 0,  2,  4,  6,  8, 10, 12, 14, 16, 18, 20])"
      ]
     },
     "execution_count": 34,
     "metadata": {},
     "output_type": "execute_result"
    }
   ],
   "source": [
    "# Generate frist 10 even number\n",
    "np.arange(0,21,2) # arange(start,stop,step)"
   ]
  },
  {
   "cell_type": "code",
   "execution_count": 35,
   "id": "931b580a",
   "metadata": {},
   "outputs": [
    {
     "data": {
      "text/plain": [
       "array([ 5, 10, 15, 20, 25, 30, 35, 40, 45, 50])"
      ]
     },
     "execution_count": 35,
     "metadata": {},
     "output_type": "execute_result"
    }
   ],
   "source": [
    "# Generate an array which includes 10 multiple of 5\n",
    "np.arange(5,51,5)"
   ]
  },
  {
   "cell_type": "code",
   "execution_count": 36,
   "id": "733a618a",
   "metadata": {},
   "outputs": [
    {
     "data": {
      "text/plain": [
       "array([ 8, 16, 24, 32, 40, 48, 56, 64, 72, 80])"
      ]
     },
     "execution_count": 36,
     "metadata": {},
     "output_type": "execute_result"
    }
   ],
   "source": [
    "# Generate an array which includes 10 multiple of 8\n",
    "np.arange(8,81,8)"
   ]
  },
  {
   "cell_type": "markdown",
   "id": "4fb7e839-da7b-4f66-8343-f6d0ca129eb3",
   "metadata": {},
   "source": [
    "### Reshape\n",
    "In NumPy, the reshape() function is used to change the shape of an array without modifying its data. "
   ]
  },
  {
   "cell_type": "code",
   "execution_count": 38,
   "id": "ea0b57cb-cd94-4825-8d8d-70c2c0edc09f",
   "metadata": {},
   "outputs": [
    {
     "data": {
      "text/plain": [
       "array([[ 1,  2,  3,  4],\n",
       "       [ 5,  6,  7,  8],\n",
       "       [ 9, 10, 11, 12]])"
      ]
     },
     "execution_count": 38,
     "metadata": {},
     "output_type": "execute_result"
    }
   ],
   "source": [
    "# reshape\n",
    "np.arange(1,13).reshape(3,4)"
   ]
  },
  {
   "cell_type": "markdown",
   "id": "f2079ba9",
   "metadata": {},
   "source": [
    "### 2. Ones:-\n",
    "- It returns an array with all one"
   ]
  },
  {
   "cell_type": "code",
   "execution_count": 39,
   "id": "760ca4dc",
   "metadata": {},
   "outputs": [
    {
     "data": {
      "text/plain": [
       "array([1., 1., 1.])"
      ]
     },
     "execution_count": 39,
     "metadata": {},
     "output_type": "execute_result"
    }
   ],
   "source": [
    "# return 1-D array with all one\n",
    "np.ones(3)"
   ]
  },
  {
   "cell_type": "code",
   "execution_count": 40,
   "id": "0f29f600",
   "metadata": {},
   "outputs": [
    {
     "data": {
      "text/plain": [
       "array([1., 1., 1., 1., 1., 1., 1., 1., 1., 1.])"
      ]
     },
     "execution_count": 40,
     "metadata": {},
     "output_type": "execute_result"
    }
   ],
   "source": [
    "# return 1-D array with 10 elements as 1\n",
    "np.ones(10)"
   ]
  },
  {
   "cell_type": "code",
   "execution_count": 41,
   "id": "f3ffd321",
   "metadata": {},
   "outputs": [
    {
     "data": {
      "text/plain": [
       "array([[1., 1.],\n",
       "       [1., 1.]])"
      ]
     },
     "execution_count": 41,
     "metadata": {},
     "output_type": "execute_result"
    }
   ],
   "source": [
    "# create unit matrix of order (2,2)\n",
    "np.ones((2,2))"
   ]
  },
  {
   "cell_type": "code",
   "execution_count": 42,
   "id": "8e10794f",
   "metadata": {},
   "outputs": [
    {
     "data": {
      "text/plain": [
       "array([[1, 1, 1],\n",
       "       [1, 1, 1],\n",
       "       [1, 1, 1],\n",
       "       [1, 1, 1],\n",
       "       [1, 1, 1]])"
      ]
     },
     "execution_count": 42,
     "metadata": {},
     "output_type": "execute_result"
    }
   ],
   "source": [
    "# create unit matrix off oredr (5,3)\n",
    "np.ones((5,3),dtype=int)"
   ]
  },
  {
   "cell_type": "markdown",
   "id": "cdcecfc2",
   "metadata": {},
   "source": [
    "### 3. Zeros\n",
    "- It returns an array with all zeros"
   ]
  },
  {
   "cell_type": "code",
   "execution_count": 43,
   "id": "b42ff0f4",
   "metadata": {},
   "outputs": [
    {
     "data": {
      "text/plain": [
       "array([0., 0., 0., 0., 0.])"
      ]
     },
     "execution_count": 43,
     "metadata": {},
     "output_type": "execute_result"
    }
   ],
   "source": [
    "# create an 1-D array with 5 elements as 0\n",
    "np.zeros(5)"
   ]
  },
  {
   "cell_type": "code",
   "execution_count": 44,
   "id": "7491a9c3",
   "metadata": {},
   "outputs": [
    {
     "data": {
      "text/plain": [
       "array([[0., 0., 0.],\n",
       "       [0., 0., 0.],\n",
       "       [0., 0., 0.]])"
      ]
     },
     "execution_count": 44,
     "metadata": {},
     "output_type": "execute_result"
    }
   ],
   "source": [
    "# create an 2-D array or order (3,3)\n",
    "np.zeros((3,3))"
   ]
  },
  {
   "cell_type": "code",
   "execution_count": 45,
   "id": "5b6e28e4",
   "metadata": {},
   "outputs": [
    {
     "data": {
      "text/plain": [
       "array([[0, 0, 0, 0, 0],\n",
       "       [0, 0, 0, 0, 0],\n",
       "       [0, 0, 0, 0, 0],\n",
       "       [0, 0, 0, 0, 0],\n",
       "       [0, 0, 0, 0, 0]])"
      ]
     },
     "execution_count": 45,
     "metadata": {},
     "output_type": "execute_result"
    }
   ],
   "source": [
    "# create an 2-D array or order (5,5)\n",
    "np.zeros((5,5),dtype=int)"
   ]
  },
  {
   "cell_type": "markdown",
   "id": "c33abf94",
   "metadata": {},
   "source": [
    "### 4. eye :-\n",
    "- create and identity matrix"
   ]
  },
  {
   "cell_type": "code",
   "execution_count": 46,
   "id": "20400d5e",
   "metadata": {},
   "outputs": [
    {
     "data": {
      "text/plain": [
       "array([[1., 0.],\n",
       "       [0., 1.]])"
      ]
     },
     "execution_count": 46,
     "metadata": {},
     "output_type": "execute_result"
    }
   ],
   "source": [
    "# create (2,2) identity matrix\n",
    "np.eye(2)"
   ]
  },
  {
   "cell_type": "code",
   "execution_count": 47,
   "id": "97cbb611",
   "metadata": {},
   "outputs": [
    {
     "data": {
      "text/plain": [
       "array([[1., 0., 0.],\n",
       "       [0., 1., 0.],\n",
       "       [0., 0., 1.]])"
      ]
     },
     "execution_count": 47,
     "metadata": {},
     "output_type": "execute_result"
    }
   ],
   "source": [
    "# create (3,3) identity matrix\n",
    "np.eye(3,3)"
   ]
  },
  {
   "cell_type": "code",
   "execution_count": 48,
   "id": "7cc54f31",
   "metadata": {},
   "outputs": [
    {
     "data": {
      "text/plain": [
       "array([[1, 0, 0],\n",
       "       [0, 1, 0],\n",
       "       [0, 0, 1],\n",
       "       [0, 0, 0]])"
      ]
     },
     "execution_count": 48,
     "metadata": {},
     "output_type": "execute_result"
    }
   ],
   "source": [
    "# create (4,3) identity matrix\n",
    "np.eye(4,3,dtype=int)"
   ]
  },
  {
   "cell_type": "markdown",
   "id": "8ac2d8fe",
   "metadata": {},
   "source": [
    "### 5. Full:-\n",
    "- It is used generate array with same elements"
   ]
  },
  {
   "cell_type": "code",
   "execution_count": 49,
   "id": "1a3ea91e",
   "metadata": {},
   "outputs": [
    {
     "data": {
      "text/plain": [
       "array([[10, 10],\n",
       "       [10, 10]])"
      ]
     },
     "execution_count": 49,
     "metadata": {},
     "output_type": "execute_result"
    }
   ],
   "source": [
    "# create an 2-D array with all elements as 10\n",
    "np.full((2,2),10)"
   ]
  },
  {
   "cell_type": "code",
   "execution_count": 50,
   "id": "1e29d149",
   "metadata": {},
   "outputs": [
    {
     "data": {
      "text/plain": [
       "array([[20, 20, 20],\n",
       "       [20, 20, 20],\n",
       "       [20, 20, 20],\n",
       "       [20, 20, 20]])"
      ]
     },
     "execution_count": 50,
     "metadata": {},
     "output_type": "execute_result"
    }
   ],
   "source": [
    "# Create (4,3) matrix with all elements as 20\n",
    "np.full((4,3),20)"
   ]
  },
  {
   "cell_type": "markdown",
   "id": "203a9922",
   "metadata": {},
   "source": [
    "### 6. Linspace:-\n",
    "- It is used to generate linearly spaced values"
   ]
  },
  {
   "cell_type": "code",
   "execution_count": 51,
   "id": "a4ee8a6b",
   "metadata": {},
   "outputs": [
    {
     "data": {
      "text/plain": [
       "array([1.        , 1.08163265, 1.16326531, 1.24489796, 1.32653061,\n",
       "       1.40816327, 1.48979592, 1.57142857, 1.65306122, 1.73469388,\n",
       "       1.81632653, 1.89795918, 1.97959184, 2.06122449, 2.14285714,\n",
       "       2.2244898 , 2.30612245, 2.3877551 , 2.46938776, 2.55102041,\n",
       "       2.63265306, 2.71428571, 2.79591837, 2.87755102, 2.95918367,\n",
       "       3.04081633, 3.12244898, 3.20408163, 3.28571429, 3.36734694,\n",
       "       3.44897959, 3.53061224, 3.6122449 , 3.69387755, 3.7755102 ,\n",
       "       3.85714286, 3.93877551, 4.02040816, 4.10204082, 4.18367347,\n",
       "       4.26530612, 4.34693878, 4.42857143, 4.51020408, 4.59183673,\n",
       "       4.67346939, 4.75510204, 4.83673469, 4.91836735, 5.        ])"
      ]
     },
     "execution_count": 51,
     "metadata": {},
     "output_type": "execute_result"
    }
   ],
   "source": [
    "# Generate linearly space values between 1 to 5\n",
    "np.linspace(1,5)"
   ]
  },
  {
   "cell_type": "code",
   "execution_count": 52,
   "id": "4e10e4f7",
   "metadata": {},
   "outputs": [
    {
     "data": {
      "text/plain": [
       "(array([  1.,  12.,  23.,  34.,  45.,  56.,  67.,  78.,  89., 100.]), 11.0)"
      ]
     },
     "execution_count": 52,
     "metadata": {},
     "output_type": "execute_result"
    }
   ],
   "source": [
    "# generate 10 equally spaced values between 1 to 100\n",
    "np.linspace(1,100,num=10,retstep=True)"
   ]
  },
  {
   "cell_type": "code",
   "execution_count": 53,
   "id": "04622cab",
   "metadata": {},
   "outputs": [
    {
     "data": {
      "text/plain": [
       "(array([   1.,  112.,  223.,  334.,  445.,  556.,  667.,  778.,  889.,\n",
       "        1000.]),\n",
       " 111.0)"
      ]
     },
     "execution_count": 53,
     "metadata": {},
     "output_type": "execute_result"
    }
   ],
   "source": [
    "# generate 10 numbers between 1 to 1000 and find the difference\n",
    "np.linspace(1,1000,num=10,retstep=True)"
   ]
  },
  {
   "cell_type": "markdown",
   "id": "29eb4b36",
   "metadata": {},
   "source": [
    "## Random"
   ]
  },
  {
   "cell_type": "markdown",
   "id": "2d1d7076",
   "metadata": {},
   "source": [
    "### 1. randint:-\n",
    "- It is used to generate random integers for given interval"
   ]
  },
  {
   "cell_type": "code",
   "execution_count": 54,
   "id": "5da32a20",
   "metadata": {},
   "outputs": [
    {
     "data": {
      "text/plain": [
       "array([96, 48, 33, 90, 11, 98, 83, 41, 50, 71])"
      ]
     },
     "execution_count": 54,
     "metadata": {},
     "output_type": "execute_result"
    }
   ],
   "source": [
    "# create an array which includes 10 random integers between 1 to 100\n",
    "np.random.randint(1,100,10)"
   ]
  },
  {
   "cell_type": "code",
   "execution_count": 55,
   "id": "f4c22752",
   "metadata": {},
   "outputs": [
    {
     "data": {
      "text/plain": [
       "array([ 36, 269, 968, 241, 340])"
      ]
     },
     "execution_count": 55,
     "metadata": {},
     "output_type": "execute_result"
    }
   ],
   "source": [
    "# create an array which includes 5 random integers between 1 to 1000\n",
    "np.random.randint(1,1000,5)"
   ]
  },
  {
   "cell_type": "code",
   "execution_count": 56,
   "id": "47643b79",
   "metadata": {},
   "outputs": [
    {
     "data": {
      "text/plain": [
       "array([[40, 35],\n",
       "       [44, 39]])"
      ]
     },
     "execution_count": 56,
     "metadata": {},
     "output_type": "execute_result"
    }
   ],
   "source": [
    "# create 2-D array of order (2,2) which includes random integers between 20 to 60\n",
    "np.random.randint(20,60,size=(2,2))"
   ]
  },
  {
   "cell_type": "code",
   "execution_count": 57,
   "id": "2b03d54f",
   "metadata": {},
   "outputs": [
    {
     "data": {
      "text/plain": [
       "array([[170,  54,   9],\n",
       "       [109, 140,  32]])"
      ]
     },
     "execution_count": 57,
     "metadata": {},
     "output_type": "execute_result"
    }
   ],
   "source": [
    "# create 2-D array of order (2,3) which includes random integers between 2 to 200\n",
    "np.random.randint(2,200,size=(2,3))"
   ]
  },
  {
   "cell_type": "markdown",
   "id": "3b40b4ba",
   "metadata": {},
   "source": [
    "### 2. rand:-\n",
    "- It generates random values between the range [0,1]"
   ]
  },
  {
   "cell_type": "code",
   "execution_count": 58,
   "id": "64cc7fd6",
   "metadata": {},
   "outputs": [
    {
     "data": {
      "text/plain": [
       "array([0.59365066, 0.3601074 , 0.70054291, 0.55756034, 0.58341455,\n",
       "       0.94346501, 0.27591362, 0.77552622, 0.55174152, 0.39802381])"
      ]
     },
     "execution_count": 58,
     "metadata": {},
     "output_type": "execute_result"
    }
   ],
   "source": [
    "# generate 10 random numbers between 0 to 1\n",
    "np.random.rand(10)"
   ]
  },
  {
   "cell_type": "code",
   "execution_count": 59,
   "id": "8ce00544",
   "metadata": {},
   "outputs": [
    {
     "data": {
      "text/plain": [
       "array([0.74839201, 0.40727485, 0.29272873, 0.48786353, 0.98199191,\n",
       "       0.16517616, 0.52796956, 0.9412643 , 0.09210126, 0.24034458,\n",
       "       0.24409006, 0.99317515, 0.42811943, 0.41699452, 0.55367439,\n",
       "       0.58229803, 0.82016413, 0.48558568, 0.16897557, 0.00531727,\n",
       "       0.80214065, 0.96349826, 0.96543716, 0.00888816, 0.53638252,\n",
       "       0.69881724, 0.35607207, 0.73707816, 0.90713263, 0.28963665,\n",
       "       0.8303174 , 0.95964739, 0.95148478, 0.18726668, 0.76858245,\n",
       "       0.27438457, 0.78010644, 0.36072447, 0.22647559, 0.09785707,\n",
       "       0.23369014, 0.69286958, 0.48390772, 0.18788586, 0.55952149,\n",
       "       0.00604904, 0.6770239 , 0.28682164, 0.50648621, 0.62951138,\n",
       "       0.92135955, 0.66791264, 0.5021459 , 0.58222396, 0.97055398,\n",
       "       0.77818829, 0.48547015, 0.58335241, 0.55129374, 0.92826917,\n",
       "       0.95379118, 0.76947025, 0.98379914, 0.30667238, 0.12914035,\n",
       "       0.24967159, 0.89523601, 0.74075758, 0.65945531, 0.73385098,\n",
       "       0.17127919, 0.789841  , 0.37067779, 0.84717864, 0.04451009,\n",
       "       0.87110639, 0.63136493, 0.04295555, 0.39291084, 0.98206261,\n",
       "       0.46470888, 0.74621828, 0.04994997, 0.85966358, 0.11633558,\n",
       "       0.96254661, 0.81423015, 0.39052951, 0.93639793, 0.77747381,\n",
       "       0.39599716, 0.64476499, 0.78112101, 0.58453304, 0.04145672,\n",
       "       0.93129332, 0.86285248, 0.51915245, 0.05682799, 0.34619401])"
      ]
     },
     "execution_count": 59,
     "metadata": {},
     "output_type": "execute_result"
    }
   ],
   "source": [
    "# generate 100 random numbers between 0 to 1\n",
    "np.random.rand(100)"
   ]
  },
  {
   "cell_type": "code",
   "execution_count": 60,
   "id": "5f4a92da",
   "metadata": {},
   "outputs": [
    {
     "data": {
      "text/plain": [
       "array([[0.22095886, 0.58048038, 0.41021048, 0.49828911],\n",
       "       [0.08012615, 0.86878468, 0.04315458, 0.20898678],\n",
       "       [0.90303247, 0.33593541, 0.45013533, 0.08666064],\n",
       "       [0.44841798, 0.77286654, 0.36030597, 0.33396195]])"
      ]
     },
     "execution_count": 60,
     "metadata": {},
     "output_type": "execute_result"
    }
   ],
   "source": [
    "# create 2-D array of order (4,4) with random numbers between 0 to 1\n",
    "np.random.rand(4,4)"
   ]
  },
  {
   "cell_type": "code",
   "execution_count": 61,
   "id": "244a26fc",
   "metadata": {},
   "outputs": [
    {
     "data": {
      "text/plain": [
       "array([[0.33659009, 0.99952692, 0.93333408],\n",
       "       [0.2475255 , 0.29411181, 0.9774275 ],\n",
       "       [0.29843574, 0.92598844, 0.71292709],\n",
       "       [0.011664  , 0.09806121, 0.03117669],\n",
       "       [0.89570577, 0.90487542, 0.61855064],\n",
       "       [0.96311786, 0.53122236, 0.06457554],\n",
       "       [0.16446325, 0.09124349, 0.71073395]])"
      ]
     },
     "execution_count": 61,
     "metadata": {},
     "output_type": "execute_result"
    }
   ],
   "source": [
    "# create matrix of order (7,3) which includes\n",
    "np.random.rand(7,3)"
   ]
  },
  {
   "cell_type": "markdown",
   "id": "7746fcb2",
   "metadata": {},
   "source": [
    "### 3. randn\n",
    "- It is used to generate random numbers from normal distribution within a range [-3,3]"
   ]
  },
  {
   "cell_type": "code",
   "execution_count": 62,
   "id": "1ef0014f",
   "metadata": {},
   "outputs": [
    {
     "data": {
      "text/plain": [
       "array([-1.91966609, -0.55261325,  0.04447149,  0.7780141 ,  2.56856894,\n",
       "       -0.33054469, -1.2336896 ,  0.45111653, -1.59829292, -1.23180777])"
      ]
     },
     "execution_count": 62,
     "metadata": {},
     "output_type": "execute_result"
    }
   ],
   "source": [
    "# generate 10 random numbers from normal distributuon\n",
    "np.random.randn(10)"
   ]
  },
  {
   "cell_type": "code",
   "execution_count": 63,
   "id": "d3305af2",
   "metadata": {},
   "outputs": [
    {
     "data": {
      "text/plain": [
       "array([[ 1.06137161,  0.38621964, -0.87461917, -0.38139117, -0.27328853],\n",
       "       [-0.37493901, -0.0737769 , -2.13264554, -1.81340573, -1.30913504],\n",
       "       [ 0.27521232, -0.53514085, -0.23288824,  0.44498531, -0.4240127 ],\n",
       "       [-0.65138322,  1.25319375, -0.57129015, -1.73182208, -1.4263522 ],\n",
       "       [ 0.29839341,  0.74785277,  0.57577934,  0.8339807 ,  1.67673382]])"
      ]
     },
     "execution_count": 63,
     "metadata": {},
     "output_type": "execute_result"
    }
   ],
   "source": [
    "# create 2-D array of order (5,5) which includes normal distribution values\n",
    "np.random.randn(5,5)"
   ]
  },
  {
   "cell_type": "code",
   "execution_count": 64,
   "id": "409b1250",
   "metadata": {},
   "outputs": [
    {
     "name": "stdout",
     "output_type": "stream",
     "text": [
      "[5391 8663 4109 5368 2022 4470 9619 1047 7045 6668]\n"
     ]
    }
   ],
   "source": [
    "# create 10 random integers between 1 to 10000\n",
    "rand_num = np.random.randint(1,10000,10)\n",
    "print(rand_num)"
   ]
  },
  {
   "cell_type": "code",
   "execution_count": 65,
   "id": "874b1f7c",
   "metadata": {},
   "outputs": [
    {
     "data": {
      "text/plain": [
       "9619"
      ]
     },
     "execution_count": 65,
     "metadata": {},
     "output_type": "execute_result"
    }
   ],
   "source": [
    "# maximum value\n",
    "np.max(rand_num)"
   ]
  },
  {
   "cell_type": "code",
   "execution_count": 66,
   "id": "2c85980a",
   "metadata": {},
   "outputs": [
    {
     "data": {
      "text/plain": [
       "6"
      ]
     },
     "execution_count": 66,
     "metadata": {},
     "output_type": "execute_result"
    }
   ],
   "source": [
    "# index position of maximum value\n",
    "np.argmax(rand_num)"
   ]
  },
  {
   "cell_type": "code",
   "execution_count": 67,
   "id": "947ff962",
   "metadata": {},
   "outputs": [
    {
     "data": {
      "text/plain": [
       "1047"
      ]
     },
     "execution_count": 67,
     "metadata": {},
     "output_type": "execute_result"
    }
   ],
   "source": [
    "# minimum value\n",
    "np.min(rand_num)"
   ]
  },
  {
   "cell_type": "code",
   "execution_count": 68,
   "id": "017c3063",
   "metadata": {},
   "outputs": [
    {
     "data": {
      "text/plain": [
       "7"
      ]
     },
     "execution_count": 68,
     "metadata": {},
     "output_type": "execute_result"
    }
   ],
   "source": [
    "# index position of minimum value\n",
    "np.argmin(rand_num)"
   ]
  },
  {
   "cell_type": "markdown",
   "id": "6ba2a5b8",
   "metadata": {},
   "source": [
    "## Indexing"
   ]
  },
  {
   "cell_type": "code",
   "execution_count": 69,
   "id": "ee46c9e5",
   "metadata": {},
   "outputs": [
    {
     "name": "stdout",
     "output_type": "stream",
     "text": [
      "[20 21 22 23 24 25 26 27 28 29]\n"
     ]
    }
   ],
   "source": [
    "A = np.arange(20,30)\n",
    "print(A)"
   ]
  },
  {
   "cell_type": "code",
   "execution_count": 70,
   "id": "e9770a6d",
   "metadata": {},
   "outputs": [
    {
     "data": {
      "text/plain": [
       "23"
      ]
     },
     "execution_count": 70,
     "metadata": {},
     "output_type": "execute_result"
    }
   ],
   "source": [
    "# fetch 23\n",
    "A[3]"
   ]
  },
  {
   "cell_type": "code",
   "execution_count": 71,
   "id": "17eb5d0a",
   "metadata": {},
   "outputs": [
    {
     "data": {
      "text/plain": [
       "array([23, 24, 25])"
      ]
     },
     "execution_count": 71,
     "metadata": {},
     "output_type": "execute_result"
    }
   ],
   "source": [
    "# fetch 23,24,25\n",
    "A[3:6]"
   ]
  },
  {
   "cell_type": "code",
   "execution_count": 72,
   "id": "c259f15a",
   "metadata": {},
   "outputs": [
    {
     "data": {
      "text/plain": [
       "array([29, 28, 27, 26, 25, 24, 23, 22, 21, 20])"
      ]
     },
     "execution_count": 72,
     "metadata": {},
     "output_type": "execute_result"
    }
   ],
   "source": [
    "# how to reverse array\n",
    "A[::-1]"
   ]
  },
  {
   "cell_type": "markdown",
   "id": "edbe7410",
   "metadata": {},
   "source": [
    "### Indexing with 2-D array"
   ]
  },
  {
   "cell_type": "code",
   "execution_count": 73,
   "id": "d54397c4",
   "metadata": {},
   "outputs": [
    {
     "name": "stdout",
     "output_type": "stream",
     "text": [
      "[[1 2 3]\n",
      " [4 5 6]\n",
      " [7 8 9]]\n"
     ]
    }
   ],
   "source": [
    "B = np.array([[1,2,3],[4,5,6],[7,8,9]])\n",
    "print(B)"
   ]
  },
  {
   "cell_type": "code",
   "execution_count": 74,
   "id": "2aaa78c3",
   "metadata": {},
   "outputs": [
    {
     "data": {
      "text/plain": [
       "array([[1, 2, 3]])"
      ]
     },
     "execution_count": 74,
     "metadata": {},
     "output_type": "execute_result"
    }
   ],
   "source": [
    "# fetch 1st row\n",
    "B[[0]]"
   ]
  },
  {
   "cell_type": "code",
   "execution_count": 75,
   "id": "4ede12f3",
   "metadata": {},
   "outputs": [
    {
     "data": {
      "text/plain": [
       "array([[4, 5, 6]])"
      ]
     },
     "execution_count": 75,
     "metadata": {},
     "output_type": "execute_result"
    }
   ],
   "source": [
    "# fetch 2nd row\n",
    "B[[1]]"
   ]
  },
  {
   "cell_type": "code",
   "execution_count": 76,
   "id": "5f04e3b9",
   "metadata": {},
   "outputs": [
    {
     "data": {
      "text/plain": [
       "array([[7, 8, 9]])"
      ]
     },
     "execution_count": 76,
     "metadata": {},
     "output_type": "execute_result"
    }
   ],
   "source": [
    "# fetch 3rd row\n",
    "B[[2]]"
   ]
  },
  {
   "cell_type": "code",
   "execution_count": 77,
   "id": "602dbc38",
   "metadata": {},
   "outputs": [
    {
     "data": {
      "text/plain": [
       "array([[1, 2, 3],\n",
       "       [4, 5, 6]])"
      ]
     },
     "execution_count": 77,
     "metadata": {},
     "output_type": "execute_result"
    }
   ],
   "source": [
    "# fetch 1st and 2nd row\n",
    "B[[0,1]]"
   ]
  },
  {
   "cell_type": "code",
   "execution_count": 78,
   "id": "d0f43c24",
   "metadata": {},
   "outputs": [
    {
     "data": {
      "text/plain": [
       "array([[1, 2, 3],\n",
       "       [7, 8, 9]])"
      ]
     },
     "execution_count": 78,
     "metadata": {},
     "output_type": "execute_result"
    }
   ],
   "source": [
    "# fetch 1st and 3rd row\n",
    "B[[0,2]]"
   ]
  },
  {
   "cell_type": "code",
   "execution_count": 79,
   "id": "dc920e73",
   "metadata": {},
   "outputs": [
    {
     "data": {
      "text/plain": [
       "4"
      ]
     },
     "execution_count": 79,
     "metadata": {},
     "output_type": "execute_result"
    }
   ],
   "source": [
    "# fetch 4\n",
    "B[1][0]"
   ]
  },
  {
   "cell_type": "code",
   "execution_count": 80,
   "id": "5f7fa984",
   "metadata": {},
   "outputs": [
    {
     "data": {
      "text/plain": [
       "9"
      ]
     },
     "execution_count": 80,
     "metadata": {},
     "output_type": "execute_result"
    }
   ],
   "source": [
    "# fetch 9\n",
    "B[2][2]"
   ]
  },
  {
   "cell_type": "code",
   "execution_count": 81,
   "id": "04bd0bf3",
   "metadata": {},
   "outputs": [
    {
     "data": {
      "text/plain": [
       "6"
      ]
     },
     "execution_count": 81,
     "metadata": {},
     "output_type": "execute_result"
    }
   ],
   "source": [
    "# fetch 6\n",
    "B[1,2]"
   ]
  },
  {
   "cell_type": "code",
   "execution_count": 82,
   "id": "6b840de8",
   "metadata": {},
   "outputs": [
    {
     "data": {
      "text/plain": [
       "array([[1],\n",
       "       [4],\n",
       "       [7]])"
      ]
     },
     "execution_count": 82,
     "metadata": {},
     "output_type": "execute_result"
    }
   ],
   "source": [
    "# fetch first column\n",
    "B[:,[0]]"
   ]
  },
  {
   "cell_type": "code",
   "execution_count": 83,
   "id": "f7358b04",
   "metadata": {},
   "outputs": [
    {
     "data": {
      "text/plain": [
       "array([[2],\n",
       "       [5],\n",
       "       [8]])"
      ]
     },
     "execution_count": 83,
     "metadata": {},
     "output_type": "execute_result"
    }
   ],
   "source": [
    "# fetch second column\n",
    "B[:,[1]]"
   ]
  },
  {
   "cell_type": "code",
   "execution_count": 84,
   "id": "09db67e2",
   "metadata": {},
   "outputs": [
    {
     "data": {
      "text/plain": [
       "array([[3],\n",
       "       [6],\n",
       "       [9]])"
      ]
     },
     "execution_count": 84,
     "metadata": {},
     "output_type": "execute_result"
    }
   ],
   "source": [
    "# fetch third column\n",
    "B[:,[2]]"
   ]
  },
  {
   "cell_type": "code",
   "execution_count": 85,
   "id": "5f9becb7",
   "metadata": {},
   "outputs": [
    {
     "data": {
      "text/plain": [
       "array([[1, 3],\n",
       "       [4, 6],\n",
       "       [7, 9]])"
      ]
     },
     "execution_count": 85,
     "metadata": {},
     "output_type": "execute_result"
    }
   ],
   "source": [
    "# fetch 1st and 3rd column\n",
    "B[:,[0,2]]"
   ]
  },
  {
   "cell_type": "code",
   "execution_count": 86,
   "id": "e381c136",
   "metadata": {},
   "outputs": [
    {
     "data": {
      "text/plain": [
       "array([[1, 2],\n",
       "       [4, 5],\n",
       "       [7, 8]])"
      ]
     },
     "execution_count": 86,
     "metadata": {},
     "output_type": "execute_result"
    }
   ],
   "source": [
    "# fetch 1st and 2nd column\n",
    "B[:,:2]"
   ]
  },
  {
   "cell_type": "code",
   "execution_count": 87,
   "id": "c419e5e8",
   "metadata": {},
   "outputs": [
    {
     "data": {
      "text/plain": [
       "array([[5, 6],\n",
       "       [8, 9]])"
      ]
     },
     "execution_count": 87,
     "metadata": {},
     "output_type": "execute_result"
    }
   ],
   "source": [
    "B[1:3,1:3]"
   ]
  },
  {
   "cell_type": "code",
   "execution_count": 88,
   "id": "0b7092d3",
   "metadata": {},
   "outputs": [
    {
     "data": {
      "text/plain": [
       "array([[4],\n",
       "       [7]])"
      ]
     },
     "execution_count": 88,
     "metadata": {},
     "output_type": "execute_result"
    }
   ],
   "source": [
    "B[1:3,[0]]"
   ]
  },
  {
   "cell_type": "code",
   "execution_count": 89,
   "id": "e0dc56ca",
   "metadata": {},
   "outputs": [
    {
     "data": {
      "text/plain": [
       "array([[2, 3],\n",
       "       [5, 6]])"
      ]
     },
     "execution_count": 89,
     "metadata": {},
     "output_type": "execute_result"
    }
   ],
   "source": [
    "B[0:2,1:3]"
   ]
  },
  {
   "cell_type": "code",
   "execution_count": 90,
   "id": "5a92959b-97d3-4205-acda-6589ab8c857f",
   "metadata": {},
   "outputs": [
    {
     "data": {
      "text/plain": [
       "array([[ 0,  1,  2,  3],\n",
       "       [ 4,  5,  6,  7],\n",
       "       [ 8,  9, 10, 11]])"
      ]
     },
     "execution_count": 90,
     "metadata": {},
     "output_type": "execute_result"
    }
   ],
   "source": [
    "a1 = np.arange(12).reshape(3,4)\n",
    "a1"
   ]
  },
  {
   "cell_type": "code",
   "execution_count": 91,
   "id": "bb0ff063-68b3-47cd-8a79-d06499b56b88",
   "metadata": {},
   "outputs": [
    {
     "data": {
      "text/plain": [
       "array([[0, 1, 2, 3]])"
      ]
     },
     "execution_count": 91,
     "metadata": {},
     "output_type": "execute_result"
    }
   ],
   "source": [
    "# fetch 1st row\n",
    "a1[[0]]"
   ]
  },
  {
   "cell_type": "code",
   "execution_count": 92,
   "id": "01c83456-4dd7-426b-9a2c-1120ee8aec8d",
   "metadata": {},
   "outputs": [
    {
     "data": {
      "text/plain": [
       "array([[4, 5, 6, 7]])"
      ]
     },
     "execution_count": 92,
     "metadata": {},
     "output_type": "execute_result"
    }
   ],
   "source": [
    "# fetch 2nd row\n",
    "a1[[1]]"
   ]
  },
  {
   "cell_type": "code",
   "execution_count": 93,
   "id": "9ac5df33-e742-4d45-8722-843b73cdf7e3",
   "metadata": {},
   "outputs": [
    {
     "data": {
      "text/plain": [
       "array([[ 0,  1,  2,  3],\n",
       "       [ 4,  5,  6,  7],\n",
       "       [ 8,  9, 10, 11]])"
      ]
     },
     "execution_count": 93,
     "metadata": {},
     "output_type": "execute_result"
    }
   ],
   "source": [
    "# fetch first column\n",
    "a1"
   ]
  },
  {
   "cell_type": "code",
   "execution_count": 94,
   "id": "d1fccea0-2516-4e7e-ba58-6aa7581316fe",
   "metadata": {},
   "outputs": [
    {
     "data": {
      "text/plain": [
       "array([[0],\n",
       "       [4],\n",
       "       [8]])"
      ]
     },
     "execution_count": 94,
     "metadata": {},
     "output_type": "execute_result"
    }
   ],
   "source": [
    "a1[:,[0]]"
   ]
  },
  {
   "cell_type": "code",
   "execution_count": 95,
   "id": "c9386c79-b04b-4618-9f3b-b8e65bee67bb",
   "metadata": {},
   "outputs": [
    {
     "data": {
      "text/plain": [
       "array([[ 0,  3],\n",
       "       [ 8, 11]])"
      ]
     },
     "execution_count": 95,
     "metadata": {},
     "output_type": "execute_result"
    }
   ],
   "source": [
    "a1[::2,::3]"
   ]
  },
  {
   "cell_type": "code",
   "execution_count": 96,
   "id": "f062368f-d04a-4f11-bd60-f3c290d0f8c9",
   "metadata": {},
   "outputs": [
    {
     "data": {
      "text/plain": [
       "array([[ 0,  1,  2,  3],\n",
       "       [ 4,  5,  6,  7],\n",
       "       [ 8,  9, 10, 11]])"
      ]
     },
     "execution_count": 96,
     "metadata": {},
     "output_type": "execute_result"
    }
   ],
   "source": [
    "a1"
   ]
  },
  {
   "cell_type": "code",
   "execution_count": 97,
   "id": "3b37e1e4-e1b7-4db3-b8f8-b08cef8aced4",
   "metadata": {},
   "outputs": [
    {
     "data": {
      "text/plain": [
       "array([[ 1,  3],\n",
       "       [ 9, 11]])"
      ]
     },
     "execution_count": 97,
     "metadata": {},
     "output_type": "execute_result"
    }
   ],
   "source": [
    "a1[::2,1::2]"
   ]
  },
  {
   "cell_type": "code",
   "execution_count": 98,
   "id": "761fe7ae-84a7-4dbb-b652-f2a963d9115f",
   "metadata": {},
   "outputs": [
    {
     "data": {
      "text/plain": [
       "array([[ 5,  7],\n",
       "       [ 9, 11]])"
      ]
     },
     "execution_count": 98,
     "metadata": {},
     "output_type": "execute_result"
    }
   ],
   "source": [
    "a1[1:,1::2]"
   ]
  },
  {
   "cell_type": "code",
   "execution_count": 99,
   "id": "960b8724-6067-4e7f-aa22-a57c94771367",
   "metadata": {},
   "outputs": [
    {
     "data": {
      "text/plain": [
       "array([[[ 0,  1,  2],\n",
       "        [ 3,  4,  5],\n",
       "        [ 6,  7,  8]],\n",
       "\n",
       "       [[ 9, 10, 11],\n",
       "        [12, 13, 14],\n",
       "        [15, 16, 17]],\n",
       "\n",
       "       [[18, 19, 20],\n",
       "        [21, 22, 23],\n",
       "        [24, 25, 26]]])"
      ]
     },
     "execution_count": 99,
     "metadata": {},
     "output_type": "execute_result"
    }
   ],
   "source": [
    "a2 = np.arange(27).reshape(3,3,3)\n",
    "a2"
   ]
  },
  {
   "cell_type": "code",
   "execution_count": 100,
   "id": "3e8a68d8-a220-4c11-bb4e-6c6b80b6621c",
   "metadata": {},
   "outputs": [
    {
     "data": {
      "text/plain": [
       "array([[[ 9, 10, 11],\n",
       "        [12, 13, 14],\n",
       "        [15, 16, 17]]])"
      ]
     },
     "execution_count": 100,
     "metadata": {},
     "output_type": "execute_result"
    }
   ],
   "source": [
    "a2[[1]]"
   ]
  },
  {
   "cell_type": "code",
   "execution_count": 101,
   "id": "b3e2a27e-0dd0-42d4-922c-698aa990bbc1",
   "metadata": {},
   "outputs": [
    {
     "data": {
      "text/plain": [
       "array([[[ 0,  1,  2],\n",
       "        [ 3,  4,  5],\n",
       "        [ 6,  7,  8]],\n",
       "\n",
       "       [[18, 19, 20],\n",
       "        [21, 22, 23],\n",
       "        [24, 25, 26]]])"
      ]
     },
     "execution_count": 101,
     "metadata": {},
     "output_type": "execute_result"
    }
   ],
   "source": [
    "a2[::2]"
   ]
  },
  {
   "cell_type": "code",
   "execution_count": 102,
   "id": "5e338d39-07ca-41be-a73b-e1274e41cc15",
   "metadata": {},
   "outputs": [
    {
     "data": {
      "text/plain": [
       "array([3, 4, 5])"
      ]
     },
     "execution_count": 102,
     "metadata": {},
     "output_type": "execute_result"
    }
   ],
   "source": [
    "a2[0][1]"
   ]
  },
  {
   "cell_type": "code",
   "execution_count": 103,
   "id": "4f9e7b7a-372f-4637-99c5-a738d907d7d9",
   "metadata": {},
   "outputs": [
    {
     "data": {
      "text/plain": [
       "16"
      ]
     },
     "execution_count": 103,
     "metadata": {},
     "output_type": "execute_result"
    }
   ],
   "source": [
    "a2[1][2,1]"
   ]
  },
  {
   "cell_type": "code",
   "execution_count": 104,
   "id": "7f544919-bcc4-4386-b0db-e96417f1a381",
   "metadata": {},
   "outputs": [
    {
     "data": {
      "text/plain": [
       "array([[22, 23],\n",
       "       [25, 26]])"
      ]
     },
     "execution_count": 104,
     "metadata": {},
     "output_type": "execute_result"
    }
   ],
   "source": [
    "a2[2][1:,1:]"
   ]
  },
  {
   "cell_type": "code",
   "execution_count": 105,
   "id": "db300b4a-1ecd-42a8-9ed8-452c5810d2cf",
   "metadata": {},
   "outputs": [
    {
     "data": {
      "text/plain": [
       "array([[ 0,  2],\n",
       "       [18, 20]])"
      ]
     },
     "execution_count": 105,
     "metadata": {},
     "output_type": "execute_result"
    }
   ],
   "source": [
    "a2[::2,0,::2]"
   ]
  },
  {
   "cell_type": "markdown",
   "id": "ece1e355-5672-4581-a92b-3d563b674be6",
   "metadata": {},
   "source": [
    "## Array Operations"
   ]
  },
  {
   "cell_type": "code",
   "execution_count": 106,
   "id": "466d0db5",
   "metadata": {},
   "outputs": [],
   "source": [
    "arr1 = np.array([10,20,30,40,50])\n",
    "arr2 = np.array([2,4,6,8,10])"
   ]
  },
  {
   "cell_type": "markdown",
   "id": "00dc98b5-a2b3-495d-b244-bdc5ee682935",
   "metadata": {},
   "source": [
    "#### Arithmatic"
   ]
  },
  {
   "cell_type": "code",
   "execution_count": 107,
   "id": "a371c187",
   "metadata": {},
   "outputs": [
    {
     "data": {
      "text/plain": [
       "array([12, 24, 36, 48, 60])"
      ]
     },
     "execution_count": 107,
     "metadata": {},
     "output_type": "execute_result"
    }
   ],
   "source": [
    "# Addition\n",
    "arr1+arr2"
   ]
  },
  {
   "cell_type": "code",
   "execution_count": 108,
   "id": "0968f373",
   "metadata": {},
   "outputs": [
    {
     "data": {
      "text/plain": [
       "array([ 8, 16, 24, 32, 40])"
      ]
     },
     "execution_count": 108,
     "metadata": {},
     "output_type": "execute_result"
    }
   ],
   "source": [
    "# Subtraction\n",
    "arr1-arr2"
   ]
  },
  {
   "cell_type": "code",
   "execution_count": 109,
   "id": "d5fcc274",
   "metadata": {},
   "outputs": [
    {
     "data": {
      "text/plain": [
       "array([ 20,  80, 180, 320, 500])"
      ]
     },
     "execution_count": 109,
     "metadata": {},
     "output_type": "execute_result"
    }
   ],
   "source": [
    "# Multiplication\n",
    "arr1*arr2"
   ]
  },
  {
   "cell_type": "code",
   "execution_count": 110,
   "id": "f575f2d3",
   "metadata": {},
   "outputs": [
    {
     "data": {
      "text/plain": [
       "array([5., 5., 5., 5., 5.])"
      ]
     },
     "execution_count": 110,
     "metadata": {},
     "output_type": "execute_result"
    }
   ],
   "source": [
    "# Division\n",
    "arr1/arr2"
   ]
  },
  {
   "cell_type": "code",
   "execution_count": 109,
   "id": "662dc909",
   "metadata": {},
   "outputs": [
    {
     "data": {
      "text/plain": [
       "array([15, 25, 35, 45, 55])"
      ]
     },
     "execution_count": 109,
     "metadata": {},
     "output_type": "execute_result"
    }
   ],
   "source": [
    "# scaler operation\n",
    "arr1+5"
   ]
  },
  {
   "cell_type": "markdown",
   "id": "d1634d6d-bfe8-4c16-b1b4-ceb742f327a1",
   "metadata": {},
   "source": [
    "#### Relational"
   ]
  },
  {
   "cell_type": "code",
   "execution_count": 110,
   "id": "03914752-fbec-4e0a-a66e-c06fae174a61",
   "metadata": {},
   "outputs": [
    {
     "data": {
      "text/plain": [
       "array([ True,  True,  True,  True,  True])"
      ]
     },
     "execution_count": 110,
     "metadata": {},
     "output_type": "execute_result"
    }
   ],
   "source": [
    "arr1 > 5"
   ]
  },
  {
   "cell_type": "code",
   "execution_count": 111,
   "id": "0f5909ed-8e11-4a9a-9da1-c84d7cc25e40",
   "metadata": {},
   "outputs": [
    {
     "data": {
      "text/plain": [
       "array([ True,  True, False, False, False])"
      ]
     },
     "execution_count": 111,
     "metadata": {},
     "output_type": "execute_result"
    }
   ],
   "source": [
    "arr1 < 25"
   ]
  },
  {
   "cell_type": "code",
   "execution_count": 112,
   "id": "56e3a8a3-2f93-48f7-b67c-ce8a322d92e5",
   "metadata": {},
   "outputs": [
    {
     "data": {
      "text/plain": [
       "array([False, False, False, False, False])"
      ]
     },
     "execution_count": 112,
     "metadata": {},
     "output_type": "execute_result"
    }
   ],
   "source": [
    "arr1 == 15"
   ]
  },
  {
   "cell_type": "markdown",
   "id": "b7712353-fa82-4868-9cd2-5a8c52907a23",
   "metadata": {},
   "source": [
    "## Array Function"
   ]
  },
  {
   "cell_type": "code",
   "execution_count": 113,
   "id": "d190a2d6-6015-43d1-a9e1-b75f713175be",
   "metadata": {},
   "outputs": [
    {
     "data": {
      "text/plain": [
       "array([[49., 83., 89.],\n",
       "       [47., 34., 12.],\n",
       "       [32., 84., 33.]])"
      ]
     },
     "execution_count": 113,
     "metadata": {},
     "output_type": "execute_result"
    }
   ],
   "source": [
    "a1 = np.random.random((3,3))\n",
    "a1 = np.round(a1*100)\n",
    "a1"
   ]
  },
  {
   "cell_type": "markdown",
   "id": "3b291bb4-cb9a-49df-88ad-748cc1c39370",
   "metadata": {},
   "source": [
    "### Maximum\n",
    "Find the largest value in an array."
   ]
  },
  {
   "cell_type": "code",
   "execution_count": 114,
   "id": "20c4c7c6-111d-4db9-b540-e82ac754c893",
   "metadata": {},
   "outputs": [
    {
     "data": {
      "text/plain": [
       "89.0"
      ]
     },
     "execution_count": 114,
     "metadata": {},
     "output_type": "execute_result"
    }
   ],
   "source": [
    "np.max(a1)"
   ]
  },
  {
   "cell_type": "code",
   "execution_count": 115,
   "id": "0f8de701-b355-499b-817d-7003aecdda48",
   "metadata": {},
   "outputs": [
    {
     "data": {
      "text/plain": [
       "array([89., 47., 84.])"
      ]
     },
     "execution_count": 115,
     "metadata": {},
     "output_type": "execute_result"
    }
   ],
   "source": [
    "np.max(a1,axis = 1 )"
   ]
  },
  {
   "cell_type": "markdown",
   "id": "99dad943-53a5-444d-958f-0511a36df442",
   "metadata": {},
   "source": [
    "### Minimum\n",
    "Find the smallest value in an array."
   ]
  },
  {
   "cell_type": "code",
   "execution_count": 116,
   "id": "829e10b2-a56c-4df5-9ff4-fdcb4635a1c2",
   "metadata": {},
   "outputs": [
    {
     "data": {
      "text/plain": [
       "12.0"
      ]
     },
     "execution_count": 116,
     "metadata": {},
     "output_type": "execute_result"
    }
   ],
   "source": [
    "np.min(a1)"
   ]
  },
  {
   "cell_type": "markdown",
   "id": "db960cfd-cf2f-4f7a-ae10-a6182a7b058c",
   "metadata": {},
   "source": [
    "### sum\n",
    "Calculate the sum of all elements in the array."
   ]
  },
  {
   "cell_type": "code",
   "execution_count": 117,
   "id": "2dd98e44-81e4-4de1-ab5e-dad20c9456d4",
   "metadata": {},
   "outputs": [
    {
     "data": {
      "text/plain": [
       "463.0"
      ]
     },
     "execution_count": 117,
     "metadata": {},
     "output_type": "execute_result"
    }
   ],
   "source": [
    "np.sum(a1)"
   ]
  },
  {
   "cell_type": "markdown",
   "id": "0553d024-8308-41c4-a70f-aca4e68191e1",
   "metadata": {},
   "source": [
    "### Product\n",
    "Calculate the product of all elements in the array."
   ]
  },
  {
   "cell_type": "code",
   "execution_count": 118,
   "id": "72006b2e-7d20-4b42-ab79-277c2754570a",
   "metadata": {},
   "outputs": [
    {
     "data": {
      "text/plain": [
       "615694684695552.0"
      ]
     },
     "execution_count": 118,
     "metadata": {},
     "output_type": "execute_result"
    }
   ],
   "source": [
    "np.prod(a1)"
   ]
  },
  {
   "cell_type": "markdown",
   "id": "7589712c-808d-47de-9910-a357a0b175fe",
   "metadata": {},
   "source": [
    "### Mean \n",
    "Compute the average of the array elements."
   ]
  },
  {
   "cell_type": "code",
   "execution_count": 119,
   "id": "5e249a84-b679-4d87-b508-7f76c3e86971",
   "metadata": {},
   "outputs": [
    {
     "data": {
      "text/plain": [
       "51.44444444444444"
      ]
     },
     "execution_count": 119,
     "metadata": {},
     "output_type": "execute_result"
    }
   ],
   "source": [
    "np.mean(a1)"
   ]
  },
  {
   "cell_type": "markdown",
   "id": "9e87a179-a64f-415c-a547-6db22642d19e",
   "metadata": {},
   "source": [
    "### Median\n",
    "Find the median (middle value) of the array elements."
   ]
  },
  {
   "cell_type": "code",
   "execution_count": 120,
   "id": "2736db1d-3ee8-4735-9fe0-af6b008679d3",
   "metadata": {},
   "outputs": [
    {
     "data": {
      "text/plain": [
       "47.0"
      ]
     },
     "execution_count": 120,
     "metadata": {},
     "output_type": "execute_result"
    }
   ],
   "source": [
    "np.median(a1)"
   ]
  },
  {
   "cell_type": "markdown",
   "id": "bf3a72ad-6f48-44a4-b8dc-2f0ac67b213b",
   "metadata": {},
   "source": [
    "### Standard Deviation\n",
    "Compute the standard deviation (square root of variance)."
   ]
  },
  {
   "cell_type": "code",
   "execution_count": 121,
   "id": "82c70632-72c0-4068-b78f-73a934e30e6a",
   "metadata": {},
   "outputs": [
    {
     "data": {
      "text/plain": [
       "25.970543617769522"
      ]
     },
     "execution_count": 121,
     "metadata": {},
     "output_type": "execute_result"
    }
   ],
   "source": [
    "np.std(a1)"
   ]
  },
  {
   "cell_type": "markdown",
   "id": "6aa9a862-73e1-4cf2-bc6b-05839f438cbf",
   "metadata": {},
   "source": [
    "### Variance\n",
    "Compute the variance (measure of spread) of the array."
   ]
  },
  {
   "cell_type": "code",
   "execution_count": 122,
   "id": "cbcbfe11-d349-4bef-9123-83f7400af3ba",
   "metadata": {},
   "outputs": [
    {
     "data": {
      "text/plain": [
       "674.4691358024692"
      ]
     },
     "execution_count": 122,
     "metadata": {},
     "output_type": "execute_result"
    }
   ],
   "source": [
    "np.var(a1)"
   ]
  },
  {
   "cell_type": "markdown",
   "id": "afc748ef-a2c3-44c4-83b0-fa46e73d8257",
   "metadata": {},
   "source": [
    "### Dot Product\n",
    "The dot product of two arrays (vectors or matrices)."
   ]
  },
  {
   "cell_type": "code",
   "execution_count": 123,
   "id": "134a69be-4cf6-4621-b68d-79bd1c8e7db0",
   "metadata": {},
   "outputs": [
    {
     "data": {
      "text/plain": [
       "array([[114, 120, 126],\n",
       "       [378, 400, 422],\n",
       "       [642, 680, 718]])"
      ]
     },
     "execution_count": 123,
     "metadata": {},
     "output_type": "execute_result"
    }
   ],
   "source": [
    "a2 = np.arange(12).reshape(3,4)\n",
    "a3 = np.arange(12,24).reshape(4,3)\n",
    "np.dot(a2,a3)"
   ]
  },
  {
   "cell_type": "markdown",
   "id": "41fdb36e-117b-42ce-9ba2-f434e9c76b5f",
   "metadata": {},
   "source": [
    "### Logarithm\n",
    "Compute logarithms (base 2, base 10, or natural log)."
   ]
  },
  {
   "cell_type": "code",
   "execution_count": 124,
   "id": "f7b9ab8b-8eae-4781-9d66-049d89e71a7a",
   "metadata": {},
   "outputs": [
    {
     "data": {
      "text/plain": [
       "array([[3.8918203 , 4.41884061, 4.48863637],\n",
       "       [3.8501476 , 3.52636052, 2.48490665],\n",
       "       [3.4657359 , 4.4308168 , 3.49650756]])"
      ]
     },
     "execution_count": 124,
     "metadata": {},
     "output_type": "execute_result"
    }
   ],
   "source": [
    "# log \n",
    "np.log(a1)"
   ]
  },
  {
   "cell_type": "markdown",
   "id": "e3070bf5-ceda-4168-8bd4-a3aea94edc01",
   "metadata": {},
   "source": [
    "### Exponential (exp)\n",
    "Compute the exponential (e^x) of each element in the array."
   ]
  },
  {
   "cell_type": "code",
   "execution_count": 125,
   "id": "77c678a0-ebf1-4776-ab4d-af20c58319bd",
   "metadata": {},
   "outputs": [
    {
     "data": {
      "text/plain": [
       "array([[1.90734657e+21, 1.11286375e+36, 4.48961282e+38],\n",
       "       [2.58131289e+20, 5.83461743e+14, 1.62754791e+05],\n",
       "       [7.89629602e+13, 3.02507732e+36, 2.14643580e+14]])"
      ]
     },
     "execution_count": 125,
     "metadata": {},
     "output_type": "execute_result"
    }
   ],
   "source": [
    "# exponents\n",
    "np.exp(a1)"
   ]
  },
  {
   "cell_type": "markdown",
   "id": "5d9e24a5-5632-487a-94f7-ddfe586bc167",
   "metadata": {},
   "source": [
    "### Round\n",
    "Round elements to the nearest integer."
   ]
  },
  {
   "cell_type": "code",
   "execution_count": 126,
   "id": "5898e913-0d7c-469f-ad2f-ace9be2683bf",
   "metadata": {},
   "outputs": [
    {
     "data": {
      "text/plain": [
       "array([[34., 48., 49.],\n",
       "       [40., 88., 15.]])"
      ]
     },
     "execution_count": 126,
     "metadata": {},
     "output_type": "execute_result"
    }
   ],
   "source": [
    "# round\n",
    "np.round(np.random.random((2,3))*100)"
   ]
  },
  {
   "cell_type": "markdown",
   "id": "e8f3b220-7cb1-420a-983b-35e5a2150432",
   "metadata": {},
   "source": [
    "### Floor (floor)\n",
    "Round elements down to the nearest integer."
   ]
  },
  {
   "cell_type": "code",
   "execution_count": 127,
   "id": "013cb4f6-1c8b-400d-ac63-200dc27559aa",
   "metadata": {},
   "outputs": [
    {
     "data": {
      "text/plain": [
       "array([[82., 88., 65.],\n",
       "       [ 8., 40., 72.]])"
      ]
     },
     "execution_count": 127,
     "metadata": {},
     "output_type": "execute_result"
    }
   ],
   "source": [
    "# floor\n",
    "np.floor(np.random.random((2,3))*100)"
   ]
  },
  {
   "cell_type": "markdown",
   "id": "c5864168-005f-4616-8b41-eb1f94e5341d",
   "metadata": {},
   "source": [
    "### Ceil (ceil)\n",
    "Round elements up to the nearest integer."
   ]
  },
  {
   "cell_type": "code",
   "execution_count": 128,
   "id": "ade31d79-1f03-458e-bce0-f7cec37d45e1",
   "metadata": {},
   "outputs": [
    {
     "data": {
      "text/plain": [
       "array([[34., 82., 10.],\n",
       "       [17., 39.,  3.]])"
      ]
     },
     "execution_count": 128,
     "metadata": {},
     "output_type": "execute_result"
    }
   ],
   "source": [
    "# ceil\n",
    "np.ceil(np.random.random((2,3))*100)"
   ]
  },
  {
   "cell_type": "markdown",
   "id": "47a668e2-da6a-4f82-a0b9-578229c81770",
   "metadata": {},
   "source": [
    "### Iteration on Array"
   ]
  },
  {
   "cell_type": "code",
   "execution_count": 130,
   "id": "6b06d0eb-0815-4439-8697-6844ebe7b162",
   "metadata": {},
   "outputs": [
    {
     "data": {
      "text/plain": [
       "array([[49., 83., 89.],\n",
       "       [47., 34., 12.],\n",
       "       [32., 84., 33.]])"
      ]
     },
     "execution_count": 130,
     "metadata": {},
     "output_type": "execute_result"
    }
   ],
   "source": [
    "a1"
   ]
  },
  {
   "cell_type": "code",
   "execution_count": 131,
   "id": "b0930292-2bac-44d9-a3b9-650e76934561",
   "metadata": {},
   "outputs": [
    {
     "name": "stdout",
     "output_type": "stream",
     "text": [
      "[49. 83. 89.]\n",
      "[47. 34. 12.]\n",
      "[32. 84. 33.]\n"
     ]
    }
   ],
   "source": [
    "for i in a1:\n",
    "    print(i)"
   ]
  },
  {
   "cell_type": "code",
   "execution_count": 132,
   "id": "8ffd8799-af60-4bfb-b425-44f93f5cfb0c",
   "metadata": {},
   "outputs": [
    {
     "data": {
      "text/plain": [
       "array([[ 0,  1,  2,  3],\n",
       "       [ 4,  5,  6,  7],\n",
       "       [ 8,  9, 10, 11]])"
      ]
     },
     "execution_count": 132,
     "metadata": {},
     "output_type": "execute_result"
    }
   ],
   "source": [
    "a2"
   ]
  },
  {
   "cell_type": "code",
   "execution_count": 134,
   "id": "6a86b2ba-452f-4b61-81c0-f9c2e5296d13",
   "metadata": {},
   "outputs": [
    {
     "name": "stdout",
     "output_type": "stream",
     "text": [
      "[0 1 2 3]\n",
      "[4 5 6 7]\n",
      "[ 8  9 10 11]\n"
     ]
    }
   ],
   "source": [
    "for i in a2:\n",
    "    print(i)"
   ]
  },
  {
   "cell_type": "code",
   "execution_count": 135,
   "id": "b7e6e638-744f-47db-ac5c-372c0d15a090",
   "metadata": {},
   "outputs": [
    {
     "name": "stdout",
     "output_type": "stream",
     "text": [
      "0\n",
      "1\n",
      "2\n",
      "3\n",
      "4\n",
      "5\n",
      "6\n",
      "7\n",
      "8\n",
      "9\n",
      "10\n",
      "11\n"
     ]
    }
   ],
   "source": [
    "for i in np.nditer(a2):\n",
    "    print(i)"
   ]
  },
  {
   "cell_type": "markdown",
   "id": "85e9d698-551b-4ddb-ad8b-c4e1473cfd6f",
   "metadata": {},
   "source": [
    "### Transpose\n",
    "The transpose() function in NumPy is used to flip the dimensions of an array. For a 2D array, this swaps rows with columns."
   ]
  },
  {
   "cell_type": "code",
   "execution_count": 136,
   "id": "3a06e03e-b712-461b-be8c-854d5c6d1bd0",
   "metadata": {},
   "outputs": [
    {
     "data": {
      "text/plain": [
       "array([[49., 47., 32.],\n",
       "       [83., 34., 84.],\n",
       "       [89., 12., 33.]])"
      ]
     },
     "execution_count": 136,
     "metadata": {},
     "output_type": "execute_result"
    }
   ],
   "source": [
    "# Transpose\n",
    "np.transpose(a1)"
   ]
  },
  {
   "cell_type": "code",
   "execution_count": 137,
   "id": "d3244e58-c1f4-49c6-a8ac-bef26389c8af",
   "metadata": {},
   "outputs": [
    {
     "data": {
      "text/plain": [
       "array([[49., 47., 32.],\n",
       "       [83., 34., 84.],\n",
       "       [89., 12., 33.]])"
      ]
     },
     "execution_count": 137,
     "metadata": {},
     "output_type": "execute_result"
    }
   ],
   "source": [
    "a1.T"
   ]
  },
  {
   "cell_type": "markdown",
   "id": "ff6a36c5-e26a-47c7-9d79-3a9717c8a206",
   "metadata": {},
   "source": [
    "### Ravel\n",
    "The ravel() function is used to flatten an array into a 1D array. "
   ]
  },
  {
   "cell_type": "code",
   "execution_count": 138,
   "id": "cc9c0cbc-01c6-4bbe-9623-50834c809174",
   "metadata": {},
   "outputs": [
    {
     "data": {
      "text/plain": [
       "array([ 0,  1,  2,  3,  4,  5,  6,  7,  8,  9, 10, 11])"
      ]
     },
     "execution_count": 138,
     "metadata": {},
     "output_type": "execute_result"
    }
   ],
   "source": [
    "# ravel\n",
    "a2.ravel()"
   ]
  },
  {
   "cell_type": "markdown",
   "id": "97a5c536-9ba9-4b9d-847e-8942a093a7b4",
   "metadata": {},
   "source": [
    "### Stacking \n",
    "#### 1. Horizontal(hstack)\n",
    "Combines arrays along columns (axis 1)."
   ]
  },
  {
   "cell_type": "code",
   "execution_count": 139,
   "id": "b9a64e56-f527-4502-bc8f-ff0aa3961a6b",
   "metadata": {},
   "outputs": [],
   "source": [
    "a4 = np.arange(12).reshape(3,4)\n",
    "a5 = np.arange(12,24).reshape(3,4)"
   ]
  },
  {
   "cell_type": "code",
   "execution_count": 140,
   "id": "ffa81073-7afb-427a-8e1a-f041dc20b4a9",
   "metadata": {},
   "outputs": [
    {
     "data": {
      "text/plain": [
       "array([[ 0,  1,  2,  3, 12, 13, 14, 15],\n",
       "       [ 4,  5,  6,  7, 16, 17, 18, 19],\n",
       "       [ 8,  9, 10, 11, 20, 21, 22, 23]])"
      ]
     },
     "execution_count": 140,
     "metadata": {},
     "output_type": "execute_result"
    }
   ],
   "source": [
    "np.hstack((a4,a5))"
   ]
  },
  {
   "cell_type": "markdown",
   "id": "c4ec6c7f-5bce-43a5-b14f-09b1c2520dbd",
   "metadata": {},
   "source": [
    "#### 2.Vertical Stacking (vstack)\n",
    "Combines arrays along rows (axis 0)."
   ]
  },
  {
   "cell_type": "code",
   "execution_count": 141,
   "id": "ee7305b9-4ec1-4f9e-9da1-b75cd0867014",
   "metadata": {},
   "outputs": [
    {
     "data": {
      "text/plain": [
       "array([[ 0,  1,  2,  3],\n",
       "       [ 4,  5,  6,  7],\n",
       "       [ 8,  9, 10, 11],\n",
       "       [12, 13, 14, 15],\n",
       "       [16, 17, 18, 19],\n",
       "       [20, 21, 22, 23]])"
      ]
     },
     "execution_count": 141,
     "metadata": {},
     "output_type": "execute_result"
    }
   ],
   "source": [
    "np.vstack((a4,a5))"
   ]
  },
  {
   "cell_type": "markdown",
   "id": "2ae1d073-8010-4a06-b9c3-04ece4537cbd",
   "metadata": {},
   "source": [
    "### Spliting"
   ]
  },
  {
   "cell_type": "markdown",
   "id": "8fa82a01-972a-4271-a8c9-9f4718eb8767",
   "metadata": {},
   "source": [
    "#### 1. Horizontal Splitting (hsplit)\n",
    "Splits an array along its columns (axis 1)."
   ]
  },
  {
   "cell_type": "code",
   "execution_count": 142,
   "id": "c9248d87-8a2f-4e1b-974e-5899509fc18e",
   "metadata": {},
   "outputs": [
    {
     "data": {
      "text/plain": [
       "[array([[0, 1],\n",
       "        [4, 5],\n",
       "        [8, 9]]),\n",
       " array([[ 2,  3],\n",
       "        [ 6,  7],\n",
       "        [10, 11]])]"
      ]
     },
     "execution_count": 142,
     "metadata": {},
     "output_type": "execute_result"
    }
   ],
   "source": [
    "np.hsplit(a4,2)"
   ]
  },
  {
   "cell_type": "markdown",
   "id": "ffb5d555-c70e-4f29-b847-3dad82617acf",
   "metadata": {},
   "source": [
    "### vertical spliting (vsplit)\n",
    "Splits an array along its rows (axis 0)."
   ]
  },
  {
   "cell_type": "code",
   "execution_count": 143,
   "id": "a2602742-068e-4e6d-a4cc-3ea3a3257574",
   "metadata": {},
   "outputs": [
    {
     "data": {
      "text/plain": [
       "[array([[0, 1, 2, 3]]), array([[4, 5, 6, 7]]), array([[ 8,  9, 10, 11]])]"
      ]
     },
     "execution_count": 143,
     "metadata": {},
     "output_type": "execute_result"
    }
   ],
   "source": [
    "np.vsplit(a4,3)"
   ]
  }
 ],
 "metadata": {
  "kernelspec": {
   "display_name": "Python 3 (ipykernel)",
   "language": "python",
   "name": "python3"
  },
  "language_info": {
   "codemirror_mode": {
    "name": "ipython",
    "version": 3
   },
   "file_extension": ".py",
   "mimetype": "text/x-python",
   "name": "python",
   "nbconvert_exporter": "python",
   "pygments_lexer": "ipython3",
   "version": "3.12.4"
  }
 },
 "nbformat": 4,
 "nbformat_minor": 5
}
