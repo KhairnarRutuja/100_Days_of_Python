{
 "cells": [
  {
   "cell_type": "markdown",
   "id": "bab65268",
   "metadata": {},
   "source": [
    "## Typecasting"
   ]
  },
  {
   "cell_type": "markdown",
   "id": "dd7ef458",
   "metadata": {},
   "source": [
    "Typecasting, also known as type conversion or type coercion, is the process of converting one data type into another. In programming, different data types are used to represent different kinds of data (e.g., integers, floating-point numbers, strings, etc.). Typecasting allows you to change the data type of a value from one type to another."
   ]
  },
  {
   "cell_type": "markdown",
   "id": "738c4f1e",
   "metadata": {},
   "source": [
    "Typecasting can be explicit or implicit:\n",
    "\n",
    "**1.Explicit Typecasting:-** In explicit typecasting, the programmer specifically converts a value from one type to another using built-in functions or explicit conversion syntax provided by the programming language."
   ]
  },
  {
   "cell_type": "code",
   "execution_count": 1,
   "id": "8a724a65",
   "metadata": {},
   "outputs": [
    {
     "name": "stdout",
     "output_type": "stream",
     "text": [
      "123\n"
     ]
    }
   ],
   "source": [
    "# Explicit typecasting from string to integer\n",
    "num_str = \"123\"\n",
    "num_int = int(num_str)\n",
    "print(num_int) "
   ]
  },
  {
   "cell_type": "markdown",
   "id": "23af7af4",
   "metadata": {},
   "source": [
    "**2.Implicit Typecasting:-** In implicit typecasting, also known as automatic type conversion, the programming language automatically converts the data type of a value during certain operations or expressions without requiring explicit conversion from the programmer."
   ]
  },
  {
   "cell_type": "code",
   "execution_count": 2,
   "id": "4a6d609c",
   "metadata": {},
   "outputs": [
    {
     "name": "stdout",
     "output_type": "stream",
     "text": [
      "123.5\n"
     ]
    }
   ],
   "source": [
    "# Implicit typecasting in arithmetic operation\n",
    "num_int = 123\n",
    "num_float = num_int + 0.5\n",
    "print(num_float)"
   ]
  },
  {
   "cell_type": "markdown",
   "id": "e851e96d",
   "metadata": {},
   "source": [
    "## Taking User Input in Python"
   ]
  },
  {
   "cell_type": "markdown",
   "id": "3f6b96a7",
   "metadata": {},
   "source": [
    "In Python we can take user input directly by using **input()** function. This input function gives a return value as string/character hence we have to pass thet into a variable"
   ]
  },
  {
   "cell_type": "code",
   "execution_count": 3,
   "id": "2383e39b",
   "metadata": {},
   "outputs": [
    {
     "name": "stdout",
     "output_type": "stream",
     "text": [
      "4\n",
      "4\n"
     ]
    }
   ],
   "source": [
    "a = input()\n",
    "print(a)"
   ]
  },
  {
   "cell_type": "code",
   "execution_count": 4,
   "id": "9bed8921",
   "metadata": {},
   "outputs": [
    {
     "name": "stdout",
     "output_type": "stream",
     "text": [
      "Enter your name: 5\n",
      "5\n"
     ]
    }
   ],
   "source": [
    "b = input(\"Enter your name: \")\n",
    "print(b)"
   ]
  },
  {
   "cell_type": "code",
   "execution_count": 5,
   "id": "2f84e506",
   "metadata": {},
   "outputs": [
    {
     "name": "stdout",
     "output_type": "stream",
     "text": [
      "Enter first Number: 6\n",
      "Enter Second Number: 4\n",
      "10\n"
     ]
    }
   ],
   "source": [
    "x = int(input(\"Enter first Number: \"))\n",
    "y = int(input(\"Enter Second Number: \"))\n",
    "print(x + y)"
   ]
  },
  {
   "cell_type": "code",
   "execution_count": 6,
   "id": "df9c0ffd",
   "metadata": {},
   "outputs": [
    {
     "name": "stdout",
     "output_type": "stream",
     "text": [
      "Enter the length of reactangle: 7\n",
      "Enter the breath of reactangle: 8\n",
      "Area of Reactagle : 56.0\n"
     ]
    }
   ],
   "source": [
    "# Area of Reactangle\n",
    "L = float(input(\"Enter the length of reactangle: \"))\n",
    "B = float(input(\"Enter the breath of reactangle: \"))\n",
    "Area_react = L * B\n",
    "print(\"Area of Reactagle :\",Area_react)"
   ]
  },
  {
   "cell_type": "code",
   "execution_count": 7,
   "id": "9a533167",
   "metadata": {},
   "outputs": [
    {
     "name": "stdout",
     "output_type": "stream",
     "text": [
      "Enter the radius of circle: 4\n",
      "Area of circle is:  50.26548245743669\n"
     ]
    }
   ],
   "source": [
    "# Area of Circle\n",
    "import math\n",
    "radius =float(input(\"Enter the radius of circle: \"))\n",
    "Area_circle = math.pi*(radius**2)\n",
    "print(\"Area of circle is: \",Area_circle)"
   ]
  },
  {
   "cell_type": "code",
   "execution_count": 8,
   "id": "b114294f",
   "metadata": {},
   "outputs": [
    {
     "name": "stdout",
     "output_type": "stream",
     "text": [
      "Enter the height of triangle: 4\n",
      "Enter the Breath of triangle: 8\n",
      "Area of triangle is: 16.0\n"
     ]
    }
   ],
   "source": [
    "# Area of triangle\n",
    "H = float(input(\"Enter the height of triangle: \"))\n",
    "B = float(input(\"Enter the Breath of triangle: \"))\n",
    "area_triangle = (1/2)*B*H\n",
    "print(\"Area of triangle is:\",area_triangle)"
   ]
  }
 ],
 "metadata": {
  "kernelspec": {
   "display_name": "Python 3 (ipykernel)",
   "language": "python",
   "name": "python3"
  },
  "language_info": {
   "codemirror_mode": {
    "name": "ipython",
    "version": 3
   },
   "file_extension": ".py",
   "mimetype": "text/x-python",
   "name": "python",
   "nbconvert_exporter": "python",
   "pygments_lexer": "ipython3",
   "version": "3.9.13"
  }
 },
 "nbformat": 4,
 "nbformat_minor": 5
}
