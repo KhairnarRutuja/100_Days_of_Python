{
 "cells": [
  {
   "cell_type": "markdown",
   "id": "de4c2463-3e92-4002-81ed-f0391da45b28",
   "metadata": {},
   "source": [
    "# Dictionary {Key:Value}"
   ]
  },
  {
   "cell_type": "markdown",
   "id": "597f64e5-0284-4815-b800-890907dcd01b",
   "metadata": {},
   "source": [
    "In Python, a dictionary is an unordered collection of items. Each item is stored as a key-value pair, where the key must be unique, and the value can be of any data type. Dictionaries are useful when you need a fast lookup for values based on keys.\n",
    "\n",
    "characterstics:\n",
    "* Mutable\n",
    "* Indexing has no meaning\n",
    "* keys can't be duplicated\n",
    "* key can't be mutable items"
   ]
  },
  {
   "cell_type": "markdown",
   "id": "d4e050c8-db9f-4ec2-8b70-9207d43dcecd",
   "metadata": {},
   "source": [
    "### Create Dictionary"
   ]
  },
  {
   "cell_type": "code",
   "execution_count": 1,
   "id": "694912c8-4179-4677-a621-8caa858f39a6",
   "metadata": {},
   "outputs": [
    {
     "name": "stdout",
     "output_type": "stream",
     "text": [
      "{}\n",
      "<class 'dict'>\n"
     ]
    }
   ],
   "source": [
    "# Create empty dictionary\n",
    "d1 = {}\n",
    "print(d1)\n",
    "print(type(d1))"
   ]
  },
  {
   "cell_type": "code",
   "execution_count": 2,
   "id": "c83ab22c-adeb-4e9f-bc67-53a22bed3a4f",
   "metadata": {},
   "outputs": [
    {
     "name": "stdout",
     "output_type": "stream",
     "text": [
      "{'Name': 'Rutuja', 'gender': 'female'}\n"
     ]
    }
   ],
   "source": [
    "# Homogeneous Dictionary\n",
    "d2 = {'Name':'Rutuja' , 'gender':'female'}\n",
    "print(d2)"
   ]
  },
  {
   "cell_type": "code",
   "execution_count": 3,
   "id": "777626d8-2ede-42a0-8afb-14272365d6a5",
   "metadata": {},
   "outputs": [
    {
     "name": "stdout",
     "output_type": "stream",
     "text": [
      "{(1, 2, 3): 1, 'Hello': 'Word'}\n"
     ]
    }
   ],
   "source": [
    "# Hetrogeneous Dictionary\n",
    "d3 = {(1,2,3):1, \"Hello\":\"Word\"}\n",
    "print(d3)"
   ]
  },
  {
   "cell_type": "code",
   "execution_count": 4,
   "id": "fd2ecd64-dd4a-4c1d-b0af-cc4158a6edb8",
   "metadata": {},
   "outputs": [
    {
     "name": "stdout",
     "output_type": "stream",
     "text": [
      "{'Name': 'Rutuja', 'college': 'bit', 'sem': 4, 'subject': {'dsa': 50, 'math': 67, 'english': 34}}\n"
     ]
    }
   ],
   "source": [
    "# 2D Dictionary\n",
    "d4 = {\n",
    "    'Name':\"Rutuja\",\n",
    "    'college':\"bit\",\n",
    "    'sem':4,\n",
    "    'subject':{\n",
    "        'dsa':50,\n",
    "        'math':67,\n",
    "        'english':34\n",
    "        \n",
    "    }\n",
    "}\n",
    "print(d4)"
   ]
  },
  {
   "cell_type": "code",
   "execution_count": 5,
   "id": "4a723847-e7c8-4dfd-90f5-3a375308e73a",
   "metadata": {},
   "outputs": [
    {
     "name": "stdout",
     "output_type": "stream",
     "text": [
      "{1: 1, 2: 2, 3: 3}\n"
     ]
    }
   ],
   "source": [
    "# using typeconversion\n",
    "d5 = dict([(1,1),(2,2),(3,3)])\n",
    "print(d5)"
   ]
  },
  {
   "cell_type": "code",
   "execution_count": 6,
   "id": "7904c475-9de7-443e-af64-ae64abf033dc",
   "metadata": {},
   "outputs": [
    {
     "name": "stdout",
     "output_type": "stream",
     "text": [
      "{'Name': 'Khairnar'}\n"
     ]
    }
   ],
   "source": [
    "# Duplicate keys\n",
    "d6 = {'Name':'Rutuja','Name':'Khairnar'}\n",
    "print(d6)"
   ]
  },
  {
   "cell_type": "code",
   "execution_count": 7,
   "id": "a2400bd3-7b70-4243-8474-15c8e4c9669b",
   "metadata": {},
   "outputs": [
    {
     "ename": "TypeError",
     "evalue": "unhashable type: 'list'",
     "output_type": "error",
     "traceback": [
      "\u001b[1;31m---------------------------------------------------------------------------\u001b[0m",
      "\u001b[1;31mTypeError\u001b[0m                                 Traceback (most recent call last)",
      "Cell \u001b[1;32mIn[7], line 2\u001b[0m\n\u001b[0;32m      1\u001b[0m \u001b[38;5;66;03m# mutable items as keys not allow\u001b[39;00m\n\u001b[1;32m----> 2\u001b[0m d7 \u001b[38;5;241m=\u001b[39m {\u001b[38;5;124m'\u001b[39m\u001b[38;5;124mName\u001b[39m\u001b[38;5;124m'\u001b[39m:\u001b[38;5;124m'\u001b[39m\u001b[38;5;124mRutuja\u001b[39m\u001b[38;5;124m'\u001b[39m,[\u001b[38;5;241m1\u001b[39m,\u001b[38;5;241m2\u001b[39m,\u001b[38;5;241m3\u001b[39m]:\u001b[38;5;241m2\u001b[39m}\n\u001b[0;32m      3\u001b[0m \u001b[38;5;28mprint\u001b[39m(d7)\n",
      "\u001b[1;31mTypeError\u001b[0m: unhashable type: 'list'"
     ]
    }
   ],
   "source": [
    "# mutable items as keys not allow\n",
    "d7 = {'Name':'Rutuja',[1,2,3]:2}\n",
    "print(d7)"
   ]
  },
  {
   "cell_type": "code",
   "execution_count": null,
   "id": "e6a3f8ff-249e-428c-abae-bdaa4d3248ae",
   "metadata": {},
   "outputs": [],
   "source": [
    "# immutable items as keys are allow\n",
    "d8 = {'Name':'Rutuja',(1,2,3):2}\n",
    "print(d8)"
   ]
  },
  {
   "cell_type": "markdown",
   "id": "15841fc6-b650-44f3-9a6a-848ae3c235a8",
   "metadata": {},
   "source": [
    "### Acessing items in dictionary"
   ]
  },
  {
   "cell_type": "code",
   "execution_count": 8,
   "id": "04aff5b5-30cc-489b-8f86-2e8bdbf8c39d",
   "metadata": {},
   "outputs": [
    {
     "data": {
      "text/plain": [
       "25"
      ]
     },
     "execution_count": 8,
     "metadata": {},
     "output_type": "execute_result"
    }
   ],
   "source": [
    "my_dict = {'Name':'Rutuja','age':25}\n",
    "my_dict['age']"
   ]
  },
  {
   "cell_type": "markdown",
   "id": "bce80fc0-2e51-4ec2-b17c-c21c400a43c5",
   "metadata": {},
   "source": [
    "### get()"
   ]
  },
  {
   "cell_type": "code",
   "execution_count": 9,
   "id": "aa518b36-8915-4fee-aec9-2d699c2c813b",
   "metadata": {},
   "outputs": [
    {
     "name": "stdout",
     "output_type": "stream",
     "text": [
      "Rutuja\n"
     ]
    }
   ],
   "source": [
    "print(my_dict.get('Name'))"
   ]
  },
  {
   "cell_type": "code",
   "execution_count": 10,
   "id": "5fd055dc-f539-471a-a451-f0bd57c063cb",
   "metadata": {},
   "outputs": [
    {
     "data": {
      "text/plain": [
       "50"
      ]
     },
     "execution_count": 10,
     "metadata": {},
     "output_type": "execute_result"
    }
   ],
   "source": [
    "d4['subject']['dsa']"
   ]
  },
  {
   "cell_type": "markdown",
   "id": "dbdf8e6a-415c-4ab9-8686-633685df91bf",
   "metadata": {},
   "source": [
    "### Adding key-value pairs"
   ]
  },
  {
   "cell_type": "code",
   "execution_count": 12,
   "id": "271a127b-7677-45d6-8ad7-fbdd54506577",
   "metadata": {},
   "outputs": [
    {
     "name": "stdout",
     "output_type": "stream",
     "text": [
      "{'Name': 'Rutuja', 'age': 25, 'gender': 'female'}\n"
     ]
    }
   ],
   "source": [
    "my_dict['gender'] = 'female'\n",
    "print(my_dict)"
   ]
  },
  {
   "cell_type": "code",
   "execution_count": 13,
   "id": "443012da-f95b-4925-8c32-9ef70d59c8f7",
   "metadata": {},
   "outputs": [
    {
     "name": "stdout",
     "output_type": "stream",
     "text": [
      "{'Name': 'Rutuja', 'age': 25, 'gender': 'female', 'weight': 40}\n"
     ]
    }
   ],
   "source": [
    "my_dict['weight'] = 40\n",
    "print(my_dict)"
   ]
  },
  {
   "cell_type": "code",
   "execution_count": 14,
   "id": "32f09298-724c-4884-897a-e664a66de7a9",
   "metadata": {},
   "outputs": [],
   "source": [
    "my_dict[3]=3"
   ]
  },
  {
   "cell_type": "code",
   "execution_count": 17,
   "id": "b774db73-70a6-40f2-b891-6e0f2d6e8ec8",
   "metadata": {},
   "outputs": [
    {
     "name": "stdout",
     "output_type": "stream",
     "text": [
      "{'Name': 'Rutuja', 'college': 'bit', 'sem': 4, 'subject': {'dsa': 50, 'math': 67, 'english': 34, 'history': 90}}\n"
     ]
    }
   ],
   "source": [
    "d4['subject'][\"history\"] = 90\n",
    "print(d4)"
   ]
  },
  {
   "cell_type": "markdown",
   "id": "454d7053-d1ba-403d-a13f-48e99cc51011",
   "metadata": {},
   "source": [
    "### Remove key-value pairs"
   ]
  },
  {
   "cell_type": "code",
   "execution_count": 18,
   "id": "baae0776-6d6a-4260-b5a0-042ca37c99fe",
   "metadata": {},
   "outputs": [
    {
     "data": {
      "text/plain": [
       "{'Name': 'Rutuja', 'age': 25, 'gender': 'female', 'weight': 40, 3: 3}"
      ]
     },
     "execution_count": 18,
     "metadata": {},
     "output_type": "execute_result"
    }
   ],
   "source": [
    "my_dict"
   ]
  },
  {
   "cell_type": "markdown",
   "id": "70322f72-d835-4ea3-bf66-7a60221578ed",
   "metadata": {},
   "source": [
    "### pop(key)\n",
    "Removes a specific key-value pair using the key and returns the value associated with the key."
   ]
  },
  {
   "cell_type": "code",
   "execution_count": 19,
   "id": "5e119681-6f7b-41b0-b042-00b8a0dc5b3e",
   "metadata": {},
   "outputs": [
    {
     "name": "stdout",
     "output_type": "stream",
     "text": [
      "{'Name': 'Rutuja', 'age': 25, 'gender': 'female', 'weight': 40}\n"
     ]
    }
   ],
   "source": [
    "my_dict.pop(3)\n",
    "print(my_dict)"
   ]
  },
  {
   "cell_type": "markdown",
   "id": "654ec4c5-23fb-4cf3-8ea1-720c0a23d92b",
   "metadata": {},
   "source": [
    "### popitem()\n",
    "Removes and returns the last inserted key-value pair as a tuple in Python 3.7+ (dictionaries maintain insertion order starting from Python 3.7)."
   ]
  },
  {
   "cell_type": "code",
   "execution_count": 20,
   "id": "a83c28b7-ba7d-41a7-8794-56bdbff1f075",
   "metadata": {},
   "outputs": [
    {
     "name": "stdout",
     "output_type": "stream",
     "text": [
      "{'Name': 'Rutuja', 'age': 25, 'gender': 'female'}\n"
     ]
    }
   ],
   "source": [
    "my_dict.popitem()\n",
    "print(my_dict)"
   ]
  },
  {
   "cell_type": "markdown",
   "id": "0f1a3441-bcbf-43e7-b52f-9febb64057c5",
   "metadata": {},
   "source": [
    "### del\n",
    "Deletes a specific key-value pair using the key or deletes the entire dictionary."
   ]
  },
  {
   "cell_type": "code",
   "execution_count": 21,
   "id": "d15d01fe-369f-4598-ba8f-9a05612352e1",
   "metadata": {},
   "outputs": [
    {
     "name": "stdout",
     "output_type": "stream",
     "text": [
      "{'age': 25, 'gender': 'female'}\n"
     ]
    }
   ],
   "source": [
    "del my_dict[\"Name\"]\n",
    "print(my_dict)"
   ]
  },
  {
   "cell_type": "code",
   "execution_count": 22,
   "id": "33c060c0-1726-40af-a17b-ad5c11c92d38",
   "metadata": {},
   "outputs": [
    {
     "name": "stdout",
     "output_type": "stream",
     "text": [
      "{'Name': 'Rutuja', 'college': 'bit', 'sem': 4, 'subject': {'dsa': 50, 'math': 67, 'english': 34}}\n"
     ]
    }
   ],
   "source": [
    "del d4[\"subject\"][\"history\"]\n",
    "print(d4)"
   ]
  },
  {
   "cell_type": "markdown",
   "id": "04bdfb3e-4526-4ee5-99b4-d92e9126f83e",
   "metadata": {},
   "source": [
    "### clear()\n",
    "Removes all items from the dictionary, leaving it empty."
   ]
  },
  {
   "cell_type": "code",
   "execution_count": 23,
   "id": "fa08339e-82a5-4872-aecd-1572e344d0f0",
   "metadata": {},
   "outputs": [
    {
     "name": "stdout",
     "output_type": "stream",
     "text": [
      "{}\n"
     ]
    }
   ],
   "source": [
    "my_dict.clear()\n",
    "print(my_dict)"
   ]
  },
  {
   "cell_type": "markdown",
   "id": "6ffe42f4-6f71-4d96-abca-a842ca11afc4",
   "metadata": {},
   "source": [
    "### Editing Key-value pairs"
   ]
  },
  {
   "cell_type": "code",
   "execution_count": 24,
   "id": "9015f230-6b9e-485f-a1c9-f3159178ffb1",
   "metadata": {},
   "outputs": [
    {
     "name": "stdout",
     "output_type": "stream",
     "text": [
      "{'Name': 'Rutuja', 'college': 'bit', 'sem': 5, 'subject': {'dsa': 50, 'math': 67, 'english': 34}}\n"
     ]
    }
   ],
   "source": [
    "d4['sem'] = 5\n",
    "print(d4)"
   ]
  },
  {
   "cell_type": "code",
   "execution_count": 25,
   "id": "f5d71af6-a65e-407f-b040-1ef1808738ac",
   "metadata": {},
   "outputs": [
    {
     "name": "stdout",
     "output_type": "stream",
     "text": [
      "{'Name': 'Rutuja', 'college': 'bit', 'sem': 5, 'subject': {'dsa': 50, 'math': 67, 'english': 34}}\n"
     ]
    }
   ],
   "source": [
    "d4['subject']['dsa'] = 50\n",
    "print(d4)"
   ]
  },
  {
   "cell_type": "markdown",
   "id": "6639e8bf-1b53-40b2-a689-a04854696f2e",
   "metadata": {},
   "source": [
    "### Dictionary Operations"
   ]
  },
  {
   "cell_type": "code",
   "execution_count": 28,
   "id": "63dfb7c0-b76d-416c-9bd8-93b4937d5c7f",
   "metadata": {},
   "outputs": [
    {
     "name": "stdout",
     "output_type": "stream",
     "text": [
      "{'Name': 'Rutuja', 'college': 'bit', 'sem': 5, 'subject': {'dsa': 50, 'math': 67, 'english': 34}}\n"
     ]
    }
   ],
   "source": [
    "# Membership\n",
    "print(d4)"
   ]
  },
  {
   "cell_type": "code",
   "execution_count": 29,
   "id": "d174d021-330f-419c-9d3b-5f9a803f9d8b",
   "metadata": {},
   "outputs": [
    {
     "data": {
      "text/plain": [
       "True"
      ]
     },
     "execution_count": 29,
     "metadata": {},
     "output_type": "execute_result"
    }
   ],
   "source": [
    "'Name' in d4"
   ]
  },
  {
   "cell_type": "code",
   "execution_count": 30,
   "id": "18504317-3a02-47c1-9edb-027e8261838f",
   "metadata": {},
   "outputs": [
    {
     "name": "stdout",
     "output_type": "stream",
     "text": [
      "Name\n",
      "college\n",
      "sem\n",
      "subject\n"
     ]
    }
   ],
   "source": [
    "for i in d4:\n",
    "    print(i)"
   ]
  },
  {
   "cell_type": "code",
   "execution_count": 31,
   "id": "3e4b8274-31b7-4f8a-a2bc-b2bfee71bfa1",
   "metadata": {},
   "outputs": [
    {
     "name": "stdout",
     "output_type": "stream",
     "text": [
      "Name Rutuja\n",
      "college bit\n",
      "sem 5\n",
      "subject {'dsa': 50, 'math': 67, 'english': 34}\n"
     ]
    }
   ],
   "source": [
    "for i in d4:\n",
    "    print(i,d4[i])"
   ]
  },
  {
   "cell_type": "markdown",
   "id": "69ef78f0-0b67-4863-aa1c-2863c0955b02",
   "metadata": {},
   "source": [
    "### Dictionary Functions"
   ]
  },
  {
   "cell_type": "code",
   "execution_count": 32,
   "id": "bb723edb-aacf-423a-90c4-cdf3609d235e",
   "metadata": {},
   "outputs": [
    {
     "data": {
      "text/plain": [
       "4"
      ]
     },
     "execution_count": 32,
     "metadata": {},
     "output_type": "execute_result"
    }
   ],
   "source": [
    "len(d4)"
   ]
  },
  {
   "cell_type": "code",
   "execution_count": 33,
   "id": "3faa3031-187b-4cce-a29a-a51343121bde",
   "metadata": {},
   "outputs": [
    {
     "data": {
      "text/plain": [
       "'subject'"
      ]
     },
     "execution_count": 33,
     "metadata": {},
     "output_type": "execute_result"
    }
   ],
   "source": [
    "max(d4)"
   ]
  },
  {
   "cell_type": "code",
   "execution_count": 34,
   "id": "2f596b60-20c5-4d5b-9f90-d48b0abcc0a6",
   "metadata": {},
   "outputs": [
    {
     "data": {
      "text/plain": [
       "'Name'"
      ]
     },
     "execution_count": 34,
     "metadata": {},
     "output_type": "execute_result"
    }
   ],
   "source": [
    "min(d4)"
   ]
  },
  {
   "cell_type": "code",
   "execution_count": 35,
   "id": "b4c980c5-5d4e-4d67-ad62-77995ec207ce",
   "metadata": {},
   "outputs": [
    {
     "data": {
      "text/plain": [
       "['Name', 'college', 'sem', 'subject']"
      ]
     },
     "execution_count": 35,
     "metadata": {},
     "output_type": "execute_result"
    }
   ],
   "source": [
    "sorted(d4)"
   ]
  },
  {
   "cell_type": "code",
   "execution_count": 38,
   "id": "88c4e672-98fd-45bb-a7c6-1cfffa26f15c",
   "metadata": {},
   "outputs": [
    {
     "data": {
      "text/plain": [
       "['subject', 'sem', 'college', 'Name']"
      ]
     },
     "execution_count": 38,
     "metadata": {},
     "output_type": "execute_result"
    }
   ],
   "source": [
    "sorted(d4,reverse=True)"
   ]
  },
  {
   "cell_type": "markdown",
   "id": "3973d9ea-d303-403d-ad7a-9fc051bce6e5",
   "metadata": {},
   "source": [
    "### items()\n",
    "\n",
    "Returns a view object of key-value pairs as tuples."
   ]
  },
  {
   "cell_type": "code",
   "execution_count": 39,
   "id": "cbd6461e-5658-48e5-a826-59dcff711ed2",
   "metadata": {},
   "outputs": [
    {
     "name": "stdout",
     "output_type": "stream",
     "text": [
      "dict_items([('Name', 'Rutuja'), ('college', 'bit'), ('sem', 5), ('subject', {'dsa': 50, 'math': 67, 'english': 34})])\n"
     ]
    }
   ],
   "source": [
    "print(d4.items())"
   ]
  },
  {
   "cell_type": "markdown",
   "id": "c65b84fd-b2de-4161-acea-6239e8bf2ce4",
   "metadata": {},
   "source": [
    "### keys()\n",
    "\n",
    "Returns a view object of all the keys in the dictionary."
   ]
  },
  {
   "cell_type": "code",
   "execution_count": 40,
   "id": "e5098035-3bf7-42e1-9bb4-7784deba63d8",
   "metadata": {},
   "outputs": [
    {
     "name": "stdout",
     "output_type": "stream",
     "text": [
      "dict_keys(['Name', 'college', 'sem', 'subject'])\n"
     ]
    }
   ],
   "source": [
    "print(d4.keys())"
   ]
  },
  {
   "cell_type": "markdown",
   "id": "16ff8d1f-ce22-4aee-aca7-7cedbdd8151f",
   "metadata": {},
   "source": [
    "### values()\n",
    "\n",
    "Returns a view object of all the values in the dictionary."
   ]
  },
  {
   "cell_type": "code",
   "execution_count": 42,
   "id": "7cdb6ba1-4aa6-4d57-a51c-0726c2d90a76",
   "metadata": {},
   "outputs": [
    {
     "name": "stdout",
     "output_type": "stream",
     "text": [
      "dict_values(['Rutuja', 'bit', 5, {'dsa': 50, 'math': 67, 'english': 34}])\n"
     ]
    }
   ],
   "source": [
    "print(d4.values())"
   ]
  },
  {
   "cell_type": "markdown",
   "id": "f60794f9-b48d-49d3-988b-40b70ba21553",
   "metadata": {},
   "source": [
    "### Update()\n",
    "\n",
    "Updates the dictionary with key-value pairs from another dictionary or iterable."
   ]
  },
  {
   "cell_type": "code",
   "execution_count": 46,
   "id": "a7f24ae5-6eb0-499c-b3e1-146985d6bfec",
   "metadata": {},
   "outputs": [
    {
     "name": "stdout",
     "output_type": "stream",
     "text": [
      "{1: 2, 3: 4, 4: 7, 6: 8}\n"
     ]
    }
   ],
   "source": [
    "d1 = {1:2,3:4,4:5}\n",
    "d2 = {4:7,6:8}\n",
    "d1.update(d2)\n",
    "print(d1)"
   ]
  },
  {
   "cell_type": "markdown",
   "id": "39b34057-3410-4374-a0ef-ec07dfb80414",
   "metadata": {},
   "source": [
    "### Dictionary Comprehension"
   ]
  },
  {
   "cell_type": "code",
   "execution_count": 48,
   "id": "e4619bb1-0a29-4047-92d1-a10dcf6555c0",
   "metadata": {},
   "outputs": [
    {
     "name": "stdout",
     "output_type": "stream",
     "text": [
      "{1: 1, 2: 4, 3: 9, 4: 16, 5: 25, 6: 36, 7: 49, 8: 64, 9: 81, 10: 100}\n"
     ]
    }
   ],
   "source": [
    "# print 1st 10 numbers and their square\n",
    "d1 = {i:i**2 for i in range(1,11)}\n",
    "print(d1)"
   ]
  },
  {
   "cell_type": "code",
   "execution_count": 52,
   "id": "97582013-19f3-46e5-a4b8-6b829908e899",
   "metadata": {},
   "outputs": [
    {
     "data": {
      "text/plain": [
       "{'delhi': 620.0, 'mumbai': 1240.0, 'banglore': 1860.0}"
      ]
     },
     "execution_count": 52,
     "metadata": {},
     "output_type": "execute_result"
    }
   ],
   "source": [
    "# using existing distance\n",
    "distance = {'delhi':1000,'mumbai':2000,'banglore':3000}\n",
    "d2 = {key:value*0.62 for (key,value) in distance.items()}\n",
    "d2"
   ]
  },
  {
   "cell_type": "code",
   "execution_count": 62,
   "id": "37136dc2-e9e1-4b59-86f4-5246cb72e55e",
   "metadata": {},
   "outputs": [
    {
     "data": {
      "text/plain": [
       "{'Sunday': 29.9,\n",
       " 'Monday': 29.9,\n",
       " 'Tuesday': 29.9,\n",
       " 'Wednesday': 29.9,\n",
       " 'Thursday': 29.9,\n",
       " 'Friday': 29.9,\n",
       " 'Saturday': 29.9}"
      ]
     },
     "execution_count": 62,
     "metadata": {},
     "output_type": "execute_result"
    }
   ],
   "source": [
    "days = ['Sunday','Monday','Tuesday','Wednesday','Thursday','Friday','Saturday']\n",
    "temp_c = [30.5,32.6,31.8,33.4,29.8,30.2,29.9]\n",
    "d3 = {key:values for key in days for values in temp_c}\n",
    "d3"
   ]
  },
  {
   "cell_type": "code",
   "execution_count": 64,
   "id": "8fe1e7f4-3b50-4877-bbbb-aa37571577ae",
   "metadata": {},
   "outputs": [
    {
     "data": {
      "text/plain": [
       "{'Sunday': 30.5,\n",
       " 'Monday': 32.6,\n",
       " 'Tuesday': 31.8,\n",
       " 'Wednesday': 33.4,\n",
       " 'Thursday': 29.8,\n",
       " 'Friday': 30.2,\n",
       " 'Saturday': 29.9}"
      ]
     },
     "execution_count": 64,
     "metadata": {},
     "output_type": "execute_result"
    }
   ],
   "source": [
    "# using zip\n",
    "days = ['Sunday','Monday','Tuesday','Wednesday','Thursday','Friday','Saturday']\n",
    "temp_c = [30.5,32.6,31.8,33.4,29.8,30.2,29.9]\n",
    "d4 = {key:value for (key,value) in zip(days,temp_c)}\n",
    "d4"
   ]
  },
  {
   "cell_type": "code",
   "execution_count": 67,
   "id": "6c4dd56f-519b-4f53-9362-97245d5887e8",
   "metadata": {},
   "outputs": [
    {
     "data": {
      "text/plain": [
       "{'phone': 10, 'charger': 32}"
      ]
     },
     "execution_count": 67,
     "metadata": {},
     "output_type": "execute_result"
    }
   ],
   "source": [
    "products = {'phone':10,'laptop':0,'charger':32,'tablet':0}\n",
    "\n",
    "d5 = {key:value for (key,value) in products.items() if value>0}\n",
    "d5"
   ]
  },
  {
   "cell_type": "code",
   "execution_count": 70,
   "id": "276a0cd7-8d73-42b8-9214-f79dd8b091fa",
   "metadata": {},
   "outputs": [
    {
     "data": {
      "text/plain": [
       "{2: {1: 2, 2: 4, 3: 6, 4: 8, 5: 10, 6: 12, 7: 14, 8: 16, 9: 18, 10: 20},\n",
       " 3: {1: 3, 2: 6, 3: 9, 4: 12, 5: 15, 6: 18, 7: 21, 8: 24, 9: 27, 10: 30},\n",
       " 4: {1: 4, 2: 8, 3: 12, 4: 16, 5: 20, 6: 24, 7: 28, 8: 32, 9: 36, 10: 40}}"
      ]
     },
     "execution_count": 70,
     "metadata": {},
     "output_type": "execute_result"
    }
   ],
   "source": [
    "table = {i:{j:i*j for j in range(1,11)} for i in range(2,5)}\n",
    "table"
   ]
  },
  {
   "cell_type": "code",
   "execution_count": 72,
   "id": "a5269724-17ed-4f0f-b6f4-80a84f4c2d4c",
   "metadata": {},
   "outputs": [
    {
     "data": {
      "text/plain": [
       "{5, 10, 15, 20, 25, 30, 35, 40, 45, 50}"
      ]
     },
     "execution_count": 72,
     "metadata": {},
     "output_type": "execute_result"
    }
   ],
   "source": [
    "num = 5\n",
    "d6 = {i * num for i in range(1,11)}\n",
    "d6"
   ]
  },
  {
   "cell_type": "code",
   "execution_count": null,
   "id": "82ccd7a2-3d8a-4fb7-a81b-5c7e9563710b",
   "metadata": {},
   "outputs": [],
   "source": []
  }
 ],
 "metadata": {
  "kernelspec": {
   "display_name": "Python 3 (ipykernel)",
   "language": "python",
   "name": "python3"
  },
  "language_info": {
   "codemirror_mode": {
    "name": "ipython",
    "version": 3
   },
   "file_extension": ".py",
   "mimetype": "text/x-python",
   "name": "python",
   "nbconvert_exporter": "python",
   "pygments_lexer": "ipython3",
   "version": "3.12.4"
  }
 },
 "nbformat": 4,
 "nbformat_minor": 5
}
