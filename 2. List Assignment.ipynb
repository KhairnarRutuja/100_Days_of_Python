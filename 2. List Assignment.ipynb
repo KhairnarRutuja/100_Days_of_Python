{
 "cells": [
  {
   "cell_type": "markdown",
   "id": "dc618d80-6be0-4c18-906c-3db003c674df",
   "metadata": {},
   "source": [
    "### 1. Python Program to find the largest element in the list"
   ]
  },
  {
   "cell_type": "code",
   "execution_count": 1,
   "id": "de632041-ea45-4782-a9bc-432f91ea6919",
   "metadata": {},
   "outputs": [
    {
     "name": "stdout",
     "output_type": "stream",
     "text": [
      "1000\n"
     ]
    }
   ],
   "source": [
    "L1 = [56,79,46,23,10,89,1000]\n",
    "max_num = max(L1)\n",
    "print(max_num)"
   ]
  },
  {
   "cell_type": "code",
   "execution_count": 10,
   "id": "6afd6a8b-1a58-4115-9d54-7029d0edbda4",
   "metadata": {},
   "outputs": [],
   "source": [
    "def max_element(L1):\n",
    "    max_num = L1[0]\n",
    "    for i in L1:\n",
    "        if i > max_num:\n",
    "            max_num = i\n",
    "    print(max_num)"
   ]
  },
  {
   "cell_type": "code",
   "execution_count": 11,
   "id": "85e1651c-c5b2-410a-bd07-87fe7df7eba9",
   "metadata": {},
   "outputs": [
    {
     "name": "stdout",
     "output_type": "stream",
     "text": [
      "1000\n"
     ]
    }
   ],
   "source": [
    "max_element([56,79,46,23,10,89,1000])"
   ]
  },
  {
   "cell_type": "markdown",
   "id": "7f853b2b-0ba9-4bad-95ae-99b70d281da5",
   "metadata": {},
   "source": [
    "### 3. Python program to interchange first and last elements in a list."
   ]
  },
  {
   "cell_type": "code",
   "execution_count": 14,
   "id": "930228fa-2840-48b6-b774-21de288b9c66",
   "metadata": {},
   "outputs": [],
   "source": [
    "def interchange(L2):\n",
    "    temp = L2[-1]\n",
    "    L2[-1] = L2[0]\n",
    "    L2[0] = temp\n",
    "    return L2"
   ]
  },
  {
   "cell_type": "code",
   "execution_count": 15,
   "id": "798f312b-b937-4fb6-86ee-d6245744e7c0",
   "metadata": {},
   "outputs": [
    {
     "data": {
      "text/plain": [
       "[5, 2, 3, 4, 1]"
      ]
     },
     "execution_count": 15,
     "metadata": {},
     "output_type": "execute_result"
    }
   ],
   "source": [
    "interchange([1,2,3,4,5])"
   ]
  },
  {
   "cell_type": "markdown",
   "id": "4a238880-7341-4600-90ee-14a84aa5808f",
   "metadata": {},
   "source": [
    "### 4. Python program to swap two elements in a list"
   ]
  },
  {
   "cell_type": "code",
   "execution_count": 21,
   "id": "2e14690c-7cb6-4439-b43f-c1924cc664d3",
   "metadata": {},
   "outputs": [],
   "source": [
    "def swap_elements(L3):\n",
    "    swap_list = [L3[-1]] + L3[1:-1] + [L3[0]]\n",
    "    return swap_list"
   ]
  },
  {
   "cell_type": "code",
   "execution_count": 22,
   "id": "e81b9e3b-27e6-4315-baa4-c296278c2f46",
   "metadata": {},
   "outputs": [
    {
     "data": {
      "text/plain": [
       "[2, 9, 7, 6, 5]"
      ]
     },
     "execution_count": 22,
     "metadata": {},
     "output_type": "execute_result"
    }
   ],
   "source": [
    "swap_elements([5,9,7,6,2])"
   ]
  },
  {
   "cell_type": "markdown",
   "id": "d7a4b4b6-9b3b-4478-9f8a-ea9e8fb8e099",
   "metadata": {},
   "source": [
    "### 5. Python program to Reverse a List"
   ]
  },
  {
   "cell_type": "code",
   "execution_count": 30,
   "id": "9e77ce29-09fb-4c81-a523-789d54fb5c3e",
   "metadata": {},
   "outputs": [],
   "source": [
    "def reverse_list(L4):\n",
    "    rev_list = list(reversed(L4))\n",
    "    return rev_list"
   ]
  },
  {
   "cell_type": "code",
   "execution_count": 31,
   "id": "5836d553-284c-4875-a6b8-7f41ae748fa7",
   "metadata": {},
   "outputs": [
    {
     "data": {
      "text/plain": [
       "[5, 4, 3, 2, 1]"
      ]
     },
     "execution_count": 31,
     "metadata": {},
     "output_type": "execute_result"
    }
   ],
   "source": [
    "reverse_list([1,2,3,4,5])"
   ]
  },
  {
   "cell_type": "code",
   "execution_count": 32,
   "id": "dfd6768f-b865-4b3b-bd86-8bb61539f17a",
   "metadata": {},
   "outputs": [
    {
     "name": "stdout",
     "output_type": "stream",
     "text": [
      "[5, 4, 3, 2, 1]\n"
     ]
    }
   ],
   "source": [
    "L4 = [1,2,3,4,5]\n",
    "print(L4[::-1])"
   ]
  },
  {
   "cell_type": "code",
   "execution_count": 71,
   "id": "1c0a0760-e5f7-4f8f-8763-a301909d7f84",
   "metadata": {},
   "outputs": [],
   "source": [
    "def rev_list(L5):\n",
    "    empty_list = []\n",
    "    for i in L5:\n",
    "        empty_list.append(list(reversed(L5)))\n",
    "        return empty_list"
   ]
  },
  {
   "cell_type": "code",
   "execution_count": 72,
   "id": "970e7cad-bb82-4fd8-8dba-e675876a32b1",
   "metadata": {},
   "outputs": [
    {
     "data": {
      "text/plain": [
       "[[5, 4, 3, 2, 1]]"
      ]
     },
     "execution_count": 72,
     "metadata": {},
     "output_type": "execute_result"
    }
   ],
   "source": [
    "rev_list([1,2,3,4,5])"
   ]
  },
  {
   "cell_type": "markdown",
   "id": "4cce2b0d-cfe3-4e70-b28a-63d7e5608c93",
   "metadata": {},
   "source": [
    "### 6. Python program to count occurrences of an element in a list"
   ]
  },
  {
   "cell_type": "code",
   "execution_count": 73,
   "id": "ff43a775-3b67-4030-aa35-76a8380891b0",
   "metadata": {},
   "outputs": [],
   "source": [
    "def count_occurrences(L6):\n",
    "    dict1 = {}\n",
    "    for key in L6:\n",
    "        value = L6.count(key)\n",
    "        dict1.update({key:value})\n",
    "    return dict1"
   ]
  },
  {
   "cell_type": "code",
   "execution_count": 74,
   "id": "dbb0362f-e2ff-4d2b-9a02-974027055553",
   "metadata": {},
   "outputs": [
    {
     "data": {
      "text/plain": [
       "{1: 4, 4: 2, 2: 3, 5: 2, 8: 2, 9: 2, 3: 2, 7: 2, 6: 1, 10: 1}"
      ]
     },
     "execution_count": 74,
     "metadata": {},
     "output_type": "execute_result"
    }
   ],
   "source": [
    "count_occurrences([1,4,2,5,8,9,1,3,2,7,4,9,1,3,6,5,1,2,7,10,8])"
   ]
  },
  {
   "cell_type": "markdown",
   "id": "7c66280c-b063-429d-8bcf-d9d71cf650d5",
   "metadata": {},
   "source": [
    "### 7. Python program to find the sum of elements in a list"
   ]
  },
  {
   "cell_type": "code",
   "execution_count": 79,
   "id": "54f30f8d-7494-4778-ba63-2255099f8675",
   "metadata": {},
   "outputs": [
    {
     "data": {
      "text/plain": [
       "15"
      ]
     },
     "execution_count": 79,
     "metadata": {},
     "output_type": "execute_result"
    }
   ],
   "source": [
    "def sum_elements(L7):\n",
    "    total_sum = sum(L7)\n",
    "    return total_sum\n",
    "sum_elements([1,2,3,4,5])"
   ]
  },
  {
   "cell_type": "markdown",
   "id": "1085d1bd-e95a-4fa8-a9af-2e0becbc966d",
   "metadata": {},
   "source": [
    "### 8. Python program to Multiply all numbers in the list"
   ]
  },
  {
   "cell_type": "code",
   "execution_count": 83,
   "id": "6917d6f0-624b-4375-8cfb-a1f7a9be755c",
   "metadata": {},
   "outputs": [],
   "source": [
    "def product_num(L8):\n",
    "    product = 1\n",
    "    for i in L8:\n",
    "        product *= i\n",
    "    return product"
   ]
  },
  {
   "cell_type": "code",
   "execution_count": 84,
   "id": "61a9ad42-e534-413a-adee-839ddc7972c1",
   "metadata": {},
   "outputs": [
    {
     "data": {
      "text/plain": [
       "120"
      ]
     },
     "execution_count": 84,
     "metadata": {},
     "output_type": "execute_result"
    }
   ],
   "source": [
    "product_num([1,2,3,4,5])"
   ]
  },
  {
   "cell_type": "markdown",
   "id": "4ca83641-716b-4538-8bae-6475dbe7f3f4",
   "metadata": {},
   "source": [
    "### 9. What are the ways to find the length of a list"
   ]
  },
  {
   "cell_type": "code",
   "execution_count": 85,
   "id": "f02403c5-9435-4107-85d3-873963c28266",
   "metadata": {},
   "outputs": [
    {
     "name": "stdout",
     "output_type": "stream",
     "text": [
      "5\n"
     ]
    }
   ],
   "source": [
    "L9 = [1,2,3,4,5]\n",
    "print(len(L9))"
   ]
  },
  {
   "cell_type": "code",
   "execution_count": 86,
   "id": "767c8e8f-a849-4cd0-bb53-d953f2f3b01a",
   "metadata": {},
   "outputs": [],
   "source": [
    "def len_list(L9):\n",
    "    count_list = 0\n",
    "    for i in L9:\n",
    "        count_list += 1\n",
    "    return count_list"
   ]
  },
  {
   "cell_type": "code",
   "execution_count": 87,
   "id": "3dcc0730-b2c5-4dc1-89fa-79fe0be40558",
   "metadata": {},
   "outputs": [
    {
     "data": {
      "text/plain": [
       "5"
      ]
     },
     "execution_count": 87,
     "metadata": {},
     "output_type": "execute_result"
    }
   ],
   "source": [
    "len_list([1,2,3,4,5])"
   ]
  },
  {
   "cell_type": "markdown",
   "id": "c74cdf6d-5888-43f1-9c00-dde2a7e9b176",
   "metadata": {},
   "source": [
    "### 10. Python program to find the smallest and largest number in a list (Without min-max function))"
   ]
  },
  {
   "cell_type": "code",
   "execution_count": 93,
   "id": "1261f8d6-2441-4fad-a13a-9d1cb100543b",
   "metadata": {},
   "outputs": [],
   "source": [
    "def min_max_num(L10):\n",
    "    min_num = L10[0]\n",
    "    max_num = L10[0]\n",
    "    for i in L10:\n",
    "        if i > max_num:\n",
    "            max_num = i\n",
    "        elif i < min_num:\n",
    "            min_num = i\n",
    "    return min_num,max_num"
   ]
  },
  {
   "cell_type": "code",
   "execution_count": 95,
   "id": "11c0df50-99db-4f37-baf1-c6514f6b2a9d",
   "metadata": {},
   "outputs": [
    {
     "data": {
      "text/plain": [
       "(2, 300)"
      ]
     },
     "execution_count": 95,
     "metadata": {},
     "output_type": "execute_result"
    }
   ],
   "source": [
    "min_max_num([100,2,300,4,5])"
   ]
  },
  {
   "cell_type": "markdown",
   "id": "c5883a6d-f2cc-4438-b0d7-82d0f65002f4",
   "metadata": {},
   "source": [
    "### 11. Take inputs from the user to make a list. Again take one input from the user and search it in the list and delete that element, if found. Iterate over a list using for loop.p."
   ]
  },
  {
   "cell_type": "code",
   "execution_count": 21,
   "id": "14cae1c0-88c2-411a-a2e5-4274009ddd79",
   "metadata": {},
   "outputs": [],
   "source": [
    "def found_element(List2):\n",
    "    empty_list = []\n",
    "    for i in List2:\n",
    "        list1 = int(input(\"Enter the number\"))\n",
    "        empty_list.append(list1)\n",
    "    print(empty_list)\n",
    "    find_num = int(input(\"Enter the num\"))\n",
    "    for j in empty_list:\n",
    "        if j == find_num:\n",
    "            empty_list.remove(j)\n",
    "    print(empty_list)        "
   ]
  },
  {
   "cell_type": "code",
   "execution_count": 22,
   "id": "7625f8fa-8ad8-4060-a40c-d8e1dbbafac9",
   "metadata": {},
   "outputs": [
    {
     "name": "stdin",
     "output_type": "stream",
     "text": [
      "Enter the number 9\n",
      "Enter the number 7\n",
      "Enter the number 3\n",
      "Enter the number 1\n",
      "Enter the number 5\n"
     ]
    },
    {
     "name": "stdout",
     "output_type": "stream",
     "text": [
      "[9, 7, 3, 1, 5]\n"
     ]
    },
    {
     "name": "stdin",
     "output_type": "stream",
     "text": [
      "Enter the num 5\n"
     ]
    },
    {
     "name": "stdout",
     "output_type": "stream",
     "text": [
      "[9, 7, 3, 1]\n"
     ]
    }
   ],
   "source": [
    "found_element(list(range(0,5)))"
   ]
  },
  {
   "cell_type": "markdown",
   "id": "f1f48d9c-cf8d-4052-a638-f39e97ff91e0",
   "metadata": {},
   "source": [
    "### 12. You are given a list of integer elements. Make a new list that will store a square of elements of the previous list. (With and without list comprehension))"
   ]
  },
  {
   "cell_type": "code",
   "execution_count": 128,
   "id": "9aa3429c-3bbf-4d97-ab6f-01d83bdce6ae",
   "metadata": {},
   "outputs": [],
   "source": [
    "def square_list(L11):\n",
    "    List1 = [i**2 for i in L11]\n",
    "    return List1"
   ]
  },
  {
   "cell_type": "code",
   "execution_count": 129,
   "id": "58144553-0ae4-47c0-a48d-a12a009af7d0",
   "metadata": {},
   "outputs": [
    {
     "data": {
      "text/plain": [
       "[1, 4, 9, 16, 25, 36, 49, 64, 81]"
      ]
     },
     "execution_count": 129,
     "metadata": {},
     "output_type": "execute_result"
    }
   ],
   "source": [
    "square_list([1,2,3,4,5,6,7,8,9])"
   ]
  },
  {
   "cell_type": "markdown",
   "id": "a88f3bb4-66fc-4757-b505-f945904e34da",
   "metadata": {},
   "source": [
    "### 13. WAP to create two lists, one containing all even numbers and the other containing all odd numbers between 0 to 1511"
   ]
  },
  {
   "cell_type": "code",
   "execution_count": 13,
   "id": "3a69426b-0713-4e95-a4b1-c1d2a223f3fe",
   "metadata": {},
   "outputs": [
    {
     "name": "stdout",
     "output_type": "stream",
     "text": [
      "Even_numbers: [0, 2, 4, 6, 8, 10, 12, 14, 16, 18, 20, 22, 24, 26, 28, 30, 32, 34, 36, 38, 40, 42, 44, 46, 48, 50, 52, 54, 56, 58, 60, 62, 64, 66, 68, 70, 72, 74, 76, 78, 80, 82, 84, 86, 88, 90, 92, 94, 96, 98, 100, 102, 104, 106, 108, 110, 112, 114, 116, 118, 120, 122, 124, 126, 128, 130, 132, 134, 136, 138, 140, 142, 144, 146, 148, 150]\n",
      "Odd_numbers: [1, 3, 5, 7, 9, 11, 13, 15, 17, 19, 21, 23, 25, 27, 29, 31, 33, 35, 37, 39, 41, 43, 45, 47, 49, 51, 53, 55, 57, 59, 61, 63, 65, 67, 69, 71, 73, 75, 77, 79, 81, 83, 85, 87, 89, 91, 93, 95, 97, 99, 101, 103, 105, 107, 109, 111, 113, 115, 117, 119, 121, 123, 125, 127, 129, 131, 133, 135, 137, 139, 141, 143, 145, 147, 149]\n"
     ]
    }
   ],
   "source": [
    "def even_odd_num(List1):\n",
    "    even_num = []\n",
    "    odd_num =[]\n",
    "    for i in List1:\n",
    "        if i % 2 == 0:\n",
    "            even_num.append(i)\n",
    "        else:\n",
    "            odd_num.append(i)\n",
    "    print(\"Even_numbers:\",even_num)\n",
    "    print(\"Odd_numbers:\",odd_num)\n",
    "even_odd_num(list(range(151)))"
   ]
  },
  {
   "cell_type": "markdown",
   "id": "04535d7b-31b7-47e5-bbf1-33ba22797f8e",
   "metadata": {},
   "source": [
    "### 14. Python program to Count Even and Odd numbers in a List"
   ]
  },
  {
   "cell_type": "code",
   "execution_count": 7,
   "id": "fd98a73e-7c29-42a4-912a-381eca420b07",
   "metadata": {},
   "outputs": [],
   "source": [
    "def odd_even_count(L12):\n",
    "    even_count = 0\n",
    "    odd_count = 0\n",
    "    for i in range L12:\n",
    "        if i % 2 == 0:\n",
    "            even_count += 1\n",
    "        else:\n",
    "            odd_count += 1\n",
    "    print(\"Total Number of even Numbers:\",even_count)\n",
    "    print(\"Total Number of odd Numbers:\",odd_count)"
   ]
  },
  {
   "cell_type": "code",
   "execution_count": 11,
   "id": "c772be32-2fa1-4f6a-a398-bba99074a7f3",
   "metadata": {},
   "outputs": [
    {
     "name": "stdout",
     "output_type": "stream",
     "text": [
      "Total Number of even Numbers: 76\n",
      "Total Number of odd Numbers: 75\n"
     ]
    }
   ],
   "source": [
    "odd_even_count(list(range(0,151)))"
   ]
  },
  {
   "cell_type": "markdown",
   "id": "4e67e848-7924-4aa0-bc0f-6b7df5c8fd91",
   "metadata": {},
   "source": [
    "### 15. WAP to make new lists, containing only numbers which are divisible by 4, 6, 8, 10, 3, 5, 7, and 9 in separate lists for range(0,151))"
   ]
  },
  {
   "cell_type": "code",
   "execution_count": 34,
   "id": "ea7a18a0-0877-498c-8319-e4420b35b999",
   "metadata": {},
   "outputs": [],
   "source": [
    "def divisible_num(l13):\n",
    "    divisible_num_list = []\n",
    "    divisors = [4,6,8,10,3,5,7,9]\n",
    "    for i in l13:\n",
    "        for j in divisors:\n",
    "            if i % j == 0:\n",
    "                 divisible_num_list.append(i)\n",
    "                 break\n",
    "    return divisible_num_list            "
   ]
  },
  {
   "cell_type": "code",
   "execution_count": 35,
   "id": "5ec3624e-bd3f-4909-a281-25c10d013f90",
   "metadata": {},
   "outputs": [
    {
     "name": "stdout",
     "output_type": "stream",
     "text": [
      "[0, 3, 4, 5, 6, 7, 8, 9, 10, 12, 14, 15, 16, 18, 20, 21, 24, 25, 27, 28, 30, 32, 33, 35, 36, 39, 40, 42, 44, 45, 48, 49, 50, 51, 52, 54, 55, 56, 57, 60, 63, 64, 65, 66, 68, 69, 70, 72, 75, 76, 77, 78, 80, 81, 84, 85, 87, 88, 90, 91, 92, 93, 95, 96, 98, 99, 100, 102, 104, 105, 108, 110, 111, 112, 114, 115, 116, 117, 119, 120, 123, 124, 125, 126, 128, 129, 130, 132, 133, 135, 136, 138, 140, 141, 144, 145, 147, 148, 150]\n"
     ]
    }
   ],
   "source": [
    "print(divisible_num(list(range(0,151))))"
   ]
  },
  {
   "cell_type": "markdown",
   "id": "fbf3132c-817d-4b5e-9887-17314de73fd7",
   "metadata": {},
   "source": [
    "### 16. From a list containing ints, strings, and floats, make three lists to store them separately.."
   ]
  },
  {
   "cell_type": "code",
   "execution_count": 47,
   "id": "4ce9cab7-9f85-4aea-b21d-5a01e829a4d0",
   "metadata": {},
   "outputs": [],
   "source": [
    "def seperate_elements(l14):\n",
    "    int_list = []\n",
    "    float_list = []\n",
    "    string_list = []\n",
    "    for i in l14:\n",
    "        if type(i) == int:\n",
    "            int_list.append(i)\n",
    "        elif type(i) == float:\n",
    "            float_list.append(i)\n",
    "        elif type(i) == str:\n",
    "            string_list.append(i)\n",
    "    return \"integers:\", int_list, \"Floats:\" , float_list, \"strings:\", string_list "
   ]
  },
  {
   "cell_type": "code",
   "execution_count": 48,
   "id": "755e36be-e71a-4507-8c0e-9fec5eab2651",
   "metadata": {},
   "outputs": [
    {
     "data": {
      "text/plain": [
       "('integers:',\n",
       " [564, 963, 782, 123],\n",
       " 'Floats:',\n",
       " [3.14, 23.45, 56.45, 1.43],\n",
       " 'strings:',\n",
       " ['Machine Learning', 'Python', 'Deep Learning'])"
      ]
     },
     "execution_count": 48,
     "metadata": {},
     "output_type": "execute_result"
    }
   ],
   "source": [
    "seperate_elements([564 , \"Machine Learning\", 3.14, 963, 23.45, \"Python\", 782, 56.45, \"Deep Learning\", 123, 1.43])"
   ]
  },
  {
   "cell_type": "markdown",
   "id": "d00eb040-44d4-49da-9cb7-059353d42f6f",
   "metadata": {},
   "source": [
    "### 17. Write a Python program to append a list to the second list"
   ]
  },
  {
   "cell_type": "code",
   "execution_count": 51,
   "id": "ebae0bcf-76f9-4076-b5d7-5b4921ce61a1",
   "metadata": {},
   "outputs": [],
   "source": [
    "def append_list(l15):\n",
    "    list1 = [5,6,7,8,9]\n",
    "    l15.append(list1)\n",
    "    return l15"
   ]
  },
  {
   "cell_type": "code",
   "execution_count": 52,
   "id": "301881ff-908e-47d2-9e7e-10144d6eeb21",
   "metadata": {},
   "outputs": [
    {
     "data": {
      "text/plain": [
       "[0, 1, 2, 3, 4, [5, 6, 7, 8, 9]]"
      ]
     },
     "execution_count": 52,
     "metadata": {},
     "output_type": "execute_result"
    }
   ],
   "source": [
    "append_list(list(range(0,5)))"
   ]
  },
  {
   "cell_type": "markdown",
   "id": "af7c2fc6-5a94-4758-b932-3926bf1fec1c",
   "metadata": {},
   "source": [
    "### 18. Write a Python program to get the frequency of the elements in a list."
   ]
  },
  {
   "cell_type": "code",
   "execution_count": 53,
   "id": "834ba77e-8821-437d-9ad5-72803668ace8",
   "metadata": {},
   "outputs": [],
   "source": [
    "def frequency_elemnets(l16):\n",
    "    dict1 = {}\n",
    "    for key in l16:\n",
    "        value = l16.count(key)\n",
    "        dict1.update({key:value})\n",
    "    return dict1"
   ]
  },
  {
   "cell_type": "code",
   "execution_count": 55,
   "id": "4bf6eaf0-42f7-488f-b753-f402e0c5b6b5",
   "metadata": {},
   "outputs": [
    {
     "data": {
      "text/plain": [
       "{1: 2, 9: 3, 3: 3, 4: 3, 6: 3, 2: 2, 7: 2, 5: 2}"
      ]
     },
     "execution_count": 55,
     "metadata": {},
     "output_type": "execute_result"
    }
   ],
   "source": [
    "frequency_elemnets([1,9,3,4,6,2,7,2,6,3,4,9,5,9,7,3,4,6,5,1])"
   ]
  },
  {
   "cell_type": "markdown",
   "id": "ca114f64-be09-4f6c-a542-fcb218c40d42",
   "metadata": {},
   "source": [
    "### 19. Write a Python program to find common items from two lists"
   ]
  },
  {
   "cell_type": "code",
   "execution_count": 62,
   "id": "e75f7e42-1786-4966-97a3-aefcc15f9c44",
   "metadata": {},
   "outputs": [],
   "source": [
    "def common_elements(list1,list2):\n",
    "    common_num_list = [i for i in list1 if i in list2]\n",
    "    return common_num_list"
   ]
  },
  {
   "cell_type": "code",
   "execution_count": 64,
   "id": "9ed917ce-adb3-4450-84d2-faf276989746",
   "metadata": {},
   "outputs": [
    {
     "data": {
      "text/plain": [
       "[4, 5]"
      ]
     },
     "execution_count": 64,
     "metadata": {},
     "output_type": "execute_result"
    }
   ],
   "source": [
    "common_elements([1, 2, 3, 4, 5],[4, 5, 6, 7, 8])"
   ]
  },
  {
   "cell_type": "markdown",
   "id": "85cbfe5d-4215-42ae-b0f7-c0f51935fa61",
   "metadata": {},
   "source": [
    "### 20. How to flatten a list in python?"
   ]
  },
  {
   "cell_type": "code",
   "execution_count": 86,
   "id": "faa014ed-eb1f-4cc3-ba69-1beb7e64d013",
   "metadata": {},
   "outputs": [],
   "source": [
    "def flatten_list(list3):\n",
    "    flatten_li = []\n",
    "    for i in list3:\n",
    "        for j in i:\n",
    "            flatten_li.append(j)\n",
    "    return flatten_li"
   ]
  },
  {
   "cell_type": "code",
   "execution_count": 87,
   "id": "661c47c3-0131-4edb-8d44-5efceb561618",
   "metadata": {},
   "outputs": [
    {
     "data": {
      "text/plain": [
       "[1, 2, 3, 4, 5, 6, 7, 8, 9]"
      ]
     },
     "execution_count": 87,
     "metadata": {},
     "output_type": "execute_result"
    }
   ],
   "source": [
    "flatten_list([[1,2,3],[4,5,6],[7,8,9]])"
   ]
  },
  {
   "cell_type": "markdown",
   "id": "85ae1303-27fe-4831-a758-bead5e34dd7e",
   "metadata": {},
   "source": [
    "### 21. Write a Python program to check whether a list contains a sublist"
   ]
  },
  {
   "cell_type": "code",
   "execution_count": 88,
   "id": "5a67d248-8c2d-48e2-8501-1a389353f29a",
   "metadata": {},
   "outputs": [],
   "source": [
    "def check_sublist(list4):\n",
    "    for i in list4:\n",
    "        if type(i) == list:\n",
    "            return \"list contains sublist\"\n",
    "        else:\n",
    "            return \"list not contain sublist\""
   ]
  },
  {
   "cell_type": "code",
   "execution_count": 89,
   "id": "cfe5df7a-829d-49a6-b27f-53819fcd9026",
   "metadata": {},
   "outputs": [
    {
     "data": {
      "text/plain": [
       "'list contains sublist'"
      ]
     },
     "execution_count": 89,
     "metadata": {},
     "output_type": "execute_result"
    }
   ],
   "source": [
    "check_sublist([[1,2,3],[4,5,6],[7,8,9]])"
   ]
  },
  {
   "cell_type": "code",
   "execution_count": 90,
   "id": "e7a57af2-3325-49bd-888c-f894585b8d33",
   "metadata": {},
   "outputs": [
    {
     "data": {
      "text/plain": [
       "'list not contain sublist'"
      ]
     },
     "execution_count": 90,
     "metadata": {},
     "output_type": "execute_result"
    }
   ],
   "source": [
    "check_sublist([1,2,3])"
   ]
  },
  {
   "cell_type": "code",
   "execution_count": 91,
   "id": "f69303cb-7ec6-4619-b993-4840023c32c1",
   "metadata": {},
   "outputs": [],
   "source": [
    "def check_sub(list5):\n",
    "    for i in list5:\n",
    "        if isinstance(i,list):\n",
    "            return \"list contains sublist\"\n",
    "    return \"list not contain sublist\""
   ]
  },
  {
   "cell_type": "code",
   "execution_count": 92,
   "id": "df456efd-5cef-4d36-9f63-7eb69b4704be",
   "metadata": {},
   "outputs": [
    {
     "data": {
      "text/plain": [
       "'list contains sublist'"
      ]
     },
     "execution_count": 92,
     "metadata": {},
     "output_type": "execute_result"
    }
   ],
   "source": [
    "check_sub([[1,2,3],[4,5,6],[7,8,9]])"
   ]
  },
  {
   "cell_type": "markdown",
   "id": "53eaa703-1342-452f-9b23-148a82fa7dbe",
   "metadata": {},
   "source": [
    "### 22. Write a Python program to generate all sublists of a list"
   ]
  },
  {
   "cell_type": "code",
   "execution_count": 105,
   "id": "4e5eaaa6-beda-4491-823e-2402dedbbef8",
   "metadata": {},
   "outputs": [],
   "source": [
    "def generate_sublist(list6):\n",
    "    sublist = []\n",
    "    for i in range(len(list6)+1):\n",
    "        for j in range(i):\n",
    "            sublist.append(list6[j:i])\n",
    "    return sublist"
   ]
  },
  {
   "cell_type": "code",
   "execution_count": 107,
   "id": "25d550d5-fe73-4424-9710-58c89aff3c89",
   "metadata": {},
   "outputs": [
    {
     "data": {
      "text/plain": [
       "[[1], [1, 2], [2], [1, 2, 3], [2, 3], [3]]"
      ]
     },
     "execution_count": 107,
     "metadata": {},
     "output_type": "execute_result"
    }
   ],
   "source": [
    "generate_sublist([1,2,3])"
   ]
  },
  {
   "cell_type": "markdown",
   "id": "c3f4a50c-9af0-4529-85fb-7a79b0653b87",
   "metadata": {},
   "source": [
    "### 23. Write a Python program to find the third-largest number in a list"
   ]
  },
  {
   "cell_type": "code",
   "execution_count": 134,
   "id": "60036ea5-a8ca-4fee-81e5-503ad7c40074",
   "metadata": {},
   "outputs": [],
   "source": [
    "def third_large_num(list7):\n",
    "    sorted_list = sorted(list7)\n",
    "    max_num = sorted_list[2]\n",
    "    return max_num"
   ]
  },
  {
   "cell_type": "code",
   "execution_count": 135,
   "id": "a50eb5a9-a34a-486e-8fff-fe069733d116",
   "metadata": {},
   "outputs": [
    {
     "data": {
      "text/plain": [
       "5"
      ]
     },
     "execution_count": 135,
     "metadata": {},
     "output_type": "execute_result"
    }
   ],
   "source": [
    "third_large_num([10,3,5,7,6,4,7])"
   ]
  },
  {
   "cell_type": "markdown",
   "id": "21353c18-f497-4206-93b1-0d54205fd836",
   "metadata": {},
   "source": [
    "### 24. Write a Python program to convert a list of multiple integers into a single integera. [11, 33, 50] >>> 11335031."
   ]
  },
  {
   "cell_type": "code",
   "execution_count": 139,
   "id": "422cccd3-ce9a-459d-b8cb-8069b6aee57a",
   "metadata": {},
   "outputs": [],
   "source": [
    "def combine_int(list8):\n",
    "    combine_str = \"\".join(map(str,list8))\n",
    "    return int(combine_str)"
   ]
  },
  {
   "cell_type": "code",
   "execution_count": 140,
   "id": "0fb758a0-a384-492b-b5b5-bd9b6c1fba82",
   "metadata": {},
   "outputs": [
    {
     "data": {
      "text/plain": [
       "113350"
      ]
     },
     "execution_count": 140,
     "metadata": {},
     "output_type": "execute_result"
    }
   ],
   "source": [
    "combine_int([11, 33, 50])"
   ]
  },
  {
   "cell_type": "markdown",
   "id": "161835bf-e2f0-4248-adb7-44bac74caec0",
   "metadata": {},
   "source": [
    "### 25. How to sort a list in ascending and descending order without using the sort function??"
   ]
  },
  {
   "cell_type": "code",
   "execution_count": 141,
   "id": "11a7495f-864e-4315-8887-98d783e40d4c",
   "metadata": {},
   "outputs": [],
   "source": [
    "def sorted_list(list9):\n",
    "    for i in range(0,len(list9)):\n",
    "        for j in range(i+1,len(list9)):\n",
    "            if list9[i]>=list9[j]:\n",
    "                list9[i],list9[j]=list9[j],list9[i]\n",
    "    return list9"
   ]
  },
  {
   "cell_type": "code",
   "execution_count": 142,
   "id": "6edc9fc0-896a-4497-a5c5-481711e854b3",
   "metadata": {},
   "outputs": [
    {
     "data": {
      "text/plain": [
       "[3, 4, 5, 6, 7, 7, 10]"
      ]
     },
     "execution_count": 142,
     "metadata": {},
     "output_type": "execute_result"
    }
   ],
   "source": [
    "sorted_list([10,3,5,7,6,4,7])"
   ]
  },
  {
   "cell_type": "code",
   "execution_count": 161,
   "id": "98b5753f-87a9-44ae-9b2b-3debd0dff1c6",
   "metadata": {},
   "outputs": [],
   "source": [
    "def sort_list(list10):\n",
    "    for i in range(0,len(list10)):\n",
    "        for j in range(i+1,len(list10)):\n",
    "            if list10[i]>=list10[j]:\n",
    "                temp = list10[i]\n",
    "                list10[i] = list10[j]\n",
    "                list10[j] = temp\n",
    "    return list10"
   ]
  },
  {
   "cell_type": "code",
   "execution_count": 163,
   "id": "1e9dde4c-cd2d-4e8c-9a03-7c0a12e898ca",
   "metadata": {},
   "outputs": [
    {
     "data": {
      "text/plain": [
       "[3, 4, 5, 6, 7, 7, 10]"
      ]
     },
     "execution_count": 163,
     "metadata": {},
     "output_type": "execute_result"
    }
   ],
   "source": [
    "sort_list([10,3,5,7,6,4,7])"
   ]
  },
  {
   "cell_type": "code",
   "execution_count": null,
   "id": "c1247dc3-6ab4-4305-a7f9-d9a2d99c3f42",
   "metadata": {},
   "outputs": [],
   "source": []
  }
 ],
 "metadata": {
  "kernelspec": {
   "display_name": "Python 3 (ipykernel)",
   "language": "python",
   "name": "python3"
  },
  "language_info": {
   "codemirror_mode": {
    "name": "ipython",
    "version": 3
   },
   "file_extension": ".py",
   "mimetype": "text/x-python",
   "name": "python",
   "nbconvert_exporter": "python",
   "pygments_lexer": "ipython3",
   "version": "3.12.4"
  }
 },
 "nbformat": 4,
 "nbformat_minor": 5
}
